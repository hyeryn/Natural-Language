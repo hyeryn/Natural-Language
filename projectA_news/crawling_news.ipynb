{
  "nbformat": 4,
  "nbformat_minor": 0,
  "metadata": {
    "colab": {
      "name": "crawling_news.ipynb",
      "provenance": [],
      "mount_file_id": "1RSWuEUQ_QBVZiH0-Y1tovJ4Zyf8iCeJZ",
      "authorship_tag": "ABX9TyNlHwTRQ+zaIxjKcPItNMsb",
      "include_colab_link": true
    },
    "kernelspec": {
      "name": "python3",
      "display_name": "Python 3"
    },
    "language_info": {
      "name": "python"
    }
  },
  "cells": [
    {
      "cell_type": "markdown",
      "metadata": {
        "id": "view-in-github",
        "colab_type": "text"
      },
      "source": [
        "<a href=\"https://colab.research.google.com/github/hyeryn/Natural-Language/blob/master/crawling_news.ipynb\" target=\"_parent\"><img src=\"https://colab.research.google.com/assets/colab-badge.svg\" alt=\"Open In Colab\"/></a>"
      ]
    },
    {
      "cell_type": "code",
      "metadata": {
        "id": "32MFMOd_t5W3"
      },
      "source": [
        "#긍정부정어휘 분류\n",
        "import codecs\n",
        "\n",
        "positive = []\n",
        "negative = []\n",
        "posneg = []\n",
        "\n",
        "pos = codecs.open(\"/content/drive/MyDrive/news_posneg/positive_words_self.txt\", 'rb', encoding='UTF-8')\n",
        "\n",
        "while True:\n",
        "\tline = pos.readline()\n",
        "\tline = line.replace('\\n', '')\n",
        "\tpositive.append(line)\n",
        "\tposneg.append(line)\n",
        "\n",
        "\tif not line: break\n",
        "pos.close()\n",
        "\n",
        "neg = codecs.open(\"/content/drive/MyDrive/news_posneg/negative_words_self.txt\", 'rb', encoding='UTF-8')\n",
        "\n",
        "while True:\n",
        "\tline = neg.readline()\n",
        "\tline = line.replace('\\n', '')\n",
        "\tnegative.append(line)\n",
        "\tposneg.append(line)\n",
        "\tif not line: break\n",
        "neg.close()"
      ],
      "execution_count": 1,
      "outputs": []
    },
    {
      "cell_type": "code",
      "metadata": {
        "colab": {
          "base_uri": "https://localhost:8080/"
        },
        "id": "q7YEb5tTuCsN",
        "outputId": "4d972abc-65ac-49a9-c9cb-6c9643fbc8ad"
      },
      "source": [
        "# 1 엽떡\n",
        "import requests\n",
        "from bs4 import BeautifulSoup\n",
        "import re\n",
        "import pandas as pd\n",
        "from tqdm import tqdm\n",
        "\n",
        "labels = []\n",
        "titles = []\n",
        "titles2 = []\n",
        "\n",
        "j = 0\n",
        "\n",
        "for k in tqdm(range(101)):\n",
        "\tnum = k * 10 + 1\n",
        "\t# 엽기떡볶이\n",
        "\turl = \"https://search.naver.com/search.naver?where=news&sm=tab_pge&query=%EC%97%BD%EA%B8%B0%EB%96%A1%EB%B3%B6%EC%9D%B4&sort=0&photo=0&field=0&pd=0&ds=&de=&cluster_rank=11&mynews=0&office_type=0&office_section_code=0&news_office_checked=&nso=so:r,p:all,a:all&start=\" + str(num)\n",
        "\treq = requests.get(url)\n",
        "\tsoup = BeautifulSoup(req.text, 'lxml')\n",
        "\ttitles = soup.select(\"a.news_tit\")\n",
        "\n",
        "\tfor title in titles:\n",
        "\t\ttitle_data = title.text\n",
        "\t\tclean_title = re.sub('[-=+,#/\\?:^$.@*\\\"※~&%ㆍ!』\\\\‘|\\(\\)\\[\\]\\<\\>`\\'…\\\"\\“》]', '', title_data)\n",
        "\t\tnegative_flag = False\n",
        "\t\tlabel = 0\n",
        "\n",
        "\t\tfor i in range(len(negative)-1):\n",
        "\t\t\tif negative[i] in clean_title:\n",
        "\t\t\t\tlabel = -1\n",
        "\t\t\t\tnegative_flag = True\n",
        "\t\t\t\tprint(\"negative 비교단어 : \", negative[i], \"clean_title : \", clean_title)\n",
        "\t\t\t\tbreak\n",
        "\t\tif negative_flag == False:\n",
        "\t\t\tfor i in range(len(positive)-1):\n",
        "\t\t\t\tif positive[i] in clean_title:\n",
        "\t\t\t\t\tlabel = 1\n",
        "\t\t\t\t\tprint(\"positive 비교단어 : \", positive[i], \"clean_title : \", clean_title)\n",
        "\t\t\t\t\tbreak\n",
        "\t\tprint(label)\n",
        "\t\ttitles2.append(clean_title)\n",
        "\t\tlabels.append(label)\n",
        "\n",
        "my_title_df = pd.DataFrame({\"title\":titles2, \"label\":labels})\n",
        "print(my_title_df)\n",
        "\n",
        "def dftoCsv(my_title_df, num):\n",
        "\tmy_title_df.to_csv(('./title_datas'+ str(num) +'.csv'), sep=',', na_rep='NaN', encoding='utf-8')\n",
        "\n",
        "dftoCsv(my_title_df,\"_엽기떡볶이\")"
      ],
      "execution_count": 8,
      "outputs": [
        {
          "output_type": "stream",
          "text": [
            "  1%|          | 1/101 [00:01<01:44,  1.05s/it]"
          ],
          "name": "stderr"
        },
        {
          "output_type": "stream",
          "text": [
            "0\n",
            "0\n",
            "0\n",
            "0\n",
            "positive 비교단어 :  출시 clean_title :  동대문엽기떡볶이 엽도그’ 소시지는 2배 증량 리뉴얼 출시\n",
            "1\n",
            "0\n",
            "0\n",
            "0\n",
            "positive 비교단어 :  부상 clean_title :  떡볶이가 살렸네 떡 쌀 소비 1등 공신으로 부상\n",
            "1\n",
            "0\n"
          ],
          "name": "stdout"
        },
        {
          "output_type": "stream",
          "text": [
            "\r  2%|▏         | 2/101 [00:02<01:44,  1.05s/it]"
          ],
          "name": "stderr"
        },
        {
          "output_type": "stream",
          "text": [
            "positive 비교단어 :  출시 clean_title :  동대문엽기떡볶이 엽기로제떡볶이 출시\n",
            "1\n",
            "0\n",
            "0\n",
            "positive 비교단어 :  새로운 clean_title :  동대문엽기떡볶이 4색 조합 엽봉’ 새로운 엽떡 꿀조합’\n",
            "1\n",
            "0\n",
            "positive 비교단어 :  신메뉴 clean_title :  지금 엽떡에서 신메뉴 로제떡볶이 주문하면 7천원 할인받을 수 있다\n",
            "1\n",
            "0\n",
            "positive 비교단어 :  출시 clean_title :  동대문엽기떡볶이 신메뉴 엽기로제떡볶이 출시\n",
            "1\n",
            "positive 비교단어 :  출시 clean_title :  엽기떡볶이 로제떡볶이 출시로 소비자 입맛 겨냥 최대 7천원 할인 혜택 제\n",
            "1\n",
            "0\n"
          ],
          "name": "stdout"
        },
        {
          "output_type": "stream",
          "text": [
            "\r  3%|▎         | 3/101 [00:03<01:42,  1.05s/it]"
          ],
          "name": "stderr"
        },
        {
          "output_type": "stream",
          "text": [
            "0\n",
            "0\n",
            "positive 비교단어 :  출시 clean_title :  동대문엽기떡볶이 엽기로제떡볶이 성공적 신메뉴 출시할인 행사 진행\n",
            "1\n",
            "positive 비교단어 :  주목 clean_title :  먹는 것도 타이밍 식품업계 모먼트 마케팅’에 주목\n",
            "1\n",
            "positive 비교단어 :  출시 clean_title :  동대문엽기떡볶이 신메뉴 출시 새로운 맛 다양하게 만나보세요\n",
            "1\n",
            "0\n",
            "positive 비교단어 :  맛집 clean_title :  지금 가장 핫한 떡볶이 맛집 5곳\n",
            "1\n",
            "positive 비교단어 :  출시 clean_title :  걸작떡볶이 네고왕 찐맵 출시네고 내용은\n",
            "1\n",
            "positive 비교단어 :  수상 clean_title :  핫시즈너 동대문엽기떡볶이 2021 대한민국을 빛낼 인물‧브랜드 대상 수상\n",
            "1\n",
            "positive 비교단어 :  출시 clean_title :  엽기떡볶이 꾸덕한 로제 소스에 토핑 아낌없이 들어간 로제떡볶이 출시\n",
            "1\n"
          ],
          "name": "stdout"
        },
        {
          "output_type": "stream",
          "text": [
            "\r  4%|▍         | 4/101 [00:04<01:41,  1.05s/it]"
          ],
          "name": "stderr"
        },
        {
          "output_type": "stream",
          "text": [
            "positive 비교단어 :  출시 clean_title :  걸작떡볶이치킨 로제떡볶이·감바스떡볶이 신메뉴 출시로 유행\n",
            "1\n",
            "positive 비교단어 :  출시 clean_title :  엽기떡볶이 엽기로제떡볶이 출시 기념 할인쿠폰 모바일앱 제공\n",
            "1\n",
            "0\n",
            "positive 비교단어 :  출시 clean_title :  동대문엽기떡볶이 엽기로제떡볶이 출시 8일부터 맛볼 수 있어\n",
            "1\n",
            "positive 비교단어 :  인기 clean_title :  엽떡이 쏘아올린 로제 바람 유통가 로제 인기몰이\n",
            "1\n",
            "positive 비교단어 :  열풍 clean_title :  부먹 찍먹 아니고 갓먹” 식품업계 모먼트 마케팅’ 열풍\n",
            "1\n",
            "0\n",
            "0\n",
            "0\n",
            "0\n"
          ],
          "name": "stdout"
        },
        {
          "output_type": "stream",
          "text": [
            "\r  5%|▍         | 5/101 [00:05<01:41,  1.06s/it]"
          ],
          "name": "stderr"
        },
        {
          "output_type": "stream",
          "text": [
            "positive 비교단어 :  열풍 clean_title :  대한민국은 지금 로제 떡볶이 열풍\n",
            "1\n",
            "0\n",
            "0\n",
            "positive 비교단어 :  호응 clean_title :  엽떡표 로제떡볶이 시식 후기 폭발 고객 호응 성공적\n",
            "1\n",
            "0\n",
            "0\n",
            "0\n",
            "0\n",
            "0\n",
            "0\n"
          ],
          "name": "stdout"
        },
        {
          "output_type": "stream",
          "text": [
            "\r  6%|▌         | 6/101 [00:06<01:39,  1.05s/it]"
          ],
          "name": "stderr"
        },
        {
          "output_type": "stream",
          "text": [
            "positive 비교단어 :  출시 clean_title :  동대문엽기떡볶이 엽기로제떡볶이 출시 기념 최대 7천원 할인 혜택 제공\n",
            "1\n",
            "0\n",
            "0\n",
            "0\n",
            "positive 비교단어 :  새로운 clean_title :  동대문엽기떡볶이의 새로운 기준 화이트세스코 서비스 전 가맹점 도입\n",
            "1\n",
            "0\n",
            "0\n",
            "0\n",
            "0\n",
            "0\n"
          ],
          "name": "stdout"
        },
        {
          "output_type": "stream",
          "text": [
            "\r  7%|▋         | 7/101 [00:07<01:38,  1.05s/it]"
          ],
          "name": "stderr"
        },
        {
          "output_type": "stream",
          "text": [
            "positive 비교단어 :  수상 clean_title :  엽기떡볶이 만원에 먹는 방법 4년 연속 올해의 브랜드 대상 수상 할인 이벤\n",
            "1\n",
            "positive 비교단어 :  수상 clean_title :  동대문 엽기떡볶이 2020 올해의 브랜드 대상 수상\n",
            "1\n",
            "positive 비교단어 :  수상 clean_title :  엽기떡볶이 4년 연속 올해의 브랜드대상’ 수상\n",
            "1\n",
            "0\n",
            "0\n",
            "0\n",
            "0\n",
            "0\n",
            "0\n",
            "0\n"
          ],
          "name": "stdout"
        },
        {
          "output_type": "stream",
          "text": [
            "\r  8%|▊         | 8/101 [00:08<01:37,  1.05s/it]"
          ],
          "name": "stderr"
        },
        {
          "output_type": "stream",
          "text": [
            "positive 비교단어 :  출시 clean_title :  엽기떡볶이 4가지 치즈가 들어간 퐁당 바삭치즈만두 출시\n",
            "1\n",
            "positive 비교단어 :  신메뉴 clean_title :  동대문 엽기떡볶이 신메뉴 퐁당바삭 치즈만두 후기 이벤트 진행\n",
            "1\n",
            "positive 비교단어 :  출시 clean_title :  동대문엽기떡볶이 엽떡과 찰떡궁합 신메뉴 치즈만두 출시\n",
            "1\n",
            "positive 비교단어 :  출시 clean_title :  엽기떡볶이 6월 1일 퐁당치즈만두 바삭치즈만두 출시\n",
            "1\n",
            "0\n",
            "positive 비교단어 :  신메뉴 clean_title :  쫄깃하고 바삭한 식감” 매콤한 소스와 찰떡이라는 엽기떡볶이 신메뉴\n",
            "1\n",
            "0\n",
            "positive 비교단어 :  출시 clean_title :  동대문 엽기떡볶이 신메뉴 짜장맛 출시 시식후기 이벤트 진행\n",
            "1\n",
            "0\n",
            "0\n"
          ],
          "name": "stdout"
        },
        {
          "output_type": "stream",
          "text": [
            "\r  9%|▉         | 9/101 [00:09<01:36,  1.04s/it]"
          ],
          "name": "stderr"
        },
        {
          "output_type": "stream",
          "text": [
            "0\n",
            "0\n",
            "0\n",
            "positive 비교단어 :  출시 clean_title :  동대문 엽기떡볶이 신메뉴 짜장맛 출시 기념 시식 후기 이벤트 진행\n",
            "1\n",
            "0\n",
            "0\n",
            "negative 비교단어 :  논란 clean_title :  배달갔는데 안으로 끌고 들어갈뻔” 동대문엽기떡볶이 성희롱’ 논란\n",
            "-1\n",
            "positive 비교단어 :  출시 clean_title :  동대문 엽기떡볶이 신메뉴 엽떡 짜장떡볶이 출시\n",
            "1\n",
            "0\n",
            "0\n"
          ],
          "name": "stdout"
        },
        {
          "output_type": "stream",
          "text": [
            "\r 10%|▉         | 10/101 [00:10<01:35,  1.05s/it]"
          ],
          "name": "stderr"
        },
        {
          "output_type": "stream",
          "text": [
            "positive 비교단어 :  출시 clean_title :  동대문 엽기떡볶이 20일 신新메뉴 엽떡 짜장떡볶이 출시\n",
            "1\n",
            "0\n",
            "positive 비교단어 :  출시 clean_title :  동대문 엽기떡볶이 신新메뉴 엽떡 짜장떡볶이 20일 출시\n",
            "1\n",
            "positive 비교단어 :  출시 clean_title :  동대문엽기떡볶이 신메뉴 엽기떡볶이 짜장맛 출시\n",
            "1\n",
            "0\n",
            "positive 비교단어 :  선보여 clean_title :  동대문엽기떡볶이 맛있게 매운 엽떡송 맶있어 송 선보여\n",
            "1\n",
            "0\n",
            "0\n",
            "positive 비교단어 :  수상 clean_title :  동대문 엽기떡볶이 2020 대한민국을 빛낼 인물·브랜드 대상 수상\n",
            "1\n",
            "positive 비교단어 :  출시 clean_title :  매운 떡볶이 원조 동대문엽기떡볶이 3월 중 신메뉴 엽기떡볶이 짜장맛 출시\n",
            "1\n"
          ],
          "name": "stdout"
        },
        {
          "output_type": "stream",
          "text": [
            "\r 11%|█         | 11/101 [00:11<01:34,  1.05s/it]"
          ],
          "name": "stderr"
        },
        {
          "output_type": "stream",
          "text": [
            "0\n",
            "0\n",
            "0\n",
            "0\n",
            "0\n",
            "positive 비교단어 :  출시 clean_title :  동대문 엽기떡볶이 신메뉴 짜장맛 출시 기념 시식 후기 이벤트 진행\n",
            "1\n",
            "0\n",
            "0\n",
            "negative 비교단어 :  논란 clean_title :  배달갔는데 안으로 끌고 들어갈뻔” 동대문엽기떡볶이 성희롱’ 논란\n",
            "-1\n",
            "positive 비교단어 :  출시 clean_title :  동대문 엽기떡볶이 신메뉴 엽떡 짜장떡볶이 출시\n",
            "1\n"
          ],
          "name": "stdout"
        },
        {
          "output_type": "stream",
          "text": [
            "\r 12%|█▏        | 12/101 [00:12<01:33,  1.05s/it]"
          ],
          "name": "stderr"
        },
        {
          "output_type": "stream",
          "text": [
            "0\n",
            "negative 비교단어 :  논란 clean_title :  배달갔는데 안으로 끌고 들어갈뻔” 동대문엽기떡볶이 성희롱’ 논란\n",
            "-1\n",
            "positive 비교단어 :  출시 clean_title :  동대문 엽기떡볶이 신메뉴 엽떡 짜장떡볶이 출시\n",
            "1\n",
            "0\n",
            "0\n",
            "positive 비교단어 :  출시 clean_title :  동대문 엽기떡볶이 20일 신新메뉴 엽떡 짜장떡볶이 출시\n",
            "1\n",
            "0\n",
            "positive 비교단어 :  출시 clean_title :  동대문 엽기떡볶이 신新메뉴 엽떡 짜장떡볶이 20일 출시\n",
            "1\n",
            "positive 비교단어 :  출시 clean_title :  동대문엽기떡볶이 신메뉴 엽기떡볶이 짜장맛 출시\n",
            "1\n",
            "0\n"
          ],
          "name": "stdout"
        },
        {
          "output_type": "stream",
          "text": [
            "\r 13%|█▎        | 13/101 [00:13<01:31,  1.04s/it]"
          ],
          "name": "stderr"
        },
        {
          "output_type": "stream",
          "text": [
            "positive 비교단어 :  출시 clean_title :  동대문 엽기떡볶이 20일 신新메뉴 엽떡 짜장떡볶이 출시\n",
            "1\n",
            "0\n",
            "positive 비교단어 :  출시 clean_title :  동대문 엽기떡볶이 신新메뉴 엽떡 짜장떡볶이 20일 출시\n",
            "1\n",
            "positive 비교단어 :  출시 clean_title :  동대문엽기떡볶이 신메뉴 엽기떡볶이 짜장맛 출시\n",
            "1\n",
            "0\n",
            "positive 비교단어 :  선보여 clean_title :  동대문엽기떡볶이 맛있게 매운 엽떡송 맶있어 송 선보여\n",
            "1\n",
            "0\n",
            "0\n",
            "0\n",
            "0\n"
          ],
          "name": "stdout"
        },
        {
          "output_type": "stream",
          "text": [
            "\r 14%|█▍        | 14/101 [00:14<01:31,  1.05s/it]"
          ],
          "name": "stderr"
        },
        {
          "output_type": "stream",
          "text": [
            "positive 비교단어 :  선보여 clean_title :  동대문엽기떡볶이 맛있게 매운 엽떡송 맶있어 송 선보여\n",
            "1\n",
            "0\n",
            "0\n",
            "0\n",
            "0\n",
            "0\n",
            "positive 비교단어 :  수상 clean_title :  동대문 엽기떡볶이 2020 대한민국을 빛낼 인물·브랜드 대상 수상\n",
            "1\n",
            "positive 비교단어 :  출시 clean_title :  매운 떡볶이 원조 동대문엽기떡볶이 3월 중 신메뉴 엽기떡볶이 짜장맛 출시\n",
            "1\n",
            "0\n",
            "positive 비교단어 :  출시 clean_title :  동대문 엽기떡볶이’ 17일 신메뉴 엽떡 짜장떡볶이 출시\n",
            "1\n"
          ],
          "name": "stdout"
        },
        {
          "output_type": "stream",
          "text": [
            "\r 15%|█▍        | 15/101 [00:15<01:30,  1.05s/it]"
          ],
          "name": "stderr"
        },
        {
          "output_type": "stream",
          "text": [
            "0\n",
            "positive 비교단어 :  출시 clean_title :  동대문 엽기떡볶이’ 17일 신메뉴 엽떡 짜장떡볶이 출시\n",
            "1\n",
            "0\n",
            "0\n",
            "positive 비교단어 :  출시 clean_title :  매콤한 맛에 이은 엽기떡볶이 짜장맛 출시\n",
            "1\n",
            "positive 비교단어 :  출시 clean_title :  오랫동안 기다린 엽기떡볶이 짜장맛 17일 전국에 출시된다\n",
            "1\n",
            "positive 비교단어 :  수상 clean_title :  동대문 엽기떡볶이 2019 대한민국 문화경영대상 수상\n",
            "1\n",
            "0\n",
            "0\n",
            "0\n"
          ],
          "name": "stdout"
        },
        {
          "output_type": "stream",
          "text": [
            "\r 16%|█▌        | 16/101 [00:16<01:29,  1.05s/it]"
          ],
          "name": "stderr"
        },
        {
          "output_type": "stream",
          "text": [
            "positive 비교단어 :  출시 clean_title :  동대문엽기떡볶이 1월 17일 엽기떡볶이 짜장맛 출시\n",
            "1\n",
            "positive 비교단어 :  출시 clean_title :  오랫동안 기다린 엽기떡볶이 짜장맛 17일 전국에 출시된다\n",
            "1\n",
            "positive 비교단어 :  수상 clean_title :  동대문 엽기떡볶이 2019 대한민국 문화경영대상 수상\n",
            "1\n",
            "0\n",
            "0\n",
            "0\n",
            "0\n",
            "0\n",
            "0\n",
            "0\n"
          ],
          "name": "stdout"
        },
        {
          "output_type": "stream",
          "text": [
            "\r 17%|█▋        | 17/101 [00:17<01:28,  1.05s/it]"
          ],
          "name": "stderr"
        },
        {
          "output_type": "stream",
          "text": [
            "0\n",
            "0\n",
            "0\n",
            "0\n",
            "positive 비교단어 :  수상 clean_title :  ㈜핫시즈너 동대문엽기떡볶이 대한민국 문화경영대상 수상\n",
            "1\n",
            "0\n",
            "positive 비교단어 :  출시 clean_title :  엽떡에 짜장소스 들이부은 역대급 매운 짜장 떡볶이 출시 예고한 엽기떡볶이\n",
            "1\n",
            "0\n",
            "0\n",
            "0\n"
          ],
          "name": "stdout"
        },
        {
          "output_type": "stream",
          "text": [
            "\r 18%|█▊        | 18/101 [00:19<01:30,  1.09s/it]"
          ],
          "name": "stderr"
        },
        {
          "output_type": "stream",
          "text": [
            "0\n",
            "0\n",
            "0\n",
            "0\n",
            "0\n",
            "positive 비교단어 :  출시 clean_title :  동대문 엽기떡볶이 엽떡에 짜장소스 넣은 짜장 떡볶이 엽짜 신메뉴 출시 예\n",
            "1\n",
            "positive 비교단어 :  출시 clean_title :  동대문 엽기떡볶이 신토핑 엽도그 출시 기념 엽떡 인스타그램 시식 후기 인\n",
            "1\n",
            "0\n",
            "0\n",
            "0\n"
          ],
          "name": "stdout"
        },
        {
          "output_type": "stream",
          "text": [
            "\r 19%|█▉        | 19/101 [00:20<01:28,  1.08s/it]"
          ],
          "name": "stderr"
        },
        {
          "output_type": "stream",
          "text": [
            "0\n",
            "0\n",
            "positive 비교단어 :  출시 clean_title :  동대문 엽기떡볶이 신메뉴 엽도그 출시 기념 엽떡 인스타그램 시식 후기 이\n",
            "1\n",
            "0\n",
            "positive 비교단어 :  출시 clean_title :  동대문 엽기떡볶이 킹사이즈 핫도그 9월 엽도그 출시 기념 엽떡 인스타그램\n",
            "1\n",
            "positive 비교단어 :  신메뉴 clean_title :  동대문 엽기떡볶이 빅사이즈 핫도그 엽도그’ 신메뉴 사진 공개\n",
            "1\n",
            "negative 비교단어 :  이물질 clean_title :  엽기떡볶이 튀김서 이물질 발견제조공정 중 혼입 추정”\n",
            "-1\n",
            "0\n",
            "negative 비교단어 :  벌레 clean_title :  동대문엽기떡볶이 떡볶이 속 바퀴벌레 이어 튀김서 고무장갑 조각 발견\n",
            "-1\n",
            "0\n"
          ],
          "name": "stdout"
        },
        {
          "output_type": "stream",
          "text": [
            "\r 20%|█▉        | 20/101 [00:21<01:26,  1.06s/it]"
          ],
          "name": "stderr"
        },
        {
          "output_type": "stream",
          "text": [
            "negative 비교단어 :  벌레 clean_title :  동대문엽기떡볶이 떡볶이 속 바퀴벌레 이어 튀김서 고무장갑 조각 발견\n",
            "-1\n",
            "positive 비교단어 :  출시 clean_title :  동대문 엽기떡볶이 가성비 취향 저격 빅 사이즈 핫도그 엽도그’ 출시 예정\n",
            "1\n",
            "0\n",
            "positive 비교단어 :  출시 clean_title :  엽기떡볶이 베이컨과 중국당면에 이어 新토핑메뉴 엽도그 출시 D2\n",
            "1\n",
            "positive 비교단어 :  수상 clean_title :  엽기떡볶이 2019 올해의 브랜드 대상 떡볶이부문 3년 연속 1위수상\n",
            "1\n",
            "0\n",
            "0\n",
            "positive 비교단어 :  선보여 clean_title :  동대문 엽기떡볶이 히든 메뉴 참숯닭날개 선보여\n",
            "1\n",
            "positive 비교단어 :  1위 clean_title :  동대문 엽기떡볶이 3년 연속 2019 올해의 브랜드 대상 떡볶이 부문 1위 수\n",
            "1\n",
            "0\n"
          ],
          "name": "stdout"
        },
        {
          "output_type": "stream",
          "text": [
            "\r 21%|██        | 21/101 [00:22<01:28,  1.11s/it]"
          ],
          "name": "stderr"
        },
        {
          "output_type": "stream",
          "text": [
            "positive 비교단어 :  1위 clean_title :  동대문 엽기떡볶이 3년 연속 2019 올해의 브랜드 대상 떡볶이 부문 1위 수\n",
            "1\n",
            "0\n",
            "positive 비교단어 :  출시 clean_title :  동대문엽기떡볶이 빅 사이즈의 핫도그 엽도그 신메뉴 출시 예정\n",
            "1\n",
            "0\n",
            "positive 비교단어 :  기부 clean_title :  동대문엽기떡볶이 지파운데이션에 핸디선풍기 500대 기부\n",
            "1\n",
            "0\n",
            "positive 비교단어 :  출시 clean_title :  엽기떡볶이 충격적인 크기 빅 사이즈 엽떡 핫도그 엽도그 출시 임박\n",
            "1\n",
            "0\n",
            "0\n",
            "positive 비교단어 :  출시 clean_title :  동대문엽기떡볶이 소비자 취향 저격하는 빅 사이즈 핫도그 엽도그 출시 예\n",
            "1\n"
          ],
          "name": "stdout"
        },
        {
          "output_type": "stream",
          "text": [
            "\r 22%|██▏       | 22/101 [00:23<01:26,  1.09s/it]"
          ],
          "name": "stderr"
        },
        {
          "output_type": "stream",
          "text": [
            "0\n",
            "positive 비교단어 :  출시 clean_title :  동대문엽기떡볶이 소비자 취향 저격하는 빅 사이즈 핫도그 엽도그 출시 예\n",
            "1\n",
            "0\n",
            "positive 비교단어 :  출시 clean_title :  동대문엽기떡볶이 완벽한 가성비에 빅 사이즈 핫도그 엽도그 출시 예정\n",
            "1\n",
            "0\n",
            "0\n",
            "positive 비교단어 :  1위 clean_title :  동대문 엽기떡볶이 2019 올해의 브랜드 대상 3년 연속 떡볶이 부문 1위 선\n",
            "1\n",
            "positive 비교단어 :  출시 clean_title :  동대문 엽기떡볶이 9월 엽도그 출시 기념 엽떡 인스타그램 시식 후기 인증\n",
            "1\n",
            "0\n",
            "0\n"
          ],
          "name": "stdout"
        },
        {
          "output_type": "stream",
          "text": [
            "\r 23%|██▎       | 23/101 [00:24<01:23,  1.07s/it]"
          ],
          "name": "stderr"
        },
        {
          "output_type": "stream",
          "text": [
            "0\n",
            "0\n",
            "0\n",
            "0\n",
            "0\n",
            "0\n",
            "0\n",
            "0\n",
            "positive 비교단어 :  대세 clean_title :  이열치열 여름을 이겨낼 매운 음식 동대문 엽기떡볶이가 대세\n",
            "1\n",
            "0\n"
          ],
          "name": "stdout"
        },
        {
          "output_type": "stream",
          "text": [
            "\r 24%|██▍       | 24/101 [00:25<01:21,  1.06s/it]"
          ],
          "name": "stderr"
        },
        {
          "output_type": "stream",
          "text": [
            "0\n",
            "0\n",
            "negative 비교단어 :  논란 clean_title :  동대문엽기떡볶이 바퀴벌레 검출 논란 일파만파\n",
            "-1\n",
            "0\n",
            "negative 비교단어 :  논란 clean_title :  동대문엽기떡볶이 바퀴벌레 검출 논란 본사 대응태도 분노\n",
            "-1\n",
            "0\n",
            "0\n",
            "0\n",
            "0\n",
            "0\n"
          ],
          "name": "stdout"
        },
        {
          "output_type": "stream",
          "text": [
            "\r 25%|██▍       | 25/101 [00:26<01:19,  1.04s/it]"
          ],
          "name": "stderr"
        },
        {
          "output_type": "stream",
          "text": [
            "negative 비교단어 :  눈물 clean_title :  오독오독 씹다보면 눈물 줄줄 흐른다는 엽기떡볶이 비밀병기 매운닭발\n",
            "-1\n",
            "0\n",
            "0\n",
            "negative 비교단어 :  불만 clean_title :  엽기떡볶이 공짜 온라인 초토화 시킨 소비자 불만족 행사 예상대로 앱 먹\n",
            "-1\n",
            "0\n",
            "0\n",
            "0\n",
            "negative 비교단어 :  이물질 clean_title :  엽기떡볶이’ 튀김서 이물질 발견 사실여부 명명백백 확인 중”\n",
            "-1\n",
            "0\n",
            "0\n"
          ],
          "name": "stdout"
        },
        {
          "output_type": "stream",
          "text": [
            "\r 26%|██▌       | 26/101 [00:27<01:18,  1.05s/it]"
          ],
          "name": "stderr"
        },
        {
          "output_type": "stream",
          "text": [
            "0\n",
            "0\n",
            "0\n",
            "0\n",
            "negative 비교단어 :  이물질 clean_title :  엽기떡볶이’ 튀김서 이물질 발견 사실여부 명명백백 확인 중”\n",
            "-1\n",
            "0\n",
            "0\n",
            "0\n",
            "0\n",
            "0\n"
          ],
          "name": "stdout"
        },
        {
          "output_type": "stream",
          "text": [
            "\r 27%|██▋       | 27/101 [00:28<01:17,  1.05s/it]"
          ],
          "name": "stderr"
        },
        {
          "output_type": "stream",
          "text": [
            "0\n",
            "0\n",
            "0\n",
            "0\n",
            "0\n",
            "0\n",
            "0\n",
            "0\n",
            "0\n",
            "0\n"
          ],
          "name": "stdout"
        },
        {
          "output_type": "stream",
          "text": [
            "\r 28%|██▊       | 28/101 [00:29<01:16,  1.05s/it]"
          ],
          "name": "stderr"
        },
        {
          "output_type": "stream",
          "text": [
            "0\n",
            "0\n",
            "positive 비교단어 :  출시 clean_title :  동대문 엽기떡볶이 매운맛 입문자들을 위한 엽떡초보맛 신메뉴 출시\n",
            "1\n",
            "0\n",
            "0\n",
            "0\n",
            "0\n",
            "0\n",
            "positive 비교단어 :  수상 clean_title :  주핫시즈너 동대문엽기떡볶이 대한민국을 빛낼 인물·브랜드 대상 수상\n",
            "1\n",
            "0\n"
          ],
          "name": "stdout"
        },
        {
          "output_type": "stream",
          "text": [
            "\r 29%|██▊       | 29/101 [00:30<01:14,  1.04s/it]"
          ],
          "name": "stderr"
        },
        {
          "output_type": "stream",
          "text": [
            "0\n",
            "positive 비교단어 :  수상 clean_title :  주핫시즈너 동대문엽기떡볶이 대한민국을 빛낼 인물·브랜드 대상 수상\n",
            "1\n",
            "0\n",
            "0\n",
            "0\n",
            "0\n",
            "0\n",
            "0\n",
            "0\n",
            "0\n"
          ],
          "name": "stdout"
        },
        {
          "output_type": "stream",
          "text": [
            "\r 30%|██▉       | 30/101 [00:31<01:14,  1.05s/it]"
          ],
          "name": "stderr"
        },
        {
          "output_type": "stream",
          "text": [
            "0\n",
            "0\n",
            "0\n",
            "0\n",
            "0\n",
            "0\n",
            "positive 비교단어 :  출시 clean_title :  동대문 엽기 떡볶이’ 베이컨 토핑 출시 예정\n",
            "1\n",
            "0\n",
            "negative 비교단어 :  중단 clean_title :  반말 응대 동대문엽기떡볶이 해당 가맹점 일주일간 영업 중단\n",
            "-1\n",
            "negative 비교단어 :  피해 clean_title :  엽기떡볶이 공식 사과 이후 피해 손님이 다시 올린 글\n",
            "-1\n"
          ],
          "name": "stdout"
        },
        {
          "output_type": "stream",
          "text": [
            "\r 31%|███       | 31/101 [00:32<01:13,  1.05s/it]"
          ],
          "name": "stderr"
        },
        {
          "output_type": "stream",
          "text": [
            "negative 비교단어 :  논란 clean_title :  핫이슈키워드 김경수·갤럭시노트9·부산경찰 논란·엽기떡볶이 사과·태풍\n",
            "-1\n",
            "0\n",
            "negative 비교단어 :  논란 clean_title :  무슨 맛 몇 살이냐 엽기떡볶이 반말 응대 논란 회사 공식 사과\n",
            "-1\n",
            "0\n",
            "0\n",
            "0\n",
            "0\n",
            "0\n",
            "0\n",
            "0\n"
          ],
          "name": "stdout"
        },
        {
          "output_type": "stream",
          "text": [
            "\r 32%|███▏      | 32/101 [00:33<01:14,  1.08s/it]"
          ],
          "name": "stderr"
        },
        {
          "output_type": "stream",
          "text": [
            "negative 비교단어 :  사과문 clean_title :  손님에게 반말 엽기떡볶이 측 공식 사과문 공개 일주일간 영업 중단 조치\n",
            "-1\n",
            "0\n",
            "0\n",
            "0\n",
            "0\n",
            "0\n",
            "0\n",
            "0\n",
            "negative 비교단어 :  허위 clean_title :  단독 엽기떡볶이 허위 HACCP로 버젓이 홍보\n",
            "-1\n",
            "0\n"
          ],
          "name": "stdout"
        },
        {
          "output_type": "stream",
          "text": [
            "\r 33%|███▎      | 33/101 [00:34<01:12,  1.07s/it]"
          ],
          "name": "stderr"
        },
        {
          "output_type": "stream",
          "text": [
            "0\n",
            "0\n",
            "0\n",
            "0\n",
            "0\n",
            "0\n",
            "negative 비교단어 :  허위 clean_title :  단독 엽기떡볶이 허위 HACCP로 버젓이 홍보\n",
            "-1\n",
            "0\n",
            "0\n",
            "negative 비교단어 :  중단 clean_title :  동대문 엽기떡볶이 반말 응대에 결국 사과해당 가맹점 일주일 영업 중단\n",
            "-1\n"
          ],
          "name": "stdout"
        },
        {
          "output_type": "stream",
          "text": [
            "\r 34%|███▎      | 34/101 [00:35<01:11,  1.07s/it]"
          ],
          "name": "stderr"
        },
        {
          "output_type": "stream",
          "text": [
            "negative 비교단어 :  논란 clean_title :  동대문 엽기 떡볶이 지점 고객에 반말 사과하며 매장 이용 어렵다논란\n",
            "-1\n",
            "positive 비교단어 :  출시 clean_title :  엽떡 짜장떡볶이 신메뉴 오늘20일 출시맛 어떨까\n",
            "1\n",
            "0\n",
            "0\n",
            "positive 비교단어 :  출시 clean_title :  떡볶이 덕후들 사이서 제발 출시해달라고 난리 난 엽떡 짜장매운맛 반반 조\n",
            "1\n",
            "positive 비교단어 :  출시 clean_title :  도대체 왜” 엽떡이 짜장떡볶이 출시 계속 미루는 이유를 밝혔다 전문\n",
            "1\n",
            "0\n",
            "0\n",
            "0\n",
            "0\n"
          ],
          "name": "stdout"
        },
        {
          "output_type": "stream",
          "text": [
            "\r 35%|███▍      | 35/101 [00:37<01:09,  1.05s/it]"
          ],
          "name": "stderr"
        },
        {
          "output_type": "stream",
          "text": [
            "0\n",
            "0\n",
            "0\n",
            "0\n",
            "0\n",
            "negative 비교단어 :  논란 clean_title :  카드뉴스 먹거리X파일 엽기떡볶이’ 파치마늘 논란 썩은 마늘 안 써”\n",
            "-1\n",
            "negative 비교단어 :  허위 clean_title :  채널A 먹거리X파일 엽기 떡볶이 허위보도했다고 전해라\n",
            "-1\n",
            "0\n",
            "0\n",
            "0\n"
          ],
          "name": "stdout"
        },
        {
          "output_type": "stream",
          "text": [
            "\r 36%|███▌      | 36/101 [00:38<01:08,  1.05s/it]"
          ],
          "name": "stderr"
        },
        {
          "output_type": "stream",
          "text": [
            "0\n",
            "0\n",
            "0\n",
            "0\n",
            "0\n",
            "positive 비교단어 :  수상 clean_title :  엽떡 3년 연속 2019 올해의 브랜드 대상 떡볶이 부문 1위 수상\n",
            "1\n",
            "0\n",
            "positive 비교단어 :  수상 clean_title :  엽떡 2019 올해의 브랜드 대상 떡볶이부문 3년 연속 1위수상\n",
            "1\n",
            "negative 비교단어 :  산재 clean_title :  우직하게 국산재료만 고집엽기떡볶이의 고급화 선언\n",
            "-1\n",
            "0\n"
          ],
          "name": "stdout"
        },
        {
          "output_type": "stream",
          "text": [
            "\r 37%|███▋      | 37/101 [00:39<01:06,  1.04s/it]"
          ],
          "name": "stderr"
        },
        {
          "output_type": "stream",
          "text": [
            "0\n",
            "0\n",
            "0\n",
            "0\n",
            "0\n",
            "0\n",
            "0\n",
            "0\n",
            "0\n",
            "positive 비교단어 :  신메뉴 clean_title :  떡볶이는 좋아하는데” 매운 거 부담스러운 사람들 위한 엽떡 신메뉴\n",
            "1\n"
          ],
          "name": "stdout"
        },
        {
          "output_type": "stream",
          "text": [
            "\r 38%|███▊      | 38/101 [00:40<01:10,  1.12s/it]"
          ],
          "name": "stderr"
        },
        {
          "output_type": "stream",
          "text": [
            "0\n",
            "positive 비교단어 :  신메뉴 clean_title :  엽떡 바삭·퐁당 치즈만두 신메뉴 후기인증 이벤트 실시\n",
            "1\n",
            "0\n",
            "0\n",
            "0\n",
            "0\n",
            "0\n",
            "positive 비교단어 :  출시 clean_title :  오는 20일 덕후들 목 빠지게 기다린 엽떡 짜장맛 드디어 출시된다\n",
            "1\n",
            "positive 비교단어 :  열풍 clean_title :  죠스떡볶이 치킨 내놨다치킨X떡볶이 열풍에 가세\n",
            "1\n",
            "0\n"
          ],
          "name": "stdout"
        },
        {
          "output_type": "stream",
          "text": [
            "\r 39%|███▊      | 39/101 [00:41<01:07,  1.09s/it]"
          ],
          "name": "stderr"
        },
        {
          "output_type": "stream",
          "text": [
            "0\n",
            "0\n",
            "0\n",
            "positive 비교단어 :  맛집 clean_title :  떡볶이 맛집 못지않은 백종원 떡볶이 황금 레시피는 엽기떡볶이엽떡 중국당\n",
            "1\n",
            "0\n",
            "0\n",
            "0\n",
            "negative 비교단어 :  논란 clean_title :  먹뱉 논란 문복희 저격한 거 아니냐는 BJ 철구의 떡볶이 먹방\n",
            "-1\n",
            "positive 비교단어 :  트렌드 clean_title :  미식 트렌드 로제 급부상밀키트부터 뷔페까지 각양각색\n",
            "1\n",
            "0\n"
          ],
          "name": "stdout"
        },
        {
          "output_type": "stream",
          "text": [
            "\r 40%|███▉      | 40/101 [00:42<01:05,  1.07s/it]"
          ],
          "name": "stderr"
        },
        {
          "output_type": "stream",
          "text": [
            "negative 비교단어 :  불만 clean_title :  엽떡 공짜 예상을 빗나가지 않는 불만족 행사 엽기떡볶이 앱 먹통\n",
            "-1\n",
            "0\n",
            "0\n",
            "0\n",
            "positive 비교단어 :  출시 clean_title :  요즘사람 김가오 EP21 이제 엽떡에서 핫도그도 판다” 출시하자마자 직\n",
            "1\n",
            "0\n",
            "positive 비교단어 :  출시 clean_title :  동대문 엽떡 빅 사이즈 핫도그 엽도그 출시한다\n",
            "1\n",
            "0\n",
            "0\n",
            "0\n"
          ],
          "name": "stdout"
        },
        {
          "output_type": "stream",
          "text": [
            "\r 41%|████      | 41/101 [00:43<01:03,  1.05s/it]"
          ],
          "name": "stderr"
        },
        {
          "output_type": "stream",
          "text": [
            "0\n",
            "0\n",
            "0\n",
            "negative 비교단어 :  논란 clean_title :  젊은 손님 응대 논란 커지자 엽기떡볶이 본사가 내린 조치 전문\n",
            "-1\n",
            "positive 비교단어 :  출시 clean_title :  오늘1일 출시 되자마자 후기 폭발한 쫄깃통통 엽떡 중국 당면 비주얼\n",
            "1\n",
            "0\n",
            "0\n",
            "0\n",
            "0\n",
            "0\n"
          ],
          "name": "stdout"
        },
        {
          "output_type": "stream",
          "text": [
            "\r 42%|████▏     | 42/101 [00:44<01:01,  1.05s/it]"
          ],
          "name": "stderr"
        },
        {
          "output_type": "stream",
          "text": [
            "positive 비교단어 :  맛집 clean_title :  집으로 온 맛집 코로나 이후 갈 만한 수도권 배달 맛집 4 중구편\n",
            "1\n",
            "0\n",
            "0\n",
            "0\n",
            "0\n",
            "0\n",
            "0\n",
            "0\n",
            "0\n",
            "0\n"
          ],
          "name": "stdout"
        },
        {
          "output_type": "stream",
          "text": [
            "\r 43%|████▎     | 43/101 [00:45<01:04,  1.11s/it]"
          ],
          "name": "stderr"
        },
        {
          "output_type": "stream",
          "text": [
            "0\n",
            "negative 비교단어 :  포기 clean_title :  로제 엽떡 출시 소식에 다이어트 포기하고 치팅데이 즐긴 이영지\n",
            "-1\n",
            "0\n",
            "0\n",
            "0\n",
            "0\n",
            "0\n",
            "positive 비교단어 :  출시 clean_title :  대한민국 대표 떡볶이 브랜드 동대문 엽기떡볶이 테이크아웃팩 출시\n",
            "1\n",
            "0\n",
            "0\n"
          ],
          "name": "stdout"
        },
        {
          "output_type": "stream",
          "text": [
            "\r 44%|████▎     | 44/101 [00:46<01:01,  1.08s/it]"
          ],
          "name": "stderr"
        },
        {
          "output_type": "stream",
          "text": [
            "0\n",
            "0\n",
            "0\n",
            "positive 비교단어 :  기부 clean_title :  동대문 엽기떡볶이아이스버킷 챌린지 동참얼음물 샤워보다 기부 더 도움\n",
            "1\n",
            "positive 비교단어 :  인기 clean_title :  편의점 인기 품목 대학로 엽기불닭떡볶이로 소자본창업 잡아보자\n",
            "1\n",
            "0\n",
            "0\n",
            "positive 비교단어 :  기부 clean_title :  동대문엽기떡볶이 기부로 아이스버킷 챌린지 동참\n",
            "1\n",
            "0\n",
            "0\n"
          ],
          "name": "stdout"
        },
        {
          "output_type": "stream",
          "text": [
            "\r 45%|████▍     | 45/101 [00:47<00:59,  1.07s/it]"
          ],
          "name": "stderr"
        },
        {
          "output_type": "stream",
          "text": [
            "0\n",
            "0\n",
            "0\n",
            "positive 비교단어 :  맛집 clean_title :  간단한 저녁 메뉴추천 떡볶이 황금레시피는 떡볶이 맛집 못지않은 백종원\n",
            "1\n",
            "0\n",
            "0\n",
            "0\n",
            "0\n",
            "0\n",
            "positive 비교단어 :  호응 clean_title :  대한민국 대표 국민 간식 떡볶이 외국인들에게도 호응\n",
            "1\n"
          ],
          "name": "stdout"
        },
        {
          "output_type": "stream",
          "text": [
            "\r 46%|████▌     | 46/101 [00:48<01:00,  1.10s/it]"
          ],
          "name": "stderr"
        },
        {
          "output_type": "stream",
          "text": [
            "0\n",
            "positive 비교단어 :  맛집 clean_title :  안병익의 식신 맛집 쫀득하고 매콤한 빨간 맛 소울푸드 떡볶이 맛집 BEST \n",
            "1\n",
            "positive 비교단어 :  열풍 clean_title :  대학로 엽기불닭떡볶이 즉석식품계의 새로운 열풍 소자본 창업으로 도전하\n",
            "1\n",
            "0\n",
            "0\n",
            "0\n",
            "positive 비교단어 :  새로운 clean_title :  대학로 엽기떡볶이 하반기 즉석식품계 새로운 패러다임 제시\n",
            "1\n",
            "0\n",
            "negative 비교단어 :  눈물 clean_title :  핫소스 짜 먹는 맵고수도 눈물 펑펑 흘리고 KO 당한다는 신전떡볶이불김밥\n",
            "-1\n",
            "positive 비교단어 :  맛집 clean_title :  오로지 매운맛으로 승부하는 서울 4대 떡볶이 맛집\n",
            "1\n"
          ],
          "name": "stdout"
        },
        {
          "output_type": "stream",
          "text": [
            "\r 47%|████▋     | 47/101 [00:50<00:59,  1.09s/it]"
          ],
          "name": "stderr"
        },
        {
          "output_type": "stream",
          "text": [
            "0\n",
            "0\n",
            "0\n",
            "0\n",
            "0\n",
            "0\n",
            "positive 비교단어 :  신메뉴 clean_title :  맘스터치 신메뉴 간장마늘치킨·바삭크림치즈볼 마성의 단짠쫀득으로 \n",
            "1\n",
            "0\n",
            "0\n",
            "0\n"
          ],
          "name": "stdout"
        },
        {
          "output_type": "stream",
          "text": [
            "\r 48%|████▊     | 48/101 [00:51<00:57,  1.08s/it]"
          ],
          "name": "stderr"
        },
        {
          "output_type": "stream",
          "text": [
            "positive 비교단어 :  인기 clean_title :  맵단 꿀조합으로 사랑받는 외식 프랜차이즈 인기 메뉴\n",
            "1\n",
            "0\n",
            "0\n",
            "positive 비교단어 :  신메뉴 clean_title :  맘스터치 신메뉴 간장마늘치킨·바삭크림치즈볼 마성의 단짠쫀득으로 \n",
            "1\n",
            "0\n",
            "0\n",
            "0\n",
            "positive 비교단어 :  주목 clean_title :  솔로들 주목” 블랙데이 기념 존맛탱 짜장 요리 5\n",
            "1\n",
            "0\n",
            "0\n"
          ],
          "name": "stdout"
        },
        {
          "output_type": "stream",
          "text": [
            "\r 49%|████▊     | 49/101 [00:52<00:55,  1.07s/it]"
          ],
          "name": "stderr"
        },
        {
          "output_type": "stream",
          "text": [
            "positive 비교단어 :  주목 clean_title :  솔로들 주목” 블랙데이 기념 존맛탱 짜장 요리 5\n",
            "1\n",
            "0\n",
            "0\n",
            "0\n",
            "negative 비교단어 :  불매 clean_title :  데이터K 트위터가 날린 불매운동 정치적 이유로 하나투어·깨끗한나라·L\n",
            "-1\n",
            "0\n",
            "0\n",
            "positive 비교단어 :  열풍 clean_title :  맛·재미 잡은 이색조합이 뜬다 식품업계 펀슈머 열풍\n",
            "1\n",
            "positive 비교단어 :  트렌드 clean_title :  소비자 트렌드 반영한 제품 차별화  꿀조합 마케팅으로 밀레니얼 세대 겨냥\n",
            "1\n",
            "positive 비교단어 :  인기 clean_title :  서로 다른 메뉴를 조합해 먹는 꿀조합 레시피 인기\n",
            "1\n"
          ],
          "name": "stdout"
        },
        {
          "output_type": "stream",
          "text": [
            "\r 50%|████▉     | 50/101 [00:53<00:57,  1.12s/it]"
          ],
          "name": "stderr"
        },
        {
          "output_type": "stream",
          "text": [
            "0\n",
            "0\n",
            "0\n",
            "0\n",
            "0\n",
            "0\n",
            "0\n",
            "0\n",
            "0\n",
            "negative 비교단어 :  논란 clean_title :  직원은 반말 응대 본사는 이상한 답변 논란거리 된 떡볶이업체\n",
            "-1\n"
          ],
          "name": "stdout"
        },
        {
          "output_type": "stream",
          "text": [
            "\r 50%|█████     | 51/101 [00:54<00:54,  1.10s/it]"
          ],
          "name": "stderr"
        },
        {
          "output_type": "stream",
          "text": [
            "0\n",
            "0\n",
            "negative 비교단어 :  논란 clean_title :  직원은 반말 응대 본사는 이상한 답변 논란거리 된 떡볶이업체\n",
            "-1\n",
            "0\n",
            "0\n",
            "0\n",
            "0\n",
            "0\n",
            "0\n",
            "0\n"
          ],
          "name": "stdout"
        },
        {
          "output_type": "stream",
          "text": [
            "\r 51%|█████▏    | 52/101 [00:55<00:53,  1.09s/it]"
          ],
          "name": "stderr"
        },
        {
          "output_type": "stream",
          "text": [
            "0\n",
            "positive 비교단어 :  맛집 clean_title :  수요미식회 떡볶이 서울 소재 맛집의 대표메뉴는 \n",
            "1\n",
            "0\n",
            "0\n",
            "0\n",
            "0\n",
            "0\n",
            "positive 비교단어 :  맛집 clean_title :  주말 맛집 투어 수요미식회 떡볶이 맛집 리스트위치감자샐러드 쌀떡볶\n",
            "1\n",
            "positive 비교단어 :  맛집 clean_title :  수요미식회 떡볶이 맛집 대공개 가래떡 떡볶이·마늘 떡볶이·새우깡 떡볶\n",
            "1\n",
            "0\n"
          ],
          "name": "stdout"
        },
        {
          "output_type": "stream",
          "text": [
            "\r 52%|█████▏    | 53/101 [00:56<00:51,  1.07s/it]"
          ],
          "name": "stderr"
        },
        {
          "output_type": "stream",
          "text": [
            "positive 비교단어 :  맛집 clean_title :  수요미식회 떡볶이 맛집 대공개 가래떡 떡볶이·마늘 떡볶이·새우깡 떡볶\n",
            "1\n",
            "0\n",
            "0\n",
            "negative 비교단어 :  호소 clean_title :  신서유기3’ 이수근 매운 떡볶이 먹은 후 고통 호소 뜨거운 게 더 낫다”\n",
            "-1\n",
            "0\n",
            "0\n",
            "0\n",
            "0\n",
            "positive 비교단어 :  트렌드 clean_title :  트렌드 매운맛의 사회학 마라·불닭에 숨은 코드\n",
            "1\n",
            "0\n"
          ],
          "name": "stdout"
        },
        {
          "output_type": "stream",
          "text": [
            "\r 53%|█████▎    | 54/101 [00:57<00:50,  1.07s/it]"
          ],
          "name": "stderr"
        },
        {
          "output_type": "stream",
          "text": [
            "0\n",
            "0\n",
            "positive 비교단어 :  트렌드 clean_title :  트렌드 매운맛의 사회학 마라·불닭에 숨은 코드\n",
            "1\n",
            "0\n",
            "0\n",
            "0\n",
            "0\n",
            "0\n",
            "0\n",
            "0\n"
          ],
          "name": "stdout"
        },
        {
          "output_type": "stream",
          "text": [
            "\r 54%|█████▍    | 55/101 [00:58<00:51,  1.13s/it]"
          ],
          "name": "stderr"
        },
        {
          "output_type": "stream",
          "text": [
            "0\n",
            "0\n",
            "positive 비교단어 :  맛집 clean_title :   리포터 기획 취재  우리 지역 떡볶이 맛집 주부 떡볶이를 탐하다\n",
            "1\n",
            "0\n",
            "positive 비교단어 :  최고 clean_title :  떡볶이 최고의 궁합 메뉴는\n",
            "1\n",
            "0\n",
            "positive 비교단어 :  최고 clean_title :  영원한 국민 간식 떡볶이 최고의 짝꿍은\n",
            "1\n",
            "positive 비교단어 :  최고 clean_title :  떡볶이 최고의 단짝 메뉴는 너야 너 튀김\n",
            "1\n",
            "0\n",
            "0\n"
          ],
          "name": "stdout"
        },
        {
          "output_type": "stream",
          "text": [
            "\r 55%|█████▌    | 56/101 [00:59<00:49,  1.11s/it]"
          ],
          "name": "stderr"
        },
        {
          "output_type": "stream",
          "text": [
            "0\n",
            "0\n",
            "0\n",
            "0\n",
            "positive 비교단어 :  인기 clean_title :  매운 떡볶이 열풍 참숯불닭발 불떡볶이 소자본 창업아이템으로 인기\n",
            "1\n",
            "0\n",
            "0\n",
            "0\n",
            "positive 비교단어 :  열풍 clean_title :  매워야 살아남는다 라면·떡볶이 매운맛 열풍\n",
            "1\n",
            "positive 비교단어 :  대박 clean_title :  국민간식 매운맛으로 입맛 돋우는 대학로 엽기불닦떡볶이 대박 소자본 창업으\n",
            "1\n"
          ],
          "name": "stdout"
        },
        {
          "output_type": "stream",
          "text": [
            "\r 56%|█████▋    | 57/101 [01:00<00:48,  1.10s/it]"
          ],
          "name": "stderr"
        },
        {
          "output_type": "stream",
          "text": [
            "0\n",
            "0\n",
            "0\n",
            "0\n",
            "positive 비교단어 :  열풍 clean_title :  매워야 살아남는다 라면·떡볶이 매운맛 열풍\n",
            "1\n",
            "positive 비교단어 :  대박 clean_title :  국민간식 매운맛으로 입맛 돋우는 대학로 엽기불닦떡볶이 대박 소자본 창업으\n",
            "1\n",
            "0\n",
            "0\n",
            "negative 비교단어 :  불매 clean_title :  신전에 기안84 묻었다 엽떡은 남양 트렌드가 된 불매운동\n",
            "-1\n",
            "0\n"
          ],
          "name": "stdout"
        },
        {
          "output_type": "stream",
          "text": [
            "\r 57%|█████▋    | 58/101 [01:01<00:46,  1.07s/it]"
          ],
          "name": "stderr"
        },
        {
          "output_type": "stream",
          "text": [
            "0\n",
            "0\n",
            "0\n",
            "0\n",
            "0\n",
            "0\n",
            "0\n",
            "0\n",
            "0\n",
            "positive 비교단어 :  오픈 clean_title :  동대문엽기떡뽁이 공식 페이스북 오픈\n",
            "1\n"
          ],
          "name": "stdout"
        },
        {
          "output_type": "stream",
          "text": [
            "\r 58%|█████▊    | 59/101 [01:03<00:44,  1.06s/it]"
          ],
          "name": "stderr"
        },
        {
          "output_type": "stream",
          "text": [
            "0\n",
            "positive 비교단어 :  오픈 clean_title :  동대문엽기떡뽁이 공식 페이스북 오픈\n",
            "1\n",
            "0\n",
            "0\n",
            "0\n",
            "0\n",
            "positive 비교단어 :  맛집 clean_title :  스트레스 한방에 날려주는 서울 매운 맛집 투어\n",
            "1\n",
            "0\n",
            "0\n",
            "0\n"
          ],
          "name": "stdout"
        },
        {
          "output_type": "stream",
          "text": [
            "\r 59%|█████▉    | 60/101 [01:04<00:45,  1.12s/it]"
          ],
          "name": "stderr"
        },
        {
          "output_type": "stream",
          "text": [
            "0\n",
            "0\n",
            "positive 비교단어 :  수상 clean_title :  2021 대한민국을 빛낼 인물기업기관·브랜드대상’ 수상기업 발표해\n",
            "1\n",
            "positive 비교단어 :  대세 clean_title :  먹방의 새로운 대세오감 자극하는 ASMR 먹방\n",
            "1\n",
            "0\n",
            "negative 비교단어 :  폐점 clean_title :  프랜차이즈 가맹점 폐점률 1 미만 8곳 어디\n",
            "-1\n",
            "0\n",
            "negative 비교단어 :  중단 clean_title :  이제 엽떡에서 이 메뉴 5가지 판매 중단됩니다 단 2일 남았습니다”\n",
            "-1\n",
            "0\n",
            "0\n"
          ],
          "name": "stdout"
        },
        {
          "output_type": "stream",
          "text": [
            "\r 60%|██████    | 61/101 [01:05<00:45,  1.13s/it]"
          ],
          "name": "stderr"
        },
        {
          "output_type": "stream",
          "text": [
            "negative 비교단어 :  벌레 clean_title :  엽떡에서 바퀴벌레 반쪽이 나왔어요”\n",
            "-1\n",
            "0\n",
            "0\n",
            "0\n",
            "0\n",
            "positive 비교단어 :  열풍 clean_title :  코로나 블루 스트레스 매운맛으로 타파 대한민국은 지금 매운맛 열풍 속\n",
            "1\n",
            "positive 비교단어 :  출시 clean_title :  아가 입맛도 먹을 수 있는 엽떡초보맛 출시됐다\n",
            "1\n",
            "positive 비교단어 :  열풍 clean_title :  코로나 블루 스트레스 매운맛으로 타파 대한민국은 지금 매운맛 열풍 속\n",
            "1\n",
            "0\n",
            "positive 비교단어 :  열풍 clean_title :  대한민국 외식 프랜차이즈는 지금 매운맛 열풍 업계 매운맛 진제품 지속적 출\n",
            "1\n"
          ],
          "name": "stdout"
        },
        {
          "output_type": "stream",
          "text": [
            "\r 61%|██████▏   | 62/101 [01:06<00:43,  1.11s/it]"
          ],
          "name": "stderr"
        },
        {
          "output_type": "stream",
          "text": [
            "0\n",
            "0\n",
            "0\n",
            "0\n",
            "0\n",
            "positive 비교단어 :  열풍 clean_title :  대한민국 외식 프랜차이즈는 지금 매운맛 열풍 업계 매운맛 제품 지속적 출시\n",
            "1\n",
            "0\n",
            "0\n",
            "0\n",
            "0\n"
          ],
          "name": "stdout"
        },
        {
          "output_type": "stream",
          "text": [
            "\r 62%|██████▏   | 63/101 [01:07<00:41,  1.09s/it]"
          ],
          "name": "stderr"
        },
        {
          "output_type": "stream",
          "text": [
            "0\n",
            "0\n",
            "0\n",
            "0\n",
            "positive 비교단어 :  신제품 clean_title :  외식업계 치즈 치즈 치즈신제품 키워드는 치즈\n",
            "1\n",
            "positive 비교단어 :  열풍 clean_title :  치즈 많을수록 맛있다 끊기지 않는 치즈 열풍\n",
            "1\n",
            "0\n",
            "0\n",
            "negative 비교단어 :  논란 clean_title :  채널A 먹거리X파일’ 이번엔 썩은 마늘’ 과잉보도 논란\n",
            "-1\n",
            "0\n"
          ],
          "name": "stdout"
        },
        {
          "output_type": "stream",
          "text": [
            "\r 63%|██████▎   | 64/101 [01:08<00:39,  1.08s/it]"
          ],
          "name": "stderr"
        },
        {
          "output_type": "stream",
          "text": [
            "0\n",
            "0\n",
            "0\n",
            "positive 비교단어 :  인기 clean_title :  남자 1인 소자본창업 아이템 쭈꾸미도사 이색메뉴 대창쭈꾸미로 인기몰이\n",
            "1\n",
            "0\n",
            "0\n",
            "0\n",
            "0\n",
            "0\n",
            "0\n"
          ],
          "name": "stdout"
        },
        {
          "output_type": "stream",
          "text": [
            "\r 64%|██████▍   | 65/101 [01:09<00:38,  1.08s/it]"
          ],
          "name": "stderr"
        },
        {
          "output_type": "stream",
          "text": [
            "0\n",
            "0\n",
            "0\n",
            "0\n",
            "0\n",
            "0\n",
            "0\n",
            "0\n",
            "positive 비교단어 :  신상 clean_title :  꾸덕한 크림치즈 때려 넣어 엽떡과 환상궁합이라 난리난 신상 바삭치즈만두\n",
            "1\n",
            "0\n"
          ],
          "name": "stdout"
        },
        {
          "output_type": "stream",
          "text": [
            "\r 65%|██████▌   | 66/101 [01:10<00:37,  1.08s/it]"
          ],
          "name": "stderr"
        },
        {
          "output_type": "stream",
          "text": [
            "0\n",
            "positive 비교단어 :  신상 clean_title :  꾸덕한 크림치즈 때려 넣어 엽떡과 환상궁합이라 난리난 신상 바삭치즈만두\n",
            "1\n",
            "0\n",
            "0\n",
            "0\n",
            "0\n",
            "0\n",
            "0\n",
            "0\n",
            "0\n"
          ],
          "name": "stdout"
        },
        {
          "output_type": "stream",
          "text": [
            "\r 66%|██████▋   | 67/101 [01:11<00:36,  1.06s/it]"
          ],
          "name": "stderr"
        },
        {
          "output_type": "stream",
          "text": [
            "0\n",
            "0\n",
            "0\n",
            "0\n",
            "0\n",
            "0\n",
            "0\n",
            "0\n",
            "0\n",
            "0\n"
          ],
          "name": "stdout"
        },
        {
          "output_type": "stream",
          "text": [
            "\r 67%|██████▋   | 68/101 [01:12<00:35,  1.07s/it]"
          ],
          "name": "stderr"
        },
        {
          "output_type": "stream",
          "text": [
            "0\n",
            "0\n",
            "0\n",
            "positive 비교단어 :  1위 clean_title :  막걸리 23종 상표 떼고 맞붙었다 전문가들이 뽑은 1위는\n",
            "1\n",
            "0\n",
            "positive 비교단어 :  열풍 clean_title :  이서우의 Pick味 중국당면 열풍···2㎜부터 3㎝까지 면 사리’ 강자는\n",
            "1\n",
            "0\n",
            "0\n",
            "0\n",
            "0\n"
          ],
          "name": "stdout"
        },
        {
          "output_type": "stream",
          "text": [
            "\r 68%|██████▊   | 69/101 [01:13<00:34,  1.06s/it]"
          ],
          "name": "stderr"
        },
        {
          "output_type": "stream",
          "text": [
            "0\n",
            "0\n",
            "0\n",
            "0\n",
            "0\n",
            "0\n",
            "0\n",
            "0\n",
            "0\n",
            "negative 비교단어 :  위반 clean_title :  써브웨이 버거킹 맘스터치 등 유명 프랜차이즈 업소 식품위생법 위반\n",
            "-1\n"
          ],
          "name": "stdout"
        },
        {
          "output_type": "stream",
          "text": [
            "\r 69%|██████▉   | 70/101 [01:15<00:34,  1.12s/it]"
          ],
          "name": "stderr"
        },
        {
          "output_type": "stream",
          "text": [
            "0\n",
            "0\n",
            "negative 비교단어 :  위반 clean_title :  써브웨이 버거킹 맘스터치 등 유명 프랜차이즈 업소 식품위생법 위반\n",
            "-1\n",
            "0\n",
            "positive 비교단어 :  트렌드 clean_title :  전문가 칼럼 2019년 창업트렌드 유행 덜 타는 인생 창업 아이템\n",
            "1\n",
            "positive 비교단어 :  대세 clean_title :  대세예보 먹방 대세 슈기 많이 먹는 묘기를 넘어함께 먹어 행복한 먹방\n",
            "1\n",
            "0\n",
            "0\n",
            "0\n",
            "0\n"
          ],
          "name": "stdout"
        },
        {
          "output_type": "stream",
          "text": [
            "\r 70%|███████   | 71/101 [01:16<00:33,  1.10s/it]"
          ],
          "name": "stderr"
        },
        {
          "output_type": "stream",
          "text": [
            "0\n",
            "positive 비교단어 :  1위 clean_title :  임영웅 내세운 티바두마리 언급량 30배 급증 1위 교촌 넘었다\n",
            "1\n",
            "0\n",
            "0\n",
            "0\n",
            "negative 비교단어 :  취약 clean_title :  온천2동 온천2구역재개발정비사업조합 추석맞이 취약계층 쌀 지원 外\n",
            "-1\n",
            "0\n",
            "0\n",
            "0\n",
            "positive 비교단어 :  출시 clean_title :  다시 시작된 코로나19식품외식업계 홈밥족 위한 다양한 메뉴 출시\n",
            "1\n"
          ],
          "name": "stdout"
        },
        {
          "output_type": "stream",
          "text": [
            "\r 71%|███████▏  | 72/101 [01:17<00:31,  1.09s/it]"
          ],
          "name": "stderr"
        },
        {
          "output_type": "stream",
          "text": [
            "positive 비교단어 :  출시 clean_title :  외식업계 홈밥족들 위한 다양한 집콕 메뉴 출시\n",
            "1\n",
            "0\n",
            "0\n",
            "0\n",
            "0\n",
            "0\n",
            "negative 비교단어 :  항의 clean_title :  직원 반말 항의한 고객에 매장 이용 어렵다’고 한 엽떡진심어린 사과”\n",
            "-1\n",
            "0\n",
            "0\n",
            "negative 비교단어 :  논란 clean_title :  고현준의 뉴스딱 민망한 장면 가득유튜브 게임 광고 논란\n",
            "-1\n"
          ],
          "name": "stdout"
        },
        {
          "output_type": "stream",
          "text": [
            "\r 72%|███████▏  | 73/101 [01:18<00:30,  1.08s/it]"
          ],
          "name": "stderr"
        },
        {
          "output_type": "stream",
          "text": [
            "negative 비교단어 :  논란 clean_title :  고현준의 뉴스딱 민망한 장면 가득유튜브 게임 광고 논란\n",
            "-1\n",
            "0\n",
            "0\n",
            "0\n",
            "0\n",
            "positive 비교단어 :  열풍 clean_title :  MZ세대 노려라 식품업계 이색 마케팅 열풍\n",
            "1\n",
            "0\n",
            "0\n",
            "0\n",
            "0\n"
          ],
          "name": "stdout"
        },
        {
          "output_type": "stream",
          "text": [
            "\r 73%|███████▎  | 74/101 [01:19<00:29,  1.08s/it]"
          ],
          "name": "stderr"
        },
        {
          "output_type": "stream",
          "text": [
            "positive 비교단어 :  인기 clean_title :  외식업계 치즈로 꽉꽉 채워 쭉쭉 늘어나는 고객 인기\n",
            "1\n",
            "positive 비교단어 :  트렌드 clean_title :  외식업계 돌아온 치즈 트렌드 신메뉴 쏟아진다\n",
            "1\n",
            "0\n",
            "positive 비교단어 :  최고 clean_title :  스트레스 해소엔 매운맛’ · 단맛’이 최고\n",
            "1\n",
            "0\n",
            "0\n",
            "0\n",
            "0\n",
            "0\n",
            "0\n"
          ],
          "name": "stdout"
        },
        {
          "output_type": "stream",
          "text": [
            "\r 74%|███████▍  | 75/101 [01:20<00:28,  1.09s/it]"
          ],
          "name": "stderr"
        },
        {
          "output_type": "stream",
          "text": [
            "0\n",
            "0\n",
            "0\n",
            "0\n",
            "0\n",
            "0\n",
            "0\n",
            "0\n",
            "0\n",
            "0\n"
          ],
          "name": "stdout"
        },
        {
          "output_type": "stream",
          "text": [
            "\r 75%|███████▌  | 76/101 [01:21<00:27,  1.11s/it]"
          ],
          "name": "stderr"
        },
        {
          "output_type": "stream",
          "text": [
            "0\n",
            "0\n",
            "0\n",
            "0\n",
            "0\n",
            "0\n",
            "0\n",
            "0\n",
            "0\n",
            "0\n"
          ],
          "name": "stdout"
        },
        {
          "output_type": "stream",
          "text": [
            "\r 76%|███████▌  | 77/101 [01:22<00:27,  1.15s/it]"
          ],
          "name": "stderr"
        },
        {
          "output_type": "stream",
          "text": [
            "0\n",
            "0\n",
            "0\n",
            "0\n",
            "negative 비교단어 :  논란 clean_title :  배민 수수료 개편 논란배민 배달 장사하는 사람 전부 죽인다\n",
            "-1\n",
            "0\n",
            "0\n",
            "negative 비교단어 :  위반 clean_title :  식약처 배달음식점·온라인 반찬가게 등 위생기준 위반업체 40곳 적발\n",
            "-1\n",
            "0\n",
            "0\n"
          ],
          "name": "stdout"
        },
        {
          "output_type": "stream",
          "text": [
            "\r 77%|███████▋  | 78/101 [01:23<00:25,  1.12s/it]"
          ],
          "name": "stderr"
        },
        {
          "output_type": "stream",
          "text": [
            "0\n",
            "0\n",
            "0\n",
            "0\n",
            "0\n",
            "0\n",
            "0\n",
            "0\n",
            "0\n",
            "0\n"
          ],
          "name": "stdout"
        },
        {
          "output_type": "stream",
          "text": [
            "\r 78%|███████▊  | 79/101 [01:25<00:24,  1.10s/it]"
          ],
          "name": "stderr"
        },
        {
          "output_type": "stream",
          "text": [
            "positive 비교단어 :  열풍 clean_title :  식품업계 스트레스 날리고 입맛UP 매운맛 열풍\n",
            "1\n",
            "0\n",
            "0\n",
            "0\n",
            "0\n",
            "positive 비교단어 :  맛집 clean_title :  대동맛지도 순하게 넉넉하게 이대 맛집 산타비’  ①\n",
            "1\n",
            "0\n",
            "0\n",
            "0\n",
            "0\n"
          ],
          "name": "stdout"
        },
        {
          "output_type": "stream",
          "text": [
            "\r 79%|███████▉  | 80/101 [01:26<00:22,  1.09s/it]"
          ],
          "name": "stderr"
        },
        {
          "output_type": "stream",
          "text": [
            "0\n",
            "0\n",
            "0\n",
            "0\n",
            "0\n",
            "positive 비교단어 :  주목 clean_title :  2020학년도 수험생 할인에 주목 영화·놀이공원·외식 등 수험표 할인 총정\n",
            "1\n",
            "0\n",
            "0\n",
            "positive 비교단어 :  맛집 clean_title :  생방송투데이리얼맛집 원주 이동식 18솥뚜껑닭볶음탕 식당 위치는 묵은지\n",
            "1\n",
            "positive 비교단어 :  진화 clean_title :  낯선 맛 괴식 온라인서 열광하자 산업으로 진화\n",
            "1\n"
          ],
          "name": "stdout"
        },
        {
          "output_type": "stream",
          "text": [
            "\r 80%|████████  | 81/101 [01:27<00:22,  1.13s/it]"
          ],
          "name": "stderr"
        },
        {
          "output_type": "stream",
          "text": [
            "positive 비교단어 :  진화 clean_title :  낯선 맛 괴식 온라인서 열광하자 산업으로 진화\n",
            "1\n",
            "0\n",
            "positive 비교단어 :  진화 clean_title :  괴식怪食의 현재와 미래 낯선 맛에 열광하자 산업으로 진화괴식은 혁\n",
            "1\n",
            "0\n",
            "0\n",
            "0\n",
            "0\n",
            "0\n",
            "0\n",
            "0\n"
          ],
          "name": "stdout"
        },
        {
          "output_type": "stream",
          "text": [
            "\r 81%|████████  | 82/101 [01:28<00:21,  1.11s/it]"
          ],
          "name": "stderr"
        },
        {
          "output_type": "stream",
          "text": [
            "positive 비교단어 :  열풍 clean_title :  저렴한 한끼김밥 공식 안 통해 브랜드화 열풍에 서민 부담 커져\n",
            "1\n",
            "0\n",
            "negative 비교단어 :  눈물 clean_title :  땀과 눈물 없이는 먹을 수 없는\n",
            "-1\n",
            "0\n",
            "negative 비교단어 :  게이트 clean_title :  신상 뜯어보기불닭·엽떡보다 맵다닭다리 사이에 스며든 헬게이트 매운\n",
            "-1\n",
            "0\n",
            "0\n",
            "negative 비교단어 :  폐점 clean_title :  SPECIAL REPORT 2 프랜차이즈 폐점률’ 천차만별\n",
            "-1\n",
            "positive 비교단어 :  열풍 clean_title :  음식의 이색 콜라보레이션 열풍 식품·외식 업계 메뉴 구성에도 영향\n",
            "1\n",
            "0\n"
          ],
          "name": "stdout"
        },
        {
          "output_type": "stream",
          "text": [
            "\r 82%|████████▏ | 83/101 [01:29<00:19,  1.09s/it]"
          ],
          "name": "stderr"
        },
        {
          "output_type": "stream",
          "text": [
            "positive 비교단어 :  열풍 clean_title :  음식의 이색 콜라보레이션 열풍 식품·외식 업계 메뉴 구성에도 영향\n",
            "1\n",
            "0\n",
            "0\n",
            "0\n",
            "0\n",
            "0\n",
            "positive 비교단어 :  트렌드 clean_title :  창업 뉴 트렌드 스트레스 싹 날리는 매운맛불황 몰라요\n",
            "1\n",
            "0\n",
            "0\n",
            "0\n"
          ],
          "name": "stdout"
        },
        {
          "output_type": "stream",
          "text": [
            "\r 83%|████████▎ | 84/101 [01:30<00:18,  1.07s/it]"
          ],
          "name": "stderr"
        },
        {
          "output_type": "stream",
          "text": [
            "0\n",
            "0\n",
            "0\n",
            "0\n",
            "0\n",
            "0\n",
            "positive 비교단어 :  1위 clean_title :  한국 매운 음식 5 일반적 돈가스가 1위3500명 중 90명만 성공\n",
            "1\n",
            "0\n",
            "0\n",
            "0\n"
          ],
          "name": "stdout"
        },
        {
          "output_type": "stream",
          "text": [
            "\r 84%|████████▍ | 85/101 [01:31<00:17,  1.06s/it]"
          ],
          "name": "stderr"
        },
        {
          "output_type": "stream",
          "text": [
            "positive 비교단어 :  1위 clean_title :  한국 매운 음식 5 일반적 돈가스가 1위3500명 중 90명만 성공\n",
            "1\n",
            "0\n",
            "0\n",
            "0\n",
            "0\n",
            "0\n",
            "0\n",
            "0\n",
            "positive 비교단어 :  1위 clean_title :  CNN 한국에서 가장 매운 음식 5가지 소개1위는\n",
            "1\n",
            "0\n"
          ],
          "name": "stdout"
        },
        {
          "output_type": "stream",
          "text": [
            "\r 85%|████████▌ | 86/101 [01:32<00:15,  1.06s/it]"
          ],
          "name": "stderr"
        },
        {
          "output_type": "stream",
          "text": [
            "0\n",
            "0\n",
            "0\n",
            "0\n",
            "negative 비교단어 :  눈물 clean_title :  정상화 나선 지 두 시간 흘렀지만여전히 눈물 흘리는 엽떡\n",
            "-1\n",
            "0\n",
            "0\n",
            "0\n",
            "positive 비교단어 :  1위 clean_title :  모두의 주방 사쿠라 1위 트로피 안고 도착 함께 즐거운 식사 시즌1 마무리\n",
            "1\n",
            "0\n"
          ],
          "name": "stdout"
        },
        {
          "output_type": "stream",
          "text": [
            "\r 86%|████████▌ | 87/101 [01:33<00:14,  1.06s/it]"
          ],
          "name": "stderr"
        },
        {
          "output_type": "stream",
          "text": [
            "0\n",
            "0\n",
            "0\n",
            "0\n",
            "0\n",
            "0\n",
            "0\n",
            "0\n",
            "0\n",
            "0\n"
          ],
          "name": "stdout"
        },
        {
          "output_type": "stream",
          "text": [
            "\r 87%|████████▋ | 88/101 [01:34<00:13,  1.06s/it]"
          ],
          "name": "stderr"
        },
        {
          "output_type": "stream",
          "text": [
            "0\n",
            "0\n",
            "0\n",
            "0\n",
            "0\n",
            "positive 비교단어 :  인기 clean_title :  인스타그램 인기 작가 오늘의 다은 매일 그림일기 『오늘의 다은\n",
            "1\n",
            "0\n",
            "0\n",
            "0\n",
            "positive 비교단어 :  수상 clean_title :  신동엽 2018 대한민국광고대상 광고인이 뽑은 최고의 광고모델 수상 영예\n",
            "1\n"
          ],
          "name": "stdout"
        },
        {
          "output_type": "stream",
          "text": [
            "\r 88%|████████▊ | 89/101 [01:35<00:12,  1.06s/it]"
          ],
          "name": "stderr"
        },
        {
          "output_type": "stream",
          "text": [
            "0\n",
            "0\n",
            "0\n",
            "positive 비교단어 :  수상 clean_title :  신동엽 2018 대한민국광고대상 광고인이 뽑은 최고의 광고모델 수상 영예\n",
            "1\n",
            "0\n",
            "0\n",
            "0\n",
            "0\n",
            "0\n",
            "negative 비교단어 :  폐점 clean_title :  폐점률 높은 프랜차이즈 보니 잇츠스킨·그램그램\n",
            "-1\n"
          ],
          "name": "stdout"
        },
        {
          "output_type": "stream",
          "text": [
            "\r 89%|████████▉ | 90/101 [01:36<00:11,  1.09s/it]"
          ],
          "name": "stderr"
        },
        {
          "output_type": "stream",
          "text": [
            "positive 비교단어 :  수상 clean_title :  신동엽 2018 대한민국광고대상 광고인이 뽑은 최고의 광고모델상 수상\n",
            "1\n",
            "0\n",
            "0\n",
            "0\n",
            "0\n",
            "0\n",
            "negative 비교단어 :  폐점 clean_title :  폐점률 높은 프랜차이즈 보니 잇츠스킨·그램그램\n",
            "-1\n",
            "0\n",
            "0\n",
            "0\n"
          ],
          "name": "stdout"
        },
        {
          "output_type": "stream",
          "text": [
            "\r 90%|█████████ | 91/101 [01:37<00:10,  1.08s/it]"
          ],
          "name": "stderr"
        },
        {
          "output_type": "stream",
          "text": [
            "negative 비교단어 :  폐점 clean_title :  프랜차이즈 가맹점 폐점률 10 최다 브랜드 잇츠스킨폐점률 0 브랜드\n",
            "-1\n",
            "0\n",
            "0\n",
            "0\n",
            "0\n",
            "positive 비교단어 :  주목 clean_title :  영상 연어덕후 주목 밥 한공기 순삭하는 존맛탱 연어장 만들기\n",
            "1\n",
            "0\n",
            "positive 비교단어 :  진화 clean_title :  오늘의 핫클릭 심진화 김원효가 결혼 전 1억 있다고 거짓말 파혼할 뻔”\n",
            "1\n",
            "0\n",
            "0\n"
          ],
          "name": "stdout"
        },
        {
          "output_type": "stream",
          "text": [
            "\r 91%|█████████ | 92/101 [01:39<00:10,  1.15s/it]"
          ],
          "name": "stderr"
        },
        {
          "output_type": "stream",
          "text": [
            "0\n",
            "0\n",
            "positive 비교단어 :  주목 clean_title :  영상 연어덕후 주목 밥 한공기 순삭하는 존맛탱 연어장 만들기\n",
            "1\n",
            "0\n",
            "positive 비교단어 :  진화 clean_title :  오늘의 핫클릭 심진화 김원효가 결혼 전 1억 있다고 거짓말 파혼할 뻔”\n",
            "1\n",
            "0\n",
            "0\n",
            "0\n",
            "0\n",
            "0\n"
          ],
          "name": "stdout"
        },
        {
          "output_type": "stream",
          "text": [
            "\r 92%|█████████▏| 93/101 [01:40<00:08,  1.12s/it]"
          ],
          "name": "stderr"
        },
        {
          "output_type": "stream",
          "text": [
            "0\n",
            "0\n",
            "0\n",
            "0\n",
            "0\n",
            "0\n",
            "0\n",
            "0\n",
            "0\n",
            "0\n"
          ],
          "name": "stdout"
        },
        {
          "output_type": "stream",
          "text": [
            "\r 93%|█████████▎| 94/101 [01:41<00:07,  1.09s/it]"
          ],
          "name": "stderr"
        },
        {
          "output_type": "stream",
          "text": [
            "0\n",
            "0\n",
            "0\n",
            "0\n",
            "0\n",
            "0\n",
            "0\n",
            "0\n",
            "positive 비교단어 :  수상 clean_title :  신생브랜드 프롬하와이 2017 대한민국 젊은이 선호 신뢰브랜드 대상 수상\n",
            "1\n",
            "0\n"
          ],
          "name": "stdout"
        },
        {
          "output_type": "stream",
          "text": [
            "\r 94%|█████████▍| 95/101 [01:42<00:06,  1.09s/it]"
          ],
          "name": "stderr"
        },
        {
          "output_type": "stream",
          "text": [
            "0\n",
            "0\n",
            "0\n",
            "positive 비교단어 :  열풍 clean_title :  주문한 메뉴 섞고 추가하고내맘대로 레시피 열풍\n",
            "1\n",
            "0\n",
            "0\n",
            "0\n",
            "0\n",
            "0\n",
            "negative 비교단어 :  엉망 clean_title :  미스터피자·세븐일레븐 등 프랜차이즈 및 편의점 일부점포 위생 상태 엉망\n",
            "-1\n"
          ],
          "name": "stdout"
        },
        {
          "output_type": "stream",
          "text": [
            "\r 95%|█████████▌| 96/101 [01:43<00:05,  1.08s/it]"
          ],
          "name": "stderr"
        },
        {
          "output_type": "stream",
          "text": [
            "0\n",
            "negative 비교단어 :  엉망 clean_title :  미스터피자·세븐일레븐 등 프랜차이즈 및 편의점 일부점포 위생 상태 엉망\n",
            "-1\n",
            "0\n",
            "0\n",
            "0\n",
            "0\n",
            "0\n",
            "0\n",
            "0\n",
            "0\n"
          ],
          "name": "stdout"
        },
        {
          "output_type": "stream",
          "text": [
            "\r 96%|█████████▌| 97/101 [01:44<00:04,  1.13s/it]"
          ],
          "name": "stderr"
        },
        {
          "output_type": "stream",
          "text": [
            "0\n",
            "0\n",
            "0\n",
            "0\n",
            "0\n",
            "0\n",
            "0\n",
            "0\n",
            "0\n",
            "0\n"
          ],
          "name": "stdout"
        },
        {
          "output_type": "stream",
          "text": [
            "\r 97%|█████████▋| 98/101 [01:45<00:03,  1.11s/it]"
          ],
          "name": "stderr"
        },
        {
          "output_type": "stream",
          "text": [
            "0\n",
            "negative 비교단어 :  중단 clean_title :  원조 눈꽃빙수 설빙 국내선 가맹점 모집 중단해외 공략 박차\n",
            "-1\n",
            "0\n",
            "0\n",
            "0\n",
            "0\n",
            "0\n",
            "positive 비교단어 :  인기 clean_title :  플러싱 배달 주문 사이트플러싱푸드닷컴 인기\n",
            "1\n",
            "positive 비교단어 :  인기 clean_title :  2015 유튜브 빅뱅’ SM TOWN’ 쿡방’ 인기\n",
            "1\n",
            "0\n"
          ],
          "name": "stdout"
        },
        {
          "output_type": "stream",
          "text": [
            "\r 98%|█████████▊| 99/101 [01:46<00:02,  1.10s/it]"
          ],
          "name": "stderr"
        },
        {
          "output_type": "stream",
          "text": [
            "positive 비교단어 :  인기 clean_title :  유튜브 올해 최고인기 KPop 뮤비는 빅뱅EXO\n",
            "1\n",
            "0\n",
            "0\n",
            "0\n",
            "0\n",
            "0\n",
            "0\n",
            "0\n",
            "0\n",
            "0\n"
          ],
          "name": "stdout"
        },
        {
          "output_type": "stream",
          "text": [
            "\r 99%|█████████▉| 100/101 [01:47<00:01,  1.09s/it]"
          ],
          "name": "stderr"
        },
        {
          "output_type": "stream",
          "text": [
            "0\n",
            "0\n",
            "0\n",
            "0\n",
            "0\n",
            "0\n",
            "positive 비교단어 :  1위 clean_title :  한국 매운 음식 5 돈가스가 1위라고 10분안에 다 먹으면 무려\n",
            "1\n",
            "0\n",
            "0\n",
            "0\n"
          ],
          "name": "stdout"
        },
        {
          "output_type": "stream",
          "text": [
            "100%|██████████| 101/101 [01:48<00:00,  1.08s/it]"
          ],
          "name": "stderr"
        },
        {
          "output_type": "stream",
          "text": [
            "0\n",
            "0\n",
            "0\n",
            "0\n",
            "0\n",
            "0\n",
            "0\n",
            "0\n",
            "0\n",
            "0\n",
            "                                          title  label\n",
            "0       핫시즈너 동대문엽기떡볶이 tvN 드라마 슬기로운 의사생활 시즌2 제작지      0\n",
            "1               슬기로운 의사생활 시즌2 에 동대문 엽기떡볶이 제작 지원      0\n",
            "2             동대문엽기떡볶이 브랜드 유니폼 무상 지원 유니폼 캠페인 진행      0\n",
            "3                동대문엽기떡볶이 리뉴얼 유니폼 위생 디자인 강화 캠페인      0\n",
            "4               동대문엽기떡볶이 엽도그’ 소시지는 2배 증량 리뉴얼 출시      1\n",
            "...                                         ...    ...\n",
            "1005  우리 옆집에 EXO가 산다 4화  EXO 찬열의 까칠한 이런 모습 처음이야      0\n",
            "1006           우리 옆집에 엑소가 산다 찬열 문가영에게 내가 누군지 몰라      0\n",
            "1007                     프랜차이즈산업박람회 어떤브랜드가 참여하나      0\n",
            "1008                                        깔깔깔      0\n",
            "1009            일자리창출 대축제 프랜차이즈산업박람회’ 오는 19일 개막      0\n",
            "\n",
            "[1010 rows x 2 columns]\n"
          ],
          "name": "stdout"
        },
        {
          "output_type": "stream",
          "text": [
            "\n"
          ],
          "name": "stderr"
        }
      ]
    },
    {
      "cell_type": "code",
      "metadata": {
        "colab": {
          "base_uri": "https://localhost:8080/"
        },
        "id": "-TQsTP0s7WGi",
        "outputId": "ca80de1b-4eb1-4d29-e395-e94e81e49346"
      },
      "source": [
        "# 2 마라탕\n",
        "import requests\n",
        "from bs4 import BeautifulSoup\n",
        "import re\n",
        "import pandas as pd\n",
        "from tqdm import tqdm\n",
        "\n",
        "labels = []\n",
        "titles = []\n",
        "titles2 = []\n",
        "\n",
        "j = 0\n",
        "\n",
        "for k in tqdm(range(101)):\n",
        "\tnum = k * 10 + 1\n",
        "\t# 마라탕\n",
        "\turl = \"https://search.naver.com/search.naver?where=news&sm=tab_pge&query=%EB%A7%88%EB%9D%BC%ED%83%95&sort=0&photo=0&field=0&pd=0&ds=&de=&cluster_rank=27&mynews=0&office_type=0&office_section_code=0&news_office_checked=&nso=so:r,p:all,a:all&start=\" + str(num)\n",
        "\treq = requests.get(url)\n",
        "\tsoup = BeautifulSoup(req.text, 'lxml')\n",
        "\ttitles = soup.select(\"a.news_tit\")\n",
        "\n",
        "\tfor title in titles:\n",
        "\t\ttitle_data = title.text\n",
        "\t\tclean_title = re.sub('[-=+,#/\\?:^$.@*\\\"※~&%ㆍ!』\\\\‘|\\(\\)\\[\\]\\<\\>`\\'…\\\"\\“》]', '', title_data)\n",
        "\t\tnegative_flag = False\n",
        "\t\tlabel = 0\n",
        "\n",
        "\t\tfor i in range(len(negative)-1):\n",
        "\t\t\tif negative[i] in clean_title:\n",
        "\t\t\t\tlabel = -1\n",
        "\t\t\t\tnegative_flag = True\n",
        "\t\t\t\tprint(\"negative 비교단어 : \", negative[i], \"clean_title : \", clean_title)\n",
        "\t\t\t\tbreak\n",
        "\t\tif negative_flag == False:\n",
        "\t\t\tfor i in range(len(positive)-1):\n",
        "\t\t\t\tif positive[i] in clean_title:\n",
        "\t\t\t\t\tlabel = 1\n",
        "\t\t\t\t\tprint(\"positive 비교단어 : \", positive[i], \"clean_title : \", clean_title)\n",
        "\t\t\t\t\tbreak\n",
        "\t\tprint(label)\n",
        "\t\ttitles2.append(clean_title)\n",
        "\t\tlabels.append(label)\n",
        "\n",
        "my_title_df = pd.DataFrame({\"title\":titles2, \"label\":labels})\n",
        "print(my_title_df)\n",
        "\n",
        "def dftoCsv(my_title_df, num):\n",
        "\tmy_title_df.to_csv(('./title_datas'+ str(num) +'.csv'), sep=',', na_rep='NaN', encoding='utf-8')\n",
        "\n",
        "dftoCsv(my_title_df,\"_마라탕\")"
      ],
      "execution_count": 9,
      "outputs": [
        {
          "output_type": "stream",
          "text": [
            "  1%|          | 1/101 [00:01<02:10,  1.30s/it]"
          ],
          "name": "stderr"
        },
        {
          "output_type": "stream",
          "text": [
            "0\n",
            "0\n",
            "0\n",
            "0\n",
            "0\n",
            "0\n",
            "0\n",
            "0\n",
            "0\n",
            "0\n"
          ],
          "name": "stdout"
        },
        {
          "output_type": "stream",
          "text": [
            "\r  2%|▏         | 2/101 [00:02<02:01,  1.23s/it]"
          ],
          "name": "stderr"
        },
        {
          "output_type": "stream",
          "text": [
            "0\n",
            "0\n",
            "0\n",
            "0\n",
            "0\n",
            "0\n",
            "0\n",
            "0\n",
            "0\n",
            "0\n"
          ],
          "name": "stdout"
        },
        {
          "output_type": "stream",
          "text": [
            "\r  3%|▎         | 3/101 [00:03<01:55,  1.18s/it]"
          ],
          "name": "stderr"
        },
        {
          "output_type": "stream",
          "text": [
            "0\n",
            "0\n",
            "positive 비교단어 :  인기 clean_title :  마라탕·�c얌꿍도 간편하게해외요리 밀키트 인기\n",
            "1\n",
            "0\n",
            "positive 비교단어 :  수상 clean_title :  KCA한국소비자평가 2021 KCA 딜리버리 푸드 어워즈 서울 지역 수상자 발표\n",
            "1\n",
            "0\n",
            "0\n",
            "0\n",
            "0\n",
            "0\n"
          ],
          "name": "stdout"
        },
        {
          "output_type": "stream",
          "text": [
            "\r  4%|▍         | 4/101 [00:04<01:52,  1.16s/it]"
          ],
          "name": "stderr"
        },
        {
          "output_type": "stream",
          "text": [
            "0\n",
            "0\n",
            "0\n",
            "positive 비교단어 :  MOU clean_title :  탕화쿵푸마라탕 주다온시스템 클린세이버와 업무협약MOU 체결\n",
            "1\n",
            "0\n",
            "0\n",
            "0\n",
            "0\n",
            "0\n",
            "0\n"
          ],
          "name": "stdout"
        },
        {
          "output_type": "stream",
          "text": [
            "\r  5%|▍         | 5/101 [00:05<01:48,  1.13s/it]"
          ],
          "name": "stderr"
        },
        {
          "output_type": "stream",
          "text": [
            "0\n",
            "0\n",
            "positive 비교단어 :  인기 clean_title :  지식 1스푼 자취 인기배달음식 마라탕 국물은 마시는게 아니다\n",
            "1\n",
            "positive 비교단어 :  새로운 clean_title :  중국 식품기업 진마이랑 마라탕면에 이어 새로운 라면 선봬\n",
            "1\n",
            "positive 비교단어 :  트렌드 clean_title :  건강 중시 트렌드에 떠오르는 대체 식음료\n",
            "1\n",
            "positive 비교단어 :  인기 clean_title :  세종다문화 마라탕의 인기는 언제까지\n",
            "1\n",
            "negative 비교단어 :  불만 clean_title :  빈센조 뜬급없는 중국산 비빔밥에 불만 폭주차라리 마라탕 먹어라\n",
            "-1\n",
            "positive 비교단어 :  맛집 clean_title :  아돌라스쿨’ 드리핀 황윤성 배달 맛집 분석 특강\n",
            "1\n",
            "positive 비교단어 :  맛집 clean_title :  남도 맛집양떼목장 더워진 날씨에 기력이 떨어진다면담백·고소한 양다\n",
            "1\n",
            "0\n"
          ],
          "name": "stdout"
        },
        {
          "output_type": "stream",
          "text": [
            "\r  6%|▌         | 6/101 [00:06<01:45,  1.11s/it]"
          ],
          "name": "stderr"
        },
        {
          "output_type": "stream",
          "text": [
            "0\n",
            "0\n",
            "0\n",
            "0\n",
            "0\n",
            "positive 비교단어 :  열풍 clean_title :  RISING FRANCHISE STAR  피슈마라홍탕 마라탕 열풍을 일으킨 주인공\n",
            "1\n",
            "0\n",
            "positive 비교단어 :  인기 clean_title :  인기 유튜버 버거형 마라탕면 방송 현재 경품 행사중\n",
            "1\n",
            "0\n",
            "0\n"
          ],
          "name": "stdout"
        },
        {
          "output_type": "stream",
          "text": [
            "\r  7%|▋         | 7/101 [00:07<01:41,  1.08s/it]"
          ],
          "name": "stderr"
        },
        {
          "output_type": "stream",
          "text": [
            "0\n",
            "0\n",
            "0\n",
            "0\n",
            "0\n",
            "positive 비교단어 :  열풍 clean_title :  마라탕 흑당에 이어 지금은 K로제 열풍부드럽고 매콤한 맛으로 MZ세대\n",
            "1\n",
            "0\n",
            "negative 비교단어 :  피해 clean_title :  14F 배달 거지 피해\n",
            "-1\n",
            "0\n",
            "positive 비교단어 :  진화 clean_title :  함소원 야밤에 ♥진화가 만든 마라탕 먹방 퇴근해 아쉬워서”SNS★컷\n",
            "1\n"
          ],
          "name": "stdout"
        },
        {
          "output_type": "stream",
          "text": [
            "\r  8%|▊         | 8/101 [00:08<01:41,  1.09s/it]"
          ],
          "name": "stderr"
        },
        {
          "output_type": "stream",
          "text": [
            "positive 비교단어 :  트렌드 clean_title :  건강 중시 트렌드에 수요↑떠오르는 대체 식음료\n",
            "1\n",
            "0\n",
            "positive 비교단어 :  인기 clean_title :  불황에도 마라탕 창업 꾸준한 인기비결\n",
            "1\n",
            "0\n",
            "positive 비교단어 :  트렌드 clean_title :  건강 중시 트렌드에 대체 식음료가 뜬다\n",
            "1\n",
            "positive 비교단어 :  인기 clean_title :  가정간편식의 편리함과 완성도 높이는 간편 소스 인기\n",
            "1\n",
            "0\n",
            "0\n",
            "0\n",
            "0\n"
          ],
          "name": "stdout"
        },
        {
          "output_type": "stream",
          "text": [
            "\r  9%|▉         | 9/101 [00:09<01:38,  1.07s/it]"
          ],
          "name": "stderr"
        },
        {
          "output_type": "stream",
          "text": [
            "0\n",
            "0\n",
            "0\n",
            "positive 비교단어 :  1위 clean_title :  우주소녀 1위 예상 못해 공약 연습 중에너지 200 토크 정희 종합\n",
            "1\n",
            "0\n",
            "0\n",
            "positive 비교단어 :  맛집 clean_title :  덕후의 취향 31 마라탕  내 맘대로 고른 마라탕痲辣湯 맛집 best 4\n",
            "1\n",
            "0\n",
            "positive 비교단어 :  대세 clean_title :  맛집로드 혀가 얼얼한데 자꾸 당기네 매운맛의 대세 마라\n",
            "1\n",
            "0\n"
          ],
          "name": "stdout"
        },
        {
          "output_type": "stream",
          "text": [
            "\r 10%|▉         | 10/101 [00:10<01:36,  1.06s/it]"
          ],
          "name": "stderr"
        },
        {
          "output_type": "stream",
          "text": [
            "0\n",
            "0\n",
            "0\n",
            "0\n",
            "0\n",
            "0\n",
            "0\n",
            "positive 비교단어 :  돌파 clean_title :  진마이랑 마라탕면 출시 1년 만에 100만 개 판매 돌파\n",
            "1\n",
            "0\n",
            "0\n"
          ],
          "name": "stdout"
        },
        {
          "output_type": "stream",
          "text": [
            "\r 11%|█         | 11/101 [00:12<01:43,  1.15s/it]"
          ],
          "name": "stderr"
        },
        {
          "output_type": "stream",
          "text": [
            "0\n",
            "0\n",
            "0\n",
            "0\n",
            "0\n",
            "0\n",
            "0\n",
            "positive 비교단어 :  새로운 clean_title :  진마이랑 마라탕면에 이어 새로운 컵라면 사천식 탄탄면선봬\n",
            "1\n",
            "0\n",
            "0\n"
          ],
          "name": "stdout"
        },
        {
          "output_type": "stream",
          "text": [
            "\r 12%|█▏        | 12/101 [00:13<01:39,  1.12s/it]"
          ],
          "name": "stderr"
        },
        {
          "output_type": "stream",
          "text": [
            "0\n",
            "0\n",
            "0\n",
            "positive 비교단어 :  열풍 clean_title :  RISING FRANCHISE STAR  피슈마라홍탕 마라탕 열풍을 일으킨 주인공\n",
            "1\n",
            "0\n",
            "0\n",
            "0\n",
            "positive 비교단어 :  인기 clean_title :  인기 유튜버 버거형 마라탕면 방송 현재 경품 행사중\n",
            "1\n",
            "0\n",
            "0\n"
          ],
          "name": "stdout"
        },
        {
          "output_type": "stream",
          "text": [
            "\r 13%|█▎        | 13/101 [00:14<01:36,  1.10s/it]"
          ],
          "name": "stderr"
        },
        {
          "output_type": "stream",
          "text": [
            "0\n",
            "0\n",
            "0\n",
            "0\n",
            "0\n",
            "0\n",
            "0\n",
            "0\n",
            "0\n",
            "0\n"
          ],
          "name": "stdout"
        },
        {
          "output_type": "stream",
          "text": [
            "\r 14%|█▍        | 14/101 [00:15<01:34,  1.09s/it]"
          ],
          "name": "stderr"
        },
        {
          "output_type": "stream",
          "text": [
            "0\n",
            "0\n",
            "0\n",
            "0\n",
            "positive 비교단어 :  열풍 clean_title :  마라탕 흑당에 이어 지금은 K로제 열풍부드럽고 매콤한 맛으로 MZ세대\n",
            "1\n",
            "0\n",
            "0\n",
            "0\n",
            "positive 비교단어 :  주목 clean_title :  돼지 목에 진주목걸이 1호가 김경아 권재관의 진수성찬 요리에도 시리얼\n",
            "1\n",
            "0\n"
          ],
          "name": "stdout"
        },
        {
          "output_type": "stream",
          "text": [
            "\r 15%|█▍        | 15/101 [00:16<01:33,  1.09s/it]"
          ],
          "name": "stderr"
        },
        {
          "output_type": "stream",
          "text": [
            "0\n",
            "positive 비교단어 :  주목 clean_title :  돼지 목에 진주목걸이 1호가 김경아 권재관의 진수성찬 요리에도 시리얼\n",
            "1\n",
            "0\n",
            "0\n",
            "0\n",
            "negative 비교단어 :  피해 clean_title :  14F 배달 거지 피해\n",
            "-1\n",
            "0\n",
            "0\n",
            "positive 비교단어 :  인기 clean_title :  마라탕면 인기에 힘입어 탄탄면 컵라면 출시 중국 라면 열풍\n",
            "1\n",
            "0\n"
          ],
          "name": "stdout"
        },
        {
          "output_type": "stream",
          "text": [
            "\r 16%|█▌        | 16/101 [00:17<01:36,  1.14s/it]"
          ],
          "name": "stderr"
        },
        {
          "output_type": "stream",
          "text": [
            "0\n",
            "positive 비교단어 :  인기 clean_title :  마라탕면 인기에 힘입어 탄탄면 컵라면 출시 중국 라면 열풍\n",
            "1\n",
            "0\n",
            "0\n",
            "0\n",
            "positive 비교단어 :  진화 clean_title :  함소원 야밤에 ♥진화가 만든 마라탕 먹방 퇴근해 아쉬워서”SNS★컷\n",
            "1\n",
            "0\n",
            "0\n",
            "0\n",
            "positive 비교단어 :  트렌드 clean_title :  건강 중시 트렌드에 수요↑떠오르는 대체 식음료\n",
            "1\n"
          ],
          "name": "stdout"
        },
        {
          "output_type": "stream",
          "text": [
            "\r 17%|█▋        | 17/101 [00:18<01:35,  1.13s/it]"
          ],
          "name": "stderr"
        },
        {
          "output_type": "stream",
          "text": [
            "0\n",
            "0\n",
            "0\n",
            "positive 비교단어 :  트렌드 clean_title :  건강 중시 트렌드에 수요↑떠오르는 대체 식음료\n",
            "1\n",
            "0\n",
            "0\n",
            "positive 비교단어 :  인기 clean_title :  불황에도 마라탕 창업 꾸준한 인기비결\n",
            "1\n",
            "0\n",
            "0\n",
            "positive 비교단어 :  트렌드 clean_title :  건강 중시 트렌드에 대체 식음료가 뜬다\n",
            "1\n"
          ],
          "name": "stdout"
        },
        {
          "output_type": "stream",
          "text": [
            "\r 18%|█▊        | 18/101 [00:19<01:31,  1.11s/it]"
          ],
          "name": "stderr"
        },
        {
          "output_type": "stream",
          "text": [
            "0\n",
            "0\n",
            "positive 비교단어 :  트렌드 clean_title :  건강 중시 트렌드에 대체 식음료가 뜬다\n",
            "1\n",
            "0\n",
            "0\n",
            "positive 비교단어 :  인기 clean_title :  가정간편식의 편리함과 완성도 높이는 간편 소스 인기\n",
            "1\n",
            "0\n",
            "0\n",
            "0\n",
            "0\n"
          ],
          "name": "stdout"
        },
        {
          "output_type": "stream",
          "text": [
            "\r 19%|█▉        | 19/101 [00:20<01:29,  1.09s/it]"
          ],
          "name": "stderr"
        },
        {
          "output_type": "stream",
          "text": [
            "0\n",
            "0\n",
            "0\n",
            "0\n",
            "0\n",
            "0\n",
            "0\n",
            "0\n",
            "0\n",
            "0\n"
          ],
          "name": "stdout"
        },
        {
          "output_type": "stream",
          "text": [
            "\r 20%|█▉        | 20/101 [00:21<01:27,  1.07s/it]"
          ],
          "name": "stderr"
        },
        {
          "output_type": "stream",
          "text": [
            "0\n",
            "0\n",
            "0\n",
            "positive 비교단어 :  트렌드 clean_title :  정시아 MC발탁 트렌드세터 주부들 궁금증 풀어준다\n",
            "1\n",
            "0\n",
            "0\n",
            "0\n",
            "positive 비교단어 :  1위 clean_title :  우주소녀 1위 예상 못해 공약 연습 중에너지 200 토크 정희 종합\n",
            "1\n",
            "0\n",
            "0\n"
          ],
          "name": "stdout"
        },
        {
          "output_type": "stream",
          "text": [
            "\r 21%|██        | 21/101 [00:23<01:25,  1.07s/it]"
          ],
          "name": "stderr"
        },
        {
          "output_type": "stream",
          "text": [
            "0\n",
            "0\n",
            "0\n",
            "positive 비교단어 :  맛집 clean_title :  덕후의 취향 31 마라탕  내 맘대로 고른 마라탕痲辣湯 맛집 best 4\n",
            "1\n",
            "0\n",
            "0\n",
            "0\n",
            "0\n",
            "0\n",
            "positive 비교단어 :  대세 clean_title :  맛집로드 혀가 얼얼한데 자꾸 당기네 매운맛의 대세 마라\n",
            "1\n"
          ],
          "name": "stdout"
        },
        {
          "output_type": "stream",
          "text": [
            "\r 22%|██▏       | 22/101 [00:24<01:23,  1.05s/it]"
          ],
          "name": "stderr"
        },
        {
          "output_type": "stream",
          "text": [
            "0\n",
            "0\n",
            "0\n",
            "0\n",
            "0\n",
            "0\n",
            "0\n",
            "0\n",
            "0\n",
            "0\n"
          ],
          "name": "stdout"
        },
        {
          "output_type": "stream",
          "text": [
            "\r 23%|██▎       | 23/101 [00:25<01:22,  1.05s/it]"
          ],
          "name": "stderr"
        },
        {
          "output_type": "stream",
          "text": [
            "positive 비교단어 :  돌파 clean_title :  진마이랑 마라탕면 출시 1년 만에 100만 개 판매 돌파\n",
            "1\n",
            "0\n",
            "0\n",
            "0\n",
            "0\n",
            "0\n",
            "0\n",
            "0\n",
            "0\n",
            "0\n"
          ],
          "name": "stdout"
        },
        {
          "output_type": "stream",
          "text": [
            "\r 24%|██▍       | 24/101 [00:26<01:20,  1.04s/it]"
          ],
          "name": "stderr"
        },
        {
          "output_type": "stream",
          "text": [
            "0\n",
            "0\n",
            "0\n",
            "0\n",
            "negative 비교단어 :  갑질 clean_title :  음식 불만 있다면서 거의 다 먹어소비자 갑질에 자영업자 한숨\n",
            "-1\n",
            "0\n",
            "0\n",
            "0\n",
            "0\n",
            "0\n"
          ],
          "name": "stdout"
        },
        {
          "output_type": "stream",
          "text": [
            "\r 25%|██▍       | 25/101 [00:27<01:19,  1.04s/it]"
          ],
          "name": "stderr"
        },
        {
          "output_type": "stream",
          "text": [
            "0\n",
            "0\n",
            "0\n",
            "0\n",
            "0\n",
            "negative 비교단어 :  불똥 clean_title :  중국산 포비아에 마라탕·훠궈 불똥\n",
            "-1\n",
            "negative 비교단어 :  문제 clean_title :  솔로이코노미 배달앱의 성장 이용자는 늘어나는데 해결되지 않은 문제들\n",
            "-1\n",
            "0\n",
            "0\n",
            "0\n"
          ],
          "name": "stdout"
        },
        {
          "output_type": "stream",
          "text": [
            "\r 26%|██▌       | 26/101 [00:28<01:19,  1.05s/it]"
          ],
          "name": "stderr"
        },
        {
          "output_type": "stream",
          "text": [
            "0\n",
            "0\n",
            "0\n",
            "0\n",
            "0\n",
            "0\n",
            "0\n",
            "0\n",
            "positive 비교단어 :  맛집 clean_title :  한국인에 입맛에 딱 시흥시 정왕동 마라탕 맛집 천향오 화제\n",
            "1\n",
            "positive 비교단어 :  편한 clean_title :  마라탕에서 탄탄면까지 간편한 중식요리 레시피\n",
            "1\n"
          ],
          "name": "stdout"
        },
        {
          "output_type": "stream",
          "text": [
            "\r 27%|██▋       | 27/101 [00:29<01:16,  1.04s/it]"
          ],
          "name": "stderr"
        },
        {
          "output_type": "stream",
          "text": [
            "0\n",
            "0\n",
            "positive 비교단어 :  맛집 clean_title :  한국인에 입맛에 딱 시흥시 정왕동 마라탕 맛집 천향오 화제\n",
            "1\n",
            "positive 비교단어 :  편한 clean_title :  마라탕에서 탄탄면까지 간편한 중식요리 레시피\n",
            "1\n",
            "0\n",
            "0\n",
            "positive 비교단어 :  최고 clean_title :  목요일 예능 시청률 미스트롯2 무려 38p 상승‥또 자체 최고\n",
            "1\n",
            "0\n",
            "positive 비교단어 :  맛집 clean_title :  하남맛집 탕화쿵푸마라탕 얼큰한 맛의 메뉴 제공\n",
            "1\n",
            "0\n"
          ],
          "name": "stdout"
        },
        {
          "output_type": "stream",
          "text": [
            "\r 28%|██▊       | 28/101 [00:30<01:19,  1.09s/it]"
          ],
          "name": "stderr"
        },
        {
          "output_type": "stream",
          "text": [
            "0\n",
            "positive 비교단어 :  맛집 clean_title :  한국인에 입맛에 딱 시흥시 정왕동 마라탕 맛집 천향오 화제\n",
            "1\n",
            "positive 비교단어 :  편한 clean_title :  마라탕에서 탄탄면까지 간편한 중식요리 레시피\n",
            "1\n",
            "0\n",
            "0\n",
            "positive 비교단어 :  최고 clean_title :  목요일 예능 시청률 미스트롯2 무려 38p 상승‥또 자체 최고\n",
            "1\n",
            "0\n",
            "positive 비교단어 :  맛집 clean_title :  하남맛집 탕화쿵푸마라탕 얼큰한 맛의 메뉴 제공\n",
            "1\n",
            "0\n",
            "0\n"
          ],
          "name": "stdout"
        },
        {
          "output_type": "stream",
          "text": [
            "\r 29%|██▊       | 29/101 [00:31<01:17,  1.07s/it]"
          ],
          "name": "stderr"
        },
        {
          "output_type": "stream",
          "text": [
            "0\n",
            "0\n",
            "0\n",
            "0\n",
            "positive 비교단어 :  맛집 clean_title :  인천 구월동 홍리마라탕 지역 맛집으로 눈길\n",
            "1\n",
            "positive 비교단어 :  신상 clean_title :  신상 뜯어보기얼얼함과 풍성한 건더기 매력적이마트 피코크 마라탕\n",
            "1\n",
            "negative 비교단어 :  호소 clean_title :  배달 거지에게 당했어요 억울함 호소한 업주무슨일\n",
            "-1\n",
            "positive 비교단어 :  열풍 clean_title :  식을 줄 모르는 마라 열풍피코크 마라탕 국·탕류 1위\n",
            "1\n",
            "positive 비교단어 :  맛집 clean_title :  피슈 마라홍탕 한국인 입맛 사로잡은 마라탕 맛집\n",
            "1\n",
            "0\n"
          ],
          "name": "stdout"
        },
        {
          "output_type": "stream",
          "text": [
            "\r 30%|██▉       | 30/101 [00:32<01:15,  1.06s/it]"
          ],
          "name": "stderr"
        },
        {
          "output_type": "stream",
          "text": [
            "positive 비교단어 :  열풍 clean_title :  간편식도 마라 열풍이마트 피코크 마라탕 국·탕류 1위\n",
            "1\n",
            "positive 비교단어 :  맛집 clean_title :  피슈 마라홍탕 한국인 입맛 사로잡은 마라탕 맛집\n",
            "1\n",
            "0\n",
            "negative 비교단어 :  우려 clean_title :  마라탕도 싫다홍콩시위 지지 대자보 갈등 대학가 반중감정확산 우려\n",
            "-1\n",
            "0\n",
            "positive 비교단어 :  출시 clean_title :  CJ제일제당 에스닉 면’으로 겨울 성수기 잡는다사천 마라탕면 등 출시\n",
            "1\n",
            "0\n",
            "positive 비교단어 :  출시 clean_title :  아워홈 국물 요리 성수기 겨울 맞아 마라탕 등 출시\n",
            "1\n",
            "positive 비교단어 :  신상 clean_title :  신상품 풀무원 땡초만두 아워홈 분말국마라탕 미스터피자 복희야 \n",
            "1\n",
            "positive 비교단어 :  맛집 clean_title :  고소하면서도 감칠맛이 일품인 홍대 마라탕 맛집 마라텐샤\n",
            "1\n"
          ],
          "name": "stdout"
        },
        {
          "output_type": "stream",
          "text": [
            "\r 31%|███       | 31/101 [00:33<01:16,  1.09s/it]"
          ],
          "name": "stderr"
        },
        {
          "output_type": "stream",
          "text": [
            "positive 비교단어 :  맛집 clean_title :  고소하면서도 감칠맛이 일품인 홍대 마라탕 맛집 마라텐샤\n",
            "1\n",
            "0\n",
            "positive 비교단어 :  열풍 clean_title :  그만 비비고 말아 여전한 중국음식의 마라탕 열풍 뚝딱쉐프몰의 사천마\n",
            "1\n",
            "positive 비교단어 :  열풍 clean_title :  그만 비비고 말아” 여전한 중국음식의 마라탕 열풍 뚝딱쉐프몰의 사\n",
            "1\n",
            "0\n",
            "0\n",
            "positive 비교단어 :  맛집 clean_title :  마라탕의 진정한 맛을 느낄 수 있는 홍대입구역맛집 마라공방\n",
            "1\n",
            "positive 비교단어 :  오픈 clean_title :  맛 분위기 갖춘 대전 마라탕 맛집 야미마라탕 오픈기념 고객감사이벤트\n",
            "1\n",
            "positive 비교단어 :  인기 clean_title :  신종 코로나에 인기 중국음식 마라탕도 휘청’\n",
            "1\n",
            "negative 비교단어 :  직격탄 clean_title :  훠궈도 마라탕도 울었다인기 미식 양고기 코로나 직격탄에 휘청’\n",
            "-1\n"
          ],
          "name": "stdout"
        },
        {
          "output_type": "stream",
          "text": [
            "\r 32%|███▏      | 32/101 [00:34<01:14,  1.07s/it]"
          ],
          "name": "stderr"
        },
        {
          "output_type": "stream",
          "text": [
            "negative 비교단어 :  직격탄 clean_title :  훠궈도 마라탕도 울었다인기 미식 양고기 코로나 직격탄에 휘청’\n",
            "-1\n",
            "positive 비교단어 :  인기 clean_title :  왕푸징훠궈·마라탕 영등포 신세계 백화점 내 훠궈 인기몰이中\n",
            "1\n",
            "0\n",
            "positive 비교단어 :  선보여 clean_title :  대구 중식당 호텔 인터불고엑스코 동보성 마라탕 프로모션 선보여\n",
            "1\n",
            "0\n",
            "positive 비교단어 :  맛집 clean_title :  군산 쌀국수 맛집 메오메오 얼큰한 마라탕면으로 마라맛집으로 등극\n",
            "1\n",
            "0\n",
            "positive 비교단어 :  출시 clean_title :  세미원푸드 뚝딱쉐프몰 사천마라탕면 출시 1인가구 공략\n",
            "1\n",
            "0\n",
            "0\n"
          ],
          "name": "stdout"
        },
        {
          "output_type": "stream",
          "text": [
            "\r 33%|███▎      | 33/101 [00:35<01:13,  1.08s/it]"
          ],
          "name": "stderr"
        },
        {
          "output_type": "stream",
          "text": [
            "positive 비교단어 :  출시 clean_title :  농심 마라고수 마라탕면 출시\n",
            "1\n",
            "0\n",
            "positive 비교단어 :  출시 clean_title :  농심 마라고수 마라탕면 출시\n",
            "1\n",
            "0\n",
            "0\n",
            "positive 비교단어 :  출시 clean_title :  농심 마라고수 마라탕면 출시\n",
            "1\n",
            "0\n",
            "positive 비교단어 :  출시 clean_title :  신상품라운지농심 中사천 정통 맛 마라고수 마라탕면 출시\n",
            "1\n",
            "positive 비교단어 :  출시 clean_title :  식품 단신 농심 마라고수 마라탕면’ 출시 外\n",
            "1\n",
            "0\n"
          ],
          "name": "stdout"
        },
        {
          "output_type": "stream",
          "text": [
            "\r 34%|███▎      | 34/101 [00:36<01:11,  1.07s/it]"
          ],
          "name": "stderr"
        },
        {
          "output_type": "stream",
          "text": [
            "positive 비교단어 :  출시 clean_title :  마라탕 본연의 맛 살렸다 농심 마라고수 마라탕면 출시\n",
            "1\n",
            "0\n",
            "positive 비교단어 :  출시 clean_title :  신상품라운지농심 中사천 정통 맛 마라고수 마라탕면 출시\n",
            "1\n",
            "positive 비교단어 :  출시 clean_title :  식품 단신 농심 마라고수 마라탕면’ 출시 外\n",
            "1\n",
            "0\n",
            "0\n",
            "negative 비교단어 :  포기 clean_title :  라면도 마라 열풍풀무원 포기하지 마라탕면 대세 증명\n",
            "-1\n",
            "0\n",
            "0\n",
            "negative 비교단어 :  빨간불 clean_title :  마라탕훠궈 열풍중국발 식재료 안전 빨간불’\n",
            "-1\n"
          ],
          "name": "stdout"
        },
        {
          "output_type": "stream",
          "text": [
            "\r 35%|███▍      | 35/101 [00:37<01:10,  1.07s/it]"
          ],
          "name": "stderr"
        },
        {
          "output_type": "stream",
          "text": [
            "positive 비교단어 :  출시 clean_title :  농심 마라고수高手 마라탕면 출시중국 현지의 맛 살려\n",
            "1\n",
            "positive 비교단어 :  출시 clean_title :  식품 단신 농심 마라고수 마라탕면’ 출시 外\n",
            "1\n",
            "0\n",
            "0\n",
            "negative 비교단어 :  포기 clean_title :  라면도 마라 열풍풀무원 포기하지 마라탕면 대세 증명\n",
            "-1\n",
            "0\n",
            "0\n",
            "negative 비교단어 :  빨간불 clean_title :  마라탕훠궈 열풍중국발 식재료 안전 빨간불’\n",
            "-1\n",
            "0\n",
            "positive 비교단어 :  맛집 clean_title :  뜨거우면서도 시원하게 자체개발 소스로 즐기는 명동 마라탕 맛집 탕화쿵푸마\n",
            "1\n"
          ],
          "name": "stdout"
        },
        {
          "output_type": "stream",
          "text": [
            "\r 36%|███▌      | 36/101 [00:39<01:09,  1.08s/it]"
          ],
          "name": "stderr"
        },
        {
          "output_type": "stream",
          "text": [
            "positive 비교단어 :  출시 clean_title :  식품 단신 농심 마라고수 마라탕면’ 출시 外\n",
            "1\n",
            "positive 비교단어 :  출시 clean_title :  농심 마라고수高手 마라탕면’ 출시\n",
            "1\n",
            "0\n",
            "0\n",
            "negative 비교단어 :  포기 clean_title :  라면도 마라 열풍풀무원 포기하지 마라탕면 대세 증명\n",
            "-1\n",
            "0\n",
            "0\n",
            "negative 비교단어 :  빨간불 clean_title :  마라탕훠궈 열풍중국발 식재료 안전 빨간불’\n",
            "-1\n",
            "0\n",
            "positive 비교단어 :  맛집 clean_title :  뜨거우면서도 시원하게 자체개발 소스로 즐기는 명동 마라탕 맛집 탕화쿵푸마\n",
            "1\n"
          ],
          "name": "stdout"
        },
        {
          "output_type": "stream",
          "text": [
            "\r 37%|███▋      | 37/101 [00:40<01:08,  1.06s/it]"
          ],
          "name": "stderr"
        },
        {
          "output_type": "stream",
          "text": [
            "positive 비교단어 :  선보여 clean_title :  농심 마라고수高手 마라탕면’ 선보여\n",
            "1\n",
            "positive 비교단어 :  출시 clean_title :  농심 마라탕면 출시중국법인과 공동개발\n",
            "1\n",
            "0\n",
            "0\n",
            "negative 비교단어 :  포기 clean_title :  라면도 마라 열풍풀무원 포기하지 마라탕면 대세 증명\n",
            "-1\n",
            "0\n",
            "0\n",
            "negative 비교단어 :  빨간불 clean_title :  마라탕훠궈 열풍중국발 식재료 안전 빨간불’\n",
            "-1\n",
            "0\n",
            "positive 비교단어 :  맛집 clean_title :  뜨거우면서도 시원하게 자체개발 소스로 즐기는 명동 마라탕 맛집 탕화쿵푸마\n",
            "1\n"
          ],
          "name": "stdout"
        },
        {
          "output_type": "stream",
          "text": [
            "\r 38%|███▊      | 38/101 [00:41<01:09,  1.11s/it]"
          ],
          "name": "stderr"
        },
        {
          "output_type": "stream",
          "text": [
            "0\n",
            "0\n",
            "0\n",
            "0\n",
            "negative 비교단어 :  포기 clean_title :  라면도 마라 열풍풀무원 포기하지 마라탕면 대세 증명\n",
            "-1\n",
            "0\n",
            "0\n",
            "negative 비교단어 :  빨간불 clean_title :  마라탕훠궈 열풍중국발 식재료 안전 빨간불’\n",
            "-1\n",
            "0\n",
            "positive 비교단어 :  맛집 clean_title :  뜨거우면서도 시원하게 자체개발 소스로 즐기는 명동 마라탕 맛집 탕화쿵푸마\n",
            "1\n"
          ],
          "name": "stdout"
        },
        {
          "output_type": "stream",
          "text": [
            "\r 39%|███▊      | 39/101 [00:42<01:07,  1.08s/it]"
          ],
          "name": "stderr"
        },
        {
          "output_type": "stream",
          "text": [
            "positive 비교단어 :  출시 clean_title :  농심 중국 사천지역 정통 구현한 마라고수 마라탕면 출시\n",
            "1\n",
            "0\n",
            "0\n",
            "0\n",
            "negative 비교단어 :  포기 clean_title :  라면도 마라 열풍풀무원 포기하지 마라탕면 대세 증명\n",
            "-1\n",
            "0\n",
            "0\n",
            "negative 비교단어 :  빨간불 clean_title :  마라탕훠궈 열풍중국발 식재료 안전 빨간불’\n",
            "-1\n",
            "0\n",
            "positive 비교단어 :  맛집 clean_title :  뜨거우면서도 시원하게 자체개발 소스로 즐기는 명동 마라탕 맛집 탕화쿵푸마\n",
            "1\n"
          ],
          "name": "stdout"
        },
        {
          "output_type": "stream",
          "text": [
            "\r 40%|███▉      | 40/101 [00:43<01:06,  1.08s/it]"
          ],
          "name": "stderr"
        },
        {
          "output_type": "stream",
          "text": [
            "0\n",
            "0\n",
            "0\n",
            "0\n",
            "negative 비교단어 :  포기 clean_title :  라면도 마라 열풍풀무원 포기하지 마라탕면 대세 증명\n",
            "-1\n",
            "0\n",
            "0\n",
            "negative 비교단어 :  빨간불 clean_title :  마라탕훠궈 열풍중국발 식재료 안전 빨간불’\n",
            "-1\n",
            "0\n",
            "positive 비교단어 :  맛집 clean_title :  뜨거우면서도 시원하게 자체개발 소스로 즐기는 명동 마라탕 맛집 탕화쿵푸마\n",
            "1\n"
          ],
          "name": "stdout"
        },
        {
          "output_type": "stream",
          "text": [
            "\r 41%|████      | 41/101 [00:44<01:03,  1.06s/it]"
          ],
          "name": "stderr"
        },
        {
          "output_type": "stream",
          "text": [
            "positive 비교단어 :  출시 clean_title :  농심 마라고수高手 마라탕면’ 출시\n",
            "1\n",
            "0\n",
            "0\n",
            "negative 비교단어 :  포기 clean_title :  라면도 마라 열풍풀무원 포기하지 마라탕면 대세 증명\n",
            "-1\n",
            "0\n",
            "0\n",
            "negative 비교단어 :  빨간불 clean_title :  마라탕훠궈 열풍중국발 식재료 안전 빨간불’\n",
            "-1\n",
            "0\n",
            "positive 비교단어 :  맛집 clean_title :  뜨거우면서도 시원하게 자체개발 소스로 즐기는 명동 마라탕 맛집 탕화쿵푸마\n",
            "1\n",
            "0\n"
          ],
          "name": "stdout"
        },
        {
          "output_type": "stream",
          "text": [
            "\r 42%|████▏     | 42/101 [00:45<01:02,  1.06s/it]"
          ],
          "name": "stderr"
        },
        {
          "output_type": "stream",
          "text": [
            "0\n",
            "0\n",
            "positive 비교단어 :  신상 clean_title :  신상 뜯어보기쌀국수와 마라의 찐한 만남 마라탕 쌀국수\n",
            "1\n",
            "0\n",
            "positive 비교단어 :  맛집 clean_title :  제주에서 만나는 중국의 맛 제주 마라탕 맛집 신룽푸마라탕\n",
            "1\n",
            "positive 비교단어 :  열풍 clean_title :  GS샵 마라 열풍타고 프레시지 사천마라탕·마라샹궈’ 론칭\n",
            "1\n",
            "positive 비교단어 :  1위 clean_title :  2020 한국소비자평가 1위 마라탕 전문 브랜드 라화쿵부\n",
            "1\n",
            "0\n",
            "positive 비교단어 :  열풍 clean_title :  오감을 자극하는 대륙의 매운맛 마라麻辣’ 열풍에 창업 증가 마라탕·마\n",
            "1\n",
            "0\n"
          ],
          "name": "stdout"
        },
        {
          "output_type": "stream",
          "text": [
            "\r 43%|████▎     | 43/101 [00:46<01:02,  1.07s/it]"
          ],
          "name": "stderr"
        },
        {
          "output_type": "stream",
          "text": [
            "positive 비교단어 :  열풍 clean_title :  오감을 자극하는 대륙의 매운맛 마라麻辣’ 열풍에 창업 증가 마라탕·마\n",
            "1\n",
            "0\n",
            "positive 비교단어 :  출시 clean_title :  아워홈 겨울 시즌 맞아 바로먹는 분말국·마라탕 출시\n",
            "1\n",
            "positive 비교단어 :  인싸 clean_title :  올해의푸드마라탕 먹고 흑당밀크티로 속 달래고SNS 휩쓴 인싸 먹거리\n",
            "1\n",
            "negative 비교단어 :  논란 clean_title :  카드뉴스위생 논란 마라탕 안전하게 먹을 수 있는 꿀 팁\n",
            "-1\n",
            "0\n",
            "0\n",
            "0\n",
            "0\n",
            "0\n"
          ],
          "name": "stdout"
        },
        {
          "output_type": "stream",
          "text": [
            "\r 44%|████▎     | 44/101 [00:47<01:00,  1.06s/it]"
          ],
          "name": "stderr"
        },
        {
          "output_type": "stream",
          "text": [
            "0\n",
            "0\n",
            "0\n",
            "0\n",
            "positive 비교단어 :  인기 clean_title :  마라탕의 배신’에도 시들지 않는 인기···마라탕 전문점은 연일 북적’\n",
            "1\n",
            "negative 비교단어 :  논란 clean_title :  위생 논란에도 마라탕 열풍 지속 직접 해먹자니 난감\n",
            "-1\n",
            "negative 비교단어 :  위생불량 clean_title :  종합마라탕 맛집이라 믿었는데 위생불량 음식점에 배신감\n",
            "-1\n",
            "negative 비교단어 :  문제 clean_title :  마라탕라면 마라탕 위생관리문제 대안으로 눈길\n",
            "-1\n",
            "negative 비교단어 :  위생불량 clean_title :  논평위생불량 마라탕 일벌백계하라\n",
            "-1\n",
            "0\n"
          ],
          "name": "stdout"
        },
        {
          "output_type": "stream",
          "text": [
            "\r 45%|████▍     | 45/101 [00:48<01:01,  1.10s/it]"
          ],
          "name": "stderr"
        },
        {
          "output_type": "stream",
          "text": [
            "positive 비교단어 :  열풍 clean_title :  땀 뻘뻘 마라탕 열풍주방 상태 보면 식은땀\n",
            "1\n",
            "0\n",
            "positive 비교단어 :  열풍 clean_title :  마라탕 열풍 주춤하나기름때 낀 주방에 유통기한 미표시도\n",
            "1\n",
            "0\n",
            "0\n",
            "0\n",
            "positive 비교단어 :  열풍 clean_title :  맵다→마라하다 신조어 등장할 만큼 열풍인 마라탕 뭐길래\n",
            "1\n",
            "positive 비교단어 :  맛집 clean_title :  위생 적신호 켜진 마라탕 맛집 얼큰한 마라탕 집에서 만들 수 없을까\n",
            "1\n",
            "0\n",
            "0\n"
          ],
          "name": "stdout"
        },
        {
          "output_type": "stream",
          "text": [
            "\r 46%|████▌     | 46/101 [00:50<01:03,  1.15s/it]"
          ],
          "name": "stderr"
        },
        {
          "output_type": "stream",
          "text": [
            "0\n",
            "0\n",
            "negative 비교단어 :  엉망 clean_title :  먹지마라 전국 유명 마라탕 맛집 37곳 위생 엉망\n",
            "-1\n",
            "0\n",
            "0\n",
            "0\n",
            "0\n",
            "0\n",
            "0\n",
            "negative 비교단어 :  적발 clean_title :  마라탕 열풍인데위생 불량’ 전문점 적발\n",
            "-1\n"
          ],
          "name": "stdout"
        },
        {
          "output_type": "stream",
          "text": [
            "\r 47%|████▋     | 47/101 [00:51<01:00,  1.12s/it]"
          ],
          "name": "stderr"
        },
        {
          "output_type": "stream",
          "text": [
            "0\n",
            "negative 비교단어 :  적발 clean_title :  마라탕 열풍인데위생 불량’ 전문점 적발\n",
            "-1\n",
            "negative 비교단어 :  적발 clean_title :  마라탕의 실체적발된 SNS 유명 식당들 리스트 보니\n",
            "-1\n",
            "negative 비교단어 :  논란 clean_title :  마라탕 전문점 위생 논란 마라탕이 뭐길래집에서 마라탕 만드는 법은\n",
            "-1\n",
            "negative 비교단어 :  적발 clean_title :  마라탕 기습 점검 결과 63곳 중 37곳 적발 위생상태 충격\n",
            "-1\n",
            "0\n",
            "negative 비교단어 :  적발 clean_title :  위생적발 마라탕 벽·환풍기 새카만 기름때가스레인지에 양말도 3개월 \n",
            "-1\n",
            "0\n",
            "negative 비교단어 :  엉망 clean_title :  가게 내부 깔끔했지만 주방은 엉망’줄 서서 먹던 마라탕’ 위생 실태\n",
            "-1\n",
            "0\n"
          ],
          "name": "stdout"
        },
        {
          "output_type": "stream",
          "text": [
            "\r 48%|████▊     | 48/101 [00:52<00:58,  1.11s/it]"
          ],
          "name": "stderr"
        },
        {
          "output_type": "stream",
          "text": [
            "negative 비교단어 :  위반 clean_title :  마라탕 식풍위생법 위반 23곳 어디 유명 맛집 다수 포함\n",
            "-1\n",
            "negative 비교단어 :  적발 clean_title :  마라탕 기습 점검 해보니 위생상태 엉망적발된 곳 어디 충격\n",
            "-1\n",
            "negative 비교단어 :  적발 clean_title :  위생적발 마라탕 벽·환풍기 새카만 기름때가스레인지에 양말도 3개월 \n",
            "-1\n",
            "positive 비교단어 :  맛집 clean_title :  마라탕 맛집의 끔직한 위생에 집에서 마라탕 만들기 비법은 칼로리·재료·소\n",
            "1\n",
            "0\n",
            "negative 비교단어 :  엉망 clean_title :  가게 내부 깔끔했지만 주방은 엉망’줄 서서 먹던 마라탕’ 위생 실태\n",
            "-1\n",
            "0\n",
            "0\n",
            "negative 비교단어 :  엉망 clean_title :  유명하다는 그 마라탕 식당들일부 위생 상태 엉망\n",
            "-1\n",
            "0\n"
          ],
          "name": "stdout"
        },
        {
          "output_type": "stream",
          "text": [
            "\r 49%|████▊     | 49/101 [00:53<00:56,  1.09s/it]"
          ],
          "name": "stderr"
        },
        {
          "output_type": "stream",
          "text": [
            "0\n",
            "0\n",
            "negative 비교단어 :  엉망 clean_title :  유명하다는 그 마라탕 식당들일부 위생 상태 엉망\n",
            "-1\n",
            "0\n",
            "0\n",
            "0\n",
            "0\n",
            "0\n",
            "negative 비교단어 :  위생불량 clean_title :  마라탕한테 뒤통수 맞았네요 위생불량 마라탕집 어디길래\n",
            "-1\n",
            "negative 비교단어 :  위반 clean_title :  마라탕 음식점 23곳 위생법 위반 적발\n",
            "-1\n"
          ],
          "name": "stdout"
        },
        {
          "output_type": "stream",
          "text": [
            "\r 50%|████▉     | 50/101 [00:54<00:55,  1.08s/it]"
          ],
          "name": "stderr"
        },
        {
          "output_type": "stream",
          "text": [
            "0\n",
            "0\n",
            "0\n",
            "negative 비교단어 :  위생불량 clean_title :  마라탕한테 뒤통수 맞았네요 위생불량 마라탕집 어디길래\n",
            "-1\n",
            "negative 비교단어 :  위반 clean_title :  마라탕 음식점 23곳 위생법 위반 적발\n",
            "-1\n",
            "negative 비교단어 :  엉망 clean_title :  유명하다는 그 마라탕 식당들일부 위생 상태 엉망\n",
            "-1\n",
            "negative 비교단어 :  위생불량 clean_title :  어제도 먹었는데”마라탕 음식점 절반이 위생불량’\n",
            "-1\n",
            "0\n",
            "0\n",
            "negative 비교단어 :  적발 clean_title :  마라탕 음식점 위생 불량 무더기 적발식약처가 공개한 업체 보니\n",
            "-1\n"
          ],
          "name": "stdout"
        },
        {
          "output_type": "stream",
          "text": [
            "\r 50%|█████     | 51/101 [00:55<00:54,  1.09s/it]"
          ],
          "name": "stderr"
        },
        {
          "output_type": "stream",
          "text": [
            "positive 비교단어 :  인기 clean_title :  인기몰이 마라탕의 추락 불결한 주방 환경에 경악\n",
            "1\n",
            "negative 비교단어 :  위반 clean_title :  마라탕’ 마라샹궈’ 등 전문음식점 37곳 식품위생법령 위반 적발\n",
            "-1\n",
            "0\n",
            "0\n",
            "negative 비교단어 :  적발 clean_title :  마라탕 음식점 위생 불량 무더기 적발식약처가 공개한 업체 보니\n",
            "-1\n",
            "negative 비교단어 :  위반 clean_title :  법 위반 마라탕 주방 기름때에 식재료 창고 지저분\n",
            "-1\n",
            "0\n",
            "positive 비교단어 :  열풍 clean_title :  CJ제일제당 마라 열풍 반영한 백설 마라탕면 소스 출시\n",
            "1\n",
            "positive 비교단어 :  출시 clean_title :  삼양식품 마라탕면 마라볶음면 2종 출시\n",
            "1\n",
            "positive 비교단어 :  열풍 clean_title :  서울 강남역·대림역 마라탕·마라요리 맛집 위치는마라 열풍 마라양념소\n",
            "1\n"
          ],
          "name": "stdout"
        },
        {
          "output_type": "stream",
          "text": [
            "\r 51%|█████▏    | 52/101 [00:56<00:52,  1.08s/it]"
          ],
          "name": "stderr"
        },
        {
          "output_type": "stream",
          "text": [
            "negative 비교단어 :  위반 clean_title :  마라탕 음식점 등 식품위생법령 위반 37곳 적발\n",
            "-1\n",
            "0\n",
            "negative 비교단어 :  적발 clean_title :  마라탕 음식점 위생 불량 무더기 적발식약처가 공개한 업체 보니\n",
            "-1\n",
            "negative 비교단어 :  위반 clean_title :  법 위반 마라탕 주방 기름때에 식재료 창고 지저분\n",
            "-1\n",
            "0\n",
            "positive 비교단어 :  열풍 clean_title :  CJ제일제당 마라 열풍 반영한 백설 마라탕면 소스 출시\n",
            "1\n",
            "positive 비교단어 :  출시 clean_title :  삼양식품 마라탕면 마라볶음면 2종 출시\n",
            "1\n",
            "positive 비교단어 :  열풍 clean_title :  서울 강남역·대림역 마라탕·마라요리 맛집 위치는마라 열풍 마라양념소\n",
            "1\n",
            "0\n",
            "0\n"
          ],
          "name": "stdout"
        },
        {
          "output_type": "stream",
          "text": [
            "\r 52%|█████▏    | 53/101 [00:57<00:51,  1.08s/it]"
          ],
          "name": "stderr"
        },
        {
          "output_type": "stream",
          "text": [
            "negative 비교단어 :  위반 clean_title :  법 위반 마라탕 주방 기름때에 식재료 창고 지저분\n",
            "-1\n",
            "negative 비교단어 :  적발 clean_title :  마라탕 전문 음식점 무더기 적발\n",
            "-1\n",
            "0\n",
            "0\n",
            "positive 비교단어 :  열풍 clean_title :  CJ제일제당 마라 열풍 반영한 백설 마라탕면 소스 출시\n",
            "1\n",
            "positive 비교단어 :  출시 clean_title :  삼양식품 마라탕면 마라볶음면 2종 출시\n",
            "1\n",
            "positive 비교단어 :  열풍 clean_title :  서울 강남역·대림역 마라탕·마라요리 맛집 위치는마라 열풍 마라양념소\n",
            "1\n",
            "0\n",
            "0\n",
            "0\n"
          ],
          "name": "stdout"
        },
        {
          "output_type": "stream",
          "text": [
            "\r 53%|█████▎    | 54/101 [00:58<00:50,  1.08s/it]"
          ],
          "name": "stderr"
        },
        {
          "output_type": "stream",
          "text": [
            "positive 비교단어 :  열풍 clean_title :  마라탕 마라샹궈 등 마라 요리 음식점 열풍 하지만 위생은 글쎄\n",
            "1\n",
            "0\n",
            "positive 비교단어 :  열풍 clean_title :  CJ제일제당 마라 열풍 반영한 백설 마라탕면 소스 출시\n",
            "1\n",
            "positive 비교단어 :  출시 clean_title :  삼양식품 마라탕면 마라볶음면 2종 출시\n",
            "1\n",
            "positive 비교단어 :  열풍 clean_title :  서울 강남역·대림역 마라탕·마라요리 맛집 위치는마라 열풍 마라양념소\n",
            "1\n",
            "0\n",
            "0\n",
            "0\n",
            "positive 비교단어 :  출시 clean_title :  CJ제일제당 백설 마라탕면소스 출시\n",
            "1\n",
            "positive 비교단어 :  인기 clean_title :  한국인의 입맛에 딱 구로디지털단지역 마라탕 맛집 룽푸청마라탕 인기\n",
            "1\n"
          ],
          "name": "stdout"
        },
        {
          "output_type": "stream",
          "text": [
            "\r 54%|█████▍    | 55/101 [00:59<00:49,  1.08s/it]"
          ],
          "name": "stderr"
        },
        {
          "output_type": "stream",
          "text": [
            "0\n",
            "positive 비교단어 :  인기 clean_title :  인기 만점 마라탕 마라샹궈 훠궈에도 들어가는 마라의 비밀은\n",
            "1\n",
            "positive 비교단어 :  출시 clean_title :  CJ제일제당 백설 마라탕면소스 출시\n",
            "1\n",
            "positive 비교단어 :  인기 clean_title :  한국인의 입맛에 딱 구로디지털단지역 마라탕 맛집 룽푸청마라탕 인기\n",
            "1\n",
            "positive 비교단어 :  열풍 clean_title :  SR새상품 CJ제일제당 마라 열풍 반영한 백설 마라탕면소스 출시\n",
            "1\n",
            "positive 비교단어 :  신상 clean_title :  신상품 CJ제일제당 백설 마라탕면소스 풀무원푸드머스 포테토 두부스틱\n",
            "1\n",
            "positive 비교단어 :  출시 clean_title :  삼양식품 마라탕면·마라볶음면 출시\n",
            "1\n",
            "positive 비교단어 :  열풍 clean_title :  쓰촨서 건너온 마라탕 열풍”초복 더위 이열치열로 날린다\n",
            "1\n",
            "0\n",
            "positive 비교단어 :  인기 clean_title :  마라탕 인기 급상승 이유는 마라 뜻은\n",
            "1\n"
          ],
          "name": "stdout"
        },
        {
          "output_type": "stream",
          "text": [
            "\r 55%|█████▌    | 56/101 [01:00<00:48,  1.07s/it]"
          ],
          "name": "stderr"
        },
        {
          "output_type": "stream",
          "text": [
            "positive 비교단어 :  열풍 clean_title :  CJ제일제당 마라 열풍’ 반영한 백설 마라탕면소스 출시\n",
            "1\n",
            "positive 비교단어 :  신상 clean_title :  신상품 CJ제일제당 백설 마라탕면소스 풀무원푸드머스 포테토 두부스틱\n",
            "1\n",
            "positive 비교단어 :  출시 clean_title :  삼양식품 마라탕면·마라볶음면 출시\n",
            "1\n",
            "positive 비교단어 :  열풍 clean_title :  쓰촨서 건너온 마라탕 열풍”초복 더위 이열치열로 날린다\n",
            "1\n",
            "0\n",
            "positive 비교단어 :  인기 clean_title :  마라탕 인기 급상승 이유는 마라 뜻은\n",
            "1\n",
            "negative 비교단어 :  포기 clean_title :  얼얼알싸한 빨간 육수와 쫄깃한 면발로 중독성 갑이라는 포기하지마라탕면\n",
            "-1\n",
            "positive 비교단어 :  인기 clean_title :  주말 추천 인기절정 마라탕의 맛 무엇 영혼이 불길에 휩싸이는 맛\n",
            "1\n",
            "positive 비교단어 :  맛집 clean_title :  마라탕맛집 홍리마라탕 NC부천점 토핑부터 매운맛 조절 가능해 초보자들에게\n",
            "1\n",
            "0\n"
          ],
          "name": "stdout"
        },
        {
          "output_type": "stream",
          "text": [
            "\r 56%|█████▋    | 57/101 [01:01<00:46,  1.06s/it]"
          ],
          "name": "stderr"
        },
        {
          "output_type": "stream",
          "text": [
            "positive 비교단어 :  출시 clean_title :  CJ제일제당 백설 마라탕면소스 출시\n",
            "1\n",
            "positive 비교단어 :  신상 clean_title :  신상품 CJ제일제당 백설 마라탕면소스 풀무원푸드머스 포테토 두부스틱\n",
            "1\n",
            "positive 비교단어 :  출시 clean_title :  삼양식품 마라탕면·마라볶음면 출시\n",
            "1\n",
            "positive 비교단어 :  열풍 clean_title :  쓰촨서 건너온 마라탕 열풍”초복 더위 이열치열로 날린다\n",
            "1\n",
            "0\n",
            "positive 비교단어 :  인기 clean_title :  마라탕 인기 급상승 이유는 마라 뜻은\n",
            "1\n",
            "negative 비교단어 :  포기 clean_title :  얼얼알싸한 빨간 육수와 쫄깃한 면발로 중독성 갑이라는 포기하지마라탕면\n",
            "-1\n",
            "positive 비교단어 :  인기 clean_title :  주말 추천 인기절정 마라탕의 맛 무엇 영혼이 불길에 휩싸이는 맛\n",
            "1\n",
            "positive 비교단어 :  맛집 clean_title :  마라탕맛집 홍리마라탕 NC부천점 토핑부터 매운맛 조절 가능해 초보자들에게\n",
            "1\n",
            "0\n"
          ],
          "name": "stdout"
        },
        {
          "output_type": "stream",
          "text": [
            "\r 57%|█████▋    | 58/101 [01:02<00:47,  1.10s/it]"
          ],
          "name": "stderr"
        },
        {
          "output_type": "stream",
          "text": [
            "positive 비교단어 :  출시 clean_title :  삼양식품 마라탕면’마라볶음면’ 2종 출시\n",
            "1\n",
            "positive 비교단어 :  출시 clean_title :  CJ제일제당 백설 마라탕면 소스 출시\n",
            "1\n",
            "positive 비교단어 :  열풍 clean_title :  쓰촨서 건너온 마라탕 열풍”초복 더위 이열치열로 날린다\n",
            "1\n",
            "0\n",
            "positive 비교단어 :  인기 clean_title :  마라탕 인기 급상승 이유는 마라 뜻은\n",
            "1\n",
            "negative 비교단어 :  포기 clean_title :  얼얼알싸한 빨간 육수와 쫄깃한 면발로 중독성 갑이라는 포기하지마라탕면\n",
            "-1\n",
            "positive 비교단어 :  인기 clean_title :  주말 추천 인기절정 마라탕의 맛 무엇 영혼이 불길에 휩싸이는 맛\n",
            "1\n",
            "positive 비교단어 :  맛집 clean_title :  마라탕맛집 홍리마라탕 NC부천점 토핑부터 매운맛 조절 가능해 초보자들에게\n",
            "1\n",
            "0\n",
            "0\n"
          ],
          "name": "stdout"
        },
        {
          "output_type": "stream",
          "text": [
            "\r 58%|█████▊    | 59/101 [01:04<00:45,  1.09s/it]"
          ],
          "name": "stderr"
        },
        {
          "output_type": "stream",
          "text": [
            "positive 비교단어 :  출시 clean_title :  삼양식품 마라탕면’·마라볶음면’ 2종 출시\n",
            "1\n",
            "positive 비교단어 :  출시 clean_title :  CJ제일제당 백설 마라탕면 소스 출시\n",
            "1\n",
            "positive 비교단어 :  열풍 clean_title :  쓰촨서 건너온 마라탕 열풍”초복 더위 이열치열로 날린다\n",
            "1\n",
            "0\n",
            "positive 비교단어 :  인기 clean_title :  마라탕 인기 급상승 이유는 마라 뜻은\n",
            "1\n",
            "negative 비교단어 :  포기 clean_title :  얼얼알싸한 빨간 육수와 쫄깃한 면발로 중독성 갑이라는 포기하지마라탕면\n",
            "-1\n",
            "positive 비교단어 :  인기 clean_title :  주말 추천 인기절정 마라탕의 맛 무엇 영혼이 불길에 휩싸이는 맛\n",
            "1\n",
            "positive 비교단어 :  맛집 clean_title :  마라탕맛집 홍리마라탕 NC부천점 토핑부터 매운맛 조절 가능해 초보자들에게\n",
            "1\n",
            "0\n",
            "0\n"
          ],
          "name": "stdout"
        },
        {
          "output_type": "stream",
          "text": [
            "\r 59%|█████▉    | 60/101 [01:05<00:46,  1.14s/it]"
          ],
          "name": "stderr"
        },
        {
          "output_type": "stream",
          "text": [
            "positive 비교단어 :  열풍 clean_title :  삼양식품 마라 열풍 발맞춰 마라탕면·마라볶음면 2종 출시\n",
            "1\n",
            "positive 비교단어 :  출시 clean_title :  CJ제일제당 백설 마라탕면 소스 출시\n",
            "1\n",
            "positive 비교단어 :  열풍 clean_title :  쓰촨서 건너온 마라탕 열풍”초복 더위 이열치열로 날린다\n",
            "1\n",
            "0\n",
            "positive 비교단어 :  인기 clean_title :  마라탕 인기 급상승 이유는 마라 뜻은\n",
            "1\n",
            "negative 비교단어 :  포기 clean_title :  얼얼알싸한 빨간 육수와 쫄깃한 면발로 중독성 갑이라는 포기하지마라탕면\n",
            "-1\n",
            "positive 비교단어 :  인기 clean_title :  주말 추천 인기절정 마라탕의 맛 무엇 영혼이 불길에 휩싸이는 맛\n",
            "1\n",
            "positive 비교단어 :  맛집 clean_title :  마라탕맛집 홍리마라탕 NC부천점 토핑부터 매운맛 조절 가능해 초보자들에게\n",
            "1\n",
            "0\n",
            "0\n"
          ],
          "name": "stdout"
        },
        {
          "output_type": "stream",
          "text": [
            "\r 60%|██████    | 61/101 [01:06<00:44,  1.11s/it]"
          ],
          "name": "stderr"
        },
        {
          "output_type": "stream",
          "text": [
            "positive 비교단어 :  인기 clean_title :  주말 추천 인기절정 마라탕의 맛 무엇 영혼이 불길에 휩싸이는 맛\n",
            "1\n",
            "positive 비교단어 :  맛집 clean_title :  마라탕맛집 홍리마라탕 NC부천점 토핑부터 매운맛 조절 가능해 초보자들에게\n",
            "1\n",
            "0\n",
            "0\n",
            "0\n",
            "0\n",
            "0\n",
            "positive 비교단어 :  출시 clean_title :  더본코리아 리춘시장 815모둠튀김 출시\n",
            "1\n",
            "0\n",
            "0\n"
          ],
          "name": "stdout"
        },
        {
          "output_type": "stream",
          "text": [
            "\r 61%|██████▏   | 62/101 [01:07<00:42,  1.09s/it]"
          ],
          "name": "stderr"
        },
        {
          "output_type": "stream",
          "text": [
            "0\n",
            "positive 비교단어 :  열풍 clean_title :  마라탕 마라샹궈 마라롱사중국 발 매운맛 마라 열풍 뜨겁다\n",
            "1\n",
            "0\n",
            "0\n",
            "0\n",
            "positive 비교단어 :  열풍 clean_title :  리얼푸드마라열풍 집에서도 즐긴다마라탕면’마라 새우’\n",
            "1\n",
            "positive 비교단어 :  열풍 clean_title :  韓 입맛 맞추려 3년간 마라탕만 먹어 마라열풍 개척자\n",
            "1\n",
            "0\n",
            "0\n",
            "0\n"
          ],
          "name": "stdout"
        },
        {
          "output_type": "stream",
          "text": [
            "\r 62%|██████▏   | 63/101 [01:08<00:40,  1.08s/it]"
          ],
          "name": "stderr"
        },
        {
          "output_type": "stream",
          "text": [
            "0\n",
            "positive 비교단어 :  맛집 clean_title :  한국인의 입맛에 맞게 부담 없이 즐길 수 있는 시흥 마라탕 맛집 천향오\n",
            "1\n",
            "0\n",
            "0\n",
            "negative 비교단어 :  논란 clean_title :  마라탕 논란 위치가 용산구 마라토끼 마포구 손오공마라탕 등\n",
            "-1\n",
            "negative 비교단어 :  위반 clean_title :  마라탕가게 위생점검서 절반 이상 위반 적발\n",
            "-1\n",
            "negative 비교단어 :  적발 clean_title :  위생 불량’ 마라탕 전문점 37곳 적발\n",
            "-1\n",
            "positive 비교단어 :  출시 clean_title :  삼양식품 마라탕면’·마라볶음면’ 2종 출시\n",
            "1\n",
            "positive 비교단어 :  출시 clean_title :  CJ제일제당 백설 마라탕면 소스 출시\n",
            "1\n",
            "0\n"
          ],
          "name": "stdout"
        },
        {
          "output_type": "stream",
          "text": [
            "\r 63%|██████▎   | 64/101 [01:09<00:39,  1.07s/it]"
          ],
          "name": "stderr"
        },
        {
          "output_type": "stream",
          "text": [
            "0\n",
            "0\n",
            "0\n",
            "0\n",
            "0\n",
            "positive 비교단어 :  열풍 clean_title :  마라 열풍에 이금기 훠궈 마라탕 소스 출시 한달만에 16만팩 판매\n",
            "1\n",
            "positive 비교단어 :  인기 clean_title :  여름철 시원한 맥주와 함께 먹기 좋은 메뉴 인기\n",
            "1\n",
            "positive 비교단어 :  오픈 clean_title :  대전 월평동 중국음식 마라탕 맛집 팔요일 오픈기념 이벤트 실시\n",
            "1\n",
            "positive 비교단어 :  맛집 clean_title :  오직 마라탕으로만 승부한다 시흥시 정왕동 맛집 등초마라탕\n",
            "1\n",
            "0\n"
          ],
          "name": "stdout"
        },
        {
          "output_type": "stream",
          "text": [
            "\r 64%|██████▍   | 65/101 [01:10<00:38,  1.08s/it]"
          ],
          "name": "stderr"
        },
        {
          "output_type": "stream",
          "text": [
            "0\n",
            "0\n",
            "0\n",
            "0\n",
            "0\n",
            "0\n",
            "positive 비교단어 :  맛집 clean_title :  마라탕 전문 홍리마라탕 중국요리의 진수 제대로 느낄 수 있는 맛집\n",
            "1\n",
            "0\n",
            "0\n",
            "0\n"
          ],
          "name": "stdout"
        },
        {
          "output_type": "stream",
          "text": [
            "\r 65%|██████▌   | 66/101 [01:11<00:37,  1.07s/it]"
          ],
          "name": "stderr"
        },
        {
          "output_type": "stream",
          "text": [
            "0\n",
            "0\n",
            "positive 비교단어 :  맛집 clean_title :  생방송투데이 오늘방송맛집 강남 본토 마라탕 희래식당용산 냉동삼겹살 \n",
            "1\n",
            "0\n",
            "positive 비교단어 :  맛집 clean_title :  김근기 셰프의 대구 맛집 탐방 마라탕과 크림 꿔바로우의 환상적인 맛 마\n",
            "1\n",
            "0\n",
            "positive 비교단어 :  인기 clean_title :  마라탕 전문 홍리마라탕 한국식으로 재해석한 마라탕 맛집으로 인기\n",
            "1\n",
            "positive 비교단어 :  인기 clean_title :  맵다고 울지 마라마라 열풍에 이금기 훠궈 마라탕 소스 인기\n",
            "1\n",
            "positive 비교단어 :  줄서서 clean_title :  마라탕 줄서서 먹어집에서 먹는 법\n",
            "1\n",
            "negative 비교단어 :  위반 clean_title :  마라탕 음식점 등 37곳 식품위생법 위반 적발\n",
            "-1\n"
          ],
          "name": "stdout"
        },
        {
          "output_type": "stream",
          "text": [
            "\r 66%|██████▋   | 67/101 [01:12<00:36,  1.07s/it]"
          ],
          "name": "stderr"
        },
        {
          "output_type": "stream",
          "text": [
            "positive 비교단어 :  줄서서 clean_title :  마라탕 줄서서 먹어집에서 먹는 법\n",
            "1\n",
            "negative 비교단어 :  위반 clean_title :  마라탕 음식점 등 37곳 식품위생법 위반 적발\n",
            "-1\n",
            "0\n",
            "negative 비교단어 :  적발 clean_title :  마라탕 식약처 점검에 수십곳 적발 주방에 찌든 기름때 가득\n",
            "-1\n",
            "negative 비교단어 :  위반 clean_title :  중독적 매운맛 인기 마라탕 전문식당 법 위반 업소 대구서 2곳 적발\n",
            "-1\n",
            "positive 비교단어 :  출시 clean_title :  게시판 삼양식품 마라탕면·마라볶음면 출시\n",
            "1\n",
            "positive 비교단어 :  출시 clean_title :  게시판 CJ제일제당 백설 마라탕면 소스 출시\n",
            "1\n",
            "positive 비교단어 :  인기 clean_title :  마라탕 새로운 간편식 인기상품으로 떠올라\n",
            "1\n",
            "positive 비교단어 :  인싸 clean_title :  훠거 샤브샤브 마니아라면 요즘 인싸 음식 마라탕 맛집 3\n",
            "1\n",
            "0\n"
          ],
          "name": "stdout"
        },
        {
          "output_type": "stream",
          "text": [
            "\r 67%|██████▋   | 68/101 [01:13<00:35,  1.06s/it]"
          ],
          "name": "stderr"
        },
        {
          "output_type": "stream",
          "text": [
            "negative 비교단어 :  위반 clean_title :  중독적 매운맛 인기 마라탕 전문식당 법 위반 업소 대구서 2곳 적발\n",
            "-1\n",
            "positive 비교단어 :  출시 clean_title :  게시판 삼양식품 마라탕면·마라볶음면 출시\n",
            "1\n",
            "positive 비교단어 :  출시 clean_title :  게시판 CJ제일제당 백설 마라탕면 소스 출시\n",
            "1\n",
            "positive 비교단어 :  인기 clean_title :  마라탕 새로운 간편식 인기상품으로 떠올라\n",
            "1\n",
            "positive 비교단어 :  인싸 clean_title :  훠거 샤브샤브 마니아라면 요즘 인싸 음식 마라탕 맛집 3\n",
            "1\n",
            "0\n",
            "0\n",
            "0\n",
            "0\n",
            "positive 비교단어 :  인싸 clean_title :  마라 인싸들의 필수 코스 뜻은 도대체 무엇먹는 법도 다양 마라탕부터 마\n",
            "1\n"
          ],
          "name": "stdout"
        },
        {
          "output_type": "stream",
          "text": [
            "\r 68%|██████▊   | 69/101 [01:14<00:34,  1.07s/it]"
          ],
          "name": "stderr"
        },
        {
          "output_type": "stream",
          "text": [
            "positive 비교단어 :  맛집 clean_title :  마라탕 맛집은 박나래 마라샹궈 때문에 마라에 중독”\n",
            "1\n",
            "0\n",
            "positive 비교단어 :  출시 clean_title :  스쿨푸드 딜리버리 마라탕면 출시\n",
            "1\n",
            "positive 비교단어 :  열풍 clean_title :  이금기 외식업계 매운맛 열풍 속 훠궈 마라탕소스 선보인다\n",
            "1\n",
            "0\n",
            "positive 비교단어 :  맛집 clean_title :  생방송투데이 강남 마라탕마라샹궈 역삼동 희래식당오늘방송맛집\n",
            "1\n",
            "0\n",
            "0\n",
            "0\n",
            "positive 비교단어 :  돌파 clean_title :  가맹모집 1년 만에 50개 돌파 배달 전성시대로 상승세 탄 네모푸드\n",
            "1\n"
          ],
          "name": "stdout"
        },
        {
          "output_type": "stream",
          "text": [
            "\r 69%|██████▉   | 70/101 [01:15<00:33,  1.07s/it]"
          ],
          "name": "stderr"
        },
        {
          "output_type": "stream",
          "text": [
            "0\n",
            "positive 비교단어 :  돌파 clean_title :  가맹모집 1년 만에 50개 돌파 배달 전성시대로 상승세 탄 네모푸드\n",
            "1\n",
            "0\n",
            "0\n",
            "0\n",
            "0\n",
            "0\n",
            "0\n",
            "positive 비교단어 :  주목 clean_title :  대한민국 마라탕 열풍 피슈마라홍탕 주목\n",
            "1\n",
            "positive 비교단어 :  인기 clean_title :  中향신료 마라 열풍 편의점 CU 마라탕면 마라볶음면 인기\n",
            "1\n"
          ],
          "name": "stdout"
        },
        {
          "output_type": "stream",
          "text": [
            "\r 70%|███████   | 71/101 [01:16<00:31,  1.05s/it]"
          ],
          "name": "stderr"
        },
        {
          "output_type": "stream",
          "text": [
            "0\n",
            "positive 비교단어 :  돌파 clean_title :  가맹모집 1년 만에 50개 돌파 배달 전성시대로 상승세 탄 네모푸드\n",
            "1\n",
            "0\n",
            "0\n",
            "0\n",
            "0\n",
            "0\n",
            "0\n",
            "positive 비교단어 :  주목 clean_title :  대한민국 마라탕 열풍 피슈마라홍탕 주목\n",
            "1\n",
            "positive 비교단어 :  인기 clean_title :  中향신료 마라 열풍 편의점 CU 마라탕면 마라볶음면 인기\n",
            "1\n"
          ],
          "name": "stdout"
        },
        {
          "output_type": "stream",
          "text": [
            "\r 71%|███████▏  | 72/101 [01:18<00:31,  1.10s/it]"
          ],
          "name": "stderr"
        },
        {
          "output_type": "stream",
          "text": [
            "0\n",
            "positive 비교단어 :  주목 clean_title :  대한민국 마라탕 열풍 피슈마라홍탕 주목\n",
            "1\n",
            "positive 비교단어 :  인기 clean_title :  中향신료 마라 열풍 편의점 CU 마라탕면 마라볶음면 인기\n",
            "1\n",
            "0\n",
            "0\n",
            "positive 비교단어 :  출시 clean_title :  만화카페 창업브랜드 놀숲 마라탕마라샹궈 신메뉴 출시\n",
            "1\n",
            "positive 비교단어 :  인기 clean_title :  日 시장 강타한 中 향신료 열풍마라탕 속 그것 인기\n",
            "1\n",
            "positive 비교단어 :  출시 clean_title :  성수동 맛집 전자방 겨울철 신메뉴 마라탕 출시\n",
            "1\n",
            "0\n",
            "0\n"
          ],
          "name": "stdout"
        },
        {
          "output_type": "stream",
          "text": [
            "\r 72%|███████▏  | 73/101 [01:19<00:30,  1.09s/it]"
          ],
          "name": "stderr"
        },
        {
          "output_type": "stream",
          "text": [
            "0\n",
            "0\n",
            "0\n",
            "0\n",
            "0\n",
            "negative 비교단어 :  벌레 clean_title :  마라탕에 벌레 나왔다” 리뷰에 사장이 남긴 비꼬는 말\n",
            "-1\n",
            "negative 비교단어 :  위반 clean_title :  요즘 인기 마라탕식품위생법 위반 업체 37곳 적발\n",
            "-1\n",
            "0\n",
            "positive 비교단어 :  돌파 clean_title :  라황샹 마라탕면 국내 출시 1년만에 100만개 판매 돌파\n",
            "1\n",
            "positive 비교단어 :  맛집 clean_title :  마라탕 맛집 5\n",
            "1\n"
          ],
          "name": "stdout"
        },
        {
          "output_type": "stream",
          "text": [
            "\r 73%|███████▎  | 74/101 [01:20<00:29,  1.09s/it]"
          ],
          "name": "stderr"
        },
        {
          "output_type": "stream",
          "text": [
            "positive 비교단어 :  돌파 clean_title :  진마이랑 라황샹 마라탕면’ 국내 출시 1년만에 100만개 판매 돌파해\n",
            "1\n",
            "positive 비교단어 :  맛집 clean_title :  마라탕 맛집 5\n",
            "1\n",
            "positive 비교단어 :  출시 clean_title :  리춘시장 이색적인 튀김 신메뉴 815모둠튀김 출시\n",
            "1\n",
            "0\n",
            "0\n",
            "0\n",
            "positive 비교단어 :  맛집 clean_title :  생활의 달인 맛집 총정리 마포구 상암동 마라탕 천안시 성정동 만두 위치\n",
            "1\n",
            "0\n",
            "0\n",
            "positive 비교단어 :  출시 clean_title :  마라탕면·흑당밀크티 등편의점 국내외 원조 먹거리 출시로 매출 쑥쑥’\n",
            "1\n"
          ],
          "name": "stdout"
        },
        {
          "output_type": "stream",
          "text": [
            "\r 74%|███████▍  | 75/101 [01:21<00:27,  1.08s/it]"
          ],
          "name": "stderr"
        },
        {
          "output_type": "stream",
          "text": [
            "0\n",
            "positive 비교단어 :  돌파 clean_title :  진마이랑 라황샹 마라탕면’ 100만개 판매 돌파\n",
            "1\n",
            "positive 비교단어 :  출시 clean_title :  마라탕면·흑당밀크티 등편의점 국내외 원조 먹거리 출시로 매출 쑥쑥’\n",
            "1\n",
            "0\n",
            "0\n",
            "0\n",
            "0\n",
            "0\n",
            "0\n",
            "positive 비교단어 :  수상 clean_title :  KCA한국소비자평가 2021 KCA 딜리버리 푸드 어워즈 서울 지역 수상자 발표\n",
            "1\n"
          ],
          "name": "stdout"
        },
        {
          "output_type": "stream",
          "text": [
            "\r 75%|███████▌  | 76/101 [01:22<00:26,  1.08s/it]"
          ],
          "name": "stderr"
        },
        {
          "output_type": "stream",
          "text": [
            "0\n",
            "0\n",
            "0\n",
            "0\n",
            "positive 비교단어 :  수상 clean_title :  KCA한국소비자평가 2021 KCA 딜리버리 푸드 어워즈 서울 지역 수상자 발표\n",
            "1\n",
            "positive 비교단어 :  열풍 clean_title :  양꼬치 마라탕 등 중식 열풍에 백주 판매량↑\n",
            "1\n",
            "positive 비교단어 :  인기 clean_title :  마라탕·양꼬치中음식 인기에 백주 찾는 소비자 늘었다\n",
            "1\n",
            "0\n",
            "positive 비교단어 :  맛집 clean_title :  식객남녀 얼얼한 매운맛 中 현지인이 꼽은 대림동 마라탕 맛집\n",
            "1\n",
            "0\n"
          ],
          "name": "stdout"
        },
        {
          "output_type": "stream",
          "text": [
            "\r 76%|███████▌  | 77/101 [01:23<00:25,  1.06s/it]"
          ],
          "name": "stderr"
        },
        {
          "output_type": "stream",
          "text": [
            "0\n",
            "0\n",
            "0\n",
            "0\n",
            "0\n",
            "positive 비교단어 :  수상 clean_title :  KCA한국소비자평가 한식 등 2021 KCA 딜리버리 푸드 어워즈 서울 지역 수상\n",
            "1\n",
            "negative 비교단어 :  호소 clean_title :  임신 5개월 맞아 안소미 식단조절 실패 호소 7㎏ 쪄 마라탕에 빠져 자다가\n",
            "-1\n",
            "0\n",
            "0\n",
            "positive 비교단어 :  출시 clean_title :  더본코리아 리춘시장 815모둠튀김 출시\n",
            "1\n"
          ],
          "name": "stdout"
        },
        {
          "output_type": "stream",
          "text": [
            "\r 77%|███████▋  | 78/101 [01:24<00:24,  1.05s/it]"
          ],
          "name": "stderr"
        },
        {
          "output_type": "stream",
          "text": [
            "positive 비교단어 :  출시 clean_title :  더본코리아 리춘시장 815모둠튀김 출시\n",
            "1\n",
            "0\n",
            "0\n",
            "0\n",
            "0\n",
            "0\n",
            "0\n",
            "0\n",
            "positive 비교단어 :  인기 clean_title :  대전 도마동 로충칭마라탕 고객의 입맛에 안성맞춤 음식으로 인기\n",
            "1\n",
            "0\n"
          ],
          "name": "stdout"
        },
        {
          "output_type": "stream",
          "text": [
            "\r 78%|███████▊  | 79/101 [01:25<00:23,  1.05s/it]"
          ],
          "name": "stderr"
        },
        {
          "output_type": "stream",
          "text": [
            "0\n",
            "0\n",
            "positive 비교단어 :  주목 clean_title :  새로움 더한 이색 두부 요리 인기에 두부프레스 주목\n",
            "1\n",
            "0\n",
            "0\n",
            "0\n",
            "0\n",
            "0\n",
            "positive 비교단어 :  맛집 clean_title :  유명 맛집 셰프들의 요리 집에서 레스토랑간편식RMR로 즐긴다\n",
            "1\n",
            "0\n"
          ],
          "name": "stdout"
        },
        {
          "output_type": "stream",
          "text": [
            "\r 79%|███████▉  | 80/101 [01:26<00:22,  1.05s/it]"
          ],
          "name": "stderr"
        },
        {
          "output_type": "stream",
          "text": [
            "0\n",
            "0\n",
            "0\n",
            "0\n",
            "0\n",
            "0\n",
            "0\n",
            "0\n",
            "negative 비교단어 :  직격탄 clean_title :  코로나19 직격탄에 서울 식당 10년 전’보다 줄어\n",
            "-1\n",
            "positive 비교단어 :  인기 clean_title :  글로벌 종합외식문화기업으로 도약하는 신림 마라탕 맛집 라화쿵푸 인기\n",
            "1\n"
          ],
          "name": "stdout"
        },
        {
          "output_type": "stream",
          "text": [
            "\r 80%|████████  | 81/101 [01:27<00:21,  1.07s/it]"
          ],
          "name": "stderr"
        },
        {
          "output_type": "stream",
          "text": [
            "0\n",
            "0\n",
            "positive 비교단어 :  오픈 clean_title :  중국요리 훠궈 마라탕 대전 관평동 맛집 만당채 오픈 기념 이벤트\n",
            "1\n",
            "0\n",
            "positive 비교단어 :  열풍 clean_title :  가정간편식도 마라 열풍피코크 마라탕 된장찌개 제쳤다\n",
            "1\n",
            "0\n",
            "0\n",
            "0\n",
            "0\n",
            "0\n"
          ],
          "name": "stdout"
        },
        {
          "output_type": "stream",
          "text": [
            "\r 81%|████████  | 82/101 [01:28<00:20,  1.06s/it]"
          ],
          "name": "stderr"
        },
        {
          "output_type": "stream",
          "text": [
            "0\n",
            "0\n",
            "0\n",
            "0\n",
            "0\n",
            "0\n",
            "positive 비교단어 :  맛집 clean_title :  중국 특색이 담긴 천안 신부동 마라탕 맛집 구구왕마라탕\n",
            "1\n",
            "0\n",
            "0\n",
            "positive 비교단어 :  오픈 clean_title :  마라탕 창업 라화쿵부 꾸준한 전국 매장 오픈 비결은\n",
            "1\n"
          ],
          "name": "stdout"
        },
        {
          "output_type": "stream",
          "text": [
            "\r 82%|████████▏ | 83/101 [01:29<00:18,  1.05s/it]"
          ],
          "name": "stderr"
        },
        {
          "output_type": "stream",
          "text": [
            "0\n",
            "0\n",
            "positive 비교단어 :  오픈 clean_title :  마라탕 창업 라화쿵부 꾸준한 전국 매장 오픈 비결은\n",
            "1\n",
            "0\n",
            "0\n",
            "0\n",
            "0\n",
            "0\n",
            "positive 비교단어 :  1위 clean_title :  이마트 피코크 마라탕 국·탕류 1위 차지\n",
            "1\n",
            "0\n"
          ],
          "name": "stdout"
        },
        {
          "output_type": "stream",
          "text": [
            "\r 83%|████████▎ | 84/101 [01:30<00:17,  1.05s/it]"
          ],
          "name": "stderr"
        },
        {
          "output_type": "stream",
          "text": [
            "0\n",
            "positive 비교단어 :  1위 clean_title :  이마트 피코크 마라탕 국·탕류 1위 차지\n",
            "1\n",
            "0\n",
            "positive 비교단어 :  진출 clean_title :  놀부 마라 전문 브랜드 타이거마라’로 마라탕 시장 진출\n",
            "1\n",
            "0\n",
            "0\n",
            "0\n",
            "0\n",
            "positive 비교단어 :  출시 clean_title :  리춘시장 푸짐한 815모둠튀김 출시\n",
            "1\n",
            "0\n"
          ],
          "name": "stdout"
        },
        {
          "output_type": "stream",
          "text": [
            "\r 84%|████████▍ | 85/101 [01:31<00:16,  1.05s/it]"
          ],
          "name": "stderr"
        },
        {
          "output_type": "stream",
          "text": [
            "positive 비교단어 :  1위 clean_title :  이마트 피코크 마라탕 출시 13일만에 매출 1위\n",
            "1\n",
            "0\n",
            "positive 비교단어 :  진출 clean_title :  놀부 마라 전문 브랜드 타이거마라’로 마라탕 시장 진출\n",
            "1\n",
            "0\n",
            "0\n",
            "0\n",
            "0\n",
            "positive 비교단어 :  출시 clean_title :  리춘시장 푸짐한 815모둠튀김 출시\n",
            "1\n",
            "0\n",
            "positive 비교단어 :  트렌드 clean_title :  트렌드톡톡 스트레스가 쌓인다고마라탕 한 그릇 뚝딱하세요\n",
            "1\n"
          ],
          "name": "stdout"
        },
        {
          "output_type": "stream",
          "text": [
            "\r 85%|████████▌ | 86/101 [01:32<00:16,  1.09s/it]"
          ],
          "name": "stderr"
        },
        {
          "output_type": "stream",
          "text": [
            "0\n",
            "positive 비교단어 :  트렌드 clean_title :  트렌드톡톡 스트레스가 쌓인다고마라탕 한 그릇 뚝딱하세요\n",
            "1\n",
            "0\n",
            "0\n",
            "positive 비교단어 :  인기 clean_title :  채선당 샤브보트 1인 마라탕 샤브로 인기몰이\n",
            "1\n",
            "0\n",
            "positive 비교단어 :  출시 clean_title :  농심 마라고수 마라탕면 출시중국법인과 공동개발\n",
            "1\n",
            "0\n",
            "0\n",
            "positive 비교단어 :  맛집 clean_title :  6시내고향 별빛남문시장 안혜경·천명훈 홀린 양꼬치·마라탕 맛집\n",
            "1\n"
          ],
          "name": "stdout"
        },
        {
          "output_type": "stream",
          "text": [
            "\r 86%|████████▌ | 87/101 [01:34<00:15,  1.08s/it]"
          ],
          "name": "stderr"
        },
        {
          "output_type": "stream",
          "text": [
            "0\n",
            "positive 비교단어 :  인기 clean_title :  채선당 샤브보트 1인 마라탕 샤브로 인기몰이\n",
            "1\n",
            "0\n",
            "positive 비교단어 :  출시 clean_title :  농심 마라고수 마라탕면 출시중국법인과 공동개발\n",
            "1\n",
            "0\n",
            "0\n",
            "positive 비교단어 :  맛집 clean_title :  6시내고향 별빛남문시장 안혜경·천명훈 홀린 양꼬치·마라탕 맛집\n",
            "1\n",
            "positive 비교단어 :  신메뉴 clean_title :  이색 마라메뉴를 원한다면 홍대 마라탕 맛집 육대장의 신메뉴 마라 육개장\n",
            "1\n",
            "0\n",
            "0\n"
          ],
          "name": "stdout"
        },
        {
          "output_type": "stream",
          "text": [
            "\r 87%|████████▋ | 88/101 [01:35<00:13,  1.08s/it]"
          ],
          "name": "stderr"
        },
        {
          "output_type": "stream",
          "text": [
            "0\n",
            "0\n",
            "0\n",
            "positive 비교단어 :  열풍 clean_title :  광주 맛집 애상마라탕 마라탕 전문점 창업 열풍 가운데 충장로 지점 오픈\n",
            "1\n",
            "0\n",
            "0\n",
            "0\n",
            "0\n",
            "0\n",
            "0\n"
          ],
          "name": "stdout"
        },
        {
          "output_type": "stream",
          "text": [
            "\r 88%|████████▊ | 89/101 [01:36<00:12,  1.07s/it]"
          ],
          "name": "stderr"
        },
        {
          "output_type": "stream",
          "text": [
            "0\n",
            "positive 비교단어 :  선보여 clean_title :  더본코리아 리춘시장 이색적인 튀김 신메뉴 815모둠튀김 선보여\n",
            "1\n",
            "positive 비교단어 :  1위 clean_title :  피코크 마라탕 반응 뜨겁네된장찌개 제치고 1위\n",
            "1\n",
            "0\n",
            "0\n",
            "positive 비교단어 :  1위 clean_title :  2019 한국소비자평가 1위 마라탕 전문 프랜차이즈 라공방\n",
            "1\n",
            "positive 비교단어 :  맛집 clean_title :  잠실 송리단길 맛집  중국가정식 진지아 전골식 마라탕 마라곱창전골’ M\n",
            "1\n",
            "0\n",
            "negative 비교단어 :  우려 clean_title :  마라탕도 싫다홍콩시위 대자보 갈등 대학가 반중감정우려\n",
            "-1\n",
            "0\n"
          ],
          "name": "stdout"
        },
        {
          "output_type": "stream",
          "text": [
            "\r 89%|████████▉ | 90/101 [01:37<00:11,  1.07s/it]"
          ],
          "name": "stderr"
        },
        {
          "output_type": "stream",
          "text": [
            "positive 비교단어 :  출시 clean_title :  더본코리아 리춘시장 이색적인 튀김 신메뉴 815모둠튀김 출시\n",
            "1\n",
            "positive 비교단어 :  맛집 clean_title :  잠실 송리단길 맛집  중국가정식 진지아 전골식 마라탕 마라곱창전골’ M\n",
            "1\n",
            "0\n",
            "negative 비교단어 :  우려 clean_title :  마라탕도 싫다홍콩시위 대자보 갈등 대학가 반중감정우려\n",
            "-1\n",
            "0\n",
            "0\n",
            "0\n",
            "positive 비교단어 :  신상 clean_title :  신상품 CJ제일제당 베트남 쌀국수사천 마라탕면 오뚜기 채황 롯데제\n",
            "1\n",
            "positive 비교단어 :  증가 clean_title :  세미원푸드의 뚝딱쉐프몰 마라탕면 매출 120 증가세\n",
            "1\n",
            "0\n"
          ],
          "name": "stdout"
        },
        {
          "output_type": "stream",
          "text": [
            "\r 90%|█████████ | 91/101 [01:38<00:10,  1.08s/it]"
          ],
          "name": "stderr"
        },
        {
          "output_type": "stream",
          "text": [
            "0\n",
            "0\n",
            "0\n",
            "positive 비교단어 :  출시 clean_title :  오븐마루치킨 매운맛 마라탕에 치킨 치킨마라탕’ 출시\n",
            "1\n",
            "0\n",
            "negative 비교단어 :  논란 clean_title :  빈센조 中기업 PPL논란에 다른 드라마도 소환\n",
            "-1\n",
            "positive 비교단어 :  출시 clean_title :  뉴스투데이 E 농심 마라고수 마라탕면’ 용기면 출시 中법인과 공동개\n",
            "1\n",
            "0\n",
            "positive 비교단어 :  오픈 clean_title :  홍대 손오공 마라탕 오픈 키친으로 주방시설 개선\n",
            "1\n",
            "negative 비교단어 :  포기 clean_title :  풀무원 포기하지 마라탕면’ 오프라인 출시 한 달 만에 100만 봉지 판매\n",
            "-1\n"
          ],
          "name": "stdout"
        },
        {
          "output_type": "stream",
          "text": [
            "\r 91%|█████████ | 92/101 [01:39<00:09,  1.08s/it]"
          ],
          "name": "stderr"
        },
        {
          "output_type": "stream",
          "text": [
            "positive 비교단어 :  출시 clean_title :  뉴스투데이 E 농심 마라고수 마라탕면’ 용기면 출시 中법인과 공동개\n",
            "1\n",
            "0\n",
            "positive 비교단어 :  오픈 clean_title :  홍대 손오공 마라탕 오픈 키친으로 주방시설 개선\n",
            "1\n",
            "negative 비교단어 :  포기 clean_title :  풀무원 포기하지 마라탕면’ 오프라인 출시 한 달 만에 100만 봉지 판매\n",
            "-1\n",
            "0\n",
            "0\n",
            "0\n",
            "positive 비교단어 :  맛집 clean_title :  강남맛집 희래식당 핫한 마라탕 요리로 소비자들에 눈도장\n",
            "1\n",
            "0\n",
            "0\n"
          ],
          "name": "stdout"
        },
        {
          "output_type": "stream",
          "text": [
            "\r 92%|█████████▏| 93/101 [01:40<00:08,  1.08s/it]"
          ],
          "name": "stderr"
        },
        {
          "output_type": "stream",
          "text": [
            "negative 비교단어 :  포기 clean_title :  풀무원 포기하지 마라탕면 한달새 100만 봉지 팔려상시 판매 계획\n",
            "-1\n",
            "0\n",
            "0\n",
            "0\n",
            "positive 비교단어 :  맛집 clean_title :  강남맛집 희래식당 핫한 마라탕 요리로 소비자들에 눈도장\n",
            "1\n",
            "0\n",
            "0\n",
            "0\n",
            "0\n",
            "positive 비교단어 :  진출 clean_title :  복면가왕’ 목욕탕 2R 진출마라탕 정체 개그맨 김인석\n",
            "1\n"
          ],
          "name": "stdout"
        },
        {
          "output_type": "stream",
          "text": [
            "\r 93%|█████████▎| 94/101 [01:41<00:07,  1.06s/it]"
          ],
          "name": "stderr"
        },
        {
          "output_type": "stream",
          "text": [
            "negative 비교단어 :  포기 clean_title :  풀무원 포기하지 마라탕면’ 한 달 만에 100만 봉지 판매\n",
            "-1\n",
            "0\n",
            "0\n",
            "0\n",
            "positive 비교단어 :  맛집 clean_title :  강남맛집 희래식당 핫한 마라탕 요리로 소비자들에 눈도장\n",
            "1\n",
            "0\n",
            "0\n",
            "0\n",
            "0\n",
            "positive 비교단어 :  진출 clean_title :  복면가왕’ 목욕탕 2R 진출마라탕 정체 개그맨 김인석\n",
            "1\n"
          ],
          "name": "stdout"
        },
        {
          "output_type": "stream",
          "text": [
            "\r 94%|█████████▍| 95/101 [01:42<00:06,  1.05s/it]"
          ],
          "name": "stderr"
        },
        {
          "output_type": "stream",
          "text": [
            "0\n",
            "positive 비교단어 :  진출 clean_title :  복면가왕’ 목욕탕 2R 진출마라탕 정체 개그맨 김인석\n",
            "1\n",
            "0\n",
            "0\n",
            "0\n",
            "0\n",
            "0\n",
            "0\n",
            "0\n",
            "positive 비교단어 :  인기 clean_title :  가볍고 든든한 식품 인기홈플러스 착한 열량 상품 기획전\n",
            "1\n"
          ],
          "name": "stdout"
        },
        {
          "output_type": "stream",
          "text": [
            "\r 95%|█████████▌| 96/101 [01:43<00:05,  1.06s/it]"
          ],
          "name": "stderr"
        },
        {
          "output_type": "stream",
          "text": [
            "0\n",
            "0\n",
            "0\n",
            "0\n",
            "positive 비교단어 :  인기 clean_title :  가볍고 든든한 식품 인기홈플러스 착한 열량 상품 기획전\n",
            "1\n",
            "0\n",
            "0\n",
            "positive 비교단어 :  맛집 clean_title :  정직함으로 음식을 만드는 천안 맛집 로방한우마라탕 성공의 정석 꾼에 소\n",
            "1\n",
            "0\n",
            "0\n"
          ],
          "name": "stdout"
        },
        {
          "output_type": "stream",
          "text": [
            "\r 96%|█████████▌| 97/101 [01:44<00:04,  1.05s/it]"
          ],
          "name": "stderr"
        },
        {
          "output_type": "stream",
          "text": [
            "0\n",
            "0\n",
            "positive 비교단어 :  맛집 clean_title :  정직함으로 음식을 만드는 천안 맛집 로방한우마라탕 성공의 정석 꾼에 소\n",
            "1\n",
            "0\n",
            "0\n",
            "positive 비교단어 :  인기 clean_title :  상웨이훠궈마라탕 건물주가 선호하는 외식업 창업 아이템으로 인기\n",
            "1\n",
            "0\n",
            "0\n",
            "positive 비교단어 :  출시 clean_title :  더본코리아 리춘시장 튀김 신메뉴 815모둠튀김 출시\n",
            "1\n",
            "negative 비교단어 :  불똥 clean_title :  격해진 반중 정서에 불똥’ 고립된 대림동 중국 동포들\n",
            "-1\n"
          ],
          "name": "stdout"
        },
        {
          "output_type": "stream",
          "text": [
            "\r 97%|█████████▋| 98/101 [01:45<00:03,  1.10s/it]"
          ],
          "name": "stderr"
        },
        {
          "output_type": "stream",
          "text": [
            "positive 비교단어 :  출시 clean_title :  분말국마라탕 아워홈 간편식 국‧탕 신제품 출시\n",
            "1\n",
            "negative 비교단어 :  포기 clean_title :  풀무원 생면식감 포기하지 마라탕면’ 온라인 완판 이어 오프라인 판매 시\n",
            "-1\n",
            "0\n",
            "negative 비교단어 :  포기 clean_title :  한화이글스 이번 시즌 아직 포기하지 마라탕면’” 이기욱 풀무원식품 P\n",
            "-1\n",
            "0\n",
            "0\n",
            "0\n",
            "negative 비교단어 :  포기 clean_title :  풀무원 생면식감 포기하지 마라탕면 오프라인 판매 시작\n",
            "-1\n",
            "0\n",
            "0\n"
          ],
          "name": "stdout"
        },
        {
          "output_type": "stream",
          "text": [
            "\r 98%|█████████▊| 99/101 [01:46<00:02,  1.09s/it]"
          ],
          "name": "stderr"
        },
        {
          "output_type": "stream",
          "text": [
            "0\n",
            "negative 비교단어 :  포기 clean_title :  풀무원 생면식감 포기하지 마라탕면 오프라인 판매 시작\n",
            "-1\n",
            "0\n",
            "0\n",
            "negative 비교단어 :  포기 clean_title :  풀무원 생면식감 포기하지 마라탕면’ 조기완판2차 한정판 11번가 오픈\n",
            "-1\n",
            "negative 비교단어 :  리스크 clean_title :  뉴스AS 대만 카스테라 다음은 마라탕돌고 도는 자영업 리스크’\n",
            "-1\n",
            "0\n",
            "negative 비교단어 :  논란 clean_title :  황교익 마라탕 위생 논란 한 건 하고 튀자는 시장 분위기가 문제\n",
            "-1\n",
            "negative 비교단어 :  눈물 clean_title :  씨줄날줄 마라탕의 눈물황수정 논설위원\n",
            "-1\n",
            "0\n"
          ],
          "name": "stdout"
        },
        {
          "output_type": "stream",
          "text": [
            "\r 99%|█████████▉| 100/101 [01:48<00:01,  1.11s/it]"
          ],
          "name": "stderr"
        },
        {
          "output_type": "stream",
          "text": [
            "negative 비교단어 :  포기 clean_title :  풀무원식품 생면식감 포기하지마라 마라탕면 대형마트 판매개시\n",
            "-1\n",
            "0\n",
            "negative 비교단어 :  포기 clean_title :  풀무원 생면식감 포기하지 마라탕면’ 조기완판2차 한정판 11번가 오픈\n",
            "-1\n",
            "negative 비교단어 :  리스크 clean_title :  뉴스AS 대만 카스테라 다음은 마라탕돌고 도는 자영업 리스크’\n",
            "-1\n",
            "0\n",
            "negative 비교단어 :  논란 clean_title :  황교익 마라탕 위생 논란 한 건 하고 튀자는 시장 분위기가 문제\n",
            "-1\n",
            "negative 비교단어 :  눈물 clean_title :  씨줄날줄 마라탕의 눈물황수정 논설위원\n",
            "-1\n",
            "0\n",
            "negative 비교단어 :  벌레 clean_title :  애벌레 나왔어요” 마라탕 음식점 후기 재조명\n",
            "-1\n",
            "0\n"
          ],
          "name": "stdout"
        },
        {
          "output_type": "stream",
          "text": [
            "100%|██████████| 101/101 [01:49<00:00,  1.08s/it]"
          ],
          "name": "stderr"
        },
        {
          "output_type": "stream",
          "text": [
            "negative 비교단어 :  포기 clean_title :  풀무원 생면식감 포기하지 마라탕면’ 조기완판2차 한정판 11번가 오픈\n",
            "-1\n",
            "negative 비교단어 :  리스크 clean_title :  뉴스AS 대만 카스테라 다음은 마라탕돌고 도는 자영업 리스크’\n",
            "-1\n",
            "0\n",
            "negative 비교단어 :  논란 clean_title :  황교익 마라탕 위생 논란 한 건 하고 튀자는 시장 분위기가 문제\n",
            "-1\n",
            "negative 비교단어 :  눈물 clean_title :  씨줄날줄 마라탕의 눈물황수정 논설위원\n",
            "-1\n",
            "0\n",
            "negative 비교단어 :  벌레 clean_title :  애벌레 나왔어요” 마라탕 음식점 후기 재조명\n",
            "-1\n",
            "0\n",
            "0\n",
            "negative 비교단어 :  위생불량 clean_title :  마라탕의 배신 위생불량 유명 식당 어디 이대로 괜찮은가\n",
            "-1\n",
            "                                        title  label\n",
            "0     아침부터 고생해서 등갈비마라탕 해준 남편에게 설거지 다 할거냐며 짜증낸      0\n",
            "1          1호가 김경아 ♥권재관표 거한 아침상에 당황 아침부터 마라탕을      0\n",
            "2        1호가 권재관 아침부터 등갈비·마라탕·스파게티김경아 머리숱 없어서      0\n",
            "3                      정시아 아수라장 MC 합류마라탕맛 맘토크      0\n",
            "4                 마라탕 맛 없다더니 다 먹고 반품배달거지에 당했다      0\n",
            "...                                       ...    ...\n",
            "1005          엠빅뉴스 한국인 맵부심 사로잡은 마라탕의 끔찍한 위생상태      0\n",
            "1006                 애벌레 나왔어요” 마라탕 음식점 후기 재조명     -1\n",
            "1007                   마라탕 위생 불량 소식이 무더위 더 짜증      0\n",
            "1008  마라탕 전문 음식점 경악스런 위생 실태걸레 옆에서 만든 건두부 판매 우      0\n",
            "1009           마라탕의 배신 위생불량 유명 식당 어디 이대로 괜찮은가     -1\n",
            "\n",
            "[1010 rows x 2 columns]\n"
          ],
          "name": "stdout"
        },
        {
          "output_type": "stream",
          "text": [
            "\n"
          ],
          "name": "stderr"
        }
      ]
    },
    {
      "cell_type": "code",
      "metadata": {
        "colab": {
          "base_uri": "https://localhost:8080/"
        },
        "id": "qGMPoeF_7t1R",
        "outputId": "36e3007f-183e-414b-cd54-1d7b1df9e9cb"
      },
      "source": [
        "# 2 뿌링클\n",
        "import requests\n",
        "from bs4 import BeautifulSoup\n",
        "import re\n",
        "import pandas as pd\n",
        "from tqdm import tqdm\n",
        "\n",
        "labels = []\n",
        "titles = []\n",
        "titles2 = []\n",
        "\n",
        "j = 0\n",
        "\n",
        "for k in tqdm(range(101)):\n",
        "\tnum = k * 10 + 1\n",
        "\t# 뿌링클\n",
        "\turl = \"https://search.naver.com/search.naver?where=news&sm=tab_pge&query=%EB%BF%8C%EB%A7%81%ED%81%B4&sort=0&photo=0&field=0&pd=0&ds=&de=&cluster_rank=22&mynews=0&office_type=0&office_section_code=0&news_office_checked=&nso=so:r,p:all,a:all&start=\" + str(num)\n",
        "\treq = requests.get(url)\n",
        "\tsoup = BeautifulSoup(req.text, 'lxml')\n",
        "\ttitles = soup.select(\"a.news_tit\")\n",
        "\n",
        "\tfor title in titles:\n",
        "\t\ttitle_data = title.text\n",
        "\t\tclean_title = re.sub('[-=+,#/\\?:^$.@*\\\"※~&%ㆍ!』\\\\‘|\\(\\)\\[\\]\\<\\>`\\'…\\\"\\“》]', '', title_data)\n",
        "\t\tnegative_flag = False\n",
        "\t\tlabel = 0\n",
        "\n",
        "\t\tfor i in range(len(negative)-1):\n",
        "\t\t\tif negative[i] in clean_title:\n",
        "\t\t\t\tlabel = -1\n",
        "\t\t\t\tnegative_flag = True\n",
        "\t\t\t\tprint(\"negative 비교단어 : \", negative[i], \"clean_title : \", clean_title)\n",
        "\t\t\t\tbreak\n",
        "\t\tif negative_flag == False:\n",
        "\t\t\tfor i in range(len(positive)-1):\n",
        "\t\t\t\tif positive[i] in clean_title:\n",
        "\t\t\t\t\tlabel = 1\n",
        "\t\t\t\t\tprint(\"positive 비교단어 : \", positive[i], \"clean_title : \", clean_title)\n",
        "\t\t\t\t\tbreak\n",
        "\t\tprint(label)\n",
        "\t\ttitles2.append(clean_title)\n",
        "\t\tlabels.append(label)\n",
        "\n",
        "my_title_df = pd.DataFrame({\"title\":titles2, \"label\":labels})\n",
        "print(my_title_df)\n",
        "\n",
        "def dftoCsv(my_title_df, num):\n",
        "\tmy_title_df.to_csv(('./title_datas'+ str(num) +'.csv'), sep=',', na_rep='NaN', encoding='utf-8')\n",
        "\n",
        "dftoCsv(my_title_df,\"_뿌링클\")"
      ],
      "execution_count": 10,
      "outputs": [
        {
          "output_type": "stream",
          "text": [
            "  1%|          | 1/101 [00:01<02:05,  1.26s/it]"
          ],
          "name": "stderr"
        },
        {
          "output_type": "stream",
          "text": [
            "0\n",
            "positive 비교단어 :  신메뉴 clean_title :  bhc치킨 배민서 신메뉴 주문시 5천원 할인\n",
            "1\n",
            "positive 비교단어 :  인기 clean_title :  bhc치킨 5월 최고 판매량은 어린이날뿌링클 인기 증명\n",
            "1\n",
            "positive 비교단어 :  신메뉴 clean_title :  bhc치킨 배달의민족에서 신메뉴 주문 5000원 할인\n",
            "1\n",
            "0\n",
            "0\n",
            "0\n",
            "positive 비교단어 :  인기 clean_title :  bhc치킨 여름철 입맛 살리는 이색 소스 치킨 메뉴 4 종 인기몰이 \n",
            "1\n",
            "0\n",
            "0\n"
          ],
          "name": "stdout"
        },
        {
          "output_type": "stream",
          "text": [
            "\r  2%|▏         | 2/101 [00:02<01:57,  1.19s/it]"
          ],
          "name": "stderr"
        },
        {
          "output_type": "stream",
          "text": [
            "positive 비교단어 :  돌파 clean_title :  bhc 작년 매출 4천억원 돌파사상 처음이자 최대 실적\n",
            "1\n",
            "0\n",
            "0\n",
            "positive 비교단어 :  출시 clean_title :  bhc치킨 신메뉴 2종 출시 기념 및 고객 성원 보답 이벤트 진행\n",
            "1\n",
            "negative 비교단어 :  매각 clean_title :  BBQ bhc 매각後 8년엇갈린 양사 운명\n",
            "-1\n",
            "0\n",
            "0\n",
            "0\n",
            "0\n",
            "0\n"
          ],
          "name": "stdout"
        },
        {
          "output_type": "stream",
          "text": [
            "\r  3%|▎         | 3/101 [00:03<01:52,  1.15s/it]"
          ],
          "name": "stderr"
        },
        {
          "output_type": "stream",
          "text": [
            "0\n",
            "0\n",
            "0\n",
            "0\n",
            "positive 비교단어 :  돌파 clean_title :  bhc 2020년 매출 사상 첫 4000억원 돌파선두 바짝 추격\n",
            "1\n",
            "positive 비교단어 :  증가 clean_title :  bhc 전년대비 매출 26증가··· 교촌과 함께 매출 4000억클럽가입 양강구\n",
            "1\n",
            "0\n",
            "0\n",
            "0\n",
            "0\n"
          ],
          "name": "stdout"
        },
        {
          "output_type": "stream",
          "text": [
            "\r  4%|▍         | 4/101 [00:04<01:49,  1.12s/it]"
          ],
          "name": "stderr"
        },
        {
          "output_type": "stream",
          "text": [
            "positive 비교단어 :  출시 clean_title :  bhc치킨 뿌링클 2014년 11월 출시한 이래 6년간 5200만 개 판매 \n",
            "1\n",
            "0\n",
            "positive 비교단어 :  돌파 clean_title :  bhc치킨 뿌링클 누적판매 5200만개 돌파\n",
            "1\n",
            "0\n",
            "0\n",
            "0\n",
            "positive 비교단어 :  돌파 clean_title :  bhc치킨 뿌링클 누적판매 5200만 개 돌파\n",
            "1\n",
            "0\n",
            "positive 비교단어 :  돌파 clean_title :  뿌링클 매직 계속된다bhc치킨 뿌링핫도그’ 출시 1년만 100만개 돌파\n",
            "1\n",
            "0\n"
          ],
          "name": "stdout"
        },
        {
          "output_type": "stream",
          "text": [
            "\r  5%|▍         | 5/101 [00:05<01:46,  1.11s/it]"
          ],
          "name": "stderr"
        },
        {
          "output_type": "stream",
          "text": [
            "0\n",
            "0\n",
            "0\n",
            "0\n",
            "negative 비교단어 :  항의 clean_title :  주문 2시간이 지나도 치킨이 안 와 사장에게 항의한 고객이 들은 비현실적 대\n",
            "-1\n",
            "positive 비교단어 :  진출 clean_title :  뿌링클을 여기에 뿌린다고” BHC ○○ 사업 진출한다\n",
            "1\n",
            "0\n",
            "0\n",
            "0\n",
            "positive 비교단어 :  1위 clean_title :  2021 치킨 게임 ③ bhc치킨 박현종 bhc 회장 과감한 혁신으로 1위 넘본다\n",
            "1\n"
          ],
          "name": "stdout"
        },
        {
          "output_type": "stream",
          "text": [
            "\r  6%|▌         | 6/101 [00:06<01:44,  1.10s/it]"
          ],
          "name": "stderr"
        },
        {
          "output_type": "stream",
          "text": [
            "0\n",
            "0\n",
            "0\n",
            "negative 비교단어 :  논란 clean_title :  bhc치킨 뿌링클 제조를 포장용 봉투에가맹점 위생 논란\n",
            "-1\n",
            "0\n",
            "0\n",
            "0\n",
            "positive 비교단어 :  인기 clean_title :  bhc치킨 뿌링클순살 이어 골드킹 순살’폭발적 인기\n",
            "1\n",
            "0\n",
            "0\n"
          ],
          "name": "stdout"
        },
        {
          "output_type": "stream",
          "text": [
            "\r  7%|▋         | 7/101 [00:07<01:41,  1.08s/it]"
          ],
          "name": "stderr"
        },
        {
          "output_type": "stream",
          "text": [
            "0\n",
            "0\n",
            "0\n",
            "0\n",
            "0\n",
            "0\n",
            "0\n",
            "positive 비교단어 :  돌풍 clean_title :  뿌링클부터 맵소킹까지신메뉴 돌풍 일으킨 bhc치킨 성공신화 이어나가나\n",
            "1\n",
            "positive 비교단어 :  신제품 clean_title :  bhc치킨 스테디셀러 뿌링클 활용 신제품으로 시장 공략\n",
            "1\n",
            "0\n"
          ],
          "name": "stdout"
        },
        {
          "output_type": "stream",
          "text": [
            "\r  8%|▊         | 8/101 [00:08<01:40,  1.08s/it]"
          ],
          "name": "stderr"
        },
        {
          "output_type": "stream",
          "text": [
            "0\n",
            "0\n",
            "0\n",
            "0\n",
            "0\n",
            "positive 비교단어 :  출시 clean_title :  유통 핫피플뿌링클 아성에 도전하는 골드킹 윙’ 출시까지 보류하며 맛\n",
            "1\n",
            "0\n",
            "0\n",
            "0\n",
            "positive 비교단어 :  인기 clean_title :  뿌링클 인기 뛰어넘을 정도로 불티나게 팔린다는 bhc 신메뉴\n",
            "1\n"
          ],
          "name": "stdout"
        },
        {
          "output_type": "stream",
          "text": [
            "\r  9%|▉         | 9/101 [00:09<01:37,  1.06s/it]"
          ],
          "name": "stderr"
        },
        {
          "output_type": "stream",
          "text": [
            "0\n",
            "0\n",
            "positive 비교단어 :  출시 clean_title :  출시 5년 BHC 뿌링클’ 3400만개 판매\n",
            "1\n",
            "positive 비교단어 :  돌파 clean_title :  bhc치킨 뿌링클 출시 5년만에 3천400만개 판매 돌파\n",
            "1\n",
            "0\n",
            "0\n",
            "0\n",
            "negative 비교단어 :  문제 clean_title :  해커스텝스 텝스 시험 대비 실전문제 무료 제공\n",
            "-1\n",
            "positive 비교단어 :  인기 clean_title :  종로·명동·숭실대서 잘 나가는 bhc치킨뿌링클 인기 고공행진\n",
            "1\n",
            "0\n"
          ],
          "name": "stdout"
        },
        {
          "output_type": "stream",
          "text": [
            "\r 10%|▉         | 10/101 [00:10<01:35,  1.05s/it]"
          ],
          "name": "stderr"
        },
        {
          "output_type": "stream",
          "text": [
            "0\n",
            "0\n",
            "0\n",
            "positive 비교단어 :  새로운 clean_title :  메가히트상품탄생스토리치킨업계 새로운 패러다임을 제시한 bhc 뿌링클\n",
            "1\n",
            "positive 비교단어 :  출시 clean_title :  bhc치킨 핫도그에 뿌링클 더한 뿌링핫도그 출시\n",
            "1\n",
            "positive 비교단어 :  열풍 clean_title :  치킨업계 부캐 열풍사이드 메뉴 매출↑\n",
            "1\n",
            "0\n",
            "positive 비교단어 :  출시 clean_title :  SR새상품 bhc치킨 오스틱 시리즈 출시···뿌링클 등 5가지 맛\n",
            "1\n",
            "0\n",
            "0\n"
          ],
          "name": "stdout"
        },
        {
          "output_type": "stream",
          "text": [
            "\r 11%|█         | 11/101 [00:12<01:41,  1.13s/it]"
          ],
          "name": "stderr"
        },
        {
          "output_type": "stream",
          "text": [
            "positive 비교단어 :  돌파 clean_title :  bhc치킨 뿌링클 출시 6년 만에 누적 판매 5200만개 돌파\n",
            "1\n",
            "0\n",
            "positive 비교단어 :  돌파 clean_title :  bhc치킨 뿌링클 누적판매 5200만개 돌파\n",
            "1\n",
            "0\n",
            "0\n",
            "0\n",
            "positive 비교단어 :  돌파 clean_title :  bhc치킨 뿌링클 누적판매 5200만 개 돌파\n",
            "1\n",
            "0\n",
            "0\n",
            "0\n"
          ],
          "name": "stdout"
        },
        {
          "output_type": "stream",
          "text": [
            "\r 12%|█▏        | 12/101 [00:13<01:37,  1.10s/it]"
          ],
          "name": "stderr"
        },
        {
          "output_type": "stream",
          "text": [
            "positive 비교단어 :  돌파 clean_title :  bhc치킨 뿌링클 누적판매 5200만 개 돌파\n",
            "1\n",
            "0\n",
            "0\n",
            "0\n",
            "positive 비교단어 :  돌파 clean_title :  뿌링클 매직 계속된다bhc치킨 뿌링핫도그’ 출시 1년만 100만개 돌파\n",
            "1\n",
            "0\n",
            "0\n",
            "0\n",
            "0\n",
            "0\n"
          ],
          "name": "stdout"
        },
        {
          "output_type": "stream",
          "text": [
            "\r 13%|█▎        | 13/101 [00:14<01:37,  1.11s/it]"
          ],
          "name": "stderr"
        },
        {
          "output_type": "stream",
          "text": [
            "positive 비교단어 :  출시 clean_title :  bhc치킨 뿌링클 2014년 11월 출시 이후 6년간 5200만개 팔렸다\n",
            "1\n",
            "0\n",
            "0\n",
            "positive 비교단어 :  돌파 clean_title :  뿌링클 매직 계속된다bhc치킨 뿌링핫도그’ 출시 1년만 100만개 돌파\n",
            "1\n",
            "0\n",
            "0\n",
            "0\n",
            "0\n",
            "0\n",
            "negative 비교단어 :  항의 clean_title :  주문 2시간이 지나도 치킨이 안 와 사장에게 항의한 고객이 들은 비현실적 대\n",
            "-1\n"
          ],
          "name": "stdout"
        },
        {
          "output_type": "stream",
          "text": [
            "\r 14%|█▍        | 14/101 [00:15<01:34,  1.09s/it]"
          ],
          "name": "stderr"
        },
        {
          "output_type": "stream",
          "text": [
            "0\n",
            "0\n",
            "0\n",
            "positive 비교단어 :  돌파 clean_title :  뿌링클 매직 계속된다bhc치킨 뿌링핫도그’ 출시 1년만 100만개 돌파\n",
            "1\n",
            "0\n",
            "0\n",
            "0\n",
            "0\n",
            "0\n",
            "negative 비교단어 :  항의 clean_title :  주문 2시간이 지나도 치킨이 안 와 사장에게 항의한 고객이 들은 비현실적 대\n",
            "-1\n"
          ],
          "name": "stdout"
        },
        {
          "output_type": "stream",
          "text": [
            "\r 15%|█▍        | 15/101 [00:16<01:38,  1.15s/it]"
          ],
          "name": "stderr"
        },
        {
          "output_type": "stream",
          "text": [
            "0\n",
            "0\n",
            "0\n",
            "positive 비교단어 :  돌파 clean_title :  뿌링클 매직 계속된다bhc치킨 뿌링핫도그’ 출시 1년만 100만개 돌파\n",
            "1\n",
            "0\n",
            "0\n",
            "0\n",
            "0\n",
            "0\n",
            "negative 비교단어 :  항의 clean_title :  주문 2시간이 지나도 치킨이 안 와 사장에게 항의한 고객이 들은 비현실적 대\n",
            "-1\n"
          ],
          "name": "stdout"
        },
        {
          "output_type": "stream",
          "text": [
            "\r 16%|█▌        | 16/101 [00:17<01:35,  1.12s/it]"
          ],
          "name": "stderr"
        },
        {
          "output_type": "stream",
          "text": [
            "0\n",
            "0\n",
            "0\n",
            "0\n",
            "0\n",
            "0\n",
            "0\n",
            "negative 비교단어 :  항의 clean_title :  주문 2시간이 지나도 치킨이 안 와 사장에게 항의한 고객이 들은 비현실적 대\n",
            "-1\n",
            "positive 비교단어 :  돌파 clean_title :  bhc 지난해 매출 4000억 돌파 역대 최대’\n",
            "1\n",
            "positive 비교단어 :  진출 clean_title :  뿌링클을 여기에 뿌린다고” BHC ○○ 사업 진출한다\n",
            "1\n"
          ],
          "name": "stdout"
        },
        {
          "output_type": "stream",
          "text": [
            "\r 17%|█▋        | 17/101 [00:18<01:31,  1.09s/it]"
          ],
          "name": "stderr"
        },
        {
          "output_type": "stream",
          "text": [
            "0\n",
            "positive 비교단어 :  돌파 clean_title :  bhc 지난해 매출 4000억 돌파 역대 최대’\n",
            "1\n",
            "positive 비교단어 :  진출 clean_title :  뿌링클을 여기에 뿌린다고” BHC ○○ 사업 진출한다\n",
            "1\n",
            "0\n",
            "0\n",
            "0\n",
            "0\n",
            "0\n",
            "positive 비교단어 :  1위 clean_title :  2021 치킨 게임 ③ bhc치킨 박현종 bhc 회장 과감한 혁신으로 1위 넘본다\n",
            "1\n",
            "0\n"
          ],
          "name": "stdout"
        },
        {
          "output_type": "stream",
          "text": [
            "\r 18%|█▊        | 18/101 [00:19<01:29,  1.08s/it]"
          ],
          "name": "stderr"
        },
        {
          "output_type": "stream",
          "text": [
            "positive 비교단어 :  1위 clean_title :  2021 치킨 게임 ③ bhc치킨 박현종 bhc 회장 과감한 혁신으로 1위 넘본다\n",
            "1\n",
            "0\n",
            "0\n",
            "0\n",
            "negative 비교단어 :  논란 clean_title :  bhc치킨 뿌링클 제조를 포장용 봉투에가맹점 위생 논란\n",
            "-1\n",
            "0\n",
            "0\n",
            "0\n",
            "0\n",
            "positive 비교단어 :  돌파 clean_title :  bhc치킨 지난해 최대 실적매출 사상 첫 4000억 돌파\n",
            "1\n"
          ],
          "name": "stdout"
        },
        {
          "output_type": "stream",
          "text": [
            "\r 19%|█▉        | 19/101 [00:20<01:27,  1.07s/it]"
          ],
          "name": "stderr"
        },
        {
          "output_type": "stream",
          "text": [
            "0\n",
            "0\n",
            "positive 비교단어 :  돌파 clean_title :  bhc치킨 지난해 최대 실적매출 사상 첫 4000억 돌파\n",
            "1\n",
            "0\n",
            "0\n",
            "positive 비교단어 :  인기 clean_title :  bhc치킨 뿌링클순살 이어 골드킹 순살’폭발적 인기\n",
            "1\n",
            "0\n",
            "0\n",
            "0\n",
            "0\n"
          ],
          "name": "stdout"
        },
        {
          "output_type": "stream",
          "text": [
            "\r 20%|█▉        | 20/101 [00:21<01:26,  1.06s/it]"
          ],
          "name": "stderr"
        },
        {
          "output_type": "stream",
          "text": [
            "0\n",
            "positive 비교단어 :  출시 clean_title :  고작 출시 3개월 됐는데 뿌링클을 위협할 정도로 확 뜨고 있는 그 치킨\n",
            "1\n",
            "0\n",
            "0\n",
            "positive 비교단어 :  신메뉴 clean_title :  bhc치킨 신메뉴 배민 주문하면 5천원 할인\n",
            "1\n",
            "0\n",
            "0\n",
            "0\n",
            "0\n",
            "0\n"
          ],
          "name": "stdout"
        },
        {
          "output_type": "stream",
          "text": [
            "\r 21%|██        | 21/101 [00:22<01:29,  1.11s/it]"
          ],
          "name": "stderr"
        },
        {
          "output_type": "stream",
          "text": [
            "0\n",
            "0\n",
            "0\n",
            "0\n",
            "0\n",
            "0\n",
            "0\n",
            "0\n",
            "0\n",
            "positive 비교단어 :  돌풍 clean_title :  뿌링클부터 맵소킹까지신메뉴 돌풍 일으킨 bhc치킨 성공신화 이어나가나\n",
            "1\n"
          ],
          "name": "stdout"
        },
        {
          "output_type": "stream",
          "text": [
            "\r 22%|██▏       | 22/101 [00:24<01:26,  1.09s/it]"
          ],
          "name": "stderr"
        },
        {
          "output_type": "stream",
          "text": [
            "positive 비교단어 :  돌풍 clean_title :  뿌링클부터 맵소킹까지신메뉴 돌풍 일으킨 bhc치킨 성공신화 이어나가나\n",
            "1\n",
            "positive 비교단어 :  신제품 clean_title :  bhc치킨 스테디셀러 뿌링클 활용 신제품으로 시장 공략\n",
            "1\n",
            "0\n",
            "positive 비교단어 :  최고 clean_title :  bhc치킨 5월 어린이날 최고 판매량 기록\n",
            "1\n",
            "0\n",
            "0\n",
            "0\n",
            "0\n",
            "positive 비교단어 :  돌파 clean_title :  SR유통 bhc치킨 지난해 사상 첫 4000억원 돌파최대 실적\n",
            "1\n",
            "0\n"
          ],
          "name": "stdout"
        },
        {
          "output_type": "stream",
          "text": [
            "\r 23%|██▎       | 23/101 [00:25<01:24,  1.08s/it]"
          ],
          "name": "stderr"
        },
        {
          "output_type": "stream",
          "text": [
            "0\n",
            "0\n",
            "0\n",
            "0\n",
            "0\n",
            "positive 비교단어 :  돌파 clean_title :  bhc치킨 지난해 사상 첫 4000억 원 돌파 최대 실적 기록\n",
            "1\n",
            "0\n",
            "positive 비교단어 :  출시 clean_title :  유통 핫피플뿌링클 아성에 도전하는 골드킹 윙’ 출시까지 보류하며 맛\n",
            "1\n",
            "0\n",
            "0\n"
          ],
          "name": "stdout"
        },
        {
          "output_type": "stream",
          "text": [
            "\r 24%|██▍       | 24/101 [00:26<01:22,  1.07s/it]"
          ],
          "name": "stderr"
        },
        {
          "output_type": "stream",
          "text": [
            "0\n",
            "0\n",
            "0\n",
            "0\n",
            "0\n",
            "0\n",
            "0\n",
            "0\n",
            "positive 비교단어 :  돌파 clean_title :  bhc치킨 지난해 매출 첫 4000억 원 돌파\n",
            "1\n",
            "positive 비교단어 :  인기 clean_title :  뿌링클 인기 뛰어넘을 정도로 불티나게 팔린다는 bhc 신메뉴\n",
            "1\n"
          ],
          "name": "stdout"
        },
        {
          "output_type": "stream",
          "text": [
            "\r 25%|██▍       | 25/101 [00:27<01:21,  1.07s/it]"
          ],
          "name": "stderr"
        },
        {
          "output_type": "stream",
          "text": [
            "0\n",
            "positive 비교단어 :  최고 clean_title :  bhc치킨 5월 어린이날 판매량 최고치\n",
            "1\n",
            "0\n",
            "0\n",
            "0\n",
            "positive 비교단어 :  돌파 clean_title :  bhc치킨 지난해 매출 첫 4000억 원 돌파\n",
            "1\n",
            "positive 비교단어 :  인기 clean_title :  뿌링클 인기 뛰어넘을 정도로 불티나게 팔린다는 bhc 신메뉴\n",
            "1\n",
            "0\n",
            "0\n",
            "0\n"
          ],
          "name": "stdout"
        },
        {
          "output_type": "stream",
          "text": [
            "\r 26%|██▌       | 26/101 [00:28<01:21,  1.09s/it]"
          ],
          "name": "stderr"
        },
        {
          "output_type": "stream",
          "text": [
            "positive 비교단어 :  출시 clean_title :  bhc치킨 윙스타 시리즈 출시 한 달만에 21만개 판매제2의 뿌링클될까\n",
            "1\n",
            "0\n",
            "0\n",
            "0\n",
            "0\n",
            "0\n",
            "positive 비교단어 :  출시 clean_title :  출시 5년 BHC 뿌링클’ 3400만개 판매\n",
            "1\n",
            "positive 비교단어 :  돌파 clean_title :  bhc치킨 매출 4000억 첫 돌파7년만에 4배 껑충\n",
            "1\n",
            "positive 비교단어 :  돌파 clean_title :  bhc치킨 뿌링클 출시 5년만에 3천400만개 판매 돌파\n",
            "1\n",
            "0\n"
          ],
          "name": "stdout"
        },
        {
          "output_type": "stream",
          "text": [
            "\r 27%|██▋       | 27/101 [00:29<01:20,  1.08s/it]"
          ],
          "name": "stderr"
        },
        {
          "output_type": "stream",
          "text": [
            "positive 비교단어 :  돌파 clean_title :  bhc치킨 뿌링클 출시 5년만에 3천400만개 판매 돌파\n",
            "1\n",
            "0\n",
            "0\n",
            "0\n",
            "0\n",
            "0\n",
            "0\n",
            "negative 비교단어 :  문제 clean_title :  해커스텝스 텝스 시험 대비 실전문제 무료 제공\n",
            "-1\n",
            "positive 비교단어 :  인기 clean_title :  종로·명동·숭실대서 잘 나가는 bhc치킨뿌링클 인기 고공행진\n",
            "1\n",
            "0\n"
          ],
          "name": "stdout"
        },
        {
          "output_type": "stream",
          "text": [
            "\r 28%|██▊       | 28/101 [00:30<01:18,  1.08s/it]"
          ],
          "name": "stderr"
        },
        {
          "output_type": "stream",
          "text": [
            "positive 비교단어 :  돌파 clean_title :  bhc치킨 뿌링클’ 누적판매 3400만개 돌파\n",
            "1\n",
            "0\n",
            "0\n",
            "0\n",
            "0\n",
            "0\n",
            "0\n",
            "negative 비교단어 :  문제 clean_title :  해커스텝스 텝스 시험 대비 실전문제 무료 제공\n",
            "-1\n",
            "positive 비교단어 :  인기 clean_title :  종로·명동·숭실대서 잘 나가는 bhc치킨뿌링클 인기 고공행진\n",
            "1\n",
            "0\n"
          ],
          "name": "stdout"
        },
        {
          "output_type": "stream",
          "text": [
            "\r 29%|██▊       | 29/101 [00:31<01:16,  1.06s/it]"
          ],
          "name": "stderr"
        },
        {
          "output_type": "stream",
          "text": [
            "0\n",
            "0\n",
            "0\n",
            "0\n",
            "0\n",
            "0\n",
            "0\n",
            "negative 비교단어 :  문제 clean_title :  해커스텝스 텝스 시험 대비 실전문제 무료 제공\n",
            "-1\n",
            "positive 비교단어 :  인기 clean_title :  종로·명동·숭실대서 잘 나가는 bhc치킨뿌링클 인기 고공행진\n",
            "1\n",
            "0\n"
          ],
          "name": "stdout"
        },
        {
          "output_type": "stream",
          "text": [
            "\r 30%|██▉       | 30/101 [00:32<01:15,  1.07s/it]"
          ],
          "name": "stderr"
        },
        {
          "output_type": "stream",
          "text": [
            "positive 비교단어 :  출시 clean_title :  bhc 뿌링클 출시 5주년 국민치킨으로 등극\n",
            "1\n",
            "0\n",
            "0\n",
            "0\n",
            "0\n",
            "0\n",
            "0\n",
            "negative 비교단어 :  문제 clean_title :  해커스텝스 텝스 시험 대비 실전문제 무료 제공\n",
            "-1\n",
            "positive 비교단어 :  인기 clean_title :  종로·명동·숭실대서 잘 나가는 bhc치킨뿌링클 인기 고공행진\n",
            "1\n",
            "0\n"
          ],
          "name": "stdout"
        },
        {
          "output_type": "stream",
          "text": [
            "\r 31%|███       | 31/101 [00:33<01:13,  1.05s/it]"
          ],
          "name": "stderr"
        },
        {
          "output_type": "stream",
          "text": [
            "positive 비교단어 :  출시 clean_title :  bhc치킨 뿌링클 출시 5년만에 3천400만개 판매\n",
            "1\n",
            "0\n",
            "0\n",
            "0\n",
            "0\n",
            "0\n",
            "0\n",
            "negative 비교단어 :  문제 clean_title :  해커스텝스 텝스 시험 대비 실전문제 무료 제공\n",
            "-1\n",
            "positive 비교단어 :  인기 clean_title :  종로·명동·숭실대서 잘 나가는 bhc치킨뿌링클 인기 고공행진\n",
            "1\n",
            "0\n"
          ],
          "name": "stdout"
        },
        {
          "output_type": "stream",
          "text": [
            "\r 32%|███▏      | 32/101 [00:34<01:11,  1.04s/it]"
          ],
          "name": "stderr"
        },
        {
          "output_type": "stream",
          "text": [
            "positive 비교단어 :  인기 clean_title :  종로·명동·숭실대서 잘 나가는 bhc치킨뿌링클 인기 고공행진\n",
            "1\n",
            "0\n",
            "0\n",
            "0\n",
            "0\n",
            "0\n",
            "0\n",
            "positive 비교단어 :  새로운 clean_title :  메가히트상품탄생스토리치킨업계 새로운 패러다임을 제시한 bhc 뿌링클\n",
            "1\n",
            "positive 비교단어 :  출시 clean_title :  bhc치킨 핫도그에 뿌링클 더한 뿌링핫도그 출시\n",
            "1\n",
            "positive 비교단어 :  열풍 clean_title :  치킨업계 부캐 열풍사이드 메뉴 매출↑\n",
            "1\n"
          ],
          "name": "stdout"
        },
        {
          "output_type": "stream",
          "text": [
            "\r 33%|███▎      | 33/101 [00:35<01:10,  1.03s/it]"
          ],
          "name": "stderr"
        },
        {
          "output_type": "stream",
          "text": [
            "positive 비교단어 :  열풍 clean_title :  치킨업계 부캐 열풍사이드 메뉴 매출↑\n",
            "1\n",
            "0\n",
            "positive 비교단어 :  출시 clean_title :  SR새상품 bhc치킨 오스틱 시리즈 출시···뿌링클 등 5가지 맛\n",
            "1\n",
            "0\n",
            "0\n",
            "0\n",
            "0\n",
            "positive 비교단어 :  신메뉴 clean_title :  뿌링클 시즈닝 접목 bhc치킨이 야침차게 선보인 사이드 신메뉴 뿌링핫도그\n",
            "1\n",
            "0\n",
            "positive 비교단어 :  증가 clean_title :  치킨 빅3 코로나 특수에 실적 방긋수익성 bhc 이익증가율 BBQ\n",
            "1\n"
          ],
          "name": "stdout"
        },
        {
          "output_type": "stream",
          "text": [
            "\r 34%|███▎      | 34/101 [00:36<01:09,  1.03s/it]"
          ],
          "name": "stderr"
        },
        {
          "output_type": "stream",
          "text": [
            "positive 비교단어 :  증가 clean_title :  치킨 빅3 코로나 특수에 실적 방긋수익성 bhc 이익증가율 BBQ\n",
            "1\n",
            "0\n",
            "positive 비교단어 :  인기 clean_title :  bhc치킨 매운맛 뿌링클 핫 치킨 맵스터 마라칸치킨 등 꾸준히 인기\n",
            "1\n",
            "0\n",
            "positive 비교단어 :  돌파 clean_title :  bhc치킨 지난해 매출 4천억 돌파교촌과 양대산맥 형성\n",
            "1\n",
            "0\n",
            "0\n",
            "0\n",
            "0\n",
            "0\n"
          ],
          "name": "stdout"
        },
        {
          "output_type": "stream",
          "text": [
            "\r 35%|███▍      | 35/101 [00:37<01:08,  1.04s/it]"
          ],
          "name": "stderr"
        },
        {
          "output_type": "stream",
          "text": [
            "0\n",
            "0\n",
            "0\n",
            "0\n",
            "positive 비교단어 :  인기 clean_title :  bhc치킨 종로점 日 평균 250명 방문뿌링클·맛초킹 인기”\n",
            "1\n",
            "0\n",
            "0\n",
            "0\n",
            "0\n",
            "positive 비교단어 :  출시 clean_title :  bhc치킨 대표 메뉴 뿌링클 맛 나는 뿌링 치즈볼 등 사이드 메뉴 4종 출시\n",
            "1\n"
          ],
          "name": "stdout"
        },
        {
          "output_type": "stream",
          "text": [
            "\r 36%|███▌      | 36/101 [00:38<01:07,  1.04s/it]"
          ],
          "name": "stderr"
        },
        {
          "output_type": "stream",
          "text": [
            "0\n",
            "0\n",
            "positive 비교단어 :  출시 clean_title :  bhc치킨 대표 메뉴 뿌링클 맛 나는 뿌링 치즈볼 등 사이드 메뉴 4종 출시\n",
            "1\n",
            "positive 비교단어 :  대박 clean_title :  bhc치킨에서 뿌링클’ 잇는 대박치킨이 드디어 나왔다는데\n",
            "1\n",
            "0\n",
            "0\n",
            "0\n",
            "0\n",
            "0\n",
            "0\n"
          ],
          "name": "stdout"
        },
        {
          "output_type": "stream",
          "text": [
            "\r 37%|███▋      | 37/101 [00:40<01:11,  1.12s/it]"
          ],
          "name": "stderr"
        },
        {
          "output_type": "stream",
          "text": [
            "0\n",
            "0\n",
            "0\n",
            "0\n",
            "0\n",
            "positive 비교단어 :  돌파 clean_title :  bhc치킨 지난해 매출 4000억원 돌파사상 최대 실적\n",
            "1\n",
            "0\n",
            "0\n",
            "0\n",
            "0\n"
          ],
          "name": "stdout"
        },
        {
          "output_type": "stream",
          "text": [
            "\r 38%|███▊      | 38/101 [00:41<01:09,  1.10s/it]"
          ],
          "name": "stderr"
        },
        {
          "output_type": "stream",
          "text": [
            "0\n",
            "0\n",
            "0\n",
            "0\n",
            "positive 비교단어 :  돌파 clean_title :  bhc치킨 인기메뉴 뿌링클 누적판매 2300만개 돌파\n",
            "1\n",
            "positive 비교단어 :  신상 clean_title :  쫀득 치즈볼에 달콤짭짤 뿌링클 가루 듬뿍 뿌려진 BHC 신상 뿌링치즈볼\n",
            "1\n",
            "0\n",
            "0\n",
            "positive 비교단어 :  출시 clean_title :  bhc치킨 뿌링클 계보 잇는 신메뉴 블랙올리브’ 출시\n",
            "1\n",
            "positive 비교단어 :  오픈 clean_title :  위메프 뿌링클 또 대란 오픈직후 2500개 수량 sold out\n",
            "1\n"
          ],
          "name": "stdout"
        },
        {
          "output_type": "stream",
          "text": [
            "\r 39%|███▊      | 39/101 [00:42<01:08,  1.11s/it]"
          ],
          "name": "stderr"
        },
        {
          "output_type": "stream",
          "text": [
            "0\n",
            "0\n",
            "positive 비교단어 :  돌파 clean_title :  bhc치킨 인기메뉴 뿌링클 누적판매 2300만개 돌파\n",
            "1\n",
            "positive 비교단어 :  신상 clean_title :  쫀득 치즈볼에 달콤짭짤 뿌링클 가루 듬뿍 뿌려진 BHC 신상 뿌링치즈볼\n",
            "1\n",
            "0\n",
            "0\n",
            "positive 비교단어 :  출시 clean_title :  bhc치킨 뿌링클 계보 잇는 신메뉴 블랙올리브’ 출시\n",
            "1\n",
            "positive 비교단어 :  오픈 clean_title :  위메프 뿌링클 또 대란 오픈직후 2500개 수량 sold out\n",
            "1\n",
            "positive 비교단어 :  최고 clean_title :  위메프 뿌링클 줄 서다가 끝 소비자 뿔났다역대 최고 열기 노리나\n",
            "1\n",
            "0\n"
          ],
          "name": "stdout"
        },
        {
          "output_type": "stream",
          "text": [
            "\r 40%|███▉      | 40/101 [00:43<01:05,  1.08s/it]"
          ],
          "name": "stderr"
        },
        {
          "output_type": "stream",
          "text": [
            "0\n",
            "0\n",
            "positive 비교단어 :  돌파 clean_title :  bhc치킨 인기메뉴 뿌링클 누적판매 2300만개 돌파\n",
            "1\n",
            "positive 비교단어 :  신상 clean_title :  쫀득 치즈볼에 달콤짭짤 뿌링클 가루 듬뿍 뿌려진 BHC 신상 뿌링치즈볼\n",
            "1\n",
            "0\n",
            "0\n",
            "positive 비교단어 :  출시 clean_title :  bhc치킨 뿌링클 계보 잇는 신메뉴 블랙올리브’ 출시\n",
            "1\n",
            "positive 비교단어 :  오픈 clean_title :  위메프 뿌링클 또 대란 오픈직후 2500개 수량 sold out\n",
            "1\n",
            "positive 비교단어 :  최고 clean_title :  위메프 뿌링클 줄 서다가 끝 소비자 뿔났다역대 최고 열기 노리나\n",
            "1\n",
            "0\n"
          ],
          "name": "stdout"
        },
        {
          "output_type": "stream",
          "text": [
            "\r 41%|████      | 41/101 [00:44<01:07,  1.13s/it]"
          ],
          "name": "stderr"
        },
        {
          "output_type": "stream",
          "text": [
            "0\n",
            "0\n",
            "positive 비교단어 :  출시 clean_title :  bhc치킨 뿌링클 계보 잇는 신메뉴 블랙올리브’ 출시\n",
            "1\n",
            "positive 비교단어 :  오픈 clean_title :  위메프 뿌링클 또 대란 오픈직후 2500개 수량 sold out\n",
            "1\n",
            "positive 비교단어 :  최고 clean_title :  위메프 뿌링클 줄 서다가 끝 소비자 뿔났다역대 최고 열기 노리나\n",
            "1\n",
            "0\n",
            "0\n",
            "0\n",
            "positive 비교단어 :  돌파 clean_title :  누적판매 2300만개 돌파 bhc 치킨 뿌링클\n",
            "1\n",
            "0\n"
          ],
          "name": "stdout"
        },
        {
          "output_type": "stream",
          "text": [
            "\r 42%|████▏     | 42/101 [00:45<01:05,  1.12s/it]"
          ],
          "name": "stderr"
        },
        {
          "output_type": "stream",
          "text": [
            "0\n",
            "0\n",
            "0\n",
            "0\n",
            "positive 비교단어 :  돌파 clean_title :  누적판매 2300만개 돌파 bhc 치킨 뿌링클\n",
            "1\n",
            "0\n",
            "positive 비교단어 :  돌파 clean_title :  bhc 연매출 4000억 돌파 최대 실적치킨왕좌 눈 앞\n",
            "1\n",
            "0\n",
            "0\n",
            "0\n"
          ],
          "name": "stdout"
        },
        {
          "output_type": "stream",
          "text": [
            "\r 43%|████▎     | 43/101 [00:46<01:03,  1.10s/it]"
          ],
          "name": "stderr"
        },
        {
          "output_type": "stream",
          "text": [
            "0\n",
            "0\n",
            "positive 비교단어 :  돌파 clean_title :  bhc 뿌링클’ 누적판매 2300만개 돌파\n",
            "1\n",
            "0\n",
            "0\n",
            "0\n",
            "0\n",
            "0\n",
            "0\n",
            "0\n"
          ],
          "name": "stdout"
        },
        {
          "output_type": "stream",
          "text": [
            "\r 44%|████▎     | 44/101 [00:47<01:02,  1.09s/it]"
          ],
          "name": "stderr"
        },
        {
          "output_type": "stream",
          "text": [
            "0\n",
            "0\n",
            "0\n",
            "0\n",
            "positive 비교단어 :  1위 clean_title :  지난해 bhc치킨 매출 1위는 뿌링클 2위는\n",
            "1\n",
            "positive 비교단어 :  돌파 clean_title :  bhc치킨 뿌링클 누적판매 2300만개 돌파 2명당 1마리 주문\n",
            "1\n",
            "positive 비교단어 :  돌파 clean_title :  2명당 1마리 주문한 bhc치킨 뿌링클 누적판매 2300만개 돌파\n",
            "1\n",
            "positive 비교단어 :  돌파 clean_title :  bhc치킨 뿌링클 누적판매 2300만개 돌파\n",
            "1\n",
            "positive 비교단어 :  돌파 clean_title :  2명당 1마리 주문한 bhc치킨 뿌링클 누적판매 2300만개 돌파\n",
            "1\n",
            "positive 비교단어 :  돌파 clean_title :  bhc치킨 지난해 매출 사상 첫 4천억원 돌파\n",
            "1\n"
          ],
          "name": "stdout"
        },
        {
          "output_type": "stream",
          "text": [
            "\r 45%|████▍     | 45/101 [00:48<01:00,  1.08s/it]"
          ],
          "name": "stderr"
        },
        {
          "output_type": "stream",
          "text": [
            "positive 비교단어 :  돌파 clean_title :  bhc치킨 뿌링클 누적판매 2300만개 돌파 2명당 1마리 주문\n",
            "1\n",
            "0\n",
            "positive 비교단어 :  열풍 clean_title :  90분만에 치킨 1억4천만원 판매” 10조원 시장 라방’ 열풍 IT선빵\n",
            "1\n",
            "0\n",
            "positive 비교단어 :  돌파 clean_title :  bhc치킨 뿌링클 누적판매 2300만개 돌파2명당 1마리 주문\n",
            "1\n",
            "positive 비교단어 :  돌파 clean_title :  bhc치킨 뿌링클 누적판매 2300만개 돌파 2명당 1마리 주문\n",
            "1\n",
            "0\n",
            "0\n",
            "0\n",
            "0\n"
          ],
          "name": "stdout"
        },
        {
          "output_type": "stream",
          "text": [
            "\r 46%|████▌     | 46/101 [00:49<00:58,  1.07s/it]"
          ],
          "name": "stderr"
        },
        {
          "output_type": "stream",
          "text": [
            "positive 비교단어 :  돌파 clean_title :  bhc치킨 뿌링클 누적판매 2300만개 돌파\n",
            "1\n",
            "0\n",
            "0\n",
            "0\n",
            "0\n",
            "0\n",
            "positive 비교단어 :  오픈 clean_title :  위메프 뿌링클이 1000원대오후 수량도 오픈하자마자 매진\n",
            "1\n",
            "0\n",
            "0\n",
            "positive 비교단어 :  출시 clean_title :  bhc치킨 사이드 신메뉴 출시 이벤트 진행 월요병 처방은 뿌링클 패밀리\n",
            "1\n"
          ],
          "name": "stdout"
        },
        {
          "output_type": "stream",
          "text": [
            "\r 47%|████▋     | 47/101 [00:51<01:01,  1.13s/it]"
          ],
          "name": "stderr"
        },
        {
          "output_type": "stream",
          "text": [
            "positive 비교단어 :  돌파 clean_title :  bhc치킨 뿌링클 누적판매 2300만개 돌파\n",
            "1\n",
            "0\n",
            "0\n",
            "0\n",
            "0\n",
            "0\n",
            "positive 비교단어 :  오픈 clean_title :  위메프 뿌링클이 1000원대오후 수량도 오픈하자마자 매진\n",
            "1\n",
            "0\n",
            "0\n",
            "positive 비교단어 :  출시 clean_title :  bhc치킨 사이드 신메뉴 출시 이벤트 진행 월요병 처방은 뿌링클 패밀리\n",
            "1\n"
          ],
          "name": "stdout"
        },
        {
          "output_type": "stream",
          "text": [
            "\r 48%|████▊     | 48/101 [00:52<00:59,  1.12s/it]"
          ],
          "name": "stderr"
        },
        {
          "output_type": "stream",
          "text": [
            "0\n",
            "0\n",
            "0\n",
            "0\n",
            "0\n",
            "0\n",
            "positive 비교단어 :  오픈 clean_title :  위메프 뿌링클이 1000원대오후 수량도 오픈하자마자 매진\n",
            "1\n",
            "0\n",
            "0\n",
            "positive 비교단어 :  출시 clean_title :  bhc치킨 사이드 신메뉴 출시 이벤트 진행 월요병 처방은 뿌링클 패밀리\n",
            "1\n"
          ],
          "name": "stdout"
        },
        {
          "output_type": "stream",
          "text": [
            "\r 49%|████▊     | 49/101 [00:53<00:57,  1.10s/it]"
          ],
          "name": "stderr"
        },
        {
          "output_type": "stream",
          "text": [
            "0\n",
            "0\n",
            "0\n",
            "positive 비교단어 :  출시 clean_title :  bhc치킨 사이드 신메뉴 출시 이벤트 진행 월요병 처방은 뿌링클 패밀리\n",
            "1\n",
            "0\n",
            "0\n",
            "positive 비교단어 :  돌풍 clean_title :  bhc 박현종 회장 전문경영인→오너 변신 뿌링클 돌풍 재현할까\n",
            "1\n",
            "0\n",
            "0\n",
            "0\n"
          ],
          "name": "stdout"
        },
        {
          "output_type": "stream",
          "text": [
            "\r 50%|████▉     | 50/101 [00:54<00:55,  1.08s/it]"
          ],
          "name": "stderr"
        },
        {
          "output_type": "stream",
          "text": [
            "0\n",
            "0\n",
            "positive 비교단어 :  돌풍 clean_title :  bhc 박현종 회장 전문경영인→오너 변신 뿌링클 돌풍 재현할까\n",
            "1\n",
            "0\n",
            "0\n",
            "0\n",
            "0\n",
            "negative 비교단어 :  침해 clean_title :  네네치킨 bhc와 뿌링클 치킨’ 특허권 침해 소송서 패소\n",
            "-1\n",
            "negative 비교단어 :  소송 clean_title :  네네치킨 bhc 뿌링클 폐기하라 패소하고도부정경쟁방지법으로 또 소송\n",
            "-1\n",
            "negative 비교단어 :  침해 clean_title :  법원 bhc 뿌링클’ 네네치킨 특허 침해 아냐”bhc 당연한 결과”\n",
            "-1\n"
          ],
          "name": "stdout"
        },
        {
          "output_type": "stream",
          "text": [
            "\r 50%|█████     | 51/101 [00:55<00:53,  1.08s/it]"
          ],
          "name": "stderr"
        },
        {
          "output_type": "stream",
          "text": [
            "negative 비교단어 :  침해 clean_title :  네네치킨 bhc와 뿌링클 치킨’ 특허권 침해 소송서 패소\n",
            "-1\n",
            "negative 비교단어 :  소송 clean_title :  네네치킨 bhc 뿌링클 폐기하라 패소하고도부정경쟁방지법으로 또 소송\n",
            "-1\n",
            "negative 비교단어 :  침해 clean_title :  법원 bhc 뿌링클’ 네네치킨 특허 침해 아냐”bhc 당연한 결과”\n",
            "-1\n",
            "0\n",
            "0\n",
            "0\n",
            "0\n",
            "positive 비교단어 :  1위 clean_title :  bhc치킨 삼복 특수로 매출 큰 폭 상승매출 1위는 뿌링클\n",
            "1\n",
            "0\n",
            "0\n"
          ],
          "name": "stdout"
        },
        {
          "output_type": "stream",
          "text": [
            "\r 51%|█████▏    | 52/101 [00:56<00:52,  1.06s/it]"
          ],
          "name": "stderr"
        },
        {
          "output_type": "stream",
          "text": [
            "negative 비교단어 :  침해 clean_title :  네네치킨 bhc 뿌링클 치킨에 특허권 침해 소송 패소\n",
            "-1\n",
            "0\n",
            "0\n",
            "0\n",
            "0\n",
            "positive 비교단어 :  1위 clean_title :  bhc치킨 삼복 특수로 매출 큰 폭 상승매출 1위는 뿌링클\n",
            "1\n",
            "0\n",
            "0\n",
            "0\n",
            "0\n"
          ],
          "name": "stdout"
        },
        {
          "output_type": "stream",
          "text": [
            "\r 52%|█████▏    | 53/101 [00:57<00:52,  1.09s/it]"
          ],
          "name": "stderr"
        },
        {
          "output_type": "stream",
          "text": [
            "0\n",
            "0\n",
            "positive 비교단어 :  1위 clean_title :  bhc치킨 삼복 특수로 매출 큰 폭 상승매출 1위는 뿌링클\n",
            "1\n",
            "0\n",
            "0\n",
            "0\n",
            "0\n",
            "0\n",
            "0\n",
            "0\n"
          ],
          "name": "stdout"
        },
        {
          "output_type": "stream",
          "text": [
            "\r 53%|█████▎    | 54/101 [00:58<00:50,  1.07s/it]"
          ],
          "name": "stderr"
        },
        {
          "output_type": "stream",
          "text": [
            "0\n",
            "0\n",
            "0\n",
            "0\n",
            "0\n",
            "0\n",
            "0\n",
            "0\n",
            "0\n",
            "positive 비교단어 :  인기 clean_title :  bhc치킨 순살 마니아 사로잡은 메뉴는 순살뿌링클 등 인기 탑3\n",
            "1\n"
          ],
          "name": "stdout"
        },
        {
          "output_type": "stream",
          "text": [
            "\r 54%|█████▍    | 55/101 [00:59<00:48,  1.06s/it]"
          ],
          "name": "stderr"
        },
        {
          "output_type": "stream",
          "text": [
            "0\n",
            "0\n",
            "0\n",
            "positive 비교단어 :  인기 clean_title :  bhc치킨 순살 마니아 사로잡은 메뉴는 순살뿌링클 등 인기 탑3\n",
            "1\n",
            "0\n",
            "0\n",
            "positive 비교단어 :  오픈 clean_title :  인터파크 17일 인생날 이벤트 오픈 타임딜진행10시 BHC뿌링클세트 특가\n",
            "1\n",
            "0\n",
            "0\n",
            "positive 비교단어 :  돌파 clean_title :  bhc치킨 지난해 매출 4000억 원 돌파전년比 26↑\n",
            "1\n"
          ],
          "name": "stdout"
        },
        {
          "output_type": "stream",
          "text": [
            "\r 55%|█████▌    | 56/101 [01:00<00:47,  1.06s/it]"
          ],
          "name": "stderr"
        },
        {
          "output_type": "stream",
          "text": [
            "0\n",
            "positive 비교단어 :  인기 clean_title :  bhc치킨 순살 마니아 사로잡은 메뉴는 순살뿌링클 등 인기 탑3\n",
            "1\n",
            "0\n",
            "0\n",
            "positive 비교단어 :  오픈 clean_title :  인터파크 17일 인생날 이벤트 오픈 타임딜진행10시 BHC뿌링클세트 특가\n",
            "1\n",
            "0\n",
            "0\n",
            "positive 비교단어 :  돌파 clean_title :  bhc치킨 지난해 매출 4000억 원 돌파전년比 26↑\n",
            "1\n",
            "0\n",
            "positive 비교단어 :  돌파 clean_title :  bhc치킨 뿌링클 누적판매 2300만개 돌파\n",
            "1\n"
          ],
          "name": "stdout"
        },
        {
          "output_type": "stream",
          "text": [
            "\r 56%|█████▋    | 57/101 [01:01<00:45,  1.04s/it]"
          ],
          "name": "stderr"
        },
        {
          "output_type": "stream",
          "text": [
            "positive 비교단어 :  돌파 clean_title :  bhc치킨 지난해 매출 4000억 원 돌파전년比 26↑\n",
            "1\n",
            "0\n",
            "positive 비교단어 :  돌파 clean_title :  bhc치킨 뿌링클 누적판매 2300만개 돌파\n",
            "1\n",
            "positive 비교단어 :  돌파 clean_title :  bhc치킨 지난해 매출 4000억 돌파업계 1위 넘본다\n",
            "1\n",
            "0\n",
            "positive 비교단어 :  인기 clean_title :  bhc치킨 매년 크리스마스 시즌 25 매출상승  뿌링클 인기 실감\n",
            "1\n",
            "0\n",
            "0\n",
            "0\n",
            "negative 비교단어 :  침해 clean_title :  뿌링클 치킨 특허 침해 아냐bhc 네네치킨에 승소\n",
            "-1\n"
          ],
          "name": "stdout"
        },
        {
          "output_type": "stream",
          "text": [
            "\r 57%|█████▋    | 58/101 [01:02<00:44,  1.04s/it]"
          ],
          "name": "stderr"
        },
        {
          "output_type": "stream",
          "text": [
            "0\n",
            "positive 비교단어 :  인기 clean_title :  bhc치킨 매년 크리스마스 시즌 25 매출상승  뿌링클 인기 실감\n",
            "1\n",
            "0\n",
            "0\n",
            "0\n",
            "negative 비교단어 :  침해 clean_title :  뿌링클 치킨 특허 침해 아냐bhc 네네치킨에 승소\n",
            "-1\n",
            "0\n",
            "0\n",
            "0\n",
            "0\n"
          ],
          "name": "stdout"
        },
        {
          "output_type": "stream",
          "text": [
            "\r 58%|█████▊    | 59/101 [01:03<00:43,  1.05s/it]"
          ],
          "name": "stderr"
        },
        {
          "output_type": "stream",
          "text": [
            "0\n",
            "0\n",
            "positive 비교단어 :  인기 clean_title :  위메프 뿌링클부터 에어프라이어까지인기 검색 제품은\n",
            "1\n",
            "0\n",
            "0\n",
            "0\n",
            "0\n",
            "0\n",
            "0\n",
            "0\n"
          ],
          "name": "stdout"
        },
        {
          "output_type": "stream",
          "text": [
            "\r 59%|█████▉    | 60/101 [01:04<00:43,  1.06s/it]"
          ],
          "name": "stderr"
        },
        {
          "output_type": "stream",
          "text": [
            "0\n",
            "0\n",
            "0\n",
            "0\n",
            "0\n",
            "0\n",
            "0\n",
            "0\n",
            "0\n",
            "positive 비교단어 :  돌파 clean_title :  bhc치킨 작년 부분육 시리즈 판매량 1천만개 돌파\n",
            "1\n"
          ],
          "name": "stdout"
        },
        {
          "output_type": "stream",
          "text": [
            "\r 60%|██████    | 61/101 [01:05<00:42,  1.05s/it]"
          ],
          "name": "stderr"
        },
        {
          "output_type": "stream",
          "text": [
            "0\n",
            "0\n",
            "negative 비교단어 :  불매 clean_title :  위메프 뿌링클 1111원 한정수량 오후 11시과거 위메프 불매운동 사건 11\n",
            "-1\n",
            "0\n",
            "0\n",
            "0\n",
            "0\n",
            "0\n",
            "positive 비교단어 :  돌파 clean_title :  bhc치킨 작년 부분육 시리즈 판매량 1천만개 돌파\n",
            "1\n",
            "0\n"
          ],
          "name": "stdout"
        },
        {
          "output_type": "stream",
          "text": [
            "\r 61%|██████▏   | 62/101 [01:06<00:41,  1.05s/it]"
          ],
          "name": "stderr"
        },
        {
          "output_type": "stream",
          "text": [
            "0\n",
            "0\n",
            "positive 비교단어 :  신메뉴 clean_title :  bhc치킨이 소개하는 매콤 별미 신메뉴\n",
            "1\n",
            "positive 비교단어 :  인기 clean_title :  한입 크기로 즐기는 bhc 치킨 뿌링클뿌링콜팝 인기 상승\n",
            "1\n",
            "0\n",
            "0\n",
            "0\n",
            "negative 비교단어 :  침해 clean_title :  네네치킨 bhc 뿌링클 상대 특허권 침해 소송 제기\n",
            "-1\n",
            "0\n",
            "negative 비교단어 :  침해 clean_title :  네네치킨 뿌링클 스노윙 특허 침해 주장에 bhc 정면 반박 전혀 납득할 수\n",
            "-1\n"
          ],
          "name": "stdout"
        },
        {
          "output_type": "stream",
          "text": [
            "\r 62%|██████▏   | 63/101 [01:07<00:40,  1.06s/it]"
          ],
          "name": "stderr"
        },
        {
          "output_type": "stream",
          "text": [
            "negative 비교단어 :  침해 clean_title :  네네치킨 bhc 뿌링클 특허권 침해 소송 제기bhc 억지 주장 법적대응\n",
            "-1\n",
            "negative 비교단어 :  침해 clean_title :  네네치킨 뿌링클 스노윙 특허 침해 주장에 bhc 정면 반박 전혀 납득할 수\n",
            "-1\n",
            "positive 비교단어 :  돌파 clean_title :  bhc치킨 지난해 매출 4000억 돌파최대 실적 경신\n",
            "1\n",
            "0\n",
            "0\n",
            "0\n",
            "0\n",
            "0\n",
            "positive 비교단어 :  출시 clean_title :  뿌링클 안 부럽다”오리온 치즈뿌린 치킨팝 출시\n",
            "1\n",
            "0\n"
          ],
          "name": "stdout"
        },
        {
          "output_type": "stream",
          "text": [
            "\r 63%|██████▎   | 64/101 [01:09<00:41,  1.12s/it]"
          ],
          "name": "stderr"
        },
        {
          "output_type": "stream",
          "text": [
            "negative 비교단어 :  침해 clean_title :  네네치킨 bhc 뿌링클 상대로 특허권 침해 소송 제기\n",
            "-1\n",
            "negative 비교단어 :  침해 clean_title :  네네치킨 뿌링클 스노윙 특허 침해 주장에 bhc 정면 반박 전혀 납득할 수\n",
            "-1\n",
            "positive 비교단어 :  돌파 clean_title :  bhc치킨 지난해 매출 4000억 돌파최대 실적 경신\n",
            "1\n",
            "0\n",
            "0\n",
            "0\n",
            "0\n",
            "0\n",
            "positive 비교단어 :  출시 clean_title :  뿌링클 안 부럽다”오리온 치즈뿌린 치킨팝 출시\n",
            "1\n",
            "0\n"
          ],
          "name": "stdout"
        },
        {
          "output_type": "stream",
          "text": [
            "\r 64%|██████▍   | 65/101 [01:10<00:39,  1.11s/it]"
          ],
          "name": "stderr"
        },
        {
          "output_type": "stream",
          "text": [
            "negative 비교단어 :  침해 clean_title :  네네치킨 뿌링클 스노윙 특허 침해 주장에 bhc 정면 반박 전혀 납득할 수\n",
            "-1\n",
            "negative 비교단어 :  소송 clean_title :  뿌링클 스노윙 치킨 따라했다 네네치킨 bhc에 특허권 소송\n",
            "-1\n",
            "positive 비교단어 :  돌파 clean_title :  bhc치킨 지난해 매출 4000억 돌파최대 실적 경신\n",
            "1\n",
            "0\n",
            "0\n",
            "0\n",
            "0\n",
            "0\n",
            "positive 비교단어 :  출시 clean_title :  뿌링클 안 부럽다”오리온 치즈뿌린 치킨팝 출시\n",
            "1\n",
            "0\n"
          ],
          "name": "stdout"
        },
        {
          "output_type": "stream",
          "text": [
            "\r 65%|██████▌   | 66/101 [01:11<00:39,  1.13s/it]"
          ],
          "name": "stderr"
        },
        {
          "output_type": "stream",
          "text": [
            "negative 비교단어 :  침해 clean_title :  bhc 뿌링클 특허 침해는 말도 안 되는 주장 법적 대응할 것”\n",
            "-1\n",
            "negative 비교단어 :  소송 clean_title :  뿌링클 스노윙 치킨 따라했다 네네치킨 bhc에 특허권 소송\n",
            "-1\n",
            "positive 비교단어 :  돌파 clean_title :  bhc치킨 지난해 매출 4000억 돌파최대 실적 경신\n",
            "1\n",
            "0\n",
            "0\n",
            "0\n",
            "0\n",
            "0\n",
            "positive 비교단어 :  출시 clean_title :  뿌링클 안 부럽다”오리온 치즈뿌린 치킨팝 출시\n",
            "1\n",
            "0\n"
          ],
          "name": "stdout"
        },
        {
          "output_type": "stream",
          "text": [
            "\r 66%|██████▋   | 67/101 [01:12<00:37,  1.11s/it]"
          ],
          "name": "stderr"
        },
        {
          "output_type": "stream",
          "text": [
            "positive 비교단어 :  출시 clean_title :  뿌링클 안 부럽다”오리온 치즈뿌린 치킨팝 출시\n",
            "1\n",
            "0\n",
            "positive 비교단어 :  돌파 clean_title :  bhc치킨 지난해 부분육 시리즈 판매량 1000만 개 돌파\n",
            "1\n",
            "0\n",
            "0\n",
            "0\n",
            "positive 비교단어 :  돌파 clean_title :  bhc치킨 뿌링클’ 2300만개 판매 돌파 2명당 1마리 주문”\n",
            "1\n",
            "positive 비교단어 :  돌파 clean_title :  bhc치킨 지난해 사상 첫 4000억 원 돌파\n",
            "1\n",
            "0\n",
            "positive 비교단어 :  인기 clean_title :  bhc치킨 연말연시 맞아 인기메뉴인 뿌링클’·맛초킹’ 16 할인 이벤트\n",
            "1\n"
          ],
          "name": "stdout"
        },
        {
          "output_type": "stream",
          "text": [
            "\r 67%|██████▋   | 68/101 [01:13<00:35,  1.08s/it]"
          ],
          "name": "stderr"
        },
        {
          "output_type": "stream",
          "text": [
            "0\n",
            "positive 비교단어 :  인기 clean_title :  bhc치킨 연말연시 맞아 인기메뉴인 뿌링클’·맛초킹’ 16 할인 이벤트\n",
            "1\n",
            "0\n",
            "0\n",
            "negative 비교단어 :  침해 clean_title :  네네치킨 BHC 뿌링클 특허 침해 소송 패소\n",
            "-1\n",
            "0\n",
            "0\n",
            "0\n",
            "positive 비교단어 :  돌파 clean_title :  bhc치킨 매출 4000억원 첫 돌파전년比 26 성장\n",
            "1\n",
            "0\n"
          ],
          "name": "stdout"
        },
        {
          "output_type": "stream",
          "text": [
            "\r 68%|██████▊   | 69/101 [01:14<00:36,  1.13s/it]"
          ],
          "name": "stderr"
        },
        {
          "output_type": "stream",
          "text": [
            "0\n",
            "0\n",
            "positive 비교단어 :  돌파 clean_title :  bhc치킨 매출 4000억원 첫 돌파전년比 26 성장\n",
            "1\n",
            "0\n",
            "0\n",
            "0\n",
            "0\n",
            "0\n",
            "0\n",
            "0\n"
          ],
          "name": "stdout"
        },
        {
          "output_type": "stream",
          "text": [
            "\r 69%|██████▉   | 70/101 [01:15<00:34,  1.11s/it]"
          ],
          "name": "stderr"
        },
        {
          "output_type": "stream",
          "text": [
            "0\n",
            "0\n",
            "0\n",
            "0\n",
            "0\n",
            "positive 비교단어 :  돌파 clean_title :  코로나 집콕에 배달 불티교촌·bhc 매출 4000억 돌파\n",
            "1\n",
            "0\n",
            "0\n",
            "0\n",
            "0\n"
          ],
          "name": "stdout"
        },
        {
          "output_type": "stream",
          "text": [
            "\r 70%|███████   | 71/101 [01:16<00:32,  1.09s/it]"
          ],
          "name": "stderr"
        },
        {
          "output_type": "stream",
          "text": [
            "0\n",
            "0\n",
            "0\n",
            "positive 비교단어 :  인기 clean_title :  치킨은 한마리날개 따로 다리 따로 부분육 인기\n",
            "1\n",
            "0\n",
            "0\n",
            "0\n",
            "0\n",
            "0\n",
            "0\n"
          ],
          "name": "stdout"
        },
        {
          "output_type": "stream",
          "text": [
            "\r 71%|███████▏  | 72/101 [01:17<00:31,  1.09s/it]"
          ],
          "name": "stderr"
        },
        {
          "output_type": "stream",
          "text": [
            "0\n",
            "negative 비교단어 :  문제 clean_title :  해커스텝스 텝스시험 대비 인강문제 무료 제공\n",
            "-1\n",
            "0\n",
            "positive 비교단어 :  인기 clean_title :  bhc치킨 2월 티몬서 뿌링클 등 인기메뉴 e쿠폰 15 할인1만5000장 한정판\n",
            "1\n",
            "0\n",
            "positive 비교단어 :  인기 clean_title :  BBQ젊은세대 치즐링 VS 뿌링클 비교먹방 인기에 매출실적 반등\n",
            "1\n",
            "0\n",
            "positive 비교단어 :  돌파 clean_title :  bhc치킨 작년 부분육 시리즈 판매 1000만개 돌파\n",
            "1\n",
            "0\n",
            "0\n"
          ],
          "name": "stdout"
        },
        {
          "output_type": "stream",
          "text": [
            "\r 72%|███████▏  | 73/101 [01:19<00:30,  1.08s/it]"
          ],
          "name": "stderr"
        },
        {
          "output_type": "stream",
          "text": [
            "0\n",
            "0\n",
            "0\n",
            "0\n",
            "0\n",
            "0\n",
            "0\n",
            "0\n",
            "0\n",
            "0\n"
          ],
          "name": "stdout"
        },
        {
          "output_type": "stream",
          "text": [
            "\r 73%|███████▎  | 74/101 [01:20<00:29,  1.08s/it]"
          ],
          "name": "stderr"
        },
        {
          "output_type": "stream",
          "text": [
            "0\n",
            "0\n",
            "0\n",
            "0\n",
            "0\n",
            "0\n",
            "0\n",
            "0\n",
            "positive 비교단어 :  대세 clean_title :  비대면 학습 대세체계적인 홈스쿨링 학습 가능한 와이즈캠프\n",
            "1\n",
            "0\n"
          ],
          "name": "stdout"
        },
        {
          "output_type": "stream",
          "text": [
            "\r 74%|███████▍  | 75/101 [01:21<00:27,  1.07s/it]"
          ],
          "name": "stderr"
        },
        {
          "output_type": "stream",
          "text": [
            "0\n",
            "0\n",
            "0\n",
            "0\n",
            "positive 비교단어 :  대세 clean_title :  비대면 학습 대세체계적인 홈스쿨링 학습 가능한 와이즈캠프\n",
            "1\n",
            "0\n",
            "0\n",
            "0\n",
            "positive 비교단어 :  돌파 clean_title :  bhc 뿌링클 출시 이후 1년간 매출 1000억 돌파\n",
            "1\n",
            "0\n"
          ],
          "name": "stdout"
        },
        {
          "output_type": "stream",
          "text": [
            "\r 75%|███████▌  | 76/101 [01:22<00:28,  1.15s/it]"
          ],
          "name": "stderr"
        },
        {
          "output_type": "stream",
          "text": [
            "0\n",
            "positive 비교단어 :  돌파 clean_title :  bhc 뿌링클 출시 이후 1년간 매출 1000억 돌파\n",
            "1\n",
            "0\n",
            "0\n",
            "0\n",
            "0\n",
            "positive 비교단어 :  인기 clean_title :  암살 영화 인기에  bhc 뿌링클 치킨판매 늘어 왜\n",
            "1\n",
            "positive 비교단어 :  인기 clean_title :  bhc 뿌링클 치킨 영화 암살’ 인기에 함박웃음\n",
            "1\n",
            "positive 비교단어 :  돌파 clean_title :  bhc치킨 작년 부분육 메뉴 판매량 1000개 돌파\n",
            "1\n",
            "0\n"
          ],
          "name": "stdout"
        },
        {
          "output_type": "stream",
          "text": [
            "\r 76%|███████▌  | 77/101 [01:23<00:27,  1.13s/it]"
          ],
          "name": "stderr"
        },
        {
          "output_type": "stream",
          "text": [
            "positive 비교단어 :  돌파 clean_title :  bhc 뿌링클 출시 1년만에 매출 1000억원 돌파\n",
            "1\n",
            "0\n",
            "0\n",
            "0\n",
            "0\n",
            "positive 비교단어 :  인기 clean_title :  암살 영화 인기에  bhc 뿌링클 치킨판매 늘어 왜\n",
            "1\n",
            "positive 비교단어 :  인기 clean_title :  bhc 뿌링클 치킨 영화 암살’ 인기에 함박웃음\n",
            "1\n",
            "positive 비교단어 :  돌파 clean_title :  bhc치킨 작년 부분육 메뉴 판매량 1000개 돌파\n",
            "1\n",
            "0\n",
            "0\n"
          ],
          "name": "stdout"
        },
        {
          "output_type": "stream",
          "text": [
            "\r 77%|███████▋  | 78/101 [01:24<00:25,  1.11s/it]"
          ],
          "name": "stderr"
        },
        {
          "output_type": "stream",
          "text": [
            "positive 비교단어 :  인기 clean_title :  bhc 뿌링클 치킨 영화 암살’ 인기에 함박웃음\n",
            "1\n",
            "positive 비교단어 :  돌파 clean_title :  bhc치킨 작년 부분육 메뉴 판매량 1000개 돌파\n",
            "1\n",
            "0\n",
            "0\n",
            "positive 비교단어 :  인기 clean_title :  요기요 무신사와 물물교환 캠페인’ 진행인기템’ 맞교환\n",
            "1\n",
            "0\n",
            "0\n",
            "positive 비교단어 :  인기 clean_title :  BHC 치킨 중 가장 인기 있는 메뉴는 뿌링클’\n",
            "1\n",
            "0\n",
            "0\n"
          ],
          "name": "stdout"
        },
        {
          "output_type": "stream",
          "text": [
            "\r 78%|███████▊  | 79/101 [01:25<00:23,  1.09s/it]"
          ],
          "name": "stderr"
        },
        {
          "output_type": "stream",
          "text": [
            "0\n",
            "positive 비교단어 :  인기 clean_title :  BHC 치킨 중 가장 인기 있는 메뉴는 뿌링클’\n",
            "1\n",
            "0\n",
            "0\n",
            "0\n",
            "0\n",
            "positive 비교단어 :  돌파 clean_title :  bhc 전지현 치킨 뿌링클’ 단일품목 매출비중 50 돌파\n",
            "1\n",
            "positive 비교단어 :  편한 clean_title :  먹기 간편한 순살뿌링클 순살뿌링클핫 등 순살치킨 새로나왔어요\n",
            "1\n",
            "positive 비교단어 :  출시 clean_title :  bhc 순살뿌링클핫 등 순살치킨 3종 출시\n",
            "1\n",
            "0\n"
          ],
          "name": "stdout"
        },
        {
          "output_type": "stream",
          "text": [
            "\r 79%|███████▉  | 80/101 [01:26<00:23,  1.11s/it]"
          ],
          "name": "stderr"
        },
        {
          "output_type": "stream",
          "text": [
            "0\n",
            "positive 비교단어 :  편한 clean_title :  먹기 간편한 순살뿌링클 순살뿌링클핫 등 순살치킨 새로나왔어요\n",
            "1\n",
            "positive 비교단어 :  출시 clean_title :  bhc 순살뿌링클핫 등 순살치킨 3종 출시\n",
            "1\n",
            "0\n",
            "positive 비교단어 :  출시 clean_title :  bhc 신제품 뿌링클핫 치킨’ 출시\n",
            "1\n",
            "0\n",
            "positive 비교단어 :  대박 clean_title :  특이한 치킨 BHC뿌링클 출시 초반 대박상품 등극\n",
            "1\n",
            "positive 비교단어 :  인기 clean_title :  bhc 뿌링클 SNS타고 입소문 훨훨인기 메뉴 등극\n",
            "1\n",
            "0\n",
            "positive 비교단어 :  신제품 clean_title :  bhc 신제품 뿌링클 전지현 CF 공개\n",
            "1\n"
          ],
          "name": "stdout"
        },
        {
          "output_type": "stream",
          "text": [
            "\r 80%|████████  | 81/101 [01:27<00:22,  1.10s/it]"
          ],
          "name": "stderr"
        },
        {
          "output_type": "stream",
          "text": [
            "positive 비교단어 :  출시 clean_title :  bhc 신제품 뿌링클핫 치킨’ 출시\n",
            "1\n",
            "0\n",
            "positive 비교단어 :  대박 clean_title :  특이한 치킨 BHC뿌링클 출시 초반 대박상품 등극\n",
            "1\n",
            "positive 비교단어 :  인기 clean_title :  bhc 뿌링클 SNS타고 입소문 훨훨인기 메뉴 등극\n",
            "1\n",
            "0\n",
            "positive 비교단어 :  신제품 clean_title :  bhc 신제품 뿌링클 전지현 CF 공개\n",
            "1\n",
            "positive 비교단어 :  출시 clean_title :  BHC치킨 바삭클 뿌링클 신제품 치킨 출시\n",
            "1\n",
            "positive 비교단어 :  돌파 clean_title :  bhc치킨 부분육 메뉴 판매 1천만 개 돌파 \n",
            "1\n",
            "positive 비교단어 :  돌파 clean_title :  코로나19로 연 매출 4000억 돌파 치킨 업계1위 치킨은\n",
            "1\n",
            "0\n"
          ],
          "name": "stdout"
        },
        {
          "output_type": "stream",
          "text": [
            "\r 81%|████████  | 82/101 [01:28<00:20,  1.08s/it]"
          ],
          "name": "stderr"
        },
        {
          "output_type": "stream",
          "text": [
            "positive 비교단어 :  인기 clean_title :  bhc 신제품 뿌링클 최고 인기 메뉴로 등극\n",
            "1\n",
            "0\n",
            "positive 비교단어 :  신제품 clean_title :  bhc 신제품 뿌링클 전지현 CF 공개\n",
            "1\n",
            "positive 비교단어 :  출시 clean_title :  BHC치킨 바삭클 뿌링클 신제품 치킨 출시\n",
            "1\n",
            "positive 비교단어 :  돌파 clean_title :  bhc치킨 부분육 메뉴 판매 1천만 개 돌파 \n",
            "1\n",
            "positive 비교단어 :  돌파 clean_title :  코로나19로 연 매출 4000억 돌파 치킨 업계1위 치킨은\n",
            "1\n",
            "0\n",
            "positive 비교단어 :  돌파 clean_title :  bhc치킨 지난해 매출 4000억 돌파교촌과 양강체제 구축\n",
            "1\n",
            "0\n",
            "0\n"
          ],
          "name": "stdout"
        },
        {
          "output_type": "stream",
          "text": [
            "\r 82%|████████▏ | 83/101 [01:30<00:19,  1.07s/it]"
          ],
          "name": "stderr"
        },
        {
          "output_type": "stream",
          "text": [
            "0\n",
            "positive 비교단어 :  출시 clean_title :  BHC치킨 바삭클 뿌링클 신제품 치킨 출시\n",
            "1\n",
            "positive 비교단어 :  돌파 clean_title :  bhc치킨 부분육 메뉴 판매 1천만 개 돌파 \n",
            "1\n",
            "positive 비교단어 :  돌파 clean_title :  코로나19로 연 매출 4000억 돌파 치킨 업계1위 치킨은\n",
            "1\n",
            "0\n",
            "positive 비교단어 :  돌파 clean_title :  bhc치킨 지난해 매출 4000억 돌파교촌과 양강체제 구축\n",
            "1\n",
            "0\n",
            "0\n",
            "0\n",
            "0\n"
          ],
          "name": "stdout"
        },
        {
          "output_type": "stream",
          "text": [
            "\r 83%|████████▎ | 84/101 [01:31<00:18,  1.07s/it]"
          ],
          "name": "stderr"
        },
        {
          "output_type": "stream",
          "text": [
            "positive 비교단어 :  돌파 clean_title :  코로나19로 연 매출 4000억 돌파 치킨 업계1위 치킨은\n",
            "1\n",
            "0\n",
            "positive 비교단어 :  돌파 clean_title :  bhc치킨 지난해 매출 4000억 돌파교촌과 양강체제 구축\n",
            "1\n",
            "0\n",
            "0\n",
            "positive 비교단어 :  돌파 clean_title :  bhc치킨 지난해 부분육 시리즈 판매량 1000만 개 돌파\n",
            "1\n",
            "0\n",
            "0\n",
            "positive 비교단어 :  인기 clean_title :  bhc 뿌링클 치킨 영화 암살 인기 덕에 웃는다\n",
            "1\n",
            "0\n"
          ],
          "name": "stdout"
        },
        {
          "output_type": "stream",
          "text": [
            "\r 84%|████████▍ | 85/101 [01:32<00:16,  1.06s/it]"
          ],
          "name": "stderr"
        },
        {
          "output_type": "stream",
          "text": [
            "0\n",
            "positive 비교단어 :  1위 clean_title :  언더독 2위의 반란 bhc 박현종號의 성공신화 DNA1위 도약 성큼\n",
            "1\n",
            "0\n",
            "0\n",
            "positive 비교단어 :  돌파 clean_title :  bhc치킨 부분육 시리즈 판매량 1000만개 돌파\n",
            "1\n",
            "positive 비교단어 :  인기 clean_title :  bhc 쇼핑몰 G9에서 핫뿌링클 등 인기메뉴 20 할인\n",
            "1\n",
            "0\n",
            "positive 비교단어 :  출시 clean_title :  bhc 신제품 뿌링클 출시 기념 창업설명회 개최\n",
            "1\n",
            "positive 비교단어 :  신제품 clean_title :  bhc 신제품 뿌링클 주문시 감성 다이어리 증정\n",
            "1\n",
            "0\n"
          ],
          "name": "stdout"
        },
        {
          "output_type": "stream",
          "text": [
            "\r 85%|████████▌ | 86/101 [01:33<00:15,  1.06s/it]"
          ],
          "name": "stderr"
        },
        {
          "output_type": "stream",
          "text": [
            "positive 비교단어 :  신제품 clean_title :  bhc 신제품 뿌링클 주문시 감성 다이어리 증정\n",
            "1\n",
            "0\n",
            "positive 비교단어 :  출시 clean_title :  bhc 마법의 치킨 뿌링클’ 등 신제품 2종 출시\n",
            "1\n",
            "0\n",
            "0\n",
            "0\n",
            "positive 비교단어 :  수상 clean_title :  사람인 웹어워드 수상 기념 언택트 축하파티 행사\n",
            "1\n",
            "positive 비교단어 :  돌파 clean_title :  bhc치킨 지난해 부분육 시리즈 판매량 1000만개 돌파\n",
            "1\n",
            "0\n",
            "0\n"
          ],
          "name": "stdout"
        },
        {
          "output_type": "stream",
          "text": [
            "\r 86%|████████▌ | 87/101 [01:34<00:14,  1.06s/it]"
          ],
          "name": "stderr"
        },
        {
          "output_type": "stream",
          "text": [
            "0\n",
            "0\n",
            "0\n",
            "0\n",
            "positive 비교단어 :  1위 clean_title :  해커스공무원 기초영어 1위 비비안 쌩기초 패키지’ 무료 체험 이벤트 진행\n",
            "1\n",
            "0\n",
            "positive 비교단어 :  인기 clean_title :  뿌링클·맛초킹 인기계보 이을까bhc치킨 달콤 바삭 스윗츄 출시\n",
            "1\n",
            "0\n",
            "0\n",
            "0\n"
          ],
          "name": "stdout"
        },
        {
          "output_type": "stream",
          "text": [
            "\r 87%|████████▋ | 88/101 [01:35<00:13,  1.06s/it]"
          ],
          "name": "stderr"
        },
        {
          "output_type": "stream",
          "text": [
            "0\n",
            "positive 비교단어 :  돌파 clean_title :  bhc치킨 지난해 부분육 메뉴 판매량 1000만개 돌파\n",
            "1\n",
            "0\n",
            "0\n",
            "positive 비교단어 :  돌파 clean_title :  성장 가속패달 밟았다 bhc치킨 매출 4000억원 돌파\n",
            "1\n",
            "0\n",
            "0\n",
            "0\n",
            "0\n",
            "0\n"
          ],
          "name": "stdout"
        },
        {
          "output_type": "stream",
          "text": [
            "\r 88%|████████▊ | 89/101 [01:36<00:12,  1.06s/it]"
          ],
          "name": "stderr"
        },
        {
          "output_type": "stream",
          "text": [
            "0\n",
            "0\n",
            "0\n",
            "0\n",
            "0\n",
            "positive 비교단어 :  선보여 clean_title :  bhc 마법의 치킨 뿌링클 등 신제품 2종 선보여\n",
            "1\n",
            "0\n",
            "positive 비교단어 :  인기 clean_title :  bhc 지난해 매출 2326억원 뿌링클·맛초킹 인기\n",
            "1\n",
            "0\n",
            "0\n"
          ],
          "name": "stdout"
        },
        {
          "output_type": "stream",
          "text": [
            "\r 89%|████████▉ | 90/101 [01:37<00:12,  1.12s/it]"
          ],
          "name": "stderr"
        },
        {
          "output_type": "stream",
          "text": [
            "0\n",
            "positive 비교단어 :  선보여 clean_title :  bhc 마법의 치킨 뿌링클 등 신제품 2종 선보여\n",
            "1\n",
            "0\n",
            "positive 비교단어 :  인기 clean_title :  bhc 지난해 매출 2326억원 뿌링클·맛초킹 인기\n",
            "1\n",
            "0\n",
            "0\n",
            "positive 비교단어 :  돌파 clean_title :  기업이 뛴다51 bhc치킨 작년 첫 3000억 매출 돌파가맹점과 동반성장\n",
            "1\n",
            "0\n",
            "positive 비교단어 :  돌파 clean_title :  bhc치킨 지난해 부분육 시리즈 판매량 1000만 개 돌파\n",
            "1\n",
            "positive 비교단어 :  출시 clean_title :  모든 국민이 1개씩 먹었다bhc치킨 2014년 출시 이래 5200만개 판매\n",
            "1\n"
          ],
          "name": "stdout"
        },
        {
          "output_type": "stream",
          "text": [
            "\r 90%|█████████ | 91/101 [01:38<00:11,  1.11s/it]"
          ],
          "name": "stderr"
        },
        {
          "output_type": "stream",
          "text": [
            "0\n",
            "0\n",
            "0\n",
            "positive 비교단어 :  돌파 clean_title :  기업이 뛴다51 bhc치킨 작년 첫 3000억 매출 돌파가맹점과 동반성장\n",
            "1\n",
            "0\n",
            "positive 비교단어 :  돌파 clean_title :  bhc치킨 지난해 부분육 시리즈 판매량 1000만 개 돌파\n",
            "1\n",
            "positive 비교단어 :  출시 clean_title :  모든 국민이 1개씩 먹었다bhc치킨 2014년 출시 이래 5200만개 판매\n",
            "1\n",
            "0\n",
            "0\n",
            "0\n"
          ],
          "name": "stdout"
        },
        {
          "output_type": "stream",
          "text": [
            "\r 91%|█████████ | 92/101 [01:39<00:09,  1.10s/it]"
          ],
          "name": "stderr"
        },
        {
          "output_type": "stream",
          "text": [
            "positive 비교단어 :  돌파 clean_title :  코로나19에 치킨업계 실적 사상 최고연 매출 4000억 돌파’\n",
            "1\n",
            "0\n",
            "0\n",
            "positive 비교단어 :  돌파 clean_title :  bhc치킨 출시 6년 만에 누적 판매 5200만개 돌파\n",
            "1\n",
            "positive 비교단어 :  입점 clean_title :  유통가 투데이 대상 인구 4억 중동시장 공략 나서카타르 유통채널 입점\n",
            "1\n",
            "0\n",
            "positive 비교단어 :  돌파 clean_title :  bhc 올해 신규 매장수 200개 돌파뿌링클과 맛초킹 덕분\n",
            "1\n",
            "0\n",
            "0\n",
            "positive 비교단어 :  출시 clean_title :  바이오일레븐 드시모네 24일 네이버 쇼핑 라이브 출시\n",
            "1\n"
          ],
          "name": "stdout"
        },
        {
          "output_type": "stream",
          "text": [
            "\r 92%|█████████▏| 93/101 [01:40<00:08,  1.12s/it]"
          ],
          "name": "stderr"
        },
        {
          "output_type": "stream",
          "text": [
            "positive 비교단어 :  출시 clean_title :  바이오일레븐 드시모네 24일 네이버 쇼핑 라이브 출시\n",
            "1\n",
            "0\n",
            "0\n",
            "positive 비교단어 :  증가 clean_title :  bhc치킨 사이드 메뉴 상승으로 뿌링핫도그’ 매출 증가\n",
            "1\n",
            "0\n",
            "0\n",
            "0\n",
            "0\n",
            "positive 비교단어 :  돌파 clean_title :  bhc치킨 지난해 부분육 메뉴 판매량 1000만개 돌파\n",
            "1\n",
            "positive 비교단어 :  새로운 clean_title :  bhc 뿌링클·맛초킹새로운 맛 창조\n",
            "1\n"
          ],
          "name": "stdout"
        },
        {
          "output_type": "stream",
          "text": [
            "\r 93%|█████████▎| 94/101 [01:42<00:07,  1.11s/it]"
          ],
          "name": "stderr"
        },
        {
          "output_type": "stream",
          "text": [
            "positive 비교단어 :  돌파 clean_title :  bhc치킨 작년 부분육 시리즈 판매량 1000만 개 돌파\n",
            "1\n",
            "0\n",
            "0\n",
            "0\n",
            "0\n",
            "positive 비교단어 :  돌파 clean_title :  BHC치킨 뿌링핫도그 출시 1년만 100만 개 돌파\n",
            "1\n",
            "negative 비교단어 :  포기 clean_title :  인천 유티 서울E 레울과 인경동맹 선언포기하지 않겠다\n",
            "-1\n",
            "positive 비교단어 :  돌파 clean_title :  bhc 치킨 사이트 메뉴 뿌링 핫도그 100만개 돌파 사이드 메뉴 강세\n",
            "1\n",
            "positive 비교단어 :  선보여 clean_title :  bhc 쏘스에무쵸’ 전지현 CF 선보여 제2의 뿌링클 신화 창조’ 도전\n",
            "1\n",
            "positive 비교단어 :  인기 clean_title :  bhc 뿌링클 인기로 가맹점 매출상승이 입소문 나 가맹점수 증가\n",
            "1\n"
          ],
          "name": "stdout"
        },
        {
          "output_type": "stream",
          "text": [
            "\r 94%|█████████▍| 95/101 [01:43<00:06,  1.09s/it]"
          ],
          "name": "stderr"
        },
        {
          "output_type": "stream",
          "text": [
            "0\n",
            "positive 비교단어 :  돌파 clean_title :  bhc 치킨 사이트 메뉴 뿌링 핫도그 100만개 돌파 사이드 메뉴 강세\n",
            "1\n",
            "positive 비교단어 :  선보여 clean_title :  bhc 쏘스에무쵸’ 전지현 CF 선보여 제2의 뿌링클 신화 창조’ 도전\n",
            "1\n",
            "positive 비교단어 :  인기 clean_title :  bhc 뿌링클 인기로 가맹점 매출상승이 입소문 나 가맹점수 증가\n",
            "1\n",
            "positive 비교단어 :  대박 clean_title :  bhc 뿌링클치킨 판매 대박 올 매장 1000개 목표 무난\n",
            "1\n",
            "0\n",
            "positive 비교단어 :  인기 clean_title :  해커스 영포자도 토익 시험 고득점 가능한 첫 토익 하드캐리 0원반 인기\n",
            "1\n",
            "positive 비교단어 :  돌파 clean_title :  bhc치킨 뿌링핫도그 출시 1년만 100만 개 돌파\n",
            "1\n",
            "0\n",
            "positive 비교단어 :  돌파 clean_title :  bhc치킨 뿌링핫도그 출시 1년만 100만 개 돌파 저력\n",
            "1\n"
          ],
          "name": "stdout"
        },
        {
          "output_type": "stream",
          "text": [
            "\r 95%|█████████▌| 96/101 [01:44<00:05,  1.16s/it]"
          ],
          "name": "stderr"
        },
        {
          "output_type": "stream",
          "text": [
            "positive 비교단어 :  인기 clean_title :  해커스 영포자도 토익 시험 고득점 가능한 첫 토익 하드캐리 0원반 인기\n",
            "1\n",
            "positive 비교단어 :  돌파 clean_title :  bhc치킨 뿌링핫도그 출시 1년만 100만 개 돌파\n",
            "1\n",
            "0\n",
            "positive 비교단어 :  돌파 clean_title :  bhc치킨 뿌링핫도그 출시 1년만 100만 개 돌파 저력\n",
            "1\n",
            "0\n",
            "0\n",
            "positive 비교단어 :  돌파 clean_title :  bhc치킨 뿌링핫도그’ 출시 1년만 100만 개 돌파\n",
            "1\n",
            "positive 비교단어 :  돌파 clean_title :  bhc치킨 뿌링핫도그’ 누적판매량 100만 개 돌파\n",
            "1\n",
            "0\n",
            "0\n"
          ],
          "name": "stdout"
        },
        {
          "output_type": "stream",
          "text": [
            "\r 96%|█████████▌| 97/101 [01:45<00:04,  1.14s/it]"
          ],
          "name": "stderr"
        },
        {
          "output_type": "stream",
          "text": [
            "positive 비교단어 :  돌파 clean_title :  bhc치킨 뿌링핫도그 출시 1년만 100만 개 돌파\n",
            "1\n",
            "0\n",
            "0\n",
            "0\n",
            "positive 비교단어 :  돌파 clean_title :  bhc 치킨 사이드 메뉴의 인기 뿌링핫도그’ 100만개 돌파\n",
            "1\n",
            "positive 비교단어 :  돌파 clean_title :  bhc치킨 지난해 부분육 시리즈 판매량 1000만개 돌파\n",
            "1\n",
            "0\n",
            "0\n",
            "positive 비교단어 :  1위 clean_title :  해커스공무원 한국사 1위 이중석 강사의 합격생 필기노트 무료 배포 전격 연\n",
            "1\n",
            "positive 비교단어 :  돌파 clean_title :  bhc치킨 뿌링핫도그’ 출시 1년 만에 누적판매 100만개 돌파\n",
            "1\n"
          ],
          "name": "stdout"
        },
        {
          "output_type": "stream",
          "text": [
            "\r 97%|█████████▋| 98/101 [01:46<00:03,  1.11s/it]"
          ],
          "name": "stderr"
        },
        {
          "output_type": "stream",
          "text": [
            "positive 비교단어 :  돌파 clean_title :  bhc치킨 뿌링핫도그’ 출시 1년만 100만개 판매 돌파\n",
            "1\n",
            "0\n",
            "0\n",
            "0\n",
            "positive 비교단어 :  돌파 clean_title :  bhc 치킨 사이드 메뉴의 인기 뿌링핫도그’ 100만개 돌파\n",
            "1\n",
            "positive 비교단어 :  돌파 clean_title :  bhc치킨 지난해 부분육 시리즈 판매량 1000만개 돌파\n",
            "1\n",
            "0\n",
            "0\n",
            "positive 비교단어 :  1위 clean_title :  해커스공무원 한국사 1위 이중석 강사의 합격생 필기노트 무료 배포 전격 연\n",
            "1\n",
            "positive 비교단어 :  돌파 clean_title :  bhc치킨 뿌링핫도그’ 출시 1년 만에 누적판매 100만개 돌파\n",
            "1\n"
          ],
          "name": "stdout"
        },
        {
          "output_type": "stream",
          "text": [
            "\r 98%|█████████▊| 99/101 [01:47<00:02,  1.09s/it]"
          ],
          "name": "stderr"
        },
        {
          "output_type": "stream",
          "text": [
            "0\n",
            "positive 비교단어 :  돌파 clean_title :  bhc치킨 지난해 부분육 시리즈 판매량 1000만개 돌파\n",
            "1\n",
            "positive 비교단어 :  1위 clean_title :  해커스공무원 한국사 1위 이중석 강사의 합격생 필기노트 무료 배포 전격 연\n",
            "1\n",
            "positive 비교단어 :  돌파 clean_title :  bhc치킨 뿌링핫도그’ 출시 1년 만에 누적판매 100만개 돌파\n",
            "1\n",
            "0\n",
            "0\n",
            "0\n",
            "positive 비교단어 :  선보여 clean_title :  기초학력 강화 온라인수업 와이즈캠프 라이브 화상수업 선보여\n",
            "1\n",
            "0\n",
            "positive 비교단어 :  출시 clean_title :  bhc치킨 출시 5년 맞은 맛초킹’ 간장치킨 강자로 우뚝\n",
            "1\n"
          ],
          "name": "stdout"
        },
        {
          "output_type": "stream",
          "text": [
            "\r 99%|█████████▉| 100/101 [01:48<00:01,  1.08s/it]"
          ],
          "name": "stderr"
        },
        {
          "output_type": "stream",
          "text": [
            "positive 비교단어 :  돌파 clean_title :  bhc치킨 뿌링핫도그 출시 1년만 100만 개 돌파\n",
            "1\n",
            "0\n",
            "positive 비교단어 :  선보여 clean_title :  기초학력 강화 온라인수업 와이즈캠프 라이브 화상수업 선보여\n",
            "1\n",
            "0\n",
            "positive 비교단어 :  출시 clean_title :  bhc치킨 출시 5년 맞은 맛초킹’ 간장치킨 강자로 우뚝\n",
            "1\n",
            "0\n",
            "positive 비교단어 :  돌파 clean_title :  bhc치킨 지난해 매출 4000억 돌파사상 최대 실적\n",
            "1\n",
            "0\n",
            "positive 비교단어 :  출시 clean_title :  bhc치킨 출시 5년 맞은 맛초킹 간장치킨 강자로 우뚝\n",
            "1\n",
            "0\n"
          ],
          "name": "stdout"
        },
        {
          "output_type": "stream",
          "text": [
            "100%|██████████| 101/101 [01:49<00:00,  1.09s/it]"
          ],
          "name": "stderr"
        },
        {
          "output_type": "stream",
          "text": [
            "0\n",
            "positive 비교단어 :  돌파 clean_title :  bhc치킨 지난해 매출 4000억 돌파사상 최대 실적\n",
            "1\n",
            "0\n",
            "positive 비교단어 :  출시 clean_title :  bhc치킨 출시 5년 맞은 맛초킹 간장치킨 강자로 우뚝\n",
            "1\n",
            "0\n",
            "positive 비교단어 :  출시 clean_title :  bhc치킨 출시 5년 맞은 맛초킹 간장치킨 강자로 우뚝\n",
            "1\n",
            "0\n",
            "positive 비교단어 :  증가 clean_title :  bhc치킨 상반기 가맹점 월평균 매출 전년 대비 30 증가\n",
            "1\n",
            "positive 비교단어 :  출시 clean_title :  bhc치킨 출시 5년 맞은 맛초킹’ 간장치킨 강자로 우뚝\n",
            "1\n",
            "positive 비교단어 :  돌파 clean_title :  뉴스투데이 E bhc치킨 지난해 부분육 시리즈 판매량 1000만개 돌파\n",
            "1\n",
            "                                        title  label\n",
            "0                       bhc치킨 배민과 함께하는 할인 이벤트      0\n",
            "1                    bhc치킨 배민서 신메뉴 주문시 5천원 할인      1\n",
            "2              bhc치킨 5월 최고 판매량은 어린이날뿌링클 인기 증명      1\n",
            "3               bhc치킨 배달의민족에서 신메뉴 주문 5000원 할인      1\n",
            "4              BHC 뿌링클 치킨이 반값이랜드몰 59일 특가 할인행사      0\n",
            "...                                       ...    ...\n",
            "1005           bhc치킨 출시 5년 맞은 맛초킹 간장치킨 강자로 우뚝      1\n",
            "1006      요기요도 무신사랑 해 요기요무신사 2021 물물교환 캠페인 진행      0\n",
            "1007         bhc치킨 상반기 가맹점 월평균 매출 전년 대비 30 증가      1\n",
            "1008          bhc치킨 출시 5년 맞은 맛초킹’ 간장치킨 강자로 우뚝      1\n",
            "1009  뉴스투데이 E bhc치킨 지난해 부분육 시리즈 판매량 1000만개 돌파      1\n",
            "\n",
            "[1010 rows x 2 columns]\n"
          ],
          "name": "stdout"
        },
        {
          "output_type": "stream",
          "text": [
            "\n"
          ],
          "name": "stderr"
        }
      ]
    },
    {
      "cell_type": "code",
      "metadata": {
        "colab": {
          "base_uri": "https://localhost:8080/"
        },
        "id": "NHqsKrHW8_fM",
        "outputId": "3bcce7d7-e22e-4738-d53e-5ac153887cf9"
      },
      "source": [
        "# testdata 롯데리아\n",
        "import requests\n",
        "from bs4 import BeautifulSoup\n",
        "import re\n",
        "import pandas as pd\n",
        "from tqdm import tqdm\n",
        "\n",
        "labels = []\n",
        "titles = []\n",
        "titles2 = []\n",
        "\n",
        "j = 0\n",
        "\n",
        "for k in tqdm(range(101)):\n",
        "\tnum = k * 10 + 1\n",
        "\t# 롯데리아\n",
        "\turl = \"https://search.naver.com/search.naver?where=news&sm=tab_pge&query=%EB%A1%AF%EB%8D%B0%EB%A6%AC%EC%95%84&sort=0&photo=0&field=0&pd=0&ds=&de=&cluster_rank=24&mynews=0&office_type=0&office_section_code=0&news_office_checked=&nso=so:r,p:all,a:all&start=\" + str(num)\n",
        "\treq = requests.get(url)\n",
        "\tsoup = BeautifulSoup(req.text, 'lxml')\n",
        "\ttitles = soup.select(\"a.news_tit\")\n",
        "\n",
        "\tfor title in titles:\n",
        "\t\ttitle_data = title.text\n",
        "\t\tclean_title = re.sub('[-=+,#/\\?:^$.@*\\\"※~&%ㆍ!』\\\\‘|\\(\\)\\[\\]\\<\\>`\\'…\\\"\\“》]', '', title_data)\n",
        "\t\tnegative_flag = False\n",
        "\t\tlabel = 0\n",
        "\n",
        "\t\tfor i in range(len(negative)-1):\n",
        "\t\t\tif negative[i] in clean_title:\n",
        "\t\t\t\tlabel = -1\n",
        "\t\t\t\tnegative_flag = True\n",
        "\t\t\t\tprint(\"negative 비교단어 : \", negative[i], \"clean_title : \", clean_title)\n",
        "\t\t\t\tbreak\n",
        "\t\tif negative_flag == False:\n",
        "\t\t\tfor i in range(len(positive)-1):\n",
        "\t\t\t\tif positive[i] in clean_title:\n",
        "\t\t\t\t\tlabel = 1\n",
        "\t\t\t\t\tprint(\"positive 비교단어 : \", positive[i], \"clean_title : \", clean_title)\n",
        "\t\t\t\t\tbreak\n",
        "\t\tprint(label)\n",
        "\t\ttitles2.append(clean_title)\n",
        "\t\tlabels.append(label)\n",
        "\n",
        "my_title_df = pd.DataFrame({\"title\":titles2, \"label\":labels})\n",
        "print(my_title_df)\n",
        "\n",
        "def dftoCsv(my_title_df, num):\n",
        "\tmy_title_df.to_csv(('./title_datas'+ str(num) +'.csv'), sep=',', na_rep='NaN', encoding='utf-8')\n",
        "\n",
        "dftoCsv(my_title_df,\"_롯데리아\")"
      ],
      "execution_count": 11,
      "outputs": [
        {
          "output_type": "stream",
          "text": [
            "  1%|          | 1/101 [00:01<01:48,  1.08s/it]"
          ],
          "name": "stderr"
        },
        {
          "output_type": "stream",
          "text": [
            "0\n",
            "0\n",
            "0\n",
            "0\n",
            "0\n",
            "0\n",
            "0\n",
            "0\n",
            "0\n",
            "0\n"
          ],
          "name": "stdout"
        },
        {
          "output_type": "stream",
          "text": [
            "\r  2%|▏         | 2/101 [00:02<01:46,  1.08s/it]"
          ],
          "name": "stderr"
        },
        {
          "output_type": "stream",
          "text": [
            "0\n",
            "positive 비교단어 :  착한 clean_title :  롯데GRS 롯데리아 착한점심 가격 확 낮춰\n",
            "1\n",
            "negative 비교단어 :  구설수 clean_title :  데일리픽 넷플릭스 하반기 인기작은 롯데리아 감자튀김 구설수\n",
            "-1\n",
            "0\n",
            "0\n",
            "0\n",
            "negative 비교단어 :  중단 clean_title :  롯데리아 코로나 영향으로 감자 수급 실패해 감튀 판매 일시 중단 예고\n",
            "-1\n",
            "0\n",
            "0\n",
            "0\n"
          ],
          "name": "stdout"
        },
        {
          "output_type": "stream",
          "text": [
            "\r  3%|▎         | 3/101 [00:03<01:51,  1.14s/it]"
          ],
          "name": "stderr"
        },
        {
          "output_type": "stream",
          "text": [
            "0\n",
            "0\n",
            "0\n",
            "negative 비교단어 :  해지 clean_title :  스타벅스 라오스 1호점 오픈 준비 한창 프랜차이즈 진출 활발해지나\n",
            "-1\n",
            "0\n",
            "0\n",
            "0\n",
            "0\n",
            "positive 비교단어 :  착한 clean_title :  롯데GRS 롯데리아 착한점심 가격인하로 소비자 혜택 높여\n",
            "1\n",
            "positive 비교단어 :  출시 clean_title :  롯데리아 여름 디저트 팥빙수 팥빙고 출시\n",
            "1\n"
          ],
          "name": "stdout"
        },
        {
          "output_type": "stream",
          "text": [
            "\r  4%|▍         | 4/101 [00:04<01:45,  1.09s/it]"
          ],
          "name": "stderr"
        },
        {
          "output_type": "stream",
          "text": [
            "0\n",
            "positive 비교단어 :  1위 clean_title :  매장 수 1위 롯데리아 제친 맘스터치가성비로 MZ세대 홀렸다\n",
            "1\n",
            "0\n",
            "0\n",
            "positive 비교단어 :  출시 clean_title :  롯데리아 더블패티로 사이즈 키운 신제품 2종 한정출시\n",
            "1\n",
            "positive 비교단어 :  신메뉴 clean_title :  롯데리아 11번가서 신메뉴 세트 할인 판매\n",
            "1\n",
            "0\n",
            "0\n",
            "positive 비교단어 :  1위 clean_title :  롯데리아 맘스터치에 매장수 1위 내줘 굴욕’\n",
            "1\n",
            "0\n"
          ],
          "name": "stdout"
        },
        {
          "output_type": "stream",
          "text": [
            "\r  5%|▍         | 5/101 [00:05<01:46,  1.11s/it]"
          ],
          "name": "stderr"
        },
        {
          "output_type": "stream",
          "text": [
            "0\n",
            "0\n",
            "0\n",
            "0\n",
            "0\n",
            "0\n",
            "0\n",
            "0\n",
            "0\n",
            "0\n"
          ],
          "name": "stdout"
        },
        {
          "output_type": "stream",
          "text": [
            "\r  6%|▌         | 6/101 [00:06<01:42,  1.08s/it]"
          ],
          "name": "stderr"
        },
        {
          "output_type": "stream",
          "text": [
            "0\n",
            "0\n",
            "0\n",
            "0\n",
            "0\n",
            "0\n",
            "0\n",
            "0\n",
            "0\n",
            "0\n"
          ],
          "name": "stdout"
        },
        {
          "output_type": "stream",
          "text": [
            "\r  7%|▋         | 7/101 [00:07<01:45,  1.13s/it]"
          ],
          "name": "stderr"
        },
        {
          "output_type": "stream",
          "text": [
            "positive 비교단어 :  신상 clean_title :  신상품 롯데리아 치즈No5\n",
            "1\n",
            "0\n",
            "0\n",
            "0\n",
            "0\n",
            "0\n",
            "0\n",
            "0\n",
            "positive 비교단어 :  신제품 clean_title :  10줄리뷰버거킹 초저가 신제품 상어버거 롯데리아 사각새우 넘을까\n",
            "1\n",
            "0\n"
          ],
          "name": "stdout"
        },
        {
          "output_type": "stream",
          "text": [
            "\r  8%|▊         | 8/101 [00:08<01:42,  1.10s/it]"
          ],
          "name": "stderr"
        },
        {
          "output_type": "stream",
          "text": [
            "0\n",
            "0\n",
            "0\n",
            "0\n",
            "0\n",
            "positive 비교단어 :  인기 clean_title :  롯데리아 인기버거 세트 2개 8000원 한정 판매\n",
            "1\n",
            "0\n",
            "0\n",
            "positive 비교단어 :  착한 clean_title :  가격 확 낮췄다롯데GRS 착한점심 메뉴 6종 리뉴얼 및 가격 인하 확대\n",
            "1\n",
            "negative 비교단어 :  피해 clean_title :  롯데리아 최근 배달 서버 먹통피해 규모집계 후 보상”\n",
            "-1\n"
          ],
          "name": "stdout"
        },
        {
          "output_type": "stream",
          "text": [
            "\r  9%|▉         | 9/101 [00:09<01:39,  1.08s/it]"
          ],
          "name": "stderr"
        },
        {
          "output_type": "stream",
          "text": [
            "positive 비교단어 :  증가 clean_title :  롯데리아 인건비·원자재 가격 등 고정비 증가로 인한 판매 가격 조정\n",
            "1\n",
            "positive 비교단어 :  선보여 clean_title :  롯데리아 가성비 메뉴 슈퍼TREX 세트 구성 선보여\n",
            "1\n",
            "positive 비교단어 :  착한 clean_title :  착한 가격으로 소비자 혜택 높인다롯데GRS 착한점심 메뉴와 가격 개편\n",
            "1\n",
            "0\n",
            "0\n",
            "0\n",
            "0\n",
            "positive 비교단어 :  인기 clean_title :  롯데리아 한정판 메뉴 사각새우버거 인기↑\n",
            "1\n",
            "positive 비교단어 :  인기 clean_title :  사각새우더블버거 인기에롯데리아 정식 메뉴 도입\n",
            "1\n",
            "0\n"
          ],
          "name": "stdout"
        },
        {
          "output_type": "stream",
          "text": [
            "\r 10%|▉         | 10/101 [00:10<01:36,  1.06s/it]"
          ],
          "name": "stderr"
        },
        {
          "output_type": "stream",
          "text": [
            "0\n",
            "0\n",
            "positive 비교단어 :  인기 clean_title :  롯데리아 인기버거 세트 2개 8000원 한정 판매\n",
            "1\n",
            "0\n",
            "0\n",
            "0\n",
            "0\n",
            "positive 비교단어 :  출시 clean_title :  롯데리아 2021 새해 맞이 한정 사각새우더블버거’ 출시\n",
            "1\n",
            "positive 비교단어 :  출시 clean_title :  롯데리아 가성비 앞세운 슈퍼 티렉스버거 세트 한정 출시\n",
            "1\n",
            "0\n"
          ],
          "name": "stdout"
        },
        {
          "output_type": "stream",
          "text": [
            "\r 11%|█         | 11/101 [00:11<01:34,  1.05s/it]"
          ],
          "name": "stderr"
        },
        {
          "output_type": "stream",
          "text": [
            "positive 비교단어 :  착한 clean_title :  롯데리아 착한점심 메뉴 가격 낮춘다 평균 15 할인\n",
            "1\n",
            "0\n",
            "negative 비교단어 :  해지 clean_title :  스타벅스 라오스 1호점 오픈 준비 한창 프랜차이즈 진출 활발해지나\n",
            "-1\n",
            "positive 비교단어 :  출시 clean_title :  롯데GRS 롯데리아 더블 핫크리스피버거 2종 한정 출시\n",
            "1\n",
            "0\n",
            "0\n",
            "0\n",
            "0\n",
            "positive 비교단어 :  착한 clean_title :  롯데GRS 롯데리아 착한점심 가격인하로 소비자 혜택 높여\n",
            "1\n",
            "positive 비교단어 :  출시 clean_title :  롯데리아 여름 디저트 팥빙수 팥빙고 출시\n",
            "1\n"
          ],
          "name": "stdout"
        },
        {
          "output_type": "stream",
          "text": [
            "\r 12%|█▏        | 12/101 [00:13<01:33,  1.06s/it]"
          ],
          "name": "stderr"
        },
        {
          "output_type": "stream",
          "text": [
            "positive 비교단어 :  착한 clean_title :  롯데리아 착한점심’ 리뉴얼품목 조정·가격 인하\n",
            "1\n",
            "positive 비교단어 :  출시 clean_title :  롯데리아 더블 핫크리스피버거 2종 한정 출시\n",
            "1\n",
            "0\n",
            "0\n",
            "0\n",
            "0\n",
            "0\n",
            "positive 비교단어 :  착한 clean_title :  롯데GRS 롯데리아 착한점심 가격인하로 소비자 혜택 높여\n",
            "1\n",
            "positive 비교단어 :  출시 clean_title :  롯데리아 여름 디저트 팥빙수 팥빙고 출시\n",
            "1\n",
            "0\n"
          ],
          "name": "stdout"
        },
        {
          "output_type": "stream",
          "text": [
            "\r 13%|█▎        | 13/101 [00:14<01:32,  1.05s/it]"
          ],
          "name": "stderr"
        },
        {
          "output_type": "stream",
          "text": [
            "positive 비교단어 :  착한 clean_title :  롯데리아 착한점심 가격 15 내린다\n",
            "1\n",
            "0\n",
            "0\n",
            "0\n",
            "0\n",
            "positive 비교단어 :  착한 clean_title :  롯데GRS 롯데리아 착한점심 가격인하로 소비자 혜택 높여\n",
            "1\n",
            "positive 비교단어 :  출시 clean_title :  롯데리아 여름 디저트 팥빙수 팥빙고 출시\n",
            "1\n",
            "0\n",
            "positive 비교단어 :  1위 clean_title :  매장 수 1위 롯데리아 제친 맘스터치가성비로 MZ세대 홀렸다\n",
            "1\n",
            "0\n"
          ],
          "name": "stdout"
        },
        {
          "output_type": "stream",
          "text": [
            "\r 14%|█▍        | 14/101 [00:15<01:31,  1.05s/it]"
          ],
          "name": "stderr"
        },
        {
          "output_type": "stream",
          "text": [
            "0\n",
            "positive 비교단어 :  출시 clean_title :  롯데리아 더블 핫크리스피버거 2종 한정 출시\n",
            "1\n",
            "positive 비교단어 :  착한 clean_title :  롯데GRS 롯데리아 착한점심 가격인하로 소비자 혜택 높여\n",
            "1\n",
            "positive 비교단어 :  출시 clean_title :  롯데리아 여름 디저트 팥빙수 팥빙고 출시\n",
            "1\n",
            "positive 비교단어 :  착한 clean_title :  저렴하게 즐기는 점심” 롯데GRS 롯데리아 착한점심 가격 확 낮춰\n",
            "1\n",
            "0\n",
            "positive 비교단어 :  1위 clean_title :  매장 수 1위 롯데리아 제친 맘스터치가성비로 MZ세대 홀렸다\n",
            "1\n",
            "0\n",
            "0\n",
            "positive 비교단어 :  출시 clean_title :  롯데리아 더블패티로 사이즈 키운 신제품 2종 한정출시\n",
            "1\n"
          ],
          "name": "stdout"
        },
        {
          "output_type": "stream",
          "text": [
            "\r 15%|█▍        | 15/101 [00:16<01:30,  1.05s/it]"
          ],
          "name": "stderr"
        },
        {
          "output_type": "stream",
          "text": [
            "positive 비교단어 :  출시 clean_title :  롯데리아 1인용 빙수 팥빙고 출시\n",
            "1\n",
            "positive 비교단어 :  착한 clean_title :  세트 3천900원에롯데리아 착한점심 가격 확 낮췄다\n",
            "1\n",
            "0\n",
            "positive 비교단어 :  출시 clean_title :  롯데리아 더블 핫크리스피버거’ 2종 한정 출시\n",
            "1\n",
            "0\n",
            "negative 비교단어 :  피해 clean_title :  롯데리아 배달앱 주문 4시간 먹통 피해보상 검토\n",
            "-1\n",
            "0\n",
            "positive 비교단어 :  출시 clean_title :  롯데리아 더블패티로 사이즈 키운 신제품 2종 한정출시\n",
            "1\n",
            "positive 비교단어 :  신메뉴 clean_title :  롯데리아 11번가서 신메뉴 세트 할인 판매\n",
            "1\n",
            "0\n"
          ],
          "name": "stdout"
        },
        {
          "output_type": "stream",
          "text": [
            "\r 16%|█▌        | 16/101 [00:17<01:29,  1.05s/it]"
          ],
          "name": "stderr"
        },
        {
          "output_type": "stream",
          "text": [
            "0\n",
            "positive 비교단어 :  인기 clean_title :  롯데리아 인기 메뉴 업그레이드더블 핫크리스피버거 2종 한정 판매\n",
            "1\n",
            "positive 비교단어 :  출시 clean_title :  롯데리아 더블패티로 사이즈 키운 신제품 2종 한정출시\n",
            "1\n",
            "positive 비교단어 :  착한 clean_title :  롯데리아 다음달부터 착한점심 메뉴·가격 개편\n",
            "1\n",
            "positive 비교단어 :  신메뉴 clean_title :  롯데리아 11번가서 신메뉴 세트 할인 판매\n",
            "1\n",
            "0\n",
            "0\n",
            "positive 비교단어 :  1위 clean_title :  롯데리아 맘스터치에 매장수 1위 내줘 굴욕’\n",
            "1\n",
            "0\n",
            "0\n"
          ],
          "name": "stdout"
        },
        {
          "output_type": "stream",
          "text": [
            "\r 17%|█▋        | 17/101 [00:18<01:33,  1.12s/it]"
          ],
          "name": "stderr"
        },
        {
          "output_type": "stream",
          "text": [
            "0\n",
            "0\n",
            "0\n",
            "positive 비교단어 :  1위 clean_title :  롯데리아 맘스터치에 매장수 1위 내줘 굴욕’\n",
            "1\n",
            "0\n",
            "0\n",
            "0\n",
            "0\n",
            "0\n",
            "0\n"
          ],
          "name": "stdout"
        },
        {
          "output_type": "stream",
          "text": [
            "\r 18%|█▊        | 18/101 [00:19<01:33,  1.12s/it]"
          ],
          "name": "stderr"
        },
        {
          "output_type": "stream",
          "text": [
            "0\n",
            "0\n",
            "0\n",
            "0\n",
            "0\n",
            "positive 비교단어 :  출시 clean_title :  롯데GRS 롯데리아 더블 핫크리스피버거 2종 한정 출시\n",
            "1\n",
            "0\n",
            "positive 비교단어 :  신메뉴 clean_title :  롯데리아 11번가 라이브방송서 신메뉴 할인 판매\n",
            "1\n",
            "0\n",
            "0\n"
          ],
          "name": "stdout"
        },
        {
          "output_type": "stream",
          "text": [
            "\r 19%|█▉        | 19/101 [00:20<01:30,  1.10s/it]"
          ],
          "name": "stderr"
        },
        {
          "output_type": "stream",
          "text": [
            "0\n",
            "positive 비교단어 :  신메뉴 clean_title :  롯데리아 11번가 라이브방송서 신메뉴 할인 판매\n",
            "1\n",
            "0\n",
            "positive 비교단어 :  출시 clean_title :  롯데리아 가성비 높인 더블 핫크리스피버거 2종 한정 출시\n",
            "1\n",
            "0\n",
            "0\n",
            "0\n",
            "0\n",
            "0\n",
            "0\n"
          ],
          "name": "stdout"
        },
        {
          "output_type": "stream",
          "text": [
            "\r 20%|█▉        | 20/101 [00:21<01:29,  1.10s/it]"
          ],
          "name": "stderr"
        },
        {
          "output_type": "stream",
          "text": [
            "0\n",
            "0\n",
            "0\n",
            "0\n",
            "0\n",
            "0\n",
            "0\n",
            "0\n",
            "positive 비교단어 :  출시 clean_title :  가성비 살린 버거라인롯데리아 더블 패티 올린 버거 2종 출시\n",
            "1\n",
            "0\n"
          ],
          "name": "stdout"
        },
        {
          "output_type": "stream",
          "text": [
            "\r 21%|██        | 21/101 [00:22<01:26,  1.08s/it]"
          ],
          "name": "stderr"
        },
        {
          "output_type": "stream",
          "text": [
            "0\n",
            "positive 비교단어 :  출시 clean_title :  가성비 살린 버거라인롯데리아 더블 패티 올린 버거 2종 출시\n",
            "1\n",
            "0\n",
            "0\n",
            "0\n",
            "0\n",
            "0\n",
            "0\n",
            "0\n",
            "0\n"
          ],
          "name": "stdout"
        },
        {
          "output_type": "stream",
          "text": [
            "\r 22%|██▏       | 22/101 [00:23<01:24,  1.07s/it]"
          ],
          "name": "stderr"
        },
        {
          "output_type": "stream",
          "text": [
            "0\n",
            "0\n",
            "positive 비교단어 :  신메뉴 clean_title :  롯데리아 11번가 LIVE 11’에서 신메뉴 세트 할인 판매\n",
            "1\n",
            "positive 비교단어 :  출시 clean_title :  롯데리아 가성비 메뉴 슈퍼TREX 세트 출시\n",
            "1\n",
            "0\n",
            "positive 비교단어 :  인기 clean_title :  인기 폭발’ 롯데리아 사각새우더블버거 정식 출시\n",
            "1\n",
            "0\n",
            "0\n",
            "0\n",
            "0\n"
          ],
          "name": "stdout"
        },
        {
          "output_type": "stream",
          "text": [
            "\r 23%|██▎       | 23/101 [00:24<01:23,  1.07s/it]"
          ],
          "name": "stderr"
        },
        {
          "output_type": "stream",
          "text": [
            "0\n",
            "positive 비교단어 :  신메뉴 clean_title :  롯데리아 11번가서 신메뉴 세트 최대 44 할인 판매\n",
            "1\n",
            "0\n",
            "0\n",
            "0\n",
            "positive 비교단어 :  출시 clean_title :  롯데GRS 롯데리아 여름 디저트 팥빙수 팥빙고’ 출시\n",
            "1\n",
            "positive 비교단어 :  착한 clean_title :  롯데GRS 롯데리아 착한점심 가격 확 낮췄다\n",
            "1\n",
            "0\n",
            "0\n",
            "0\n"
          ],
          "name": "stdout"
        },
        {
          "output_type": "stream",
          "text": [
            "\r 24%|██▍       | 24/101 [00:25<01:22,  1.07s/it]"
          ],
          "name": "stderr"
        },
        {
          "output_type": "stream",
          "text": [
            "0\n",
            "0\n",
            "0\n",
            "0\n",
            "0\n",
            "0\n",
            "0\n",
            "positive 비교단어 :  신상 clean_title :  신상품 롯데리아 치즈No5\n",
            "1\n",
            "0\n",
            "0\n"
          ],
          "name": "stdout"
        },
        {
          "output_type": "stream",
          "text": [
            "\r 25%|██▍       | 25/101 [00:27<01:20,  1.06s/it]"
          ],
          "name": "stderr"
        },
        {
          "output_type": "stream",
          "text": [
            "positive 비교단어 :  신상 clean_title :  신상품 롯데리아 치즈No5\n",
            "1\n",
            "0\n",
            "0\n",
            "0\n",
            "0\n",
            "0\n",
            "0\n",
            "0\n",
            "0\n",
            "positive 비교단어 :  인기 clean_title :  롯데리아 사각새우더블버거 인기에 정식 메뉴 도입\n",
            "1\n"
          ],
          "name": "stdout"
        },
        {
          "output_type": "stream",
          "text": [
            "\r 26%|██▌       | 26/101 [00:28<01:19,  1.06s/it]"
          ],
          "name": "stderr"
        },
        {
          "output_type": "stream",
          "text": [
            "positive 비교단어 :  인기 clean_title :  롯데리아 사각새우더블버거 인기에 정식 메뉴 도입\n",
            "1\n",
            "0\n",
            "0\n",
            "0\n",
            "negative 비교단어 :  피해 clean_title :  앱 주문 먹통 롯데리아 피해 가맹점 보상책 마련 중\n",
            "-1\n",
            "0\n",
            "0\n",
            "0\n",
            "positive 비교단어 :  신메뉴 clean_title :  롯데리아 1일 라이브방송서 신메뉴 최대 44 할인 판매\n",
            "1\n",
            "positive 비교단어 :  출시 clean_title :  롯데GRS 롯데리아 여름 디저트 팥빙수 팥빙고’ 출시\n",
            "1\n"
          ],
          "name": "stdout"
        },
        {
          "output_type": "stream",
          "text": [
            "\r 27%|██▋       | 27/101 [00:29<01:18,  1.07s/it]"
          ],
          "name": "stderr"
        },
        {
          "output_type": "stream",
          "text": [
            "positive 비교단어 :  출시 clean_title :  롯데GRS 롯데리아 여름 디저트 팥빙수 팥빙고’ 출시\n",
            "1\n",
            "0\n",
            "0\n",
            "negative 비교단어 :  피해 clean_title :  롯데리아 앱 주문 4시간 먹통롯데리아 가맹점에 피해 보상 할 것\n",
            "-1\n",
            "positive 비교단어 :  선보여 clean_title :  롯데리아 가성비 메뉴 슈퍼TREX 세트’ 선보여\n",
            "1\n",
            "0\n",
            "0\n",
            "0\n",
            "0\n",
            "0\n"
          ],
          "name": "stdout"
        },
        {
          "output_type": "stream",
          "text": [
            "\r 28%|██▊       | 28/101 [00:30<01:18,  1.07s/it]"
          ],
          "name": "stderr"
        },
        {
          "output_type": "stream",
          "text": [
            "0\n",
            "0\n",
            "0\n",
            "0\n",
            "0\n",
            "negative 비교단어 :  중단 clean_title :  맥도날드롯데리아 커피·음료 포장배달만홀덤펍 영업중단\n",
            "-1\n",
            "0\n",
            "positive 비교단어 :  인기 clean_title :  롯데리아 22일까지 인기버거 세트 2개 8000원\n",
            "1\n",
            "0\n",
            "0\n"
          ],
          "name": "stdout"
        },
        {
          "output_type": "stream",
          "text": [
            "\r 29%|██▊       | 29/101 [00:31<01:16,  1.07s/it]"
          ],
          "name": "stderr"
        },
        {
          "output_type": "stream",
          "text": [
            "0\n",
            "0\n",
            "positive 비교단어 :  출시 clean_title :  5가지 치즈를 한번에롯데리아 치즈No5 출시\n",
            "1\n",
            "0\n",
            "0\n",
            "0\n",
            "0\n",
            "positive 비교단어 :  신제품 clean_title :  10줄리뷰버거킹 초저가 신제품 상어버거 롯데리아 사각새우 넘을까\n",
            "1\n",
            "0\n",
            "0\n"
          ],
          "name": "stdout"
        },
        {
          "output_type": "stream",
          "text": [
            "\r 30%|██▉       | 30/101 [00:32<01:17,  1.09s/it]"
          ],
          "name": "stderr"
        },
        {
          "output_type": "stream",
          "text": [
            "0\n",
            "0\n",
            "0\n",
            "0\n",
            "positive 비교단어 :  출시 clean_title :  롯데리아 여름 시즌 디저트 팥빙수 팥빙고 출시\n",
            "1\n",
            "0\n",
            "0\n",
            "0\n",
            "0\n",
            "positive 비교단어 :  출시 clean_title :  롯데리아 새해 맞이 한정판 사각새우더블버거 출시\n",
            "1\n"
          ],
          "name": "stdout"
        },
        {
          "output_type": "stream",
          "text": [
            "\r 31%|███       | 31/101 [00:33<01:15,  1.08s/it]"
          ],
          "name": "stderr"
        },
        {
          "output_type": "stream",
          "text": [
            "positive 비교단어 :  출시 clean_title :  롯데리아 새해 맞이 한정판 사각새우더블버거 출시\n",
            "1\n",
            "0\n",
            "0\n",
            "0\n",
            "positive 비교단어 :  출시 clean_title :  롯데리아 5가지 치즈 들어간 버거 치즈 No5 출시\n",
            "1\n",
            "0\n",
            "0\n",
            "0\n",
            "0\n",
            "0\n"
          ],
          "name": "stdout"
        },
        {
          "output_type": "stream",
          "text": [
            "\r 32%|███▏      | 32/101 [00:34<01:14,  1.08s/it]"
          ],
          "name": "stderr"
        },
        {
          "output_type": "stream",
          "text": [
            "positive 비교단어 :  출시 clean_title :  오늘의 유통 단신 롯데리아 사각새우더블버거 출시 外\n",
            "1\n",
            "0\n",
            "0\n",
            "negative 비교단어 :  피해 clean_title :  롯데리아 배달 전산망 4시간 먹통피해 보상 검토\n",
            "-1\n",
            "positive 비교단어 :  인기 clean_title :  롯데리아 인기버거 세트 2개 8천원 한정 판매\n",
            "1\n",
            "0\n",
            "positive 비교단어 :  출시 clean_title :  5가지 치즈를 한번에롯데리아 진한 치즈버거 출시\n",
            "1\n",
            "0\n",
            "0\n",
            "0\n"
          ],
          "name": "stdout"
        },
        {
          "output_type": "stream",
          "text": [
            "\r 33%|███▎      | 33/101 [00:35<01:13,  1.08s/it]"
          ],
          "name": "stderr"
        },
        {
          "output_type": "stream",
          "text": [
            "0\n",
            "positive 비교단어 :  인기 clean_title :  롯데리아 인기버거 세트 2개 8000원 한정 판매\n",
            "1\n",
            "0\n",
            "0\n",
            "positive 비교단어 :  착한 clean_title :  가격 확 낮췄다롯데GRS 착한점심 메뉴 6종 리뉴얼 및 가격 인하 확대\n",
            "1\n",
            "negative 비교단어 :  피해 clean_title :  롯데리아 최근 배달 서버 먹통피해 규모집계 후 보상”\n",
            "-1\n",
            "0\n",
            "positive 비교단어 :  출시 clean_title :  치즈마니아께 바치는 헌정 버거롯데리아 치즈 No5’ 출시\n",
            "1\n",
            "positive 비교단어 :  출시 clean_title :  롯데리아 새해 맞이 한정 사각새우더블버거 출시\n",
            "1\n",
            "0\n"
          ],
          "name": "stdout"
        },
        {
          "output_type": "stream",
          "text": [
            "\r 34%|███▎      | 34/101 [00:36<01:11,  1.07s/it]"
          ],
          "name": "stderr"
        },
        {
          "output_type": "stream",
          "text": [
            "positive 비교단어 :  출시 clean_title :  롯데리아 새해 맞이 한정 사각새우더블버거 출시\n",
            "1\n",
            "0\n",
            "0\n",
            "positive 비교단어 :  호응 clean_title :  롯데리아 사각새우더블버거 호응에 정식 출시\n",
            "1\n",
            "0\n",
            "0\n",
            "0\n",
            "0\n",
            "0\n",
            "0\n"
          ],
          "name": "stdout"
        },
        {
          "output_type": "stream",
          "text": [
            "\r 35%|███▍      | 35/101 [00:37<01:14,  1.13s/it]"
          ],
          "name": "stderr"
        },
        {
          "output_type": "stream",
          "text": [
            "0\n",
            "0\n",
            "0\n",
            "positive 비교단어 :  출시 clean_title :  5종 치즈가 하나에롯데리아 치즈No5 출시\n",
            "1\n",
            "0\n",
            "0\n",
            "0\n",
            "0\n",
            "positive 비교단어 :  선보여 clean_title :  롯데리아 가성비 메뉴 슈퍼TREX 세트 구성 선보여\n",
            "1\n",
            "positive 비교단어 :  착한 clean_title :  착한 가격으로 소비자 혜택 높인다롯데GRS 착한점심 메뉴와 가격 개편\n",
            "1\n"
          ],
          "name": "stdout"
        },
        {
          "output_type": "stream",
          "text": [
            "\r 36%|███▌      | 36/101 [00:39<01:11,  1.11s/it]"
          ],
          "name": "stderr"
        },
        {
          "output_type": "stream",
          "text": [
            "0\n",
            "positive 비교단어 :  증가 clean_title :  롯데리아 인건비·원자재 가격 등 고정비 증가로 인한 판매 가격 조정\n",
            "1\n",
            "positive 비교단어 :  선보여 clean_title :  롯데리아 가성비 메뉴 슈퍼TREX 세트 구성 선보여\n",
            "1\n",
            "positive 비교단어 :  착한 clean_title :  착한 가격으로 소비자 혜택 높인다롯데GRS 착한점심 메뉴와 가격 개편\n",
            "1\n",
            "0\n",
            "positive 비교단어 :  인기 clean_title :  롯데리아 한정판 메뉴 사각새우버거 인기↑\n",
            "1\n",
            "positive 비교단어 :  인기 clean_title :  사각새우더블버거 인기에롯데리아 정식 메뉴 도입\n",
            "1\n",
            "0\n",
            "0\n",
            "0\n"
          ],
          "name": "stdout"
        },
        {
          "output_type": "stream",
          "text": [
            "\r 37%|███▋      | 37/101 [00:40<01:09,  1.09s/it]"
          ],
          "name": "stderr"
        },
        {
          "output_type": "stream",
          "text": [
            "0\n",
            "0\n",
            "0\n",
            "0\n",
            "0\n",
            "0\n",
            "0\n",
            "0\n",
            "0\n",
            "0\n"
          ],
          "name": "stdout"
        },
        {
          "output_type": "stream",
          "text": [
            "\r 38%|███▊      | 38/101 [00:41<01:08,  1.09s/it]"
          ],
          "name": "stderr"
        },
        {
          "output_type": "stream",
          "text": [
            "0\n",
            "positive 비교단어 :  출시 clean_title :  폴더버거 판매 접은 롯데리아 신제품 치즈No5 출시\n",
            "1\n",
            "0\n",
            "0\n",
            "0\n",
            "0\n",
            "0\n",
            "0\n",
            "0\n",
            "0\n"
          ],
          "name": "stdout"
        },
        {
          "output_type": "stream",
          "text": [
            "\r 39%|███▊      | 39/101 [00:42<01:07,  1.09s/it]"
          ],
          "name": "stderr"
        },
        {
          "output_type": "stream",
          "text": [
            "0\n",
            "0\n",
            "positive 비교단어 :  신상 clean_title :  신상품 대상청정원·매일유업·하이트진로·국순당·롯데리아\n",
            "1\n",
            "0\n",
            "positive 비교단어 :  신상 clean_title :  특이하게 생긴 롯데리아의 신상 햄버거 지금 난리가 났습니다\n",
            "1\n",
            "positive 비교단어 :  인기 clean_title :  롯데리아 인기버거 세트 2개 8000원 한정 판매\n",
            "1\n",
            "0\n",
            "0\n",
            "0\n",
            "positive 비교단어 :  출시 clean_title :  롯데리아 2021 새해 맞이 한정 사각새우더블버거’ 출시\n",
            "1\n"
          ],
          "name": "stdout"
        },
        {
          "output_type": "stream",
          "text": [
            "\r 40%|███▉      | 40/101 [00:43<01:09,  1.14s/it]"
          ],
          "name": "stderr"
        },
        {
          "output_type": "stream",
          "text": [
            "0\n",
            "0\n",
            "0\n",
            "0\n",
            "positive 비교단어 :  출시 clean_title :  롯데리아 2021 새해 맞이 한정 사각새우더블버거’ 출시\n",
            "1\n",
            "positive 비교단어 :  출시 clean_title :  롯데리아 가성비 앞세운 슈퍼 티렉스버거 세트 한정 출시\n",
            "1\n",
            "0\n",
            "0\n",
            "0\n",
            "positive 비교단어 :  출시 clean_title :  롯데리아 5가지 치즈 들어간 버거 치즈 No5 출시\n",
            "1\n"
          ],
          "name": "stdout"
        },
        {
          "output_type": "stream",
          "text": [
            "\r 41%|████      | 41/101 [00:44<01:07,  1.12s/it]"
          ],
          "name": "stderr"
        },
        {
          "output_type": "stream",
          "text": [
            "positive 비교단어 :  출시 clean_title :  롯데리아 5가지 치즈 들어간 버거 치즈 No5 출시\n",
            "1\n",
            "0\n",
            "positive 비교단어 :  출시 clean_title :  롯데리아 1월 한정 사각새우더블버거 출시\n",
            "1\n",
            "0\n",
            "0\n",
            "0\n",
            "0\n",
            "0\n",
            "0\n",
            "0\n"
          ],
          "name": "stdout"
        },
        {
          "output_type": "stream",
          "text": [
            "\r 42%|████▏     | 42/101 [00:45<01:07,  1.14s/it]"
          ],
          "name": "stderr"
        },
        {
          "output_type": "stream",
          "text": [
            "positive 비교단어 :  출시 clean_title :  롯데리아 새해 맞이 한정 사각새우더블버거’ 출시\n",
            "1\n",
            "0\n",
            "0\n",
            "0\n",
            "0\n",
            "0\n",
            "positive 비교단어 :  인기 clean_title :  롯데리아 인기버거 세트 2개 8000원 한정 판매\n",
            "1\n",
            "0\n",
            "0\n",
            "0\n"
          ],
          "name": "stdout"
        },
        {
          "output_type": "stream",
          "text": [
            "\r 43%|████▎     | 43/101 [00:46<01:05,  1.12s/it]"
          ],
          "name": "stderr"
        },
        {
          "output_type": "stream",
          "text": [
            "0\n",
            "positive 비교단어 :  출시 clean_title :  롯데리아 2021 새해 맞이 한정 사각새우더블버거’ 출시\n",
            "1\n",
            "0\n",
            "0\n",
            "0\n",
            "negative 비교단어 :  중단 clean_title :  롯데리아 AZ버거 판매 중단\n",
            "-1\n",
            "0\n",
            "0\n",
            "0\n",
            "0\n"
          ],
          "name": "stdout"
        },
        {
          "output_type": "stream",
          "text": [
            "\r 44%|████▎     | 44/101 [00:47<01:02,  1.10s/it]"
          ],
          "name": "stderr"
        },
        {
          "output_type": "stream",
          "text": [
            "0\n",
            "0\n",
            "0\n",
            "positive 비교단어 :  인기 clean_title :  롯데리아 사각새우더블버거 인기에 정규 제품 판매 운영\n",
            "1\n",
            "0\n",
            "positive 비교단어 :  출시 clean_title :  롯데리아 티렉스버거 구색 확대슈퍼 티렉스 세트 출시\n",
            "1\n",
            "0\n",
            "positive 비교단어 :  신상 clean_title :  10줄리뷰 ▶롯데리아 신상 사각새우버거와 OOO\n",
            "1\n",
            "0\n",
            "0\n"
          ],
          "name": "stdout"
        },
        {
          "output_type": "stream",
          "text": [
            "\r 45%|████▍     | 45/101 [00:48<01:00,  1.08s/it]"
          ],
          "name": "stderr"
        },
        {
          "output_type": "stream",
          "text": [
            "0\n",
            "0\n",
            "positive 비교단어 :  신상 clean_title :  10줄리뷰 ▶롯데리아 신상 사각새우버거와 OOO\n",
            "1\n",
            "0\n",
            "0\n",
            "0\n",
            "0\n",
            "positive 비교단어 :  인기 clean_title :  롯데리아 가성비 인기메뉴 데리버거 2개 3900원\n",
            "1\n",
            "0\n",
            "positive 비교단어 :  인기 clean_title :  롯데리아 인기버거 세트 2개 8000원 한정 판매 프로모션\n",
            "1\n"
          ],
          "name": "stdout"
        },
        {
          "output_type": "stream",
          "text": [
            "\r 46%|████▌     | 46/101 [00:50<00:59,  1.08s/it]"
          ],
          "name": "stderr"
        },
        {
          "output_type": "stream",
          "text": [
            "0\n",
            "positive 비교단어 :  인기 clean_title :  롯데리아 인기버거 세트 2개 8000원 한정 판매 프로모션\n",
            "1\n",
            "0\n",
            "0\n",
            "0\n",
            "positive 비교단어 :  출시 clean_title :  롯데리아 새해 신제품 사각새우더블버거 한정 출시\n",
            "1\n",
            "negative 비교단어 :  폐점 clean_title :  단독 폐점의 아픔 롯데리아 홍대점 2년반만에 다시 문 연다\n",
            "-1\n",
            "0\n",
            "0\n",
            "0\n"
          ],
          "name": "stdout"
        },
        {
          "output_type": "stream",
          "text": [
            "\r 47%|████▋     | 47/101 [00:51<00:58,  1.08s/it]"
          ],
          "name": "stderr"
        },
        {
          "output_type": "stream",
          "text": [
            "positive 비교단어 :  출시 clean_title :  롯데리아 2021 새해 맞이 사각새우더블버거’ 한정판 출시\n",
            "1\n",
            "0\n",
            "0\n",
            "0\n",
            "0\n",
            "negative 비교단어 :  우려 clean_title :  롯데GRS 롯데리아 베트남 사업 철수 우려 일축\n",
            "-1\n",
            "positive 비교단어 :  신메뉴 clean_title :  할인된 가격에 먼저 만나요”롯데리아 신메뉴 라이브방송 한정 할인\n",
            "1\n",
            "0\n",
            "0\n",
            "positive 비교단어 :  최고 clean_title :  롯데리아·맥도날드 이어버거킹 일부 메뉴 최고 300원 인상\n",
            "1\n"
          ],
          "name": "stdout"
        },
        {
          "output_type": "stream",
          "text": [
            "\r 48%|████▊     | 48/101 [00:52<00:56,  1.07s/it]"
          ],
          "name": "stderr"
        },
        {
          "output_type": "stream",
          "text": [
            "positive 비교단어 :  최고 clean_title :  롯데리아·맥도날드 이어버거킹 일부 메뉴 최고 300원 인상\n",
            "1\n",
            "0\n",
            "0\n",
            "0\n",
            "positive 비교단어 :  인기 clean_title :  롯데리아 한정판 메뉴 사각새우더블버거 인기에 연장 판매\n",
            "1\n",
            "0\n",
            "positive 비교단어 :  출시 clean_title :  롯데리아 새해 맞이 한정 사각새우더블버거’ 출시\n",
            "1\n",
            "0\n",
            "0\n",
            "positive 비교단어 :  인기 clean_title :  롯데GRS 롯데리아 한정판 메뉴 사각새우버거 인기\n",
            "1\n"
          ],
          "name": "stdout"
        },
        {
          "output_type": "stream",
          "text": [
            "\r 49%|████▊     | 49/101 [00:53<00:59,  1.15s/it]"
          ],
          "name": "stderr"
        },
        {
          "output_type": "stream",
          "text": [
            "positive 비교단어 :  인기 clean_title :  롯데GRS 롯데리아 한정판 메뉴 사각새우버거 인기\n",
            "1\n",
            "0\n",
            "positive 비교단어 :  출시 clean_title :  롯데리아 새해 맞아 사각새우더블버거 한정 출시\n",
            "1\n",
            "0\n",
            "positive 비교단어 :  인기 clean_title :  롯데리아 사각새우더블버거 인기에 고객 감사 이벤트 진행\n",
            "1\n",
            "0\n",
            "positive 비교단어 :  인기 clean_title :  인기품목을 값싸게” 롯데리아 새우버거·데리버거 세트 2개 8000원에 판매\n",
            "1\n",
            "positive 비교단어 :  새로운 clean_title :  창립 42주년 롯데리아 우리 입맛에 맞는 새로운 상품 개발 등으로 소비자들의\n",
            "1\n",
            "0\n",
            "0\n"
          ],
          "name": "stdout"
        },
        {
          "output_type": "stream",
          "text": [
            "\r 50%|████▉     | 50/101 [00:54<00:57,  1.12s/it]"
          ],
          "name": "stderr"
        },
        {
          "output_type": "stream",
          "text": [
            "0\n",
            "0\n",
            "0\n",
            "0\n",
            "0\n",
            "0\n",
            "0\n",
            "0\n",
            "0\n",
            "0\n"
          ],
          "name": "stdout"
        },
        {
          "output_type": "stream",
          "text": [
            "\r 50%|█████     | 51/101 [00:55<00:55,  1.12s/it]"
          ],
          "name": "stderr"
        },
        {
          "output_type": "stream",
          "text": [
            "0\n",
            "0\n",
            "0\n",
            "0\n",
            "0\n",
            "0\n",
            "positive 비교단어 :  선보여 clean_title :  롯데리아 가성비 메뉴 슈퍼TREX 세트’ 선보여\n",
            "1\n",
            "positive 비교단어 :  착한 clean_title :  SR유통 롯데GRS 롯데리아 착한점심 메뉴 늘리고 가격 추가 인하\n",
            "1\n",
            "0\n",
            "positive 비교단어 :  출시 clean_title :  롯데리아 치즈 마니아 집중공략 치즈 넘버5’ 출시\n",
            "1\n"
          ],
          "name": "stdout"
        },
        {
          "output_type": "stream",
          "text": [
            "\r 51%|█████▏    | 52/101 [00:56<00:53,  1.10s/it]"
          ],
          "name": "stderr"
        },
        {
          "output_type": "stream",
          "text": [
            "0\n",
            "0\n",
            "0\n",
            "positive 비교단어 :  착한 clean_title :  롯데GRS 롯데리아 착한점심 가격 낮췄다\n",
            "1\n",
            "0\n",
            "positive 비교단어 :  신메뉴 clean_title :  롯데리아 11번가 LIVE 11’ 한정 신메뉴 세트 할인 판매\n",
            "1\n",
            "0\n",
            "positive 비교단어 :  출시 clean_title :  롯데리아 새해 맞이 한정 사각새우더블버거 출시\n",
            "1\n",
            "positive 비교단어 :  증가 clean_title :  롯데리아 사각새우더블버거 정규 판매2월 연장 시 20 증가\n",
            "1\n",
            "0\n"
          ],
          "name": "stdout"
        },
        {
          "output_type": "stream",
          "text": [
            "\r 52%|█████▏    | 53/101 [00:57<00:51,  1.08s/it]"
          ],
          "name": "stderr"
        },
        {
          "output_type": "stream",
          "text": [
            "positive 비교단어 :  인기 clean_title :  롯데리아 한정판 사각새우더블버거 인기패티 추가 생산\n",
            "1\n",
            "negative 비교단어 :  피해 clean_title :  꼬이기만 하는 롯데리아 되는 게 없네적자에 전산장애 점주 피해 가격 \n",
            "-1\n",
            "0\n",
            "0\n",
            "0\n",
            "0\n",
            "0\n",
            "0\n",
            "positive 비교단어 :  선보여 clean_title :  뉴스투데이 E 롯데리아 여름 디저트로 1인 빙수 팥빙고’ 선보여\n",
            "1\n",
            "negative 비교단어 :  포기 clean_title :  버거 하나 주문하는데 터치만 십수 회실수로 취소 눌렀다 포기\n",
            "-1\n"
          ],
          "name": "stdout"
        },
        {
          "output_type": "stream",
          "text": [
            "\r 53%|█████▎    | 54/101 [00:58<00:51,  1.10s/it]"
          ],
          "name": "stderr"
        },
        {
          "output_type": "stream",
          "text": [
            "0\n",
            "positive 비교단어 :  선보여 clean_title :  뉴스투데이 E 롯데리아 여름 디저트로 1인 빙수 팥빙고’ 선보여\n",
            "1\n",
            "negative 비교단어 :  포기 clean_title :  버거 하나 주문하는데 터치만 십수 회실수로 취소 눌렀다 포기\n",
            "-1\n",
            "0\n",
            "0\n",
            "positive 비교단어 :  인기 clean_title :  롯데리아 인기버거 세트 2개 8000원 한정 판매\n",
            "1\n",
            "positive 비교단어 :  출시 clean_title :  롯데GRS 롯데리아 더블 핫크리스피버거 2종 한정 출시\n",
            "1\n",
            "0\n",
            "0\n",
            "negative 비교단어 :  중단 clean_title :  롯데리아 다음달4월 2일부터 AZ버거 판매 전격 중단\n",
            "-1\n"
          ],
          "name": "stdout"
        },
        {
          "output_type": "stream",
          "text": [
            "\r 54%|█████▍    | 55/101 [00:59<00:49,  1.09s/it]"
          ],
          "name": "stderr"
        },
        {
          "output_type": "stream",
          "text": [
            "positive 비교단어 :  인기 clean_title :  한층 업된 혜택 롯데리아 인기버거 세트 2개 8000원 한정 판매\n",
            "1\n",
            "0\n",
            "0\n",
            "0\n",
            "positive 비교단어 :  출시 clean_title :  롯데리아 햄버거 하나에 다섯가지 치즈 듬뿍치즈 No5 출시\n",
            "1\n",
            "0\n",
            "0\n",
            "0\n",
            "negative 비교단어 :  논란 clean_title :  롯데리아 벤다이어그램 마케팅 논란맛없고·멀고·비싸다\n",
            "-1\n",
            "0\n"
          ],
          "name": "stdout"
        },
        {
          "output_type": "stream",
          "text": [
            "\r 55%|█████▌    | 56/101 [01:01<00:48,  1.09s/it]"
          ],
          "name": "stderr"
        },
        {
          "output_type": "stream",
          "text": [
            "positive 비교단어 :  인기 clean_title :  롯데리아 인기버거 세트 2개 구매 시 8000원”한정 판매\n",
            "1\n",
            "positive 비교단어 :  신제품 clean_title :  롯데리아 다섯 가지 치즈 담은 신제품 치즈No5 선봬\n",
            "1\n",
            "0\n",
            "0\n",
            "0\n",
            "positive 비교단어 :  인기 clean_title :  롯데GRS 롯데리아 한정판 메뉴 사각새우버거 인기상승\n",
            "1\n",
            "0\n",
            "0\n",
            "0\n",
            "0\n"
          ],
          "name": "stdout"
        },
        {
          "output_type": "stream",
          "text": [
            "\r 56%|█████▋    | 57/101 [01:02<00:47,  1.08s/it]"
          ],
          "name": "stderr"
        },
        {
          "output_type": "stream",
          "text": [
            "0\n",
            "positive 비교단어 :  신메뉴 clean_title :  롯데리아 11번가 LIVE 11에서 신메뉴 할인 판매 진행\n",
            "1\n",
            "0\n",
            "0\n",
            "0\n",
            "0\n",
            "positive 비교단어 :  돌파 clean_title :  롯데리아 한정판 메뉴 사각새우버거’ 인기몰이열흘 만에 40만개 돌파\n",
            "1\n",
            "negative 비교단어 :  중단 clean_title :  롯데리아 2일부터 AZ버거·폴더버거 핫치킨 등 판매 중단\n",
            "-1\n",
            "negative 비교단어 :  울상 clean_title :  코로나 특수 비껴간 햄버거업계롯데리아·버거킹·KFC 울상\n",
            "-1\n",
            "positive 비교단어 :  1위 clean_title :  맘스터치 롯데리아 제쳤다 버거 매장 수 1위 달성\n",
            "1\n"
          ],
          "name": "stdout"
        },
        {
          "output_type": "stream",
          "text": [
            "\r 57%|█████▋    | 58/101 [01:03<00:46,  1.07s/it]"
          ],
          "name": "stderr"
        },
        {
          "output_type": "stream",
          "text": [
            "0\n",
            "0\n",
            "0\n",
            "negative 비교단어 :  우려 clean_title :  롯데리아 햄버거 등 100200원 가격 인상도미노 인상 우려\n",
            "-1\n",
            "positive 비교단어 :  출시 clean_title :  롯데리아 한정판 사각새우더블버거 너무 잘 팔려 정식 메뉴로 출시된다\n",
            "1\n",
            "0\n",
            "positive 비교단어 :  1위 clean_title :  롯데리아 맘스터치에 다점포 1위자리 내준 까닭은\n",
            "1\n",
            "positive 비교단어 :  신상 clean_title :  신상품 SPC삼립·CJ푸드빌·롯데푸드·롯데GRS\n",
            "1\n",
            "0\n",
            "positive 비교단어 :  출시 clean_title :  꿀할인꿀이벤 롯데리아 1월 한정 사각새우더블버거 출시 外\n",
            "1\n"
          ],
          "name": "stdout"
        },
        {
          "output_type": "stream",
          "text": [
            "\r 58%|█████▊    | 59/101 [01:04<00:44,  1.07s/it]"
          ],
          "name": "stderr"
        },
        {
          "output_type": "stream",
          "text": [
            "positive 비교단어 :  출시 clean_title :  꿀할인꿀이벤 롯데리아 1월 한정 사각새우더블버거 출시 外\n",
            "1\n",
            "0\n",
            "0\n",
            "0\n",
            "positive 비교단어 :  출시 clean_title :  신상NEWS 간편하게 맛있게프리미엄 간편식 출시 잇달아\n",
            "1\n",
            "0\n",
            "0\n",
            "0\n",
            "0\n",
            "0\n"
          ],
          "name": "stdout"
        },
        {
          "output_type": "stream",
          "text": [
            "\r 59%|█████▉    | 60/101 [01:05<00:43,  1.07s/it]"
          ],
          "name": "stderr"
        },
        {
          "output_type": "stream",
          "text": [
            "positive 비교단어 :  출시 clean_title :  뉴스투데이 E 롯데리아 다섯 가지 치즈를 한 입에 치즈No5’ 출시\n",
            "1\n",
            "0\n",
            "0\n",
            "0\n",
            "0\n",
            "0\n",
            "positive 비교단어 :  출시 clean_title :  롯데리아 사각새우더블버거 출시\n",
            "1\n",
            "0\n",
            "0\n",
            "0\n"
          ],
          "name": "stdout"
        },
        {
          "output_type": "stream",
          "text": [
            "\r 60%|██████    | 61/101 [01:06<00:42,  1.07s/it]"
          ],
          "name": "stderr"
        },
        {
          "output_type": "stream",
          "text": [
            "0\n",
            "0\n",
            "0\n",
            "0\n",
            "0\n",
            "negative 비교단어 :  직격탄 clean_title :  코로나19 직격탄 맞은 롯데GRS햄버거커피 휘청\n",
            "-1\n",
            "positive 비교단어 :  신메뉴 clean_title :  뉴스투데이 E 롯데리아 11번가 LIVE 11’에서 신메뉴 최초 공개·할인\n",
            "1\n",
            "0\n",
            "0\n",
            "0\n"
          ],
          "name": "stdout"
        },
        {
          "output_type": "stream",
          "text": [
            "\r 61%|██████▏   | 62/101 [01:07<00:41,  1.07s/it]"
          ],
          "name": "stderr"
        },
        {
          "output_type": "stream",
          "text": [
            "positive 비교단어 :  착한 clean_title :  롯데리아 착한점심 가격 확 낮췄다\n",
            "1\n",
            "0\n",
            "0\n",
            "0\n",
            "positive 비교단어 :  신메뉴 clean_title :  먼저 즐겨보세요” 롯데리아 11번가 LIVE 11에서 신메뉴 세트 저렴하게 선\n",
            "1\n",
            "0\n",
            "0\n",
            "0\n",
            "0\n",
            "0\n"
          ],
          "name": "stdout"
        },
        {
          "output_type": "stream",
          "text": [
            "\r 62%|██████▏   | 63/101 [01:08<00:40,  1.07s/it]"
          ],
          "name": "stderr"
        },
        {
          "output_type": "stream",
          "text": [
            "0\n",
            "0\n",
            "0\n",
            "0\n",
            "positive 비교단어 :  출시 clean_title :  SR새상품 롯데GRS 롯데리아 더블 핫크리스피버거 2종 출시\n",
            "1\n",
            "0\n",
            "positive 비교단어 :  신상 clean_title :  마켓 신상 롯데리아·오리온·풀무원·삼양식품·국순당 外\n",
            "1\n",
            "0\n",
            "0\n",
            "0\n"
          ],
          "name": "stdout"
        },
        {
          "output_type": "stream",
          "text": [
            "\r 63%|██████▎   | 64/101 [01:09<00:42,  1.14s/it]"
          ],
          "name": "stderr"
        },
        {
          "output_type": "stream",
          "text": [
            "0\n",
            "0\n",
            "positive 비교단어 :  신메뉴 clean_title :  롯데리아 11번가 LIVE 11’에서 신메뉴 세트 할인 판매\n",
            "1\n",
            "positive 비교단어 :  제휴 clean_title :  롯데GRS 롯데잇츠앱카카오톡 제휴 최대 51할인 쿠폰 제공\n",
            "1\n",
            "0\n",
            "0\n",
            "0\n",
            "positive 비교단어 :  출시 clean_title :  롯데리아 새우 패티 2장으로 볼륨감과 식감 살린 사각새우더블버거’ 출시\n",
            "1\n",
            "0\n",
            "positive 비교단어 :  출시 clean_title :  롯데GRS 6200원 가성비 슈퍼 티렉스 세트’ 출시\n",
            "1\n"
          ],
          "name": "stdout"
        },
        {
          "output_type": "stream",
          "text": [
            "\r 64%|██████▍   | 65/101 [01:10<00:40,  1.12s/it]"
          ],
          "name": "stderr"
        },
        {
          "output_type": "stream",
          "text": [
            "0\n",
            "0\n",
            "0\n",
            "0\n",
            "0\n",
            "0\n",
            "positive 비교단어 :  출시 clean_title :  패티가 2장” 롯데리아 새해 한정판 사각새우더블버거’ 출시\n",
            "1\n",
            "0\n",
            "0\n",
            "0\n"
          ],
          "name": "stdout"
        },
        {
          "output_type": "stream",
          "text": [
            "\r 65%|██████▌   | 66/101 [01:11<00:38,  1.10s/it]"
          ],
          "name": "stderr"
        },
        {
          "output_type": "stream",
          "text": [
            "0\n",
            "0\n",
            "positive 비교단어 :  1위 clean_title :  롯데리아 추월한 맘스터치 다점포 1위코로나 속 홀로 출점 행보 가속\n",
            "1\n",
            "0\n",
            "0\n",
            "positive 비교단어 :  기부 clean_title :  롯데리아 매진 vs 맥도날드 기부 신년 한정 메뉴 경쟁\n",
            "1\n",
            "0\n",
            "0\n",
            "0\n",
            "0\n"
          ],
          "name": "stdout"
        },
        {
          "output_type": "stream",
          "text": [
            "\r 66%|██████▋   | 67/101 [01:12<00:36,  1.08s/it]"
          ],
          "name": "stderr"
        },
        {
          "output_type": "stream",
          "text": [
            "0\n",
            "0\n",
            "0\n",
            "0\n",
            "0\n",
            "0\n",
            "0\n",
            "positive 비교단어 :  출시 clean_title :  롯데리아 이어 버거킹도 비건 맥비건 국내 출시 가능성은\n",
            "1\n",
            "0\n",
            "positive 비교단어 :  1위 clean_title :  매장 수로 롯데리아 제치고 업계 1위 올라선 맘스터치\n",
            "1\n"
          ],
          "name": "stdout"
        },
        {
          "output_type": "stream",
          "text": [
            "\r 67%|██████▋   | 68/101 [01:14<00:36,  1.12s/it]"
          ],
          "name": "stderr"
        },
        {
          "output_type": "stream",
          "text": [
            "0\n",
            "0\n",
            "0\n",
            "0\n",
            "0\n",
            "0\n",
            "0\n",
            "0\n",
            "0\n",
            "positive 비교단어 :  1위 clean_title :  버거킹 국내 주요 6개 햄버거 관심도 1위 맥도날드·롯데리아 뒤이어\n",
            "1\n"
          ],
          "name": "stdout"
        },
        {
          "output_type": "stream",
          "text": [
            "\r 68%|██████▊   | 69/101 [01:15<00:35,  1.11s/it]"
          ],
          "name": "stderr"
        },
        {
          "output_type": "stream",
          "text": [
            "0\n",
            "positive 비교단어 :  출시 clean_title :  롯데리아 더블 핫크리스피버거 2종 한정 출시\n",
            "1\n",
            "0\n",
            "0\n",
            "0\n",
            "0\n",
            "positive 비교단어 :  신메뉴 clean_title :  롯데리아 11번가 LIVE 11서 신메뉴 세트 할인 판매\n",
            "1\n",
            "positive 비교단어 :  출시 clean_title :  롯데GRS 롯데잇츠 출시 1주년 기념 할인 프로모션 진행\n",
            "1\n",
            "0\n",
            "0\n"
          ],
          "name": "stdout"
        },
        {
          "output_type": "stream",
          "text": [
            "\r 69%|██████▉   | 70/101 [01:16<00:33,  1.09s/it]"
          ],
          "name": "stderr"
        },
        {
          "output_type": "stream",
          "text": [
            "0\n",
            "0\n",
            "positive 비교단어 :  인기 clean_title :  패스트푸드 인기 고공행진혼밥 강세 속 입맛 홀렸다\n",
            "1\n",
            "0\n",
            "0\n",
            "positive 비교단어 :  오픈 clean_title :  롯데GRS 통합 앱 롯데잇츠앱’ 오픈 1주년 기념 이벤트\n",
            "1\n",
            "positive 비교단어 :  제휴 clean_title :  롯데GRS 롯데잇츠앱카카오톡 제휴 최대 51할인 쿠폰 제공\n",
            "1\n",
            "0\n",
            "0\n",
            "0\n"
          ],
          "name": "stdout"
        },
        {
          "output_type": "stream",
          "text": [
            "\r 70%|███████   | 71/101 [01:17<00:32,  1.08s/it]"
          ],
          "name": "stderr"
        },
        {
          "output_type": "stream",
          "text": [
            "0\n",
            "positive 비교단어 :  1위 clean_title :  맘스터치 지난해 매장수 1333개롯데리아 제치고 업계 1위\n",
            "1\n",
            "0\n",
            "0\n",
            "0\n",
            "positive 비교단어 :  1위 clean_title :  맥도날드 소비자 관심도 1위신세계푸드 노브랜드 호감도 1위\n",
            "1\n",
            "0\n",
            "0\n",
            "0\n",
            "0\n"
          ],
          "name": "stdout"
        },
        {
          "output_type": "stream",
          "text": [
            "\r 71%|███████▏  | 72/101 [01:18<00:31,  1.08s/it]"
          ],
          "name": "stderr"
        },
        {
          "output_type": "stream",
          "text": [
            "0\n",
            "0\n",
            "0\n",
            "0\n",
            "positive 비교단어 :  제휴 clean_title :  롯데잇츠앱카카오톡 제휴 새우버거 51 할인 쿠폰 쏜다\n",
            "1\n",
            "0\n",
            "positive 비교단어 :  1위 clean_title :  편의점은 GS25 치킨은 교촌 피자는 도미노 커피는 투썸 매출 1위\n",
            "1\n",
            "0\n",
            "0\n",
            "0\n"
          ],
          "name": "stdout"
        },
        {
          "output_type": "stream",
          "text": [
            "\r 72%|███████▏  | 73/101 [01:19<00:29,  1.06s/it]"
          ],
          "name": "stderr"
        },
        {
          "output_type": "stream",
          "text": [
            "0\n",
            "0\n",
            "0\n",
            "0\n",
            "0\n",
            "0\n",
            "0\n",
            "0\n",
            "positive 비교단어 :  출시 clean_title :  롯데리아 더블 핫크리스피버거 2종 한정 출시\n",
            "1\n",
            "0\n"
          ],
          "name": "stdout"
        },
        {
          "output_type": "stream",
          "text": [
            "\r 73%|███████▎  | 74/101 [01:20<00:29,  1.07s/it]"
          ],
          "name": "stderr"
        },
        {
          "output_type": "stream",
          "text": [
            "0\n",
            "positive 비교단어 :  신제품 clean_title :  유통업계 신축년 희망 담은 신제품으로 새해 맞는다\n",
            "1\n",
            "positive 비교단어 :  1위 clean_title :  정용진 노브랜드 버거 호감도 롯데리아 제치고 1위 차지맥도날드 관심도 \n",
            "1\n",
            "0\n",
            "positive 비교단어 :  열풍 clean_title :  채식 열풍 올라탄 버거 프랜차이즈맥도날드는 신중모드\n",
            "1\n",
            "0\n",
            "0\n",
            "0\n",
            "0\n",
            "0\n"
          ],
          "name": "stdout"
        },
        {
          "output_type": "stream",
          "text": [
            "\r 74%|███████▍  | 75/101 [01:21<00:27,  1.08s/it]"
          ],
          "name": "stderr"
        },
        {
          "output_type": "stream",
          "text": [
            "0\n",
            "0\n",
            "0\n",
            "positive 비교단어 :  출시 clean_title :  SR새상품 롯데GRS 롯데리아 여름 디저트 팥빙수 팥빙고 출시\n",
            "1\n",
            "0\n",
            "0\n",
            "negative 비교단어 :  매각 clean_title :  매각은 타이밍롯데GRS 패밀리레스토랑 TGI 올해는 성공할까\n",
            "-1\n",
            "0\n",
            "0\n",
            "0\n"
          ],
          "name": "stdout"
        },
        {
          "output_type": "stream",
          "text": [
            "\r 75%|███████▌  | 76/101 [01:22<00:28,  1.13s/it]"
          ],
          "name": "stderr"
        },
        {
          "output_type": "stream",
          "text": [
            "0\n",
            "0\n",
            "positive 비교단어 :  출시 clean_title :  오늘의 유통 단신 롯데칠성 출시 7주년 클라우드 패키지 리뉴얼 外\n",
            "1\n",
            "0\n",
            "0\n",
            "0\n",
            "0\n",
            "positive 비교단어 :  출시 clean_title :  시경Today식음료 롯데제과 후레쉬민트껌 3년만에 재출시 外\n",
            "1\n",
            "0\n",
            "0\n"
          ],
          "name": "stdout"
        },
        {
          "output_type": "stream",
          "text": [
            "\r 76%|███████▌  | 77/101 [01:23<00:26,  1.12s/it]"
          ],
          "name": "stderr"
        },
        {
          "output_type": "stream",
          "text": [
            "0\n",
            "positive 비교단어 :  신상 clean_title :  위클리 신상품 롯데리아 사각새우더블버거\n",
            "1\n",
            "positive 비교단어 :  인기 clean_title :  소비자 요청에 감’ 찾은 외식업계인기 메뉴 다시\n",
            "1\n",
            "0\n",
            "0\n",
            "0\n",
            "0\n",
            "0\n",
            "positive 비교단어 :  트렌드 clean_title :  코로나가 바꾼 빙수 트렌드···1인 1빙 메뉴 봇물\n",
            "1\n",
            "0\n"
          ],
          "name": "stdout"
        },
        {
          "output_type": "stream",
          "text": [
            "\r 77%|███████▋  | 78/101 [01:25<00:25,  1.10s/it]"
          ],
          "name": "stderr"
        },
        {
          "output_type": "stream",
          "text": [
            "0\n",
            "0\n",
            "0\n",
            "0\n",
            "0\n",
            "0\n",
            "0\n",
            "0\n",
            "0\n",
            "0\n"
          ],
          "name": "stdout"
        },
        {
          "output_type": "stream",
          "text": [
            "\r 78%|███████▊  | 79/101 [01:26<00:23,  1.09s/it]"
          ],
          "name": "stderr"
        },
        {
          "output_type": "stream",
          "text": [
            "0\n",
            "0\n",
            "0\n",
            "0\n",
            "positive 비교단어 :  출시 clean_title :  롯데리아 여름 시즌 1인 빙수 팥빙고 출시\n",
            "1\n",
            "0\n",
            "positive 비교단어 :  신메뉴 clean_title :  SR유통 롯데리아 11번가 LIVE 11에서 신메뉴 세트 할인 판매\n",
            "1\n",
            "positive 비교단어 :  봉사 clean_title :  롯데GRS 언택트 봉사활동으로 꾸준한 선행 이어가∙∙∙\n",
            "1\n",
            "0\n",
            "negative 비교단어 :  불만 clean_title :  소비자민원평가패스트푸드 이물질 불만 가장 커맘스터치 민원관리 최우\n",
            "-1\n"
          ],
          "name": "stdout"
        },
        {
          "output_type": "stream",
          "text": [
            "\r 79%|███████▉  | 80/101 [01:27<00:22,  1.07s/it]"
          ],
          "name": "stderr"
        },
        {
          "output_type": "stream",
          "text": [
            "positive 비교단어 :  1위 clean_title :  맥도날드 지난해 소비자 관심도 톱노브랜드 호감도 1위\n",
            "1\n",
            "0\n",
            "positive 비교단어 :  오픈 clean_title :  오늘의 유통 단신 롯데백화점 베이커리 전문점 여섯시오븐 리뉴얼 오픈 \n",
            "1\n",
            "0\n",
            "0\n",
            "0\n",
            "0\n",
            "0\n",
            "0\n",
            "0\n"
          ],
          "name": "stdout"
        },
        {
          "output_type": "stream",
          "text": [
            "\r 80%|████████  | 81/101 [01:28<00:21,  1.08s/it]"
          ],
          "name": "stderr"
        },
        {
          "output_type": "stream",
          "text": [
            "0\n",
            "negative 비교단어 :  포기 clean_title :  포기할 수 없는 고기의 맛 패티 대량 넣은 햄버거 인기\n",
            "-1\n",
            "0\n",
            "positive 비교단어 :  제휴 clean_title :  롯데GRS 롯데잇츠 출시 1주년 기념 카카오톡 제휴 최대 51 할인 프로모션\n",
            "1\n",
            "0\n",
            "positive 비교단어 :  트렌드 clean_title :  2021 핫한 음식 비건 트렌드 따르는 프랜차이즈스타벅스 투썸 버거킹\n",
            "1\n",
            "0\n",
            "0\n",
            "0\n",
            "0\n"
          ],
          "name": "stdout"
        },
        {
          "output_type": "stream",
          "text": [
            "\r 81%|████████  | 82/101 [01:29<00:20,  1.08s/it]"
          ],
          "name": "stderr"
        },
        {
          "output_type": "stream",
          "text": [
            "0\n",
            "0\n",
            "0\n",
            "0\n",
            "positive 비교단어 :  1위 clean_title :  몸집 키우는 맘스터치 업계 1위 맹추격\n",
            "1\n",
            "positive 비교단어 :  출시 clean_title :  롯데리아 라인프렌즈와 협업 카트라이더 팩 구성 및 피규어 세트’ 출시\n",
            "1\n",
            "0\n",
            "positive 비교단어 :  기부 clean_title :  전국한우협회롯데리아 홀트아동복지회에 한우버거세트 기부\n",
            "1\n",
            "positive 비교단어 :  출시 clean_title :  롯데리아 여름디저트 팥빙수 팥빙고 출시\n",
            "1\n",
            "0\n"
          ],
          "name": "stdout"
        },
        {
          "output_type": "stream",
          "text": [
            "\r 82%|████████▏ | 83/101 [01:30<00:20,  1.11s/it]"
          ],
          "name": "stderr"
        },
        {
          "output_type": "stream",
          "text": [
            "positive 비교단어 :  출시 clean_title :  롯데리아라인프렌즈 카트라이더 팩 구성  피규어 세트’ 출시\n",
            "1\n",
            "positive 비교단어 :  출시 clean_title :  출시 라인프렌즈와 협업롯데리아 카트라이더 팩·피규어 세트’\n",
            "1\n",
            "0\n",
            "0\n",
            "0\n",
            "0\n",
            "0\n",
            "0\n",
            "0\n",
            "positive 비교단어 :  수상 clean_title :  롯데리아 NCSI 수상 기념 버거 2개 4200원 프로모션 진행\n",
            "1\n"
          ],
          "name": "stdout"
        },
        {
          "output_type": "stream",
          "text": [
            "\r 83%|████████▎ | 84/101 [01:31<00:18,  1.11s/it]"
          ],
          "name": "stderr"
        },
        {
          "output_type": "stream",
          "text": [
            "positive 비교단어 :  출시 clean_title :  롯데리아 불고기새우 카트라이더 팩 1만원 출시\n",
            "1\n",
            "0\n",
            "0\n",
            "0\n",
            "0\n",
            "0\n",
            "0\n",
            "0\n",
            "positive 비교단어 :  수상 clean_title :  롯데리아 NCSI 수상 기념 버거 2개 4200원 프로모션 진행\n",
            "1\n",
            "0\n"
          ],
          "name": "stdout"
        },
        {
          "output_type": "stream",
          "text": [
            "\r 84%|████████▍ | 85/101 [01:32<00:17,  1.10s/it]"
          ],
          "name": "stderr"
        },
        {
          "output_type": "stream",
          "text": [
            "0\n",
            "0\n",
            "0\n",
            "0\n",
            "0\n",
            "positive 비교단어 :  출시 clean_title :  롯데리아X라인프렌즈 카트라이더 팩·피규어 세트 출시\n",
            "1\n",
            "0\n",
            "positive 비교단어 :  수상 clean_title :  롯데리아 NCSI 수상 기념 버거 2개 4200원 프로모션 진행\n",
            "1\n",
            "0\n",
            "positive 비교단어 :  수상 clean_title :  롯데리아 NCSI 수상 기념 버거 2개 4200원 프로모션\n",
            "1\n"
          ],
          "name": "stdout"
        },
        {
          "output_type": "stream",
          "text": [
            "\r 85%|████████▌ | 86/101 [01:33<00:16,  1.09s/it]"
          ],
          "name": "stderr"
        },
        {
          "output_type": "stream",
          "text": [
            "0\n",
            "positive 비교단어 :  출시 clean_title :  롯데리아X라인프렌즈 카트라이더 팩·피규어 세트 출시\n",
            "1\n",
            "0\n",
            "positive 비교단어 :  수상 clean_title :  롯데리아 NCSI 수상 기념 버거 2개 4200원 프로모션 진행\n",
            "1\n",
            "0\n",
            "positive 비교단어 :  수상 clean_title :  롯데리아 NCSI 수상 기념 버거 2개 4200원 프로모션\n",
            "1\n",
            "0\n",
            "positive 비교단어 :  1위 clean_title :  롯데리아 한국산업의 고객만족도KCSI 패스트푸드점 부문 1위\n",
            "1\n",
            "positive 비교단어 :  출시 clean_title :  롯데리아 2021 새해 맞이 한정 사각새우더블버거 출시\n",
            "1\n",
            "positive 비교단어 :  1위 clean_title :  맥도날드 지난해 소비자 관심도 1위호감도 톱’은 노브랜드버거\n",
            "1\n"
          ],
          "name": "stdout"
        },
        {
          "output_type": "stream",
          "text": [
            "\r 86%|████████▌ | 87/101 [01:34<00:15,  1.09s/it]"
          ],
          "name": "stderr"
        },
        {
          "output_type": "stream",
          "text": [
            "positive 비교단어 :  수상 clean_title :  롯데리아 NCSI 수상 기념 버거 2개 4200원 프로모션 진행\n",
            "1\n",
            "positive 비교단어 :  1위 clean_title :  롯데리아 한국산업의 고객만족도KCSI 패스트푸드점 부문 1위\n",
            "1\n",
            "positive 비교단어 :  출시 clean_title :  롯데리아 2021 새해 맞이 한정 사각새우더블버거 출시\n",
            "1\n",
            "positive 비교단어 :  1위 clean_title :  맥도날드 지난해 소비자 관심도 1위호감도 톱’은 노브랜드버거\n",
            "1\n",
            "positive 비교단어 :  1위 clean_title :  롯데리아 한국산업의 고객만족도KCSI 1위 대한민국 대표 프랜차이즈로 \n",
            "1\n",
            "0\n",
            "0\n",
            "positive 비교단어 :  출시 clean_title :  롯데리아 대체육 버거 확대 스위트 어스 어썸 버거 출시\n",
            "1\n",
            "0\n",
            "positive 비교단어 :  출시 clean_title :  신상NEWS 롯데리아 식물성 단백질 버거 스위트 어스 어썸 버거’ 출시 外\n",
            "1\n"
          ],
          "name": "stdout"
        },
        {
          "output_type": "stream",
          "text": [
            "\r 87%|████████▋ | 88/101 [01:35<00:14,  1.09s/it]"
          ],
          "name": "stderr"
        },
        {
          "output_type": "stream",
          "text": [
            "positive 비교단어 :  1위 clean_title :  롯데리아 한국산업의 고객만족도KCSI 패스트푸드점 부문 1위\n",
            "1\n",
            "positive 비교단어 :  출시 clean_title :  롯데리아 2021 새해 맞이 한정 사각새우더블버거 출시\n",
            "1\n",
            "positive 비교단어 :  1위 clean_title :  맥도날드 지난해 소비자 관심도 1위호감도 톱’은 노브랜드버거\n",
            "1\n",
            "positive 비교단어 :  1위 clean_title :  롯데리아 한국산업의 고객만족도KCSI 1위 대한민국 대표 프랜차이즈로 \n",
            "1\n",
            "0\n",
            "0\n",
            "positive 비교단어 :  출시 clean_title :  롯데리아 대체육 버거 확대 스위트 어스 어썸 버거 출시\n",
            "1\n",
            "0\n",
            "positive 비교단어 :  출시 clean_title :  신상NEWS 롯데리아 식물성 단백질 버거 스위트 어스 어썸 버거’ 출시 外\n",
            "1\n",
            "positive 비교단어 :  1위 clean_title :  롯데리아 국가고객만족도지수NCSI 10년 연속 1위\n",
            "1\n"
          ],
          "name": "stdout"
        },
        {
          "output_type": "stream",
          "text": [
            "\r 88%|████████▊ | 89/101 [01:36<00:12,  1.08s/it]"
          ],
          "name": "stderr"
        },
        {
          "output_type": "stream",
          "text": [
            "positive 비교단어 :  출시 clean_title :  롯데리아 대체육 버거 확대 스위트 어스 어썸 버거 출시\n",
            "1\n",
            "0\n",
            "positive 비교단어 :  출시 clean_title :  신상NEWS 롯데리아 식물성 단백질 버거 스위트 어스 어썸 버거’ 출시 外\n",
            "1\n",
            "positive 비교단어 :  1위 clean_title :  롯데리아 국가고객만족도지수NCSI 10년 연속 1위\n",
            "1\n",
            "positive 비교단어 :  출시 clean_title :  약빤 신제품으로 재미 본 롯데리아 이번에도 뭔가 다른 버거 출시한다\n",
            "1\n",
            "positive 비교단어 :  1위 clean_title :  맥도날드 지난해 소비자 관심도 톱신세계푸드 노브랜드 호감도 1위\n",
            "1\n",
            "0\n",
            "0\n",
            "positive 비교단어 :  인기 clean_title :  SR유통 롯데리아 한정판 메뉴 사각새우버거 인기\n",
            "1\n",
            "0\n"
          ],
          "name": "stdout"
        },
        {
          "output_type": "stream",
          "text": [
            "\r 89%|████████▉ | 90/101 [01:38<00:11,  1.07s/it]"
          ],
          "name": "stderr"
        },
        {
          "output_type": "stream",
          "text": [
            "positive 비교단어 :  출시 clean_title :  신상NEWS 롯데리아 식물성 단백질 버거 스위트 어스 어썸 버거’ 출시 外\n",
            "1\n",
            "positive 비교단어 :  출시 clean_title :  롯데리아 대체육 버거 스위트 어스 어썸버거 출시\n",
            "1\n",
            "positive 비교단어 :  1위 clean_title :  롯데리아 국가고객만족도지수NCSI 10년 연속 1위\n",
            "1\n",
            "positive 비교단어 :  출시 clean_title :  약빤 신제품으로 재미 본 롯데리아 이번에도 뭔가 다른 버거 출시한다\n",
            "1\n",
            "positive 비교단어 :  1위 clean_title :  맥도날드 지난해 소비자 관심도 톱신세계푸드 노브랜드 호감도 1위\n",
            "1\n",
            "0\n",
            "0\n",
            "positive 비교단어 :  인기 clean_title :  SR유통 롯데리아 한정판 메뉴 사각새우버거 인기\n",
            "1\n",
            "0\n",
            "0\n"
          ],
          "name": "stdout"
        },
        {
          "output_type": "stream",
          "text": [
            "\r 90%|█████████ | 91/101 [01:39<00:10,  1.06s/it]"
          ],
          "name": "stderr"
        },
        {
          "output_type": "stream",
          "text": [
            "0\n",
            "positive 비교단어 :  1위 clean_title :  롯데리아 2020 국가고객만족도지수NCSI’ 패스트푸드부문 10년 연속 1위\n",
            "1\n",
            "0\n",
            "positive 비교단어 :  1위 clean_title :  롯데GRS 롯데리아 국가고객만족도지수 10년 연속 1위\n",
            "1\n",
            "positive 비교단어 :  출시 clean_title :  신상품라운지롯데리아 2번째 식물성 단백질 버거 출시\n",
            "1\n",
            "0\n",
            "0\n",
            "0\n",
            "positive 비교단어 :  1위 clean_title :  롯데리아 국가브랜드경쟁력지수 9년 연속 1위\n",
            "1\n",
            "0\n"
          ],
          "name": "stdout"
        },
        {
          "output_type": "stream",
          "text": [
            "\r 91%|█████████ | 92/101 [01:40<00:09,  1.07s/it]"
          ],
          "name": "stderr"
        },
        {
          "output_type": "stream",
          "text": [
            "positive 비교단어 :  1위 clean_title :  롯데GRS 롯데리아 국가고객만족도지수 10년 연속 1위\n",
            "1\n",
            "positive 비교단어 :  출시 clean_title :  신상품라운지롯데리아 2번째 식물성 단백질 버거 출시\n",
            "1\n",
            "0\n",
            "0\n",
            "0\n",
            "positive 비교단어 :  1위 clean_title :  롯데리아 국가브랜드경쟁력지수 9년 연속 1위\n",
            "1\n",
            "0\n",
            "0\n",
            "0\n",
            "0\n"
          ],
          "name": "stdout"
        },
        {
          "output_type": "stream",
          "text": [
            "\r 92%|█████████▏| 93/101 [01:41<00:08,  1.09s/it]"
          ],
          "name": "stderr"
        },
        {
          "output_type": "stream",
          "text": [
            "positive 비교단어 :  1위 clean_title :  롯데리아 국가고객만족도지수NCSI 10년 연속 1위\n",
            "1\n",
            "positive 비교단어 :  출시 clean_title :  신상품라운지롯데리아 2번째 식물성 단백질 버거 출시\n",
            "1\n",
            "0\n",
            "0\n",
            "0\n",
            "positive 비교단어 :  1위 clean_title :  롯데리아 국가브랜드경쟁력지수 9년 연속 1위\n",
            "1\n",
            "0\n",
            "0\n",
            "0\n",
            "0\n"
          ],
          "name": "stdout"
        },
        {
          "output_type": "stream",
          "text": [
            "\r 93%|█████████▎| 94/101 [01:42<00:07,  1.09s/it]"
          ],
          "name": "stderr"
        },
        {
          "output_type": "stream",
          "text": [
            "0\n",
            "positive 비교단어 :  1위 clean_title :  롯데리아 국가브랜드경쟁력지수 9년 연속 1위\n",
            "1\n",
            "0\n",
            "0\n",
            "0\n",
            "0\n",
            "0\n",
            "0\n",
            "0\n",
            "positive 비교단어 :  1위 clean_title :  롯데GRS 롯데리아 국가브랜드경쟁력지수NBCI 9년 연속 1위\n",
            "1\n"
          ],
          "name": "stdout"
        },
        {
          "output_type": "stream",
          "text": [
            "\r 94%|█████████▍| 95/101 [01:43<00:06,  1.09s/it]"
          ],
          "name": "stderr"
        },
        {
          "output_type": "stream",
          "text": [
            "0\n",
            "0\n",
            "0\n",
            "0\n",
            "0\n",
            "0\n",
            "0\n",
            "positive 비교단어 :  1위 clean_title :  롯데GRS 롯데리아 국가브랜드경쟁력지수NBCI 9년 연속 1위\n",
            "1\n",
            "positive 비교단어 :  인기 clean_title :  롯데리아 창립 41주년 기념 인기 메뉴 새우버거치킨버거 할인\n",
            "1\n",
            "negative 비교단어 :  구설수 clean_title :  갈길 바쁜 롯데리아 구설수에 발목반등 가능할까\n",
            "-1\n"
          ],
          "name": "stdout"
        },
        {
          "output_type": "stream",
          "text": [
            "\r 95%|█████████▌| 96/101 [01:44<00:05,  1.10s/it]"
          ],
          "name": "stderr"
        },
        {
          "output_type": "stream",
          "text": [
            "positive 비교단어 :  1위 clean_title :  롯데GRS 롯데리아 국가브랜드경쟁력지수NBCI 9년 연속 1위\n",
            "1\n",
            "positive 비교단어 :  인기 clean_title :  롯데리아 창립 41주년 기념 인기 메뉴 새우버거치킨버거 할인\n",
            "1\n",
            "negative 비교단어 :  구설수 clean_title :  갈길 바쁜 롯데리아 구설수에 발목반등 가능할까\n",
            "-1\n",
            "0\n",
            "positive 비교단어 :  1위 clean_title :  롯데리아 국가고객만족도지수 10년 연속 1위\n",
            "1\n",
            "negative 비교단어 :  논란 clean_title :  롯데리아 잇단 논란에 밀리터리 버거’ 광고 삭제\n",
            "-1\n",
            "0\n",
            "positive 비교단어 :  신제품 clean_title :  롯데리아 안 풀리네이색 신제품 내놨지만 고전 연속\n",
            "1\n",
            "positive 비교단어 :  트렌드 clean_title :  롯데리아 푸드테크로 외식트렌드 선도\n",
            "1\n",
            "negative 비교단어 :  구설수 clean_title :  롯데리아 모델 선정 문제 있어” 이근 전 대위 구설수에 광고 내려\n",
            "-1\n"
          ],
          "name": "stdout"
        },
        {
          "output_type": "stream",
          "text": [
            "\r 96%|█████████▌| 97/101 [01:45<00:04,  1.10s/it]"
          ],
          "name": "stderr"
        },
        {
          "output_type": "stream",
          "text": [
            "positive 비교단어 :  트렌드 clean_title :  롯데리아 푸드테크로 외식트렌드 선도\n",
            "1\n",
            "0\n",
            "negative 비교단어 :  구설수 clean_title :  롯데리아 모델 선정 문제 있어” 이근 전 대위 구설수에 광고 내려\n",
            "-1\n",
            "0\n",
            "0\n",
            "0\n",
            "0\n",
            "positive 비교단어 :  신제품 clean_title :  울고 싶은 롯데리아신제품 혹평에 광고 모델까지 말썽\n",
            "1\n",
            "0\n",
            "0\n"
          ],
          "name": "stdout"
        },
        {
          "output_type": "stream",
          "text": [
            "\r 97%|█████████▋| 98/101 [01:46<00:03,  1.09s/it]"
          ],
          "name": "stderr"
        },
        {
          "output_type": "stream",
          "text": [
            "0\n",
            "negative 비교단어 :  구설수 clean_title :  롯데리아 모델 선정 문제 있어” 이근 전 대위 구설수에 광고 내려\n",
            "-1\n",
            "0\n",
            "0\n",
            "0\n",
            "0\n",
            "positive 비교단어 :  신제품 clean_title :  울고 싶은 롯데리아신제품 혹평에 광고 모델까지 말썽\n",
            "1\n",
            "0\n",
            "0\n",
            "0\n"
          ],
          "name": "stdout"
        },
        {
          "output_type": "stream",
          "text": [
            "\r 98%|█████████▊| 99/101 [01:47<00:02,  1.09s/it]"
          ],
          "name": "stderr"
        },
        {
          "output_type": "stream",
          "text": [
            "0\n",
            "0\n",
            "positive 비교단어 :  신제품 clean_title :  울고 싶은 롯데리아신제품 혹평에 광고 모델까지 말썽\n",
            "1\n",
            "0\n",
            "0\n",
            "0\n",
            "positive 비교단어 :  출시 clean_title :  롯데리아 국내 최초 비건용 미라클버거 출시\n",
            "1\n",
            "0\n",
            "positive 비교단어 :  1위 clean_title :  9년 연속 쾌거롯데리아 국가브랜드경쟁력지수NBCI 1위 차지\n",
            "1\n",
            "0\n"
          ],
          "name": "stdout"
        },
        {
          "output_type": "stream",
          "text": [
            "\r 99%|█████████▉| 100/101 [01:49<00:01,  1.14s/it]"
          ],
          "name": "stderr"
        },
        {
          "output_type": "stream",
          "text": [
            "0\n",
            "positive 비교단어 :  출시 clean_title :  롯데리아 국내 최초 비건용 미라클버거 출시\n",
            "1\n",
            "0\n",
            "positive 비교단어 :  1위 clean_title :  9년 연속 쾌거롯데리아 국가브랜드경쟁력지수NBCI 1위 차지\n",
            "1\n",
            "0\n",
            "negative 비교단어 :  해지 clean_title :  이제와서 손절 롯데리아 밀리터리버거 이근 대위 콘텐츠 삭제 계약해지\n",
            "-1\n",
            "negative 비교단어 :  논란 clean_title :  추억팔이 실패한 롯데리아 이근 대위 논란까지 난감\n",
            "-1\n",
            "0\n",
            "negative 비교단어 :  논란 clean_title :  롯데리아 까마귀 날자 배 떨어지나성범죄 논란 휘말려\n",
            "-1\n",
            "negative 비교단어 :  해지 clean_title :  롯데리아 이근 대위 영상 비공개계약 해지 수순\n",
            "-1\n"
          ],
          "name": "stdout"
        },
        {
          "output_type": "stream",
          "text": [
            "100%|██████████| 101/101 [01:50<00:00,  1.09s/it]"
          ],
          "name": "stderr"
        },
        {
          "output_type": "stream",
          "text": [
            "positive 비교단어 :  1위 clean_title :  롯데GRS 롯데리아 국가브랜드경쟁력지수 9년 연속 1위\n",
            "1\n",
            "0\n",
            "negative 비교단어 :  해지 clean_title :  이제와서 손절 롯데리아 밀리터리버거 이근 대위 콘텐츠 삭제 계약해지\n",
            "-1\n",
            "negative 비교단어 :  논란 clean_title :  추억팔이 실패한 롯데리아 이근 대위 논란까지 난감\n",
            "-1\n",
            "0\n",
            "negative 비교단어 :  논란 clean_title :  롯데리아 까마귀 날자 배 떨어지나성범죄 논란 휘말려\n",
            "-1\n",
            "negative 비교단어 :  해지 clean_title :  롯데리아 이근 대위 영상 비공개계약 해지 수순\n",
            "-1\n",
            "negative 비교단어 :  논란 clean_title :  이근 성추행 논란 여파 롯데리아 광고 직격타 종합\n",
            "-1\n",
            "0\n",
            "0\n",
            "                                      title  label\n",
            "0                 롯데리아 코로나19 백신 접종 고객에 할인행사      0\n",
            "1               롯데리아 코로나 백신 접종 고객 30 할인해 준다      0\n",
            "2               BTS세트’ 탓에 롯데리아 감자튀김 없다 알고보니      0\n",
            "3           롯데리아 감자튀김 BTS 때문에 사라졌다내일부터 정상판매      0\n",
            "4              잘 나가는 맘스터치롯데리아와 매장수 격차 더 벌렸다      0\n",
            "...                                     ...    ...\n",
            "1005           롯데리아 까마귀 날자 배 떨어지나성범죄 논란 휘말려     -1\n",
            "1006              롯데리아 이근 대위 영상 비공개계약 해지 수순     -1\n",
            "1007            이근 성추행 논란 여파 롯데리아 광고 직격타 종합     -1\n",
            "1008  말년 병장 최종훈 제일 먼저 롯데리아 밀리터리버거 광고 제안 받았다      0\n",
            "1009                    음성 대소면롯데리아 대소점 업무협약      0\n",
            "\n",
            "[1010 rows x 2 columns]\n"
          ],
          "name": "stdout"
        },
        {
          "output_type": "stream",
          "text": [
            "\n"
          ],
          "name": "stderr"
        }
      ]
    }
  ]
}
