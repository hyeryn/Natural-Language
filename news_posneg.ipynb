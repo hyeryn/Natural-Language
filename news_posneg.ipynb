{
  "nbformat": 4,
  "nbformat_minor": 0,
  "metadata": {
    "colab": {
      "name": "news_posneg.ipynb",
      "provenance": [],
      "authorship_tag": "ABX9TyNFqpitWxxRUgwq9feaQ5v+",
      "include_colab_link": true
    },
    "kernelspec": {
      "name": "python3",
      "display_name": "Python 3"
    },
    "language_info": {
      "name": "python"
    }
  },
  "cells": [
    {
      "cell_type": "markdown",
      "metadata": {
        "id": "view-in-github",
        "colab_type": "text"
      },
      "source": [
        "<a href=\"https://colab.research.google.com/github/hyeryn/Natural-Language/blob/master/news_posneg.ipynb\" target=\"_parent\"><img src=\"https://colab.research.google.com/assets/colab-badge.svg\" alt=\"Open In Colab\"/></a>"
      ]
    },
    {
      "cell_type": "code",
      "metadata": {
        "colab": {
          "base_uri": "https://localhost:8080/",
          "height": 663
        },
        "id": "jNYm29kRoUG0",
        "outputId": "85a1bdab-e994-4f48-dd0f-2b3085c55c2e"
      },
      "source": [
        "import pandas as pd\n",
        "\n",
        "train_data = pd.read_csv(\"/content/sample_data/train_dataset_1007.csv\")\n",
        "test_data = pd.read_csv(\"/content/sample_data/test_dataset_1007.csv\")\n",
        "\n",
        "%matplotlib inline\n",
        "import matplotlib.pyplot as plt\n",
        "train_data['label'].value_counts().plot(kind='bar')\n",
        "plt.show()\n",
        "test_data['label'].value_counts().plot(kind='bar')\n",
        "plt.show()\n",
        "\n",
        "print(train_data.groupby('label').size().reset_index(name='count'))\n",
        "print(test_data.groupby('label').size().reset_index(name='count'))"
      ],
      "execution_count": 5,
      "outputs": [
        {
          "output_type": "display_data",
          "data": {
            "image/png": "[encoded data removed]",
            "text/plain": [
              "<Figure size 432x288 with 1 Axes>"
            ]
          },
          "metadata": {
            "tags": [],
            "needs_background": "light"
          }
        },
        {
          "output_type": "display_data",
          "data": {
            "image/png": "[encoded data removed]",
            "text/plain": [
              "<Figure size 432x288 with 1 Axes>"
            ]
          },
          "metadata": {
            "tags": [],
            "needs_background": "light"
          }
        },
        {
          "output_type": "stream",
          "text": [
            "   label  count\n",
            "0     -1    791\n",
            "1      0   3971\n",
            "2      1   1238\n",
            "   label  count\n",
            "0     -1     40\n",
            "1      0    900\n",
            "2      1    560\n"
          ],
          "name": "stdout"
        }
      ]
    },
    {
      "cell_type": "code",
      "metadata": {
        "colab": {
          "base_uri": "https://localhost:8080/"
        },
        "id": "5-C-Qs7mqXHV",
        "outputId": "2769efa0-02a9-491d-a650-f153efb929a9"
      },
      "source": [
        "!pip install konlpy"
      ],
      "execution_count": 7,
      "outputs": [
        {
          "output_type": "stream",
          "text": [
            "Collecting konlpy\n",
            "\u001b[?25l  Downloading https://files.pythonhosted.org/packages/85/0e/f385566fec837c0b83f216b2da65db9997b35dd675e107752005b7d392b1/konlpy-0.5.2-py2.py3-none-any.whl (19.4MB)\n",
            "\u001b[K     |████████████████████████████████| 19.4MB 1.3MB/s \n",
            "\u001b[?25hCollecting JPype1>=0.7.0\n",
            "\u001b[?25l  Downloading https://files.pythonhosted.org/packages/98/88/f817ef1af6f794e8f11313dcd1549de833f4599abcec82746ab5ed086686/JPype1-1.3.0-cp37-cp37m-manylinux_2_5_x86_64.manylinux1_x86_64.whl (448kB)\n",
            "\u001b[K     |████████████████████████████████| 450kB 22.8MB/s \n",
            "\u001b[?25hRequirement already satisfied: lxml>=4.1.0 in /usr/local/lib/python3.7/dist-packages (from konlpy) (4.2.6)\n",
            "Collecting beautifulsoup4==4.6.0\n",
            "\u001b[?25l  Downloading https://files.pythonhosted.org/packages/9e/d4/10f46e5cfac773e22707237bfcd51bbffeaf0a576b0a847ec7ab15bd7ace/beautifulsoup4-4.6.0-py3-none-any.whl (86kB)\n",
            "\u001b[K     |████████████████████████████████| 92kB 9.2MB/s \n",
            "\u001b[?25hRequirement already satisfied: numpy>=1.6 in /usr/local/lib/python3.7/dist-packages (from konlpy) (1.19.5)\n",
            "Collecting colorama\n",
            "  Downloading https://files.pythonhosted.org/packages/44/98/5b86278fbbf250d239ae0ecb724f8572af1c91f4a11edf4d36a206189440/colorama-0.4.4-py2.py3-none-any.whl\n",
            "Requirement already satisfied: tweepy>=3.7.0 in /usr/local/lib/python3.7/dist-packages (from konlpy) (3.10.0)\n",
            "Requirement already satisfied: typing-extensions; python_version < \"3.8\" in /usr/local/lib/python3.7/dist-packages (from JPype1>=0.7.0->konlpy) (3.7.4.3)\n",
            "Requirement already satisfied: requests[socks]>=2.11.1 in /usr/local/lib/python3.7/dist-packages (from tweepy>=3.7.0->konlpy) (2.23.0)\n",
            "Requirement already satisfied: six>=1.10.0 in /usr/local/lib/python3.7/dist-packages (from tweepy>=3.7.0->konlpy) (1.15.0)\n",
            "Requirement already satisfied: requests-oauthlib>=0.7.0 in /usr/local/lib/python3.7/dist-packages (from tweepy>=3.7.0->konlpy) (1.3.0)\n",
            "Requirement already satisfied: idna<3,>=2.5 in /usr/local/lib/python3.7/dist-packages (from requests[socks]>=2.11.1->tweepy>=3.7.0->konlpy) (2.10)\n",
            "Requirement already satisfied: certifi>=2017.4.17 in /usr/local/lib/python3.7/dist-packages (from requests[socks]>=2.11.1->tweepy>=3.7.0->konlpy) (2021.5.30)\n",
            "Requirement already satisfied: urllib3!=1.25.0,!=1.25.1,<1.26,>=1.21.1 in /usr/local/lib/python3.7/dist-packages (from requests[socks]>=2.11.1->tweepy>=3.7.0->konlpy) (1.24.3)\n",
            "Requirement already satisfied: chardet<4,>=3.0.2 in /usr/local/lib/python3.7/dist-packages (from requests[socks]>=2.11.1->tweepy>=3.7.0->konlpy) (3.0.4)\n",
            "Requirement already satisfied: PySocks!=1.5.7,>=1.5.6; extra == \"socks\" in /usr/local/lib/python3.7/dist-packages (from requests[socks]>=2.11.1->tweepy>=3.7.0->konlpy) (1.7.1)\n",
            "Requirement already satisfied: oauthlib>=3.0.0 in /usr/local/lib/python3.7/dist-packages (from requests-oauthlib>=0.7.0->tweepy>=3.7.0->konlpy) (3.1.1)\n",
            "Installing collected packages: JPype1, beautifulsoup4, colorama, konlpy\n",
            "  Found existing installation: beautifulsoup4 4.6.3\n",
            "    Uninstalling beautifulsoup4-4.6.3:\n",
            "      Successfully uninstalled beautifulsoup4-4.6.3\n",
            "Successfully installed JPype1-1.3.0 beautifulsoup4-4.6.0 colorama-0.4.4 konlpy-0.5.2\n"
          ],
          "name": "stdout"
        }
      ]
    },
    {
      "cell_type": "code",
      "metadata": {
        "id": "_7PDUhZsqGeW"
      },
      "source": [
        "#데이터 전처리\n",
        "stopwords = ['의', '가', '이', '은', '들', '는', '좀', '잘', '걍', '과', '도', '를', '으로', '자', '에', '와', '한', '하다']\n",
        "\n",
        "import konlpy\n",
        "from konlpy.tag import Okt\n",
        "okt = Okt()\n",
        "X_train = []\n",
        "for sentence in train_data['title']:\n",
        "    temp_X = []\n",
        "    temp_X = okt.morphs(sentence, stem=True) # 토큰화\n",
        "    temp_X = [word for word in temp_X if not word in stopwords] # 불용어 제거\n",
        "    X_train.append(temp_X)\n",
        "\n",
        "X_test = []\n",
        "\n",
        "for sentence in test_data['title']:\n",
        "    temp_X = []\n",
        "    temp_X = okt.morphs(sentence, stem=True) # 토큰화\n",
        "    temp_X = [word for word in temp_X if not word in stopwords] # 불용어 제거\n",
        "    X_test.append(temp_X)"
      ],
      "execution_count": 8,
      "outputs": []
    },
    {
      "cell_type": "code",
      "metadata": {
        "colab": {
          "base_uri": "https://localhost:8080/"
        },
        "id": "ZwsbIcdGqnPN",
        "outputId": "4c1d72c3-711d-4bb7-e92d-ef0786172408"
      },
      "source": [
        "#토큰화 잘 되었는지 체크\n",
        "print(X_train[:3])\n",
        "print(X_test[:3])"
      ],
      "execution_count": 10,
      "outputs": [
        {
          "output_type": "stream",
          "text": [
            "[['버거킹', '바삭', '신', '메뉴', '3000원', '안되다', '가격'], ['버거킹', '가을', '맞이', '와퍼주니어', '1900원', '판매'], ['귀엽다', '오싹하다', '’', '할로윈데이', '겨냥', '이색', '식', '음료', '출시']]\n",
            "[['더벨맘스', '터치', '가맹', '점포', '롯데리아', '앞', '지르다', '1', '위', '우뚝'], ['롯데리아', '맘스터치', '패스트푸드', '점', '위생', '적발', '5년', '간', '50', '증가'], ['맘스', '터치', '도시락', '달', '만에', '3만', '개', '완판잘', '나가다', '치킨', '프랜차이즈', '간편식']]\n"
          ],
          "name": "stdout"
        }
      ]
    },
    {
      "cell_type": "code",
      "metadata": {
        "id": "QYTcLTVGqwza"
      },
      "source": [
        "#정수인코딩\n",
        "from keras.preprocessing.text import Tokenizer \n",
        "\n",
        "max_words = 35000 \n",
        "tokenizer = Tokenizer(num_words = max_words) \n",
        "tokenizer.fit_on_texts(X_train) \n",
        "X_train = tokenizer.texts_to_sequences(X_train) \n",
        "X_test = tokenizer.texts_to_sequences(X_test)\n"
      ],
      "execution_count": 11,
      "outputs": []
    },
    {
      "cell_type": "code",
      "metadata": {
        "colab": {
          "base_uri": "https://localhost:8080/"
        },
        "id": "PeROQ6blq7Os",
        "outputId": "9563e330-54fa-4b44-9825-7481a1ac48be"
      },
      "source": [
        "#정수인코딩 체크\n",
        "print(X_train[:3])\n",
        "print(X_test[:3])"
      ],
      "execution_count": 12,
      "outputs": [
        {
          "output_type": "stream",
          "text": [
            "[[1, 172, 68, 15, 1755, 1756, 30], [1, 541, 178, 66, 215, 22], [2433, 4299, 2, 982, 1073, 317, 216, 270, 12]]\n",
            "[[407, 27, 1676, 93, 736, 2586, 70, 43, 2761], [93, 87, 55, 3171, 2109, 1305, 117, 184, 1288], [429, 407, 1687, 147, 135, 29, 1822, 78, 84, 1311]]\n"
          ],
          "name": "stdout"
        }
      ]
    },
    {
      "cell_type": "code",
      "metadata": {
        "colab": {
          "base_uri": "https://localhost:8080/",
          "height": 616
        },
        "id": "QftPASpOrBPm",
        "outputId": "7ee3ec89-aa94-4870-a4bb-cdad9fa76f59"
      },
      "source": [
        "#데이터분포 체크 - train\n",
        "print(\"제목의 최대 길이 : \", max(len(l) for l in X_train)) \n",
        "print(\"제목의 평균 길이 : \", sum(map(len, X_train))/ len(X_train)) \n",
        "plt.hist([len(s) for s in X_train], bins=50) \n",
        "plt.xlabel('length of Data') \n",
        "plt.ylabel('number of Data')\n",
        "plt.show()\n",
        "#데이터분포 체크 - test\n",
        "print(\"제목의 최대 길이 : \", max(len(l) for l in X_test)) \n",
        "print(\"제목의 평균 길이 : \", sum(map(len, X_test))/ len(X_test)) \n",
        "plt.hist([len(s) for s in X_test], bins=50) \n",
        "plt.xlabel('length of Data') \n",
        "plt.ylabel('number of Data')\n",
        "plt.show()"
      ],
      "execution_count": 14,
      "outputs": [
        {
          "output_type": "stream",
          "text": [
            "제목의 최대 길이 :  20\n",
            "제목의 평균 길이 :  10.525333333333334\n"
          ],
          "name": "stdout"
        },
        {
          "output_type": "display_data",
          "data": {
            "image/png": "[encoded data removed]",
            "text/plain": [
              "<Figure size 432x288 with 1 Axes>"
            ]
          },
          "metadata": {
            "tags": [],
            "needs_background": "light"
          }
        },
        {
          "output_type": "stream",
          "text": [
            "제목의 최대 길이 :  17\n",
            "제목의 평균 길이 :  8.979333333333333\n"
          ],
          "name": "stdout"
        },
        {
          "output_type": "display_data",
          "data": {
            "image/png": "[encoded data removed]",
            "text/plain": [
              "<Figure size 432x288 with 1 Axes>"
            ]
          },
          "metadata": {
            "tags": [],
            "needs_background": "light"
          }
        }
      ]
    },
    {
      "cell_type": "code",
      "metadata": {
        "id": "jxusR1N_rHb8"
      },
      "source": [
        "#y값 one-hot encoding\n",
        "import numpy as np\n",
        "\n",
        "y_train = [] \n",
        "y_test = [] \n",
        "\n",
        "for i in range(len(train_data['label'])): \n",
        "  if train_data['label'].iloc[i] == 1: \n",
        "    y_train.append([0, 0, 1]) \n",
        "  elif train_data['label'].iloc[i] == 0: \n",
        "    y_train.append([0, 1, 0]) \n",
        "  elif train_data['label'].iloc[i] == -1: \n",
        "    y_train.append([1, 0, 0]) \n",
        "    \n",
        "for i in range(len(test_data['label'])): \n",
        "  if test_data['label'].iloc[i] == 1: \n",
        "    y_test.append([0, 0, 1]) \n",
        "  elif test_data['label'].iloc[i] == 0: \n",
        "    y_test.append([0, 1, 0]) \n",
        "  elif test_data['label'].iloc[i] == -1: \n",
        "    y_test.append([1, 0, 0]) \n",
        "    \n",
        "y_train = np.array(y_train) \n",
        "y_test = np.array(y_test)"
      ],
      "execution_count": 18,
      "outputs": []
    },
    {
      "cell_type": "code",
      "metadata": {
        "colab": {
          "base_uri": "https://localhost:8080/"
        },
        "id": "sBJb4s8Rr9T1",
        "outputId": "9d1fd116-8038-4b69-e9a1-ff76e5412cd1"
      },
      "source": [
        "y_train"
      ],
      "execution_count": 19,
      "outputs": [
        {
          "output_type": "execute_result",
          "data": {
            "text/plain": [
              "array([[0, 0, 1],\n",
              "       [0, 1, 0],\n",
              "       [0, 0, 1],\n",
              "       ...,\n",
              "       [0, 1, 0],\n",
              "       [0, 1, 0],\n",
              "       [0, 1, 0]])"
            ]
          },
          "metadata": {
            "tags": []
          },
          "execution_count": 19
        }
      ]
    },
    {
      "cell_type": "code",
      "metadata": {
        "colab": {
          "base_uri": "https://localhost:8080/"
        },
        "id": "lQpND6lwr-YL",
        "outputId": "698e456d-1b15-4f3e-b7ec-754040c11aca"
      },
      "source": [
        "y_test"
      ],
      "execution_count": 20,
      "outputs": [
        {
          "output_type": "execute_result",
          "data": {
            "text/plain": [
              "array([[0, 0, 1],\n",
              "       [0, 0, 1],\n",
              "       [0, 1, 0],\n",
              "       ...,\n",
              "       [0, 1, 0],\n",
              "       [0, 1, 0],\n",
              "       [0, 0, 1]])"
            ]
          },
          "metadata": {
            "tags": []
          },
          "execution_count": 20
        }
      ]
    },
    {
      "cell_type": "code",
      "metadata": {
        "id": "HjjsfVQEr_p2"
      },
      "source": [
        "#모델만들기\n",
        "from keras.layers import Embedding, Dense, LSTM \n",
        "from keras.models import Sequential \n",
        "from keras.preprocessing.sequence import pad_sequences \n",
        "max_len = 20 # 전체 데이터의 길이를 20로 맞춘다 \n",
        "\n",
        "X_train = pad_sequences(X_train, maxlen=max_len) \n",
        "X_test = pad_sequences(X_test, maxlen=max_len)"
      ],
      "execution_count": 21,
      "outputs": []
    },
    {
      "cell_type": "code",
      "metadata": {
        "colab": {
          "base_uri": "https://localhost:8080/"
        },
        "id": "XdFTaYiCsKcl",
        "outputId": "fcfaf645-ca14-4dab-8aed-df92bcba2497"
      },
      "source": [
        "model = Sequential() \n",
        "model.add(Embedding(max_words, 100)) \n",
        "model.add(LSTM(128)) \n",
        "model.add(Dense(3, activation='softmax')) \n",
        "\n",
        "model.compile(optimizer='rmsprop', loss='categorical_crossentropy', metrics=['accuracy']) \n",
        "history = model.fit(X_train, y_train, epochs=10, batch_size=10, validation_split=0.1)"
      ],
      "execution_count": 23,
      "outputs": [
        {
          "output_type": "stream",
          "text": [
            "Epoch 1/10\n",
            "540/540 [==============================] - 37s 36ms/step - loss: 0.6573 - accuracy: 0.7331 - val_loss: 0.2675 - val_accuracy: 0.9317\n",
            "Epoch 2/10\n",
            "540/540 [==============================] - 17s 32ms/step - loss: 0.1449 - accuracy: 0.9543 - val_loss: 0.2363 - val_accuracy: 0.9433\n",
            "Epoch 3/10\n",
            "540/540 [==============================] - 17s 32ms/step - loss: 0.0743 - accuracy: 0.9802 - val_loss: 0.2117 - val_accuracy: 0.9567\n",
            "Epoch 4/10\n",
            "540/540 [==============================] - 18s 33ms/step - loss: 0.0437 - accuracy: 0.9874 - val_loss: 0.2810 - val_accuracy: 0.9400\n",
            "Epoch 5/10\n",
            "540/540 [==============================] - 17s 32ms/step - loss: 0.0333 - accuracy: 0.9894 - val_loss: 0.2968 - val_accuracy: 0.9267\n",
            "Epoch 6/10\n",
            "540/540 [==============================] - 17s 32ms/step - loss: 0.0268 - accuracy: 0.9921 - val_loss: 0.3672 - val_accuracy: 0.9267\n",
            "Epoch 7/10\n",
            "540/540 [==============================] - 17s 32ms/step - loss: 0.0163 - accuracy: 0.9950 - val_loss: 0.3294 - val_accuracy: 0.9267\n",
            "Epoch 8/10\n",
            "540/540 [==============================] - 17s 32ms/step - loss: 0.0066 - accuracy: 0.9984 - val_loss: 0.4388 - val_accuracy: 0.8967\n",
            "Epoch 9/10\n",
            "540/540 [==============================] - 17s 32ms/step - loss: 0.0035 - accuracy: 0.9985 - val_loss: 0.8096 - val_accuracy: 0.8283\n",
            "Epoch 10/10\n",
            "540/540 [==============================] - 17s 32ms/step - loss: 0.0040 - accuracy: 0.9991 - val_loss: 0.3971 - val_accuracy: 0.9400\n"
          ],
          "name": "stdout"
        }
      ]
    },
    {
      "cell_type": "code",
      "metadata": {
        "colab": {
          "base_uri": "https://localhost:8080/"
        },
        "id": "VN25TPbnsnvm",
        "outputId": "e2969268-cbcf-4e77-e0e4-48b1c93c0785"
      },
      "source": [
        "print(\"정확도 : {:.2f}%\".format(model.evaluate(X_test, y_test)[1]*100))"
      ],
      "execution_count": 26,
      "outputs": [
        {
          "output_type": "stream",
          "text": [
            "47/47 [==============================] - 1s 9ms/step - loss: 0.3535 - accuracy: 0.9480\n",
            "정확도 : 94.80%\n"
          ],
          "name": "stdout"
        }
      ]
    },
    {
      "cell_type": "code",
      "metadata": {
        "colab": {
          "base_uri": "https://localhost:8080/"
        },
        "id": "s8_lCi4us1dh",
        "outputId": "80318ece-dff8-46a0-c351-82e2b90f50bb"
      },
      "source": [
        "#optimizer 변경\n",
        "model = Sequential() \n",
        "model.add(Embedding(max_words, 100)) \n",
        "model.add(LSTM(128)) \n",
        "model.add(Dense(3, activation='softmax')) \n",
        "\n",
        "model.compile(optimizer='adam', loss='categorical_crossentropy', metrics=['accuracy']) \n",
        "history = model.fit(X_train, y_train, epochs=10, batch_size=10, validation_split=0.1)"
      ],
      "execution_count": 27,
      "outputs": [
        {
          "output_type": "stream",
          "text": [
            "Epoch 1/10\n",
            "540/540 [==============================] - 34s 58ms/step - loss: 0.6106 - accuracy: 0.7584 - val_loss: 0.1592 - val_accuracy: 0.9567\n",
            "Epoch 2/10\n",
            "540/540 [==============================] - 30s 55ms/step - loss: 0.0452 - accuracy: 0.9863 - val_loss: 0.1413 - val_accuracy: 0.9700\n",
            "Epoch 3/10\n",
            "540/540 [==============================] - 30s 56ms/step - loss: 0.0086 - accuracy: 0.9971 - val_loss: 0.1545 - val_accuracy: 0.9717\n",
            "Epoch 4/10\n",
            "540/540 [==============================] - 30s 56ms/step - loss: 0.0033 - accuracy: 0.9992 - val_loss: 0.1438 - val_accuracy: 0.9767\n",
            "Epoch 5/10\n",
            "540/540 [==============================] - 30s 56ms/step - loss: 0.0017 - accuracy: 0.9999 - val_loss: 0.1744 - val_accuracy: 0.9733\n",
            "Epoch 6/10\n",
            "540/540 [==============================] - 30s 55ms/step - loss: 0.0010 - accuracy: 1.0000 - val_loss: 0.1751 - val_accuracy: 0.9783\n",
            "Epoch 7/10\n",
            "540/540 [==============================] - 29s 55ms/step - loss: 9.6544e-05 - accuracy: 1.0000 - val_loss: 0.1914 - val_accuracy: 0.9683\n",
            "Epoch 8/10\n",
            "540/540 [==============================] - 30s 55ms/step - loss: 3.8787e-05 - accuracy: 1.0000 - val_loss: 0.2002 - val_accuracy: 0.9717\n",
            "Epoch 9/10\n",
            "540/540 [==============================] - 30s 55ms/step - loss: 2.6513e-05 - accuracy: 1.0000 - val_loss: 0.2079 - val_accuracy: 0.9717\n",
            "Epoch 10/10\n",
            "540/540 [==============================] - 30s 56ms/step - loss: 1.5227e-05 - accuracy: 1.0000 - val_loss: 0.2156 - val_accuracy: 0.9717\n"
          ],
          "name": "stdout"
        }
      ]
    },
    {
      "cell_type": "code",
      "metadata": {
        "colab": {
          "base_uri": "https://localhost:8080/"
        },
        "id": "ZzPRiJVRs9Fj",
        "outputId": "aa90a428-b60a-42b3-8215-8719b677ca2f"
      },
      "source": [
        "print(\"정확도 : {:.2f}%\".format(model.evaluate(X_test, y_test)[1]*100))"
      ],
      "execution_count": 29,
      "outputs": [
        {
          "output_type": "stream",
          "text": [
            "47/47 [==============================] - 1s 9ms/step - loss: 0.3555 - accuracy: 0.9500\n",
            "정확도 : 95.00%\n"
          ],
          "name": "stdout"
        }
      ]
    },
    {
      "cell_type": "code",
      "metadata": {
        "id": "JlY56qm5s--E"
      },
      "source": [
        "predict = model.predict(X_test)"
      ],
      "execution_count": 30,
      "outputs": []
    },
    {
      "cell_type": "code",
      "metadata": {
        "colab": {
          "base_uri": "https://localhost:8080/"
        },
        "id": "HW5izFNZtDpD",
        "outputId": "1bd5c4aa-ba7f-46bc-826b-a472f02ca209"
      },
      "source": [
        "import numpy as np\n",
        "predict_labels = np.argmax(predict, axis = 1)\n",
        "original_labels = np.argmax(y_test, axis = 1)\n",
        "\n",
        "for i in range(30):\n",
        "  print(\"기사제목: \", test_data['title'].iloc[i], \"/\\t 원래라벨: \",original_labels[i],\n",
        "        \"/\\t 예측한 라벨: \", predict_labels[i])"
      ],
      "execution_count": 31,
      "outputs": [
        {
          "output_type": "stream",
          "text": [
            "기사제목:  더벨맘스터치 가맹점포 롯데리아 앞질러1위 우뚝 /\t 원래라벨:  2 /\t 예측한 라벨:  1\n",
            "기사제목:  롯데리아도 맘스터치도 패스트푸드점 위생적발 5년간 50 증가 /\t 원래라벨:  2 /\t 예측한 라벨:  0\n",
            "기사제목:  맘스터치 도시락 한 달만에 3만개 완판잘 나가는 치킨 프랜차이즈 간편식 /\t 원래라벨:  1 /\t 예측한 라벨:  1\n",
            "기사제목:  맘스터치 먹고 뉴이스트 · 옹성우 · 여자친구 보러가자 /\t 원래라벨:  1 /\t 예측한 라벨:  1\n",
            "기사제목:  MTM터치 연중기획공연12세계의 음악도시 오스틴 내슈빌 아바나 /\t 원래라벨:  1 /\t 예측한 라벨:  1\n",
            "기사제목:  기로에 선 자영업자 그래도 해법은 있다 /\t 원래라벨:  1 /\t 예측한 라벨:  1\n",
            "기사제목:  단독 지금도 맥도날드서 벌레·이물질 줄줄줄반년새 21건 포스팅 충격 /\t 원래라벨:  0 /\t 예측한 라벨:  0\n",
            "기사제목:  엄지족 잡아라패스트푸드도 배달 경쟁 가세 /\t 원래라벨:  1 /\t 예측한 라벨:  1\n",
            "기사제목:  더벨강소 외식프랜차이즈 리포트해마로푸드 가격·품질 두마리 토끼 잡 /\t 원래라벨:  1 /\t 예측한 라벨:  1\n",
            "기사제목:  맘스터치 펩시 콘서트 입장권 증정 이벤트 /\t 원래라벨:  1 /\t 예측한 라벨:  1\n",
            "기사제목:  국내서 1위 쫓는 해마로푸드서비스 맘스터치’해외 사업은 지지부진 /\t 원래라벨:  2 /\t 예측한 라벨:  2\n",
            "기사제목:  붐바타 창업박람회 참가제2의 맘스터치 시동건다 /\t 원래라벨:  1 /\t 예측한 라벨:  1\n",
            "기사제목:  해마로푸드 붐바타로 제2의 맘스터치 시동건다 /\t 원래라벨:  1 /\t 예측한 라벨:  1\n",
            "기사제목:  맘스터치 군대스리가 예비군편’ 추가 진행 /\t 원래라벨:  1 /\t 예측한 라벨:  1\n",
            "기사제목:  맘스터치 뉴미디어 통해 기부나눔 알리다 /\t 원래라벨:  2 /\t 예측한 라벨:  2\n",
            "기사제목:  맘스터치 필리핀 진출동남아 공략 가속화 /\t 원래라벨:  2 /\t 예측한 라벨:  2\n",
            "기사제목:  맘스터치 대장균 초과 검출 이어 또 덜 익은 패티‧맨손조리‧냅킨 벌레 논란 /\t 원래라벨:  0 /\t 예측한 라벨:  0\n",
            "기사제목:  맘스터치 위생 엉망 논란냅킨 벌레·덜 익은 고기로 조리 /\t 원래라벨:  0 /\t 예측한 라벨:  0\n",
            "기사제목:  축구·농구·제기차기맘스터치 뉴미디어 통한 기부나눔 전파 /\t 원래라벨:  2 /\t 예측한 라벨:  2\n",
            "기사제목:  가성비 햄버거로 맘스터치 강하게 위협하는 노브랜드 버거 메뉴 5가지 /\t 원래라벨:  1 /\t 예측한 라벨:  1\n",
            "기사제목:  맛있는 꿀조합 푸드 페어링 인기 /\t 원래라벨:  2 /\t 예측한 라벨:  2\n",
            "기사제목:  ONE SHOT 햄버거 간식으로 한 끼 식사로당신의 최애’ 브랜드는 /\t 원래라벨:  1 /\t 예측한 라벨:  1\n",
            "기사제목:  맘스터치 주문예약 전용앱 선보여 /\t 원래라벨:  2 /\t 예측한 라벨:  2\n",
            "기사제목:  맘스터치 대세 배우로 거듭난 음문석과 유쾌하고 독특한 유머 넘치는 광고 선 /\t 원래라벨:  2 /\t 예측한 라벨:  2\n",
            "기사제목:  맘스터치 공식 모바일 앱 출시풍성한 이벤트 마련 /\t 원래라벨:  2 /\t 예측한 라벨:  2\n",
            "기사제목:  맘스터치몰 데일리 맘스터치 도시락 6종 출시 /\t 원래라벨:  2 /\t 예측한 라벨:  2\n",
            "기사제목:  맘스터치 이제 앱 통해서 만난다 /\t 원래라벨:  1 /\t 예측한 라벨:  1\n",
            "기사제목:  유통오늘 맘스터치 멕시코풍 살사리코버거 출시 /\t 원래라벨:  2 /\t 예측한 라벨:  2\n",
            "기사제목:  맘스터치 이번엔 매콤·달콤·새콤 살사소스다 /\t 원래라벨:  1 /\t 예측한 라벨:  1\n",
            "기사제목:  맘스터치 멕시코풍 살사리코버거’  이번엔 매콤 달콤 새콤 살사소스다 /\t 원래라벨:  1 /\t 예측한 라벨:  1\n"
          ],
          "name": "stdout"
        }
      ]
    }
  ]
}