{
  "nbformat": 4,
  "nbformat_minor": 0,
  "metadata": {
    "colab": {
      "name": "news_posneg2.ipynb",
      "provenance": [],
      "collapsed_sections": [],
      "authorship_tag": "ABX9TyNqyTgRWtQQZsjRoEiS3Gkj",
      "include_colab_link": true
    },
    "kernelspec": {
      "name": "python3",
      "display_name": "Python 3"
    },
    "language_info": {
      "name": "python"
    }
  },
  "cells": [
    {
      "cell_type": "markdown",
      "metadata": {
        "id": "view-in-github",
        "colab_type": "text"
      },
      "source": [
        "<a href=\"https://colab.research.google.com/github/hyeryn/Natural-Language/blob/master/news_posneg2.ipynb\" target=\"_parent\"><img src=\"https://colab.research.google.com/assets/colab-badge.svg\" alt=\"Open In Colab\"/></a>"
      ]
    },
    {
      "cell_type": "code",
      "metadata": {
        "colab": {
          "base_uri": "https://localhost:8080/",
          "height": 663
        },
        "id": "jNYm29kRoUG0",
        "outputId": "9cff0a7b-338c-4b27-cc06-8b7031b479b2"
      },
      "source": [
        "import pandas as pd\n",
        "\n",
        "train_data = pd.read_csv(\"/content/train_dataset_3031.csv\",encoding='cp949')\n",
        "test_data = pd.read_csv(\"/content/test_dataset_롯데리아.csv\",encoding='cp949')\n",
        "\n",
        "%matplotlib inline\n",
        "import matplotlib.pyplot as plt\n",
        "train_data['label'].value_counts().plot(kind='bar')\n",
        "plt.show()\n",
        "test_data['label'].value_counts().plot(kind='bar')\n",
        "plt.show()\n",
        "\n",
        "print(train_data.groupby('label').size().reset_index(name='count'))\n",
        "print(test_data.groupby('label').size().reset_index(name='count'))"
      ],
      "execution_count": 8,
      "outputs": [
        {
          "output_type": "display_data",
          "data": {
            "image/png": "[encoded data removed]",
            "text/plain": [
              "<Figure size 432x288 with 1 Axes>"
            ]
          },
          "metadata": {
            "tags": [],
            "needs_background": "light"
          }
        },
        {
          "output_type": "display_data",
          "data": {
            "image/png": "[encoded data removed]",
            "text/plain": [
              "<Figure size 432x288 with 1 Axes>"
            ]
          },
          "metadata": {
            "tags": [],
            "needs_background": "light"
          }
        },
        {
          "output_type": "stream",
          "text": [
            "   label  count\n",
            "0     -1    198\n",
            "1      0   2072\n",
            "2      1    760\n",
            "   label  count\n",
            "0     -1     41\n",
            "1      0    702\n",
            "2      1    267\n"
          ],
          "name": "stdout"
        }
      ]
    },
    {
      "cell_type": "code",
      "metadata": {
        "colab": {
          "base_uri": "https://localhost:8080/"
        },
        "id": "5-C-Qs7mqXHV",
        "outputId": "3a091eee-a12f-4990-b4b5-79feb594f0ab"
      },
      "source": [
        "!pip install konlpy"
      ],
      "execution_count": 10,
      "outputs": [
        {
          "output_type": "stream",
          "text": [
            "Collecting konlpy\n",
            "\u001b[?25l  Downloading https://files.pythonhosted.org/packages/85/0e/f385566fec837c0b83f216b2da65db9997b35dd675e107752005b7d392b1/konlpy-0.5.2-py2.py3-none-any.whl (19.4MB)\n",
            "\u001b[K     |████████████████████████████████| 19.4MB 1.4MB/s \n",
            "\u001b[?25hRequirement already satisfied: lxml>=4.1.0 in /usr/local/lib/python3.7/dist-packages (from konlpy) (4.2.6)\n",
            "Collecting beautifulsoup4==4.6.0\n",
            "\u001b[?25l  Downloading https://files.pythonhosted.org/packages/9e/d4/10f46e5cfac773e22707237bfcd51bbffeaf0a576b0a847ec7ab15bd7ace/beautifulsoup4-4.6.0-py3-none-any.whl (86kB)\n",
            "\u001b[K     |████████████████████████████████| 92kB 9.3MB/s \n",
            "\u001b[?25hCollecting colorama\n",
            "  Downloading https://files.pythonhosted.org/packages/44/98/5b86278fbbf250d239ae0ecb724f8572af1c91f4a11edf4d36a206189440/colorama-0.4.4-py2.py3-none-any.whl\n",
            "Requirement already satisfied: numpy>=1.6 in /usr/local/lib/python3.7/dist-packages (from konlpy) (1.19.5)\n",
            "Collecting JPype1>=0.7.0\n",
            "\u001b[?25l  Downloading https://files.pythonhosted.org/packages/98/88/f817ef1af6f794e8f11313dcd1549de833f4599abcec82746ab5ed086686/JPype1-1.3.0-cp37-cp37m-manylinux_2_5_x86_64.manylinux1_x86_64.whl (448kB)\n",
            "\u001b[K     |████████████████████████████████| 450kB 36.5MB/s \n",
            "\u001b[?25hRequirement already satisfied: tweepy>=3.7.0 in /usr/local/lib/python3.7/dist-packages (from konlpy) (3.10.0)\n",
            "Requirement already satisfied: typing-extensions; python_version < \"3.8\" in /usr/local/lib/python3.7/dist-packages (from JPype1>=0.7.0->konlpy) (3.7.4.3)\n",
            "Requirement already satisfied: six>=1.10.0 in /usr/local/lib/python3.7/dist-packages (from tweepy>=3.7.0->konlpy) (1.15.0)\n",
            "Requirement already satisfied: requests-oauthlib>=0.7.0 in /usr/local/lib/python3.7/dist-packages (from tweepy>=3.7.0->konlpy) (1.3.0)\n",
            "Requirement already satisfied: requests[socks]>=2.11.1 in /usr/local/lib/python3.7/dist-packages (from tweepy>=3.7.0->konlpy) (2.23.0)\n",
            "Requirement already satisfied: oauthlib>=3.0.0 in /usr/local/lib/python3.7/dist-packages (from requests-oauthlib>=0.7.0->tweepy>=3.7.0->konlpy) (3.1.1)\n",
            "Requirement already satisfied: urllib3!=1.25.0,!=1.25.1,<1.26,>=1.21.1 in /usr/local/lib/python3.7/dist-packages (from requests[socks]>=2.11.1->tweepy>=3.7.0->konlpy) (1.24.3)\n",
            "Requirement already satisfied: certifi>=2017.4.17 in /usr/local/lib/python3.7/dist-packages (from requests[socks]>=2.11.1->tweepy>=3.7.0->konlpy) (2021.5.30)\n",
            "Requirement already satisfied: chardet<4,>=3.0.2 in /usr/local/lib/python3.7/dist-packages (from requests[socks]>=2.11.1->tweepy>=3.7.0->konlpy) (3.0.4)\n",
            "Requirement already satisfied: idna<3,>=2.5 in /usr/local/lib/python3.7/dist-packages (from requests[socks]>=2.11.1->tweepy>=3.7.0->konlpy) (2.10)\n",
            "Requirement already satisfied: PySocks!=1.5.7,>=1.5.6; extra == \"socks\" in /usr/local/lib/python3.7/dist-packages (from requests[socks]>=2.11.1->tweepy>=3.7.0->konlpy) (1.7.1)\n",
            "Installing collected packages: beautifulsoup4, colorama, JPype1, konlpy\n",
            "  Found existing installation: beautifulsoup4 4.6.3\n",
            "    Uninstalling beautifulsoup4-4.6.3:\n",
            "      Successfully uninstalled beautifulsoup4-4.6.3\n",
            "Successfully installed JPype1-1.3.0 beautifulsoup4-4.6.0 colorama-0.4.4 konlpy-0.5.2\n"
          ],
          "name": "stdout"
        }
      ]
    },
    {
      "cell_type": "code",
      "metadata": {
        "id": "_7PDUhZsqGeW"
      },
      "source": [
        "#데이터 전처리\n",
        "stopwords = ['의', '가', '이', '은', '들', '는', '좀', '잘', '걍', '과', '도', '를', '으로', '자', '에', '와', '한', '하다']\n",
        "\n",
        "import konlpy\n",
        "from konlpy.tag import Okt\n",
        "okt = Okt()\n",
        "X_train = []\n",
        "for sentence in train_data['title']:\n",
        "    temp_X = []\n",
        "    temp_X = okt.morphs(sentence, stem=True) # 토큰화\n",
        "    temp_X = [word for word in temp_X if not word in stopwords] # 불용어 제거\n",
        "    X_train.append(temp_X)\n",
        "\n",
        "X_test = []\n",
        "\n",
        "for sentence in test_data['title']:\n",
        "    temp_X = []\n",
        "    temp_X = okt.morphs(sentence, stem=True) # 토큰화\n",
        "    temp_X = [word for word in temp_X if not word in stopwords] # 불용어 제거\n",
        "    X_test.append(temp_X)"
      ],
      "execution_count": 11,
      "outputs": []
    },
    {
      "cell_type": "code",
      "metadata": {
        "colab": {
          "base_uri": "https://localhost:8080/"
        },
        "id": "ZwsbIcdGqnPN",
        "outputId": "6589df89-fcf8-420a-bbae-1632390c071d"
      },
      "source": [
        "#토큰화 잘 되었는지 체크\n",
        "print(X_train[:3])\n",
        "print(X_test[:3])"
      ],
      "execution_count": 12,
      "outputs": [
        {
          "output_type": "stream",
          "text": [
            "[['핫', '시', '즈', '너', '동대문', '엽기', '떡볶이', 'tvN', '드라마', '슬기롭다', '의사', '생활', '시즌', '2', '제작', '지'], ['슬기롭다', '의사', '생활', '시즌', '2', '동대문', '엽기', '떡볶이', '제작', '지원'], ['동대문', '엽기', '떡볶이', '브랜드', '유니폼', '무상', '지원', '유니폼', '캠페인', '진행']]\n",
            "[['롯데리아', '코로나', '19', '백신', '접종', '고객', '할인', '행사'], ['롯데리아', '코로나', '백신', '접종', '고객', '30', '할인', '주다'], ['BTS', '세트', '’', '탓', '롯데리아', '감자', '튀김', '없다', '알', '고', '보다']]\n"
          ],
          "name": "stdout"
        }
      ]
    },
    {
      "cell_type": "code",
      "metadata": {
        "id": "QYTcLTVGqwza"
      },
      "source": [
        "#정수인코딩\n",
        "from keras.preprocessing.text import Tokenizer \n",
        "\n",
        "max_words = 35000 \n",
        "tokenizer = Tokenizer(num_words = max_words) \n",
        "tokenizer.fit_on_texts(X_train) \n",
        "X_train = tokenizer.texts_to_sequences(X_train) \n",
        "X_test = tokenizer.texts_to_sequences(X_test)\n"
      ],
      "execution_count": 13,
      "outputs": []
    },
    {
      "cell_type": "code",
      "metadata": {
        "colab": {
          "base_uri": "https://localhost:8080/"
        },
        "id": "PeROQ6blq7Os",
        "outputId": "37d2a3b9-9a42-4831-d17b-962cdee89480"
      },
      "source": [
        "#정수인코딩 체크\n",
        "print(X_train[:3])\n",
        "print(X_test[:3])"
      ],
      "execution_count": 14,
      "outputs": [
        {
          "output_type": "stream",
          "text": [
            "[[113, 83, 449, 357, 11, 9, 5, 3078, 656, 2116, 2117, 657, 532, 34, 1345, 533], [2116, 2117, 657, 532, 34, 11, 9, 5, 1345, 742], [11, 9, 5, 45, 1643, 3079, 742, 1643, 358, 33]]\n",
            "[[54, 93, 141, 15, 166], [54, 141, 1362, 15, 892], [110, 8, 1427, 226, 116, 897, 221, 48]]\n"
          ],
          "name": "stdout"
        }
      ]
    },
    {
      "cell_type": "code",
      "metadata": {
        "colab": {
          "base_uri": "https://localhost:8080/",
          "height": 616
        },
        "id": "QftPASpOrBPm",
        "outputId": "b8836e83-12ce-4774-8201-4606b6cea28f"
      },
      "source": [
        "#데이터분포 체크 - train\n",
        "print(\"제목의 최대 길이 : \", max(len(l) for l in X_train)) \n",
        "print(\"제목의 평균 길이 : \", sum(map(len, X_train))/ len(X_train)) \n",
        "plt.hist([len(s) for s in X_train], bins=50) \n",
        "plt.xlabel('length of Data') \n",
        "plt.ylabel('number of Data')\n",
        "plt.show()\n",
        "#데이터분포 체크 - test\n",
        "print(\"제목의 최대 길이 : \", max(len(l) for l in X_test)) \n",
        "print(\"제목의 평균 길이 : \", sum(map(len, X_test))/ len(X_test)) \n",
        "plt.hist([len(s) for s in X_test], bins=50) \n",
        "plt.xlabel('length of Data') \n",
        "plt.ylabel('number of Data')\n",
        "plt.show()"
      ],
      "execution_count": 15,
      "outputs": [
        {
          "output_type": "stream",
          "text": [
            "제목의 최대 길이 :  19\n",
            "제목의 평균 길이 :  11.356765676567656\n"
          ],
          "name": "stdout"
        },
        {
          "output_type": "display_data",
          "data": {
            "image/png": "[encoded data removed]",
            "text/plain": [
              "<Figure size 432x288 with 1 Axes>"
            ]
          },
          "metadata": {
            "tags": [],
            "needs_background": "light"
          }
        },
        {
          "output_type": "stream",
          "text": [
            "제목의 최대 길이 :  14\n",
            "제목의 평균 길이 :  7.079207920792079\n"
          ],
          "name": "stdout"
        },
        {
          "output_type": "display_data",
          "data": {
            "image/png": "[encoded data removed]",
            "text/plain": [
              "<Figure size 432x288 with 1 Axes>"
            ]
          },
          "metadata": {
            "tags": [],
            "needs_background": "light"
          }
        }
      ]
    },
    {
      "cell_type": "code",
      "metadata": {
        "id": "jxusR1N_rHb8"
      },
      "source": [
        "#y값 one-hot encoding\n",
        "import numpy as np\n",
        "\n",
        "y_train = [] \n",
        "y_test = [] \n",
        "\n",
        "for i in range(len(train_data['label'])): \n",
        "  if train_data['label'].iloc[i] == 1: \n",
        "    y_train.append([0, 0, 1]) \n",
        "  elif train_data['label'].iloc[i] == 0: \n",
        "    y_train.append([0, 1, 0]) \n",
        "  elif train_data['label'].iloc[i] == -1: \n",
        "    y_train.append([1, 0, 0]) \n",
        "    \n",
        "for i in range(len(test_data['label'])): \n",
        "  if test_data['label'].iloc[i] == 1: \n",
        "    y_test.append([0, 0, 1]) \n",
        "  elif test_data['label'].iloc[i] == 0: \n",
        "    y_test.append([0, 1, 0]) \n",
        "  elif test_data['label'].iloc[i] == -1: \n",
        "    y_test.append([1, 0, 0]) \n",
        "    \n",
        "y_train = np.array(y_train) \n",
        "y_test = np.array(y_test)"
      ],
      "execution_count": 16,
      "outputs": []
    },
    {
      "cell_type": "code",
      "metadata": {
        "colab": {
          "base_uri": "https://localhost:8080/"
        },
        "id": "sBJb4s8Rr9T1",
        "outputId": "0396ff40-c9eb-448e-e49f-e4d7541415cf"
      },
      "source": [
        "y_train"
      ],
      "execution_count": 17,
      "outputs": [
        {
          "output_type": "execute_result",
          "data": {
            "text/plain": [
              "array([[0, 1, 0],\n",
              "       [0, 1, 0],\n",
              "       [0, 1, 0],\n",
              "       ...,\n",
              "       [0, 0, 1],\n",
              "       [0, 0, 1],\n",
              "       [0, 0, 1]])"
            ]
          },
          "metadata": {
            "tags": []
          },
          "execution_count": 17
        }
      ]
    },
    {
      "cell_type": "code",
      "metadata": {
        "colab": {
          "base_uri": "https://localhost:8080/"
        },
        "id": "lQpND6lwr-YL",
        "outputId": "3c72a603-e89a-429d-a376-093c5683207a"
      },
      "source": [
        "y_test"
      ],
      "execution_count": 18,
      "outputs": [
        {
          "output_type": "execute_result",
          "data": {
            "text/plain": [
              "array([[0, 1, 0],\n",
              "       [0, 1, 0],\n",
              "       [0, 1, 0],\n",
              "       ...,\n",
              "       [1, 0, 0],\n",
              "       [0, 1, 0],\n",
              "       [0, 1, 0]])"
            ]
          },
          "metadata": {
            "tags": []
          },
          "execution_count": 18
        }
      ]
    },
    {
      "cell_type": "code",
      "metadata": {
        "id": "HjjsfVQEr_p2"
      },
      "source": [
        "#모델만들기\n",
        "from keras.layers import Embedding, Dense, LSTM \n",
        "from keras.models import Sequential \n",
        "from keras.preprocessing.sequence import pad_sequences \n",
        "max_len = 20 # 전체 데이터의 길이를 20로 맞춘다 \n",
        "\n",
        "X_train = pad_sequences(X_train, maxlen=max_len) \n",
        "X_test = pad_sequences(X_test, maxlen=max_len)"
      ],
      "execution_count": 19,
      "outputs": []
    },
    {
      "cell_type": "code",
      "metadata": {
        "colab": {
          "base_uri": "https://localhost:8080/"
        },
        "id": "XdFTaYiCsKcl",
        "outputId": "ccf08d32-63dc-448c-8013-8e17a2be53c9"
      },
      "source": [
        "model = Sequential() \n",
        "model.add(Embedding(max_words, 100)) \n",
        "model.add(LSTM(128)) \n",
        "model.add(Dense(3, activation='softmax')) \n",
        "\n",
        "model.compile(optimizer='rmsprop', loss='categorical_crossentropy', metrics=['accuracy']) \n",
        "history = model.fit(X_train, y_train, epochs=10, batch_size=10, validation_split=0.1)"
      ],
      "execution_count": 20,
      "outputs": [
        {
          "output_type": "stream",
          "text": [
            "Epoch 1/10\n",
            "273/273 [==============================] - 30s 40ms/step - loss: 0.7017 - accuracy: 0.7322 - val_loss: 0.2971 - val_accuracy: 0.9043\n",
            "Epoch 2/10\n",
            "273/273 [==============================] - 10s 35ms/step - loss: 0.1842 - accuracy: 0.9497 - val_loss: 0.2493 - val_accuracy: 0.9142\n",
            "Epoch 3/10\n",
            "273/273 [==============================] - 10s 35ms/step - loss: 0.0781 - accuracy: 0.9749 - val_loss: 0.2766 - val_accuracy: 0.9340\n",
            "Epoch 4/10\n",
            "273/273 [==============================] - 10s 35ms/step - loss: 0.0399 - accuracy: 0.9873 - val_loss: 0.2657 - val_accuracy: 0.9340\n",
            "Epoch 5/10\n",
            "273/273 [==============================] - 10s 35ms/step - loss: 0.0211 - accuracy: 0.9952 - val_loss: 0.3353 - val_accuracy: 0.9406\n",
            "Epoch 6/10\n",
            "273/273 [==============================] - 9s 35ms/step - loss: 0.0233 - accuracy: 0.9949 - val_loss: 0.3110 - val_accuracy: 0.9274\n",
            "Epoch 7/10\n",
            "273/273 [==============================] - 9s 35ms/step - loss: 0.0054 - accuracy: 0.9976 - val_loss: 0.3088 - val_accuracy: 0.9274\n",
            "Epoch 8/10\n",
            "273/273 [==============================] - 9s 35ms/step - loss: 0.0020 - accuracy: 0.9997 - val_loss: 0.4470 - val_accuracy: 0.9241\n",
            "Epoch 9/10\n",
            "273/273 [==============================] - 10s 35ms/step - loss: 0.0012 - accuracy: 0.9996 - val_loss: 0.4756 - val_accuracy: 0.9406\n",
            "Epoch 10/10\n",
            "273/273 [==============================] - 9s 35ms/step - loss: 7.0412e-04 - accuracy: 0.9997 - val_loss: 0.3825 - val_accuracy: 0.9241\n"
          ],
          "name": "stdout"
        }
      ]
    },
    {
      "cell_type": "code",
      "metadata": {
        "colab": {
          "base_uri": "https://localhost:8080/"
        },
        "id": "VN25TPbnsnvm",
        "outputId": "0f482e5a-05df-40bb-bb51-371eefd2ad31"
      },
      "source": [
        "print(\"정확도 : {:.2f}%\".format(model.evaluate(X_test, y_test)[1]*100))"
      ],
      "execution_count": 21,
      "outputs": [
        {
          "output_type": "stream",
          "text": [
            "32/32 [==============================] - 0s 9ms/step - loss: 0.7930 - accuracy: 0.8881\n",
            "정확도 : 88.81%\n"
          ],
          "name": "stdout"
        }
      ]
    },
    {
      "cell_type": "code",
      "metadata": {
        "colab": {
          "base_uri": "https://localhost:8080/"
        },
        "id": "s8_lCi4us1dh",
        "outputId": "a844b0b3-17c0-4431-dfec-dafb060924bb"
      },
      "source": [
        "#optimizer 변경\n",
        "model = Sequential() \n",
        "model.add(Embedding(max_words, 100)) \n",
        "model.add(LSTM(128)) \n",
        "model.add(Dense(3, activation='softmax')) \n",
        "\n",
        "model.compile(optimizer='adam', loss='categorical_crossentropy', metrics=['accuracy']) \n",
        "history = model.fit(X_train, y_train, epochs=10, batch_size=10, validation_split=0.1)"
      ],
      "execution_count": 22,
      "outputs": [
        {
          "output_type": "stream",
          "text": [
            "Epoch 1/10\n",
            "273/273 [==============================] - 21s 68ms/step - loss: 0.7101 - accuracy: 0.7374 - val_loss: 0.2616 - val_accuracy: 0.9076\n",
            "Epoch 2/10\n",
            "273/273 [==============================] - 17s 62ms/step - loss: 0.0797 - accuracy: 0.9790 - val_loss: 0.2257 - val_accuracy: 0.9208\n",
            "Epoch 3/10\n",
            "273/273 [==============================] - 16s 60ms/step - loss: 0.0123 - accuracy: 0.9977 - val_loss: 0.2588 - val_accuracy: 0.9406\n",
            "Epoch 4/10\n",
            "273/273 [==============================] - 16s 60ms/step - loss: 0.0028 - accuracy: 1.0000 - val_loss: 0.2103 - val_accuracy: 0.9307\n",
            "Epoch 5/10\n",
            "273/273 [==============================] - 16s 60ms/step - loss: 0.0095 - accuracy: 0.9975 - val_loss: 0.2572 - val_accuracy: 0.9340\n",
            "Epoch 6/10\n",
            "273/273 [==============================] - 17s 61ms/step - loss: 5.9321e-04 - accuracy: 1.0000 - val_loss: 0.2744 - val_accuracy: 0.9373\n",
            "Epoch 7/10\n",
            "273/273 [==============================] - 17s 61ms/step - loss: 1.9484e-04 - accuracy: 1.0000 - val_loss: 0.2523 - val_accuracy: 0.9274\n",
            "Epoch 8/10\n",
            "273/273 [==============================] - 17s 61ms/step - loss: 1.2934e-04 - accuracy: 1.0000 - val_loss: 0.2482 - val_accuracy: 0.9307\n",
            "Epoch 9/10\n",
            "273/273 [==============================] - 17s 62ms/step - loss: 8.8211e-05 - accuracy: 1.0000 - val_loss: 0.2478 - val_accuracy: 0.9373\n",
            "Epoch 10/10\n",
            "273/273 [==============================] - 17s 61ms/step - loss: 7.0653e-05 - accuracy: 1.0000 - val_loss: 0.2519 - val_accuracy: 0.9373\n"
          ],
          "name": "stdout"
        }
      ]
    },
    {
      "cell_type": "code",
      "metadata": {
        "colab": {
          "base_uri": "https://localhost:8080/"
        },
        "id": "ZzPRiJVRs9Fj",
        "outputId": "986f1857-f7e7-455f-844f-04f9a696ffdd"
      },
      "source": [
        "print(\"정확도 : {:.2f}%\".format(model.evaluate(X_test, y_test)[1]*100))"
      ],
      "execution_count": 23,
      "outputs": [
        {
          "output_type": "stream",
          "text": [
            "32/32 [==============================] - 0s 9ms/step - loss: 0.5248 - accuracy: 0.8960\n",
            "정확도 : 89.60%\n"
          ],
          "name": "stdout"
        }
      ]
    },
    {
      "cell_type": "code",
      "metadata": {
        "id": "JlY56qm5s--E"
      },
      "source": [
        "predict = model.predict(X_test)"
      ],
      "execution_count": 24,
      "outputs": []
    },
    {
      "cell_type": "code",
      "metadata": {
        "colab": {
          "base_uri": "https://localhost:8080/"
        },
        "id": "HW5izFNZtDpD",
        "outputId": "a66cf8e8-aa71-4f2f-f176-e7a40f62fa2b"
      },
      "source": [
        "import numpy as np\n",
        "predict_labels = np.argmax(predict, axis = 1)\n",
        "original_labels = np.argmax(y_test, axis = 1)\n",
        "\n",
        "for i in range(30):\n",
        "  print(\"기사제목: \", test_data['title'].iloc[i], \"/\\t 원래라벨: \",original_labels[i],\n",
        "        \"/\\t 예측한 라벨: \", predict_labels[i])"
      ],
      "execution_count": 25,
      "outputs": [
        {
          "output_type": "stream",
          "text": [
            "기사제목:  롯데리아 코로나19 백신 접종 고객에 할인행사 /\t 원래라벨:  1 /\t 예측한 라벨:  1\n",
            "기사제목:  롯데리아 코로나 백신 접종 고객 30 할인해 준다 /\t 원래라벨:  1 /\t 예측한 라벨:  1\n",
            "기사제목:  BTS세트’ 탓에 롯데리아 감자튀김 없다 알고보니 /\t 원래라벨:  1 /\t 예측한 라벨:  1\n",
            "기사제목:  롯데리아 감자튀김 BTS 때문에 사라졌다내일부터 정상판매 /\t 원래라벨:  1 /\t 예측한 라벨:  1\n",
            "기사제목:  잘 나가는 맘스터치롯데리아와 매장수 격차 더 벌렸다 /\t 원래라벨:  1 /\t 예측한 라벨:  1\n",
            "기사제목:  당신의 취향은맥도날드 롯데리아 버거킹 노브랜드 버거 전쟁 /\t 원래라벨:  1 /\t 예측한 라벨:  1\n",
            "기사제목:  재택플러스 롯데리아 감자튀김 실종 BTS 때문 /\t 원래라벨:  1 /\t 예측한 라벨:  1\n",
            "기사제목:  BTS세트 때문에 품절 루머 돌던 롯데리아 감자튀김 정상화 /\t 원래라벨:  1 /\t 예측한 라벨:  1\n",
            "기사제목:  롯데리아 백신 접종자는 30 할인해드려요” /\t 원래라벨:  1 /\t 예측한 라벨:  1\n",
            "기사제목:  맛있는TMI맥도날드 BTS세트에는 왜 버거가 없을까 /\t 원래라벨:  1 /\t 예측한 라벨:  1\n",
            "기사제목:  롯데리아·엔제리너스 ESG 경영 강화한다 /\t 원래라벨:  1 /\t 예측한 라벨:  1\n",
            "기사제목:  롯데GRS 롯데리아 착한점심 가격 확 낮춰 /\t 원래라벨:  2 /\t 예측한 라벨:  1\n",
            "기사제목:  데일리픽 넷플릭스 하반기 인기작은 롯데리아 감자튀김 구설수 /\t 원래라벨:  0 /\t 예측한 라벨:  2\n",
            "기사제목:  잘 나가는 맘스터치롯데리아와 매장수 격차 더 벌렸다 /\t 원래라벨:  1 /\t 예측한 라벨:  1\n",
            "기사제목:  충북 청주 사창동 롯데리아에서 닥스훈트 한 쌍 발견 보호 /\t 원래라벨:  1 /\t 예측한 라벨:  1\n",
            "기사제목:  브리핑오리온·동원FB·롯데푸드·롯데리아·매일유업 /\t 원래라벨:  1 /\t 예측한 라벨:  1\n",
            "기사제목:  롯데리아 코로나 영향으로 감자 수급 실패해 감튀 판매 일시 중단 예고 /\t 원래라벨:  0 /\t 예측한 라벨:  0\n",
            "기사제목:  김윤섭의 유통브리핑 김범석 쿠팡 의장 국내 직위 모두 사임 外 /\t 원래라벨:  1 /\t 예측한 라벨:  1\n",
            "기사제목:  게시판 롯데리아 빨대 대용 드링킹 리드 도입 /\t 원래라벨:  1 /\t 예측한 라벨:  1\n",
            "기사제목:  맥도날드·롯데리아 등 버거4사 배달비 무료라더니 제품가격 올렸다” /\t 원래라벨:  1 /\t 예측한 라벨:  1\n",
            "기사제목:  롯데GRS 롯데잇츠 리워드형 스탬프  롯데리아·엔제리너스·크리스피크림도 /\t 원래라벨:  1 /\t 예측한 라벨:  1\n",
            "기사제목:  오늘의 유통 단신 롯데칠성 순하리 레몬진 프로모션 실시 外 /\t 원래라벨:  1 /\t 예측한 라벨:  1\n",
            "기사제목:  100원으로 벌크업···롯데리아 더블 핫크리스피버거 /\t 원래라벨:  1 /\t 예측한 라벨:  1\n",
            "기사제목:  스타벅스 라오스 1호점 오픈 준비 한창 프랜차이즈 진출 활발해지나 /\t 원래라벨:  0 /\t 예측한 라벨:  2\n",
            "기사제목:  無빨대 컵 뚜껑 드링킹 리드 롯데리아 직영점 확대 /\t 원래라벨:  1 /\t 예측한 라벨:  1\n",
            "기사제목:  오늘의 유통가 CJ제일제당 닭가슴살 시장 출사표 外 /\t 원래라벨:  1 /\t 예측한 라벨:  1\n",
            "기사제목:  31일 유통가 소식 현대百그룹·굽네치킨·롯데리아 /\t 원래라벨:  1 /\t 예측한 라벨:  1\n",
            "기사제목:  홍승완의 짠내일기 ? 백신 맞았다면 4성급 호텔 조식이 1인당 100원 /\t 원래라벨:  1 /\t 예측한 라벨:  1\n",
            "기사제목:  롯데GRS 롯데리아 착한점심 가격인하로 소비자 혜택 높여 /\t 원래라벨:  2 /\t 예측한 라벨:  1\n",
            "기사제목:  롯데리아 여름 디저트 팥빙수 팥빙고 출시 /\t 원래라벨:  2 /\t 예측한 라벨:  2\n"
          ],
          "name": "stdout"
        }
      ]
    }
  ]
}