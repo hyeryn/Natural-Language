{
  "nbformat": 4,
  "nbformat_minor": 0,
  "metadata": {
    "colab": {
      "name": "09_3 imdb_bidirectional_lstm.ipynb",
      "provenance": [],
      "collapsed_sections": [],
      "authorship_tag": "ABX9TyNmhepw7KFK2gYlKQLBCEMA",
      "include_colab_link": true
    },
    "kernelspec": {
      "name": "python3",
      "display_name": "Python 3"
    },
    "language_info": {
      "name": "python"
    }
  },
  "cells": [
    {
      "cell_type": "markdown",
      "metadata": {
        "id": "view-in-github",
        "colab_type": "text"
      },
      "source": [
        "<a href=\"https://colab.research.google.com/github/hyeryn/Natural-Language/blob/master/09_3_imdb_bidirectional_lstm.ipynb\" target=\"_parent\"><img src=\"https://colab.research.google.com/assets/colab-badge.svg\" alt=\"Open In Colab\"/></a>"
      ]
    },
    {
      "cell_type": "code",
      "metadata": {
        "id": "jTFZYNJswvU7",
        "colab": {
          "base_uri": "https://localhost:8080/"
        },
        "outputId": "8aaf3419-ab3a-4cbd-950c-1da5106f1bde"
      },
      "source": [
        "#Train a Bidirectional LSTM on the IMDB sentiment classification task.\n",
        "\n",
        "#from __future__ import print_function\n",
        "import numpy as np\n",
        "import pandas as pd\n",
        "\n",
        "from keras.preprocessing import sequence\n",
        "from keras.models import Sequential\n",
        "from keras.layers import Dense, Dropout, Embedding, LSTM, Bidirectional\n",
        "from keras.datasets import imdb\n",
        "\n",
        "from sklearn.metrics import accuracy_score,classification_report\n",
        "\n",
        "\n",
        "# Max features are limited\n",
        "max_features = 15000\n",
        "max_len = 300\n",
        "batch_size = 64\n",
        "\n",
        "# Loading data\n",
        "(x_train, y_train), (x_test, y_test) = imdb.load_data(num_words=max_features)\n",
        "print(len(x_train), 'train observations')\n",
        "print(len(x_test), 'test observations')\n",
        "\n",
        "# Pad sequences for computational efficienty\n",
        "x_train_2 = sequence.pad_sequences(x_train, maxlen=max_len)\n",
        "x_test_2 = sequence.pad_sequences(x_test, maxlen=max_len)\n",
        "print('x_train shape:', x_train_2.shape)\n",
        "print('x_test shape:', x_test_2.shape)\n",
        "y_train = np.array(y_train)\n",
        "y_test = np.array(y_test)\n",
        "\n",
        "#Model Building -> 임베딩 레이어는 차원을 128로 줄이고, 양방향 LSTM을 사용 + 감정을 0과 1로 모델링 하기 위한 고밀도 레이어로 끝냄\n",
        "model = Sequential()\n",
        "model.add(Embedding(max_features, 128, input_length=max_len))\n",
        "model.add(Bidirectional(LSTM(64)))\n",
        "model.add(Dropout(0.5))\n",
        "model.add(Dense(1, activation='sigmoid'))\n",
        "\n",
        "model.compile('adam', 'binary_crossentropy', metrics=['accuracy'])\n",
        "\n",
        "# Print model architecture\n",
        "print (model.summary())\n",
        "\n",
        "#Train the model\n",
        "model.fit(x_train_2, y_train,batch_size=batch_size,epochs=4,validation_split=0.2)\n",
        "\n",
        "#Model Prediction\n",
        "y_train_predclass = model.predict_classes(x_train_2,batch_size=100)\n",
        "y_test_predclass = model.predict_classes(x_test_2,batch_size=100)\n",
        "\n",
        "y_train_predclass.shape = y_train.shape\n",
        "y_test_predclass.shape = y_test.shape\n",
        "\n",
        "\n",
        "# Model accuracies & metrics calculation\n",
        "print ((\"\\n\\nLSTM Bidirectional Sentiment Classification  - Train accuracy:\"),(round(accuracy_score(y_train,y_train_predclass),3)))\n",
        "print (\"\\nLSTM Bidirectional Sentiment Classification of Training data\\n\",classification_report(y_train, y_train_predclass))\n",
        "print (\"\\nLSTM Bidirectional Sentiment Classification - Train Confusion Matrix\\n\\n\",pd.crosstab(y_train, y_train_predclass,rownames = [\"Actuall\"],colnames = [\"Predicted\"]))\n",
        "\n",
        "print ((\"\\nLSTM Bidirectional Sentiment Classification  - Test accuracy:\"),(round(accuracy_score(y_test,y_test_predclass),3)))\n",
        "print (\"\\nLSTM Bidirectional Sentiment Classification of Test data\\n\",classification_report(y_test, y_test_predclass))\n",
        "print (\"\\nLSTM Bidirectional Sentiment Classification - Test Confusion Matrix\\n\\n\",pd.crosstab(y_test, y_test_predclass,rownames = [\"Actuall\"],colnames = [\"Predicted\"]))"
      ],
      "execution_count": 1,
      "outputs": [
        {
          "output_type": "stream",
          "text": [
            "Downloading data from https://storage.googleapis.com/tensorflow/tf-keras-datasets/imdb.npz\n",
            "17465344/17464789 [==============================] - 1s 0us/step\n",
            "17473536/17464789 [==============================] - 1s 0us/step\n"
          ],
          "name": "stdout"
        },
        {
          "output_type": "stream",
          "text": [
            "<string>:6: VisibleDeprecationWarning: Creating an ndarray from ragged nested sequences (which is a list-or-tuple of lists-or-tuples-or ndarrays with different lengths or shapes) is deprecated. If you meant to do this, you must specify 'dtype=object' when creating the ndarray\n",
            "/usr/local/lib/python3.7/dist-packages/keras/datasets/imdb.py:155: VisibleDeprecationWarning: Creating an ndarray from ragged nested sequences (which is a list-or-tuple of lists-or-tuples-or ndarrays with different lengths or shapes) is deprecated. If you meant to do this, you must specify 'dtype=object' when creating the ndarray\n",
            "  x_train, y_train = np.array(xs[:idx]), np.array(labels[:idx])\n",
            "/usr/local/lib/python3.7/dist-packages/keras/datasets/imdb.py:156: VisibleDeprecationWarning: Creating an ndarray from ragged nested sequences (which is a list-or-tuple of lists-or-tuples-or ndarrays with different lengths or shapes) is deprecated. If you meant to do this, you must specify 'dtype=object' when creating the ndarray\n",
            "  x_test, y_test = np.array(xs[idx:]), np.array(labels[idx:])\n"
          ],
          "name": "stderr"
        },
        {
          "output_type": "stream",
          "text": [
            "25000 train observations\n",
            "25000 test observations\n",
            "x_train shape: (25000, 300)\n",
            "x_test shape: (25000, 300)\n",
            "Model: \"sequential\"\n",
            "_________________________________________________________________\n",
            "Layer (type)                 Output Shape              Param #   \n",
            "=================================================================\n",
            "embedding (Embedding)        (None, 300, 128)          1920000   \n",
            "_________________________________________________________________\n",
            "bidirectional (Bidirectional (None, 128)               98816     \n",
            "_________________________________________________________________\n",
            "dropout (Dropout)            (None, 128)               0         \n",
            "_________________________________________________________________\n",
            "dense (Dense)                (None, 1)                 129       \n",
            "=================================================================\n",
            "Total params: 2,018,945\n",
            "Trainable params: 2,018,945\n",
            "Non-trainable params: 0\n",
            "_________________________________________________________________\n",
            "None\n",
            "Epoch 1/4\n",
            "313/313 [==============================] - 206s 580ms/step - loss: 0.5430 - accuracy: 0.6961 - val_loss: 0.3085 - val_accuracy: 0.8754\n",
            "Epoch 2/4\n",
            "313/313 [==============================] - 182s 583ms/step - loss: 0.2293 - accuracy: 0.9173 - val_loss: 0.2979 - val_accuracy: 0.8830\n",
            "Epoch 3/4\n",
            "313/313 [==============================] - 181s 578ms/step - loss: 0.1472 - accuracy: 0.9498 - val_loss: 0.3758 - val_accuracy: 0.8650\n",
            "Epoch 4/4\n",
            "313/313 [==============================] - 180s 577ms/step - loss: 0.1178 - accuracy: 0.9601 - val_loss: 0.3998 - val_accuracy: 0.8708\n"
          ],
          "name": "stdout"
        },
        {
          "output_type": "stream",
          "text": [
            "/usr/local/lib/python3.7/dist-packages/keras/engine/sequential.py:450: UserWarning: `model.predict_classes()` is deprecated and will be removed after 2021-01-01. Please use instead:* `np.argmax(model.predict(x), axis=-1)`,   if your model does multi-class classification   (e.g. if it uses a `softmax` last-layer activation).* `(model.predict(x) > 0.5).astype(\"int32\")`,   if your model does binary classification   (e.g. if it uses a `sigmoid` last-layer activation).\n",
            "  warnings.warn('`model.predict_classes()` is deprecated and '\n"
          ],
          "name": "stderr"
        },
        {
          "output_type": "stream",
          "text": [
            "\n",
            "\n",
            "LSTM Bidirectional Sentiment Classification  - Train accuracy: 0.957\n",
            "\n",
            "LSTM Bidirectional Sentiment Classification of Training data\n",
            "               precision    recall  f1-score   support\n",
            "\n",
            "           0       0.95      0.97      0.96     12500\n",
            "           1       0.97      0.95      0.96     12500\n",
            "\n",
            "    accuracy                           0.96     25000\n",
            "   macro avg       0.96      0.96      0.96     25000\n",
            "weighted avg       0.96      0.96      0.96     25000\n",
            "\n",
            "\n",
            "LSTM Bidirectional Sentiment Classification - Train Confusion Matrix\n",
            "\n",
            " Predicted      0      1\n",
            "Actuall                \n",
            "0          12086    414\n",
            "1            670  11830\n",
            "\n",
            "LSTM Bidirectional Sentiment Classification  - Test accuracy: 0.859\n",
            "\n",
            "LSTM Bidirectional Sentiment Classification of Test data\n",
            "               precision    recall  f1-score   support\n",
            "\n",
            "           0       0.84      0.89      0.86     12500\n",
            "           1       0.88      0.83      0.85     12500\n",
            "\n",
            "    accuracy                           0.86     25000\n",
            "   macro avg       0.86      0.86      0.86     25000\n",
            "weighted avg       0.86      0.86      0.86     25000\n",
            "\n",
            "\n",
            "LSTM Bidirectional Sentiment Classification - Test Confusion Matrix\n",
            "\n",
            " Predicted      0      1\n",
            "Actuall                \n",
            "0          11125   1375\n",
            "1           2148  10352\n"
          ],
          "name": "stdout"
        }
      ]
    }
  ]
}
