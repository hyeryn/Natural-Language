{
  "nbformat": 4,
  "nbformat_minor": 0,
  "metadata": {
    "colab": {
      "name": "crawling_movie.ipynb",
      "provenance": [],
      "collapsed_sections": [],
      "authorship_tag": "ABX9TyMjHEROC7LrBRzMhvSjJVSy",
      "include_colab_link": true
    },
    "kernelspec": {
      "name": "python3",
      "display_name": "Python 3"
    },
    "language_info": {
      "name": "python"
    }
  },
  "cells": [
    {
      "cell_type": "markdown",
      "metadata": {
        "id": "view-in-github",
        "colab_type": "text"
      },
      "source": [
        "<a href=\"https://colab.research.google.com/github/hyeryn/Natural-Language/blob/master/crawling_movie.ipynb\" target=\"_parent\"><img src=\"https://colab.research.google.com/assets/colab-badge.svg\" alt=\"Open In Colab\"/></a>"
      ]
    },
    {
      "cell_type": "code",
      "metadata": {
        "colab": {
          "base_uri": "https://localhost:8080/"
        },
        "id": "511Q-9-_10PJ",
        "outputId": "acbcb933-70fe-49c1-ab3f-2dc50bedff38"
      },
      "source": [
        "!pip install selenium"
      ],
      "execution_count": 2,
      "outputs": [
        {
          "output_type": "stream",
          "text": [
            "Collecting selenium\n",
            "\u001b[?25l  Downloading https://files.pythonhosted.org/packages/80/d6/4294f0b4bce4de0abf13e17190289f9d0613b0a44e5dd6a7f5ca98459853/selenium-3.141.0-py2.py3-none-any.whl (904kB)\n",
            "\r\u001b[K     |▍                               | 10kB 15.2MB/s eta 0:00:01\r\u001b[K     |▊                               | 20kB 19.0MB/s eta 0:00:01\r\u001b[K     |█                               | 30kB 23.1MB/s eta 0:00:01\r\u001b[K     |█▌                              | 40kB 21.4MB/s eta 0:00:01\r\u001b[K     |█▉                              | 51kB 19.1MB/s eta 0:00:01\r\u001b[K     |██▏                             | 61kB 14.4MB/s eta 0:00:01\r\u001b[K     |██▌                             | 71kB 12.8MB/s eta 0:00:01\r\u001b[K     |███                             | 81kB 13.8MB/s eta 0:00:01\r\u001b[K     |███▎                            | 92kB 14.3MB/s eta 0:00:01\r\u001b[K     |███▋                            | 102kB 15.4MB/s eta 0:00:01\r\u001b[K     |████                            | 112kB 15.4MB/s eta 0:00:01\r\u001b[K     |████▍                           | 122kB 15.4MB/s eta 0:00:01\r\u001b[K     |████▊                           | 133kB 15.4MB/s eta 0:00:01\r\u001b[K     |█████                           | 143kB 15.4MB/s eta 0:00:01\r\u001b[K     |█████▍                          | 153kB 15.4MB/s eta 0:00:01\r\u001b[K     |█████▉                          | 163kB 15.4MB/s eta 0:00:01\r\u001b[K     |██████▏                         | 174kB 15.4MB/s eta 0:00:01\r\u001b[K     |██████▌                         | 184kB 15.4MB/s eta 0:00:01\r\u001b[K     |██████▉                         | 194kB 15.4MB/s eta 0:00:01\r\u001b[K     |███████▎                        | 204kB 15.4MB/s eta 0:00:01\r\u001b[K     |███████▋                        | 215kB 15.4MB/s eta 0:00:01\r\u001b[K     |████████                        | 225kB 15.4MB/s eta 0:00:01\r\u001b[K     |████████▎                       | 235kB 15.4MB/s eta 0:00:01\r\u001b[K     |████████▊                       | 245kB 15.4MB/s eta 0:00:01\r\u001b[K     |█████████                       | 256kB 15.4MB/s eta 0:00:01\r\u001b[K     |█████████▍                      | 266kB 15.4MB/s eta 0:00:01\r\u001b[K     |█████████▉                      | 276kB 15.4MB/s eta 0:00:01\r\u001b[K     |██████████▏                     | 286kB 15.4MB/s eta 0:00:01\r\u001b[K     |██████████▌                     | 296kB 15.4MB/s eta 0:00:01\r\u001b[K     |██████████▉                     | 307kB 15.4MB/s eta 0:00:01\r\u001b[K     |███████████▎                    | 317kB 15.4MB/s eta 0:00:01\r\u001b[K     |███████████▋                    | 327kB 15.4MB/s eta 0:00:01\r\u001b[K     |████████████                    | 337kB 15.4MB/s eta 0:00:01\r\u001b[K     |████████████▎                   | 348kB 15.4MB/s eta 0:00:01\r\u001b[K     |████████████▊                   | 358kB 15.4MB/s eta 0:00:01\r\u001b[K     |█████████████                   | 368kB 15.4MB/s eta 0:00:01\r\u001b[K     |█████████████▍                  | 378kB 15.4MB/s eta 0:00:01\r\u001b[K     |█████████████▊                  | 389kB 15.4MB/s eta 0:00:01\r\u001b[K     |██████████████▏                 | 399kB 15.4MB/s eta 0:00:01\r\u001b[K     |██████████████▌                 | 409kB 15.4MB/s eta 0:00:01\r\u001b[K     |██████████████▉                 | 419kB 15.4MB/s eta 0:00:01\r\u001b[K     |███████████████▏                | 430kB 15.4MB/s eta 0:00:01\r\u001b[K     |███████████████▋                | 440kB 15.4MB/s eta 0:00:01\r\u001b[K     |████████████████                | 450kB 15.4MB/s eta 0:00:01\r\u001b[K     |████████████████▎               | 460kB 15.4MB/s eta 0:00:01\r\u001b[K     |████████████████▋               | 471kB 15.4MB/s eta 0:00:01\r\u001b[K     |█████████████████               | 481kB 15.4MB/s eta 0:00:01\r\u001b[K     |█████████████████▍              | 491kB 15.4MB/s eta 0:00:01\r\u001b[K     |█████████████████▊              | 501kB 15.4MB/s eta 0:00:01\r\u001b[K     |██████████████████▏             | 512kB 15.4MB/s eta 0:00:01\r\u001b[K     |██████████████████▌             | 522kB 15.4MB/s eta 0:00:01\r\u001b[K     |██████████████████▉             | 532kB 15.4MB/s eta 0:00:01\r\u001b[K     |███████████████████▏            | 542kB 15.4MB/s eta 0:00:01\r\u001b[K     |███████████████████▋            | 552kB 15.4MB/s eta 0:00:01\r\u001b[K     |████████████████████            | 563kB 15.4MB/s eta 0:00:01\r\u001b[K     |████████████████████▎           | 573kB 15.4MB/s eta 0:00:01\r\u001b[K     |████████████████████▋           | 583kB 15.4MB/s eta 0:00:01\r\u001b[K     |█████████████████████           | 593kB 15.4MB/s eta 0:00:01\r\u001b[K     |█████████████████████▍          | 604kB 15.4MB/s eta 0:00:01\r\u001b[K     |█████████████████████▊          | 614kB 15.4MB/s eta 0:00:01\r\u001b[K     |██████████████████████          | 624kB 15.4MB/s eta 0:00:01\r\u001b[K     |██████████████████████▌         | 634kB 15.4MB/s eta 0:00:01\r\u001b[K     |██████████████████████▉         | 645kB 15.4MB/s eta 0:00:01\r\u001b[K     |███████████████████████▏        | 655kB 15.4MB/s eta 0:00:01\r\u001b[K     |███████████████████████▌        | 665kB 15.4MB/s eta 0:00:01\r\u001b[K     |████████████████████████        | 675kB 15.4MB/s eta 0:00:01\r\u001b[K     |████████████████████████▎       | 686kB 15.4MB/s eta 0:00:01\r\u001b[K     |████████████████████████▋       | 696kB 15.4MB/s eta 0:00:01\r\u001b[K     |█████████████████████████       | 706kB 15.4MB/s eta 0:00:01\r\u001b[K     |█████████████████████████▍      | 716kB 15.4MB/s eta 0:00:01\r\u001b[K     |█████████████████████████▊      | 727kB 15.4MB/s eta 0:00:01\r\u001b[K     |██████████████████████████      | 737kB 15.4MB/s eta 0:00:01\r\u001b[K     |██████████████████████████▍     | 747kB 15.4MB/s eta 0:00:01\r\u001b[K     |██████████████████████████▉     | 757kB 15.4MB/s eta 0:00:01\r\u001b[K     |███████████████████████████▏    | 768kB 15.4MB/s eta 0:00:01\r\u001b[K     |███████████████████████████▌    | 778kB 15.4MB/s eta 0:00:01\r\u001b[K     |████████████████████████████    | 788kB 15.4MB/s eta 0:00:01\r\u001b[K     |████████████████████████████▎   | 798kB 15.4MB/s eta 0:00:01\r\u001b[K     |████████████████████████████▋   | 808kB 15.4MB/s eta 0:00:01\r\u001b[K     |█████████████████████████████   | 819kB 15.4MB/s eta 0:00:01\r\u001b[K     |█████████████████████████████▍  | 829kB 15.4MB/s eta 0:00:01\r\u001b[K     |█████████████████████████████▊  | 839kB 15.4MB/s eta 0:00:01\r\u001b[K     |██████████████████████████████  | 849kB 15.4MB/s eta 0:00:01\r\u001b[K     |██████████████████████████████▍ | 860kB 15.4MB/s eta 0:00:01\r\u001b[K     |██████████████████████████████▉ | 870kB 15.4MB/s eta 0:00:01\r\u001b[K     |███████████████████████████████▏| 880kB 15.4MB/s eta 0:00:01\r\u001b[K     |███████████████████████████████▌| 890kB 15.4MB/s eta 0:00:01\r\u001b[K     |███████████████████████████████▉| 901kB 15.4MB/s eta 0:00:01\r\u001b[K     |████████████████████████████████| 911kB 15.4MB/s \n",
            "\u001b[?25hRequirement already satisfied: urllib3 in /usr/local/lib/python3.7/dist-packages (from selenium) (1.24.3)\n",
            "Installing collected packages: selenium\n",
            "Successfully installed selenium-3.141.0\n"
          ],
          "name": "stdout"
        }
      ]
    },
    {
      "cell_type": "code",
      "metadata": {
        "id": "T4-r5Hk11Zil"
      },
      "source": [
        "from bs4 import BeautifulSoup \n",
        "import requests \n",
        "from selenium import webdriver as wd \n",
        "from selenium.webdriver.common.keys import Keys \n",
        "import time \n",
        "import re \n",
        "import pandas as pd"
      ],
      "execution_count": 3,
      "outputs": []
    },
    {
      "cell_type": "code",
      "metadata": {
        "id": "DG19iiNV1uYy"
      },
      "source": [
        "#원하는 페이지까지 링크들을 받아오는 함수\n",
        "def getPageLinks(pageRange): \n",
        "  links = [] \n",
        "  \n",
        "  for pageNo in range(pageRange): \n",
        "    url = \"https://series.naver.com/movie/recentList.nhn?orderType=sale&sortingType=&tagCode=&page=\" + str(pageNo + 1) \n",
        "    req = requests.get(url) \n",
        "    soup = BeautifulSoup(req.text, 'lxml') \n",
        "    movielinks = soup.select('div.lst_thum_wrap ul li a[href]') \n",
        "    \n",
        "    for movielink in movielinks: \n",
        "      link = str(movielink.get('href')) \n",
        "      links.append(\"https://series.naver.com\"+link) \n",
        "  return links"
      ],
      "execution_count": 5,
      "outputs": []
    },
    {
      "cell_type": "code",
      "metadata": {
        "colab": {
          "base_uri": "https://localhost:8080/"
        },
        "id": "-k0E_hrI6Tu7",
        "outputId": "641b0ac6-a4a2-4c0b-c51b-fc881d129a4e"
      },
      "source": [
        "print(getPageLinks(3))"
      ],
      "execution_count": 16,
      "outputs": [
        {
          "output_type": "stream",
          "text": [
            "['https://series.naver.com/movie/detail.nhn?productNo=2909332', 'https://series.naver.com/movie/detail.nhn?productNo=2747742', 'https://series.naver.com/movie/detail.nhn?productNo=3293948', 'https://series.naver.com/movie/detail.nhn?productNo=2686058', 'https://series.naver.com/movie/detail.nhn?productNo=1405968', 'https://series.naver.com/movie/detail.nhn?productNo=2273058', 'https://series.naver.com/movie/detail.nhn?productNo=1781025', 'https://series.naver.com/movie/detail.nhn?productNo=4034051', 'https://series.naver.com/movie/detail.nhn?productNo=1373317', 'https://series.naver.com/movie/detail.nhn?productNo=1775085', 'https://series.naver.com/movie/detail.nhn?productNo=2996569', 'https://series.naver.com/movie/detail.nhn?productNo=4113612', 'https://series.naver.com/movie/detail.nhn?productNo=2743970', 'https://series.naver.com/movie/detail.nhn?productNo=1783636', 'https://series.naver.com/movie/detail.nhn?productNo=4465876', 'https://series.naver.com/movie/detail.nhn?productNo=1537164', 'https://series.naver.com/movie/detail.nhn?productNo=3327477', 'https://series.naver.com/movie/detail.nhn?productNo=5155604', 'https://series.naver.com/movie/detail.nhn?productNo=1402314', 'https://series.naver.com/movie/detail.nhn?productNo=412868', 'https://series.naver.com/movie/detail.nhn?productNo=3478480', 'https://series.naver.com/movie/detail.nhn?productNo=4885026', 'https://series.naver.com/movie/detail.nhn?productNo=1773569', 'https://series.naver.com/movie/detail.nhn?productNo=3237000', 'https://series.naver.com/movie/detail.nhn?productNo=4356726', 'https://series.naver.com/movie/detail.nhn?productNo=2595217', 'https://series.naver.com/movie/detail.nhn?productNo=6039515', 'https://series.naver.com/movie/detail.nhn?productNo=585441', 'https://series.naver.com/movie/detail.nhn?productNo=4341453', 'https://series.naver.com/movie/detail.nhn?productNo=4983579', 'https://series.naver.com/movie/detail.nhn?productNo=4140440', 'https://series.naver.com/movie/detail.nhn?productNo=5013518', 'https://series.naver.com/movie/detail.nhn?productNo=4568635', 'https://series.naver.com/movie/detail.nhn?productNo=5751044', 'https://series.naver.com/movie/detail.nhn?productNo=3946661', 'https://series.naver.com/movie/detail.nhn?productNo=412869', 'https://series.naver.com/movie/detail.nhn?productNo=412870', 'https://series.naver.com/movie/detail.nhn?productNo=3071225', 'https://series.naver.com/movie/detail.nhn?productNo=2973662', 'https://series.naver.com/movie/detail.nhn?productNo=412871', 'https://series.naver.com/movie/detail.nhn?productNo=2206916', 'https://series.naver.com/movie/detail.nhn?productNo=2695985', 'https://series.naver.com/movie/detail.nhn?productNo=2225975', 'https://series.naver.com/movie/detail.nhn?productNo=5607754', 'https://series.naver.com/movie/detail.nhn?productNo=413011', 'https://series.naver.com/movie/detail.nhn?productNo=833095', 'https://series.naver.com/movie/detail.nhn?productNo=4247261', 'https://series.naver.com/movie/detail.nhn?productNo=5038294', 'https://series.naver.com/movie/detail.nhn?productNo=1605628', 'https://series.naver.com/movie/detail.nhn?productNo=5490911', 'https://series.naver.com/movie/detail.nhn?productNo=413012', 'https://series.naver.com/movie/detail.nhn?productNo=464105', 'https://series.naver.com/movie/detail.nhn?productNo=2598223', 'https://series.naver.com/movie/detail.nhn?productNo=1602307', 'https://series.naver.com/movie/detail.nhn?productNo=3241116', 'https://series.naver.com/movie/detail.nhn?productNo=2787777', 'https://series.naver.com/movie/detail.nhn?productNo=4287528', 'https://series.naver.com/movie/detail.nhn?productNo=475495', 'https://series.naver.com/movie/detail.nhn?productNo=642117', 'https://series.naver.com/movie/detail.nhn?productNo=6023769', 'https://series.naver.com/movie/detail.nhn?productNo=2385950', 'https://series.naver.com/movie/detail.nhn?productNo=4792629', 'https://series.naver.com/movie/detail.nhn?productNo=4321959', 'https://series.naver.com/movie/detail.nhn?productNo=3100069', 'https://series.naver.com/movie/detail.nhn?productNo=3532815', 'https://series.naver.com/movie/detail.nhn?productNo=1682666', 'https://series.naver.com/movie/detail.nhn?productNo=2129302', 'https://series.naver.com/movie/detail.nhn?productNo=498928', 'https://series.naver.com/movie/detail.nhn?productNo=3954927', 'https://series.naver.com/movie/detail.nhn?productNo=1432347', 'https://series.naver.com/movie/detail.nhn?productNo=1757148', 'https://series.naver.com/movie/detail.nhn?productNo=3542178', 'https://series.naver.com/movie/detail.nhn?productNo=1991220', 'https://series.naver.com/movie/detail.nhn?productNo=409693', 'https://series.naver.com/movie/detail.nhn?productNo=1947729']\n"
          ],
          "name": "stdout"
        }
      ]
    },
    {
      "cell_type": "code",
      "metadata": {
        "id": "7ty1tjcg2Jf1"
      },
      "source": [
        "#원하는 시작페이지부터 끝나는 페이지 사이의 링크 받아오는 함수(태그 속성값 활용)\n",
        "def getPageLinksWantRange(startPageNo, lastPageNo): \n",
        "  links = [] \n",
        "  return_links = [] \n",
        "\n",
        "  for pageNo in range(startPageNo-1, lastPageNo): \n",
        "    url = \"https://series.naver.com/movie/recentList.nhn?orderType=sale&sortingType=&tagCode=&page=\" + str(pageNo + 1) \n",
        "    req = requests.get(url) \n",
        "    soup = BeautifulSoup(req.text, 'lxml')\n",
        "    movielinks = soup.select('div.lst_thum_wrap ul li a[href]') \n",
        "    \n",
        "    for movielink in movielinks: \n",
        "      link = str(movielink.get('href')) \n",
        "      links.append(\"https://series.naver.com\"+link) \n",
        "      \n",
        "  return links\n"
      ],
      "execution_count": 6,
      "outputs": []
    },
    {
      "cell_type": "code",
      "metadata": {
        "colab": {
          "base_uri": "https://localhost:8080/"
        },
        "id": "WhDj94C16jET",
        "outputId": "adef4fe3-322f-4722-95f3-7627afedaab4"
      },
      "source": [
        "print(getPageLinksWantRange(1,2))"
      ],
      "execution_count": 17,
      "outputs": [
        {
          "output_type": "stream",
          "text": [
            "['https://series.naver.com/movie/detail.nhn?productNo=2909332', 'https://series.naver.com/movie/detail.nhn?productNo=2747742', 'https://series.naver.com/movie/detail.nhn?productNo=3293948', 'https://series.naver.com/movie/detail.nhn?productNo=2686058', 'https://series.naver.com/movie/detail.nhn?productNo=1405968', 'https://series.naver.com/movie/detail.nhn?productNo=2273058', 'https://series.naver.com/movie/detail.nhn?productNo=1781025', 'https://series.naver.com/movie/detail.nhn?productNo=4034051', 'https://series.naver.com/movie/detail.nhn?productNo=1373317', 'https://series.naver.com/movie/detail.nhn?productNo=1775085', 'https://series.naver.com/movie/detail.nhn?productNo=2996569', 'https://series.naver.com/movie/detail.nhn?productNo=4113612', 'https://series.naver.com/movie/detail.nhn?productNo=2743970', 'https://series.naver.com/movie/detail.nhn?productNo=1783636', 'https://series.naver.com/movie/detail.nhn?productNo=4465876', 'https://series.naver.com/movie/detail.nhn?productNo=1537164', 'https://series.naver.com/movie/detail.nhn?productNo=3327477', 'https://series.naver.com/movie/detail.nhn?productNo=5155604', 'https://series.naver.com/movie/detail.nhn?productNo=1402314', 'https://series.naver.com/movie/detail.nhn?productNo=412868', 'https://series.naver.com/movie/detail.nhn?productNo=3478480', 'https://series.naver.com/movie/detail.nhn?productNo=4885026', 'https://series.naver.com/movie/detail.nhn?productNo=1773569', 'https://series.naver.com/movie/detail.nhn?productNo=3237000', 'https://series.naver.com/movie/detail.nhn?productNo=4356726', 'https://series.naver.com/movie/detail.nhn?productNo=2595217', 'https://series.naver.com/movie/detail.nhn?productNo=6039515', 'https://series.naver.com/movie/detail.nhn?productNo=585441', 'https://series.naver.com/movie/detail.nhn?productNo=4341453', 'https://series.naver.com/movie/detail.nhn?productNo=4983579', 'https://series.naver.com/movie/detail.nhn?productNo=4140440', 'https://series.naver.com/movie/detail.nhn?productNo=5013518', 'https://series.naver.com/movie/detail.nhn?productNo=4568635', 'https://series.naver.com/movie/detail.nhn?productNo=5751044', 'https://series.naver.com/movie/detail.nhn?productNo=3946661', 'https://series.naver.com/movie/detail.nhn?productNo=412869', 'https://series.naver.com/movie/detail.nhn?productNo=412870', 'https://series.naver.com/movie/detail.nhn?productNo=3071225', 'https://series.naver.com/movie/detail.nhn?productNo=2973662', 'https://series.naver.com/movie/detail.nhn?productNo=412871', 'https://series.naver.com/movie/detail.nhn?productNo=2206916', 'https://series.naver.com/movie/detail.nhn?productNo=2695985', 'https://series.naver.com/movie/detail.nhn?productNo=2225975', 'https://series.naver.com/movie/detail.nhn?productNo=5607754', 'https://series.naver.com/movie/detail.nhn?productNo=413011', 'https://series.naver.com/movie/detail.nhn?productNo=833095', 'https://series.naver.com/movie/detail.nhn?productNo=4247261', 'https://series.naver.com/movie/detail.nhn?productNo=5038294', 'https://series.naver.com/movie/detail.nhn?productNo=1605628', 'https://series.naver.com/movie/detail.nhn?productNo=5490911']\n"
          ],
          "name": "stdout"
        }
      ]
    },
    {
      "cell_type": "code",
      "metadata": {
        "colab": {
          "base_uri": "https://localhost:8080/"
        },
        "id": "RX7GzwxK-seb",
        "outputId": "7b5509b1-fe59-4534-d718-2f9fde5da3d2"
      },
      "source": [
        "!apt-get update # to update ubuntu to correctly run apt install\n",
        "!apt install chromium-chromedriver"
      ],
      "execution_count": 31,
      "outputs": [
        {
          "output_type": "stream",
          "text": [
            "\r0% [Working]\r            \rHit:1 http://ppa.launchpad.net/c2d4u.team/c2d4u4.0+/ubuntu bionic InRelease\n",
            "\r0% [Waiting for headers] [Connecting to security.ubuntu.com (91.189.91.39)] [Co\r                                                                               \rHit:2 http://archive.ubuntu.com/ubuntu bionic InRelease\n",
            "\r                                                                               \rGet:3 http://archive.ubuntu.com/ubuntu bionic-updates InRelease [88.7 kB]\n",
            "\r                                                                               \rHit:4 http://ppa.launchpad.net/cran/libgit2/ubuntu bionic InRelease\n",
            "\r0% [3 InRelease 41.7 kB/88.7 kB 47%] [Connecting to security.ubuntu.com (91.189\r0% [1 InRelease gpgv 15.9 kB] [3 InRelease 47.5 kB/88.7 kB 54%] [Connecting to \r                                                                               \rHit:5 https://cloud.r-project.org/bin/linux/ubuntu bionic-cran40/ InRelease\n",
            "\r0% [1 InRelease gpgv 15.9 kB] [3 InRelease 66.3 kB/88.7 kB 75%] [Connecting to \r0% [1 InRelease gpgv 15.9 kB] [Waiting for headers] [Connecting to security.ubu\r                                                                               \rGet:6 http://ppa.launchpad.net/deadsnakes/ppa/ubuntu bionic InRelease [15.9 kB]\n",
            "\r0% [1 InRelease gpgv 15.9 kB] [Waiting for headers] [Connecting to security.ubu\r0% [1 InRelease gpgv 15.9 kB] [Waiting for headers] [Connecting to security.ubu\r                                                                               \rGet:7 http://archive.ubuntu.com/ubuntu bionic-backports InRelease [74.6 kB]\n",
            "Get:8 http://ppa.launchpad.net/graphics-drivers/ppa/ubuntu bionic InRelease [21.3 kB]\n",
            "Get:9 http://security.ubuntu.com/ubuntu bionic-security InRelease [88.7 kB]\n",
            "Ign:10 https://developer.download.nvidia.com/compute/cuda/repos/ubuntu1804/x86_64  InRelease\n",
            "Ign:11 https://developer.download.nvidia.com/compute/machine-learning/repos/ubuntu1804/x86_64  InRelease\n",
            "Get:12 https://developer.download.nvidia.com/compute/cuda/repos/ubuntu1804/x86_64  Release [697 B]\n",
            "Hit:13 https://developer.download.nvidia.com/compute/machine-learning/repos/ubuntu1804/x86_64  Release\n",
            "Get:14 https://developer.download.nvidia.com/compute/cuda/repos/ubuntu1804/x86_64  Release.gpg [836 B]\n",
            "Get:15 http://archive.ubuntu.com/ubuntu bionic-updates/universe amd64 Packages [2,188 kB]\n",
            "Get:16 http://archive.ubuntu.com/ubuntu bionic-updates/main amd64 Packages [2,652 kB]\n",
            "Get:17 http://archive.ubuntu.com/ubuntu bionic-updates/restricted amd64 Packages [505 kB]\n",
            "Get:18 http://ppa.launchpad.net/deadsnakes/ppa/ubuntu bionic/main amd64 Packages [40.9 kB]\n",
            "Get:19 http://ppa.launchpad.net/graphics-drivers/ppa/ubuntu bionic/main amd64 Packages [41.5 kB]\n",
            "Get:20 http://security.ubuntu.com/ubuntu bionic-security/main amd64 Packages [2,219 kB]\n",
            "Ign:22 https://developer.download.nvidia.com/compute/cuda/repos/ubuntu1804/x86_64  Packages\n",
            "Get:22 https://developer.download.nvidia.com/compute/cuda/repos/ubuntu1804/x86_64  Packages [599 kB]\n",
            "Get:23 http://security.ubuntu.com/ubuntu bionic-security/universe amd64 Packages [1,418 kB]\n",
            "Get:24 http://security.ubuntu.com/ubuntu bionic-security/restricted amd64 Packages [473 kB]\n",
            "Fetched 10.4 MB in 3s (3,210 kB/s)\n",
            "Reading package lists... Done\n",
            "Reading package lists... Done\n",
            "Building dependency tree       \n",
            "Reading state information... Done\n",
            "The following additional packages will be installed:\n",
            "  chromium-browser chromium-browser-l10n chromium-codecs-ffmpeg-extra\n",
            "Suggested packages:\n",
            "  webaccounts-chromium-extension unity-chromium-extension\n",
            "The following NEW packages will be installed:\n",
            "  chromium-browser chromium-browser-l10n chromium-chromedriver\n",
            "  chromium-codecs-ffmpeg-extra\n",
            "0 upgraded, 4 newly installed, 0 to remove and 70 not upgraded.\n",
            "Need to get 86.0 MB of archives.\n",
            "After this operation, 298 MB of additional disk space will be used.\n",
            "Get:1 http://archive.ubuntu.com/ubuntu bionic-updates/universe amd64 chromium-codecs-ffmpeg-extra amd64 91.0.4472.101-0ubuntu0.18.04.1 [1,124 kB]\n",
            "Get:2 http://archive.ubuntu.com/ubuntu bionic-updates/universe amd64 chromium-browser amd64 91.0.4472.101-0ubuntu0.18.04.1 [76.1 MB]\n",
            "Get:3 http://archive.ubuntu.com/ubuntu bionic-updates/universe amd64 chromium-browser-l10n all 91.0.4472.101-0ubuntu0.18.04.1 [3,937 kB]\n",
            "Get:4 http://archive.ubuntu.com/ubuntu bionic-updates/universe amd64 chromium-chromedriver amd64 91.0.4472.101-0ubuntu0.18.04.1 [4,837 kB]\n",
            "Fetched 86.0 MB in 2s (49.8 MB/s)\n",
            "Selecting previously unselected package chromium-codecs-ffmpeg-extra.\n",
            "(Reading database ... 160772 files and directories currently installed.)\n",
            "Preparing to unpack .../chromium-codecs-ffmpeg-extra_91.0.4472.101-0ubuntu0.18.04.1_amd64.deb ...\n",
            "Unpacking chromium-codecs-ffmpeg-extra (91.0.4472.101-0ubuntu0.18.04.1) ...\n",
            "Selecting previously unselected package chromium-browser.\n",
            "Preparing to unpack .../chromium-browser_91.0.4472.101-0ubuntu0.18.04.1_amd64.deb ...\n",
            "Unpacking chromium-browser (91.0.4472.101-0ubuntu0.18.04.1) ...\n",
            "Selecting previously unselected package chromium-browser-l10n.\n",
            "Preparing to unpack .../chromium-browser-l10n_91.0.4472.101-0ubuntu0.18.04.1_all.deb ...\n",
            "Unpacking chromium-browser-l10n (91.0.4472.101-0ubuntu0.18.04.1) ...\n",
            "Selecting previously unselected package chromium-chromedriver.\n",
            "Preparing to unpack .../chromium-chromedriver_91.0.4472.101-0ubuntu0.18.04.1_amd64.deb ...\n",
            "Unpacking chromium-chromedriver (91.0.4472.101-0ubuntu0.18.04.1) ...\n",
            "Setting up chromium-codecs-ffmpeg-extra (91.0.4472.101-0ubuntu0.18.04.1) ...\n",
            "Setting up chromium-browser (91.0.4472.101-0ubuntu0.18.04.1) ...\n",
            "update-alternatives: using /usr/bin/chromium-browser to provide /usr/bin/x-www-browser (x-www-browser) in auto mode\n",
            "update-alternatives: using /usr/bin/chromium-browser to provide /usr/bin/gnome-www-browser (gnome-www-browser) in auto mode\n",
            "Setting up chromium-chromedriver (91.0.4472.101-0ubuntu0.18.04.1) ...\n",
            "Setting up chromium-browser-l10n (91.0.4472.101-0ubuntu0.18.04.1) ...\n",
            "Processing triggers for man-db (2.8.3-2ubuntu0.1) ...\n",
            "Processing triggers for hicolor-icon-theme (0.17-2) ...\n",
            "Processing triggers for mime-support (3.60ubuntu1) ...\n",
            "Processing triggers for libc-bin (2.27-3ubuntu1.2) ...\n",
            "/sbin/ldconfig.real: /usr/local/lib/python3.7/dist-packages/ideep4py/lib/libmkldnn.so.0 is not a symbolic link\n",
            "\n"
          ],
          "name": "stdout"
        }
      ]
    },
    {
      "cell_type": "code",
      "metadata": {
        "id": "ST3JqMPD2nFE"
      },
      "source": [
        "# 받아온 데이터를 바탕으로 dataframe 만들고 중복값 제거 후 return\n",
        "def getMovieDataFromNaverSeries(links): \n",
        "  title_infos = [] \n",
        "  content_infos = [] \n",
        "  genre_infos = []\n",
        "  score_infos = [] \n",
        "  date_infos = [] \n",
        "\n",
        "  url2 = \"https://www.naver.com\" \n",
        "\n",
        "  from selenium import webdriver\n",
        "  chrome_options = webdriver.ChromeOptions()\n",
        "  chrome_options.add_argument('--headless') #내부 창을 띄울 수 없으므로 설정\n",
        "  chrome_options.add_argument('--no-sandbox')\n",
        "  chrome_options.add_argument('--disable-dev-shm-usage')\n",
        "  driver = webdriver.Chrome('chromedriver',chrome_options=chrome_options)\n",
        "  #driver = wd.Chrome(executable_path=r\"/content/chromedriver.exe\") \n",
        "  driver.get(url2) \n",
        "  time.sleep(3.0) # 30 \n",
        "\n",
        "  driver.find_element_by_css_selector('body').send_keys(Keys.CONTROL + \"t\") \n",
        "\n",
        "  for link in links: \n",
        "    driver.switch_to.window(driver.window_handles[-1]) \n",
        "    time.sleep(0.1)\n",
        "    driver.get(link) \n",
        "    time.sleep(0.1) \n",
        "    driver.switch_to.window(driver.window_handles[0])\n",
        "    time.sleep(0.3) \n",
        "\n",
        "    html_source = driver.page_source \n",
        "    html_soup = BeautifulSoup(html_source, 'lxml') \n",
        "\n",
        "    flag = html_soup.text[0:10] \n",
        "\n",
        "    newflag = \"\".join(flag) \n",
        "    newflag = newflag.replace('\\n', '') \n",
        "\n",
        "    if newflag == '네이버': \n",
        "      time.sleep(1.0) \n",
        "\n",
        "      score = driver.find_element_by_css_selector('div.score_area > em ') \n",
        "      score = float(score.text) \n",
        "      score = int(score) \n",
        "      score_infos.append(score) \n",
        "\n",
        "      genre = driver.find_element_by_css_selector('li.info_lst > ul > li:nth-child(4)').get_attribute('textContent') \n",
        "      genre = genre.replace('장르','') \n",
        "      genre = genre.split('/') \n",
        "      genre_infos.append(genre) \n",
        "\n",
        "      text = driver.find_element_by_css_selector('span.al_r > a') #.click() \n",
        "      # review_url = text.get_attribute('href') \n",
        "      # review_url = review_url.replace('basic', 'pointWriteFormList') \n",
        "      # review_url = review_url + '&type=after&onlyActualPointYn=N&order=newest&page=1'\n",
        "\n",
        "      movieInfoUrl = text.get_attribute('href')\n",
        "      movie_req = requests.get(movieInfoUrl) \t\t\t\n",
        "      movie_soup = BeautifulSoup(movie_req.text, 'lxml') \n",
        "      titles = movie_soup.select('div.mv_info > h3.h_movie > a') \n",
        "      temp_titles = [] \n",
        "\n",
        "      for title in titles:\n",
        "        temp = title.text \n",
        "        temp = temp.replace('상영중', '') \n",
        "        temp = temp.replace('\\n', '') \t\t\t\t\n",
        "        temp_titles.append(temp) \n",
        "\n",
        "      if '' in temp_titles or ' ' in temp_titles: \n",
        "        temp_titles.remove('') \n",
        "\n",
        "      temp_titles = set(temp_titles) \n",
        "      temp_titles = list(temp_titles) \n",
        "      temp_titles = [x for x in temp_titles if x is not ''] \t\t\t\n",
        "      title_infos.append(list(temp_titles)[0]) \n",
        "\n",
        "      contents_texts = movie_soup.select('div.story_area > p.con_tx') \n",
        "      if len(contents_texts) == 0: \n",
        "        content_infos.append(\"줄거리 오류\") \t\t\t\n",
        "      else: \n",
        "        for contents in contents_texts: \n",
        "          temp = contents.text \n",
        "          temp = temp.replace('\\r', '') \t\t\t\t\t\n",
        "          temp = temp.replace('\\xa0', '') \n",
        "          content_infos.append(temp) \t\t\n",
        "    elif newflag == '네이버 :': \n",
        "      adult_movies.append(link) \n",
        "  print(len(score_infos), len(genre_infos), len(content_infos)) \n",
        "  driver.close() \n",
        "  movie_dic = {\"평점\":score_infos,\"장르\":genre_infos, \"줄거리\":content_infos} \n",
        "  movie_df = pd.DataFrame(movie_dic, index=title_infos) \n",
        "  movie_df2 = movie_df.drop_duplicates(\"줄거리\", keep='first') \n",
        " \n",
        "  return movie_df2"
      ],
      "execution_count": 34,
      "outputs": []
    },
    {
      "cell_type": "code",
      "metadata": {
        "colab": {
          "base_uri": "https://localhost:8080/",
          "height": 405
        },
        "id": "pZMuh4TN6sjB",
        "outputId": "7de8d4ea-c028-4107-cb92-0f0c4631825c"
      },
      "source": [
        "print(getMovieDataFromNaverSeries(getPageLinks(3)))"
      ],
      "execution_count": 35,
      "outputs": [
        {
          "output_type": "stream",
          "text": [
            "/usr/local/lib/python3.7/dist-packages/ipykernel_launcher.py:16: DeprecationWarning: use options instead of chrome_options\n",
            "  app.launch_new_instance()\n"
          ],
          "name": "stderr"
        },
        {
          "output_type": "error",
          "ename": "NoSuchElementException",
          "evalue": "ignored",
          "traceback": [
            "\u001b[0;31m---------------------------------------------------------------------------\u001b[0m",
            "\u001b[0;31mNoSuchElementException\u001b[0m                    Traceback (most recent call last)",
            "\u001b[0;32m<ipython-input-35-ccdd2bbaa80b>\u001b[0m in \u001b[0;36m<module>\u001b[0;34m()\u001b[0m\n\u001b[0;32m----> 1\u001b[0;31m \u001b[0mprint\u001b[0m\u001b[0;34m(\u001b[0m\u001b[0mgetMovieDataFromNaverSeries\u001b[0m\u001b[0;34m(\u001b[0m\u001b[0mgetPageLinks\u001b[0m\u001b[0;34m(\u001b[0m\u001b[0;36m3\u001b[0m\u001b[0;34m)\u001b[0m\u001b[0;34m)\u001b[0m\u001b[0;34m)\u001b[0m\u001b[0;34m\u001b[0m\u001b[0;34m\u001b[0m\u001b[0m\n\u001b[0m",
            "\u001b[0;32m<ipython-input-34-4396d443f791>\u001b[0m in \u001b[0;36mgetMovieDataFromNaverSeries\u001b[0;34m(links)\u001b[0m\n\u001b[1;32m     50\u001b[0m       \u001b[0mgenre_infos\u001b[0m\u001b[0;34m.\u001b[0m\u001b[0mappend\u001b[0m\u001b[0;34m(\u001b[0m\u001b[0mgenre\u001b[0m\u001b[0;34m)\u001b[0m\u001b[0;34m\u001b[0m\u001b[0;34m\u001b[0m\u001b[0m\n\u001b[1;32m     51\u001b[0m \u001b[0;34m\u001b[0m\u001b[0m\n\u001b[0;32m---> 52\u001b[0;31m       \u001b[0mtext\u001b[0m \u001b[0;34m=\u001b[0m \u001b[0mdriver\u001b[0m\u001b[0;34m.\u001b[0m\u001b[0mfind_element_by_css_selector\u001b[0m\u001b[0;34m(\u001b[0m\u001b[0;34m'span.al_r > a'\u001b[0m\u001b[0;34m)\u001b[0m \u001b[0;31m#.click()\u001b[0m\u001b[0;34m\u001b[0m\u001b[0;34m\u001b[0m\u001b[0m\n\u001b[0m\u001b[1;32m     53\u001b[0m       \u001b[0;31m# review_url = text.get_attribute('href')\u001b[0m\u001b[0;34m\u001b[0m\u001b[0;34m\u001b[0m\u001b[0;34m\u001b[0m\u001b[0m\n\u001b[1;32m     54\u001b[0m       \u001b[0;31m# review_url = review_url.replace('basic', 'pointWriteFormList')\u001b[0m\u001b[0;34m\u001b[0m\u001b[0;34m\u001b[0m\u001b[0;34m\u001b[0m\u001b[0m\n",
            "\u001b[0;32m/usr/local/lib/python3.7/dist-packages/selenium/webdriver/remote/webdriver.py\u001b[0m in \u001b[0;36mfind_element_by_css_selector\u001b[0;34m(self, css_selector)\u001b[0m\n\u001b[1;32m    596\u001b[0m             \u001b[0melement\u001b[0m \u001b[0;34m=\u001b[0m \u001b[0mdriver\u001b[0m\u001b[0;34m.\u001b[0m\u001b[0mfind_element_by_css_selector\u001b[0m\u001b[0;34m(\u001b[0m\u001b[0;34m'#foo'\u001b[0m\u001b[0;34m)\u001b[0m\u001b[0;34m\u001b[0m\u001b[0;34m\u001b[0m\u001b[0m\n\u001b[1;32m    597\u001b[0m         \"\"\"\n\u001b[0;32m--> 598\u001b[0;31m         \u001b[0;32mreturn\u001b[0m \u001b[0mself\u001b[0m\u001b[0;34m.\u001b[0m\u001b[0mfind_element\u001b[0m\u001b[0;34m(\u001b[0m\u001b[0mby\u001b[0m\u001b[0;34m=\u001b[0m\u001b[0mBy\u001b[0m\u001b[0;34m.\u001b[0m\u001b[0mCSS_SELECTOR\u001b[0m\u001b[0;34m,\u001b[0m \u001b[0mvalue\u001b[0m\u001b[0;34m=\u001b[0m\u001b[0mcss_selector\u001b[0m\u001b[0;34m)\u001b[0m\u001b[0;34m\u001b[0m\u001b[0;34m\u001b[0m\u001b[0m\n\u001b[0m\u001b[1;32m    599\u001b[0m \u001b[0;34m\u001b[0m\u001b[0m\n\u001b[1;32m    600\u001b[0m     \u001b[0;32mdef\u001b[0m \u001b[0mfind_elements_by_css_selector\u001b[0m\u001b[0;34m(\u001b[0m\u001b[0mself\u001b[0m\u001b[0;34m,\u001b[0m \u001b[0mcss_selector\u001b[0m\u001b[0;34m)\u001b[0m\u001b[0;34m:\u001b[0m\u001b[0;34m\u001b[0m\u001b[0;34m\u001b[0m\u001b[0m\n",
            "\u001b[0;32m/usr/local/lib/python3.7/dist-packages/selenium/webdriver/remote/webdriver.py\u001b[0m in \u001b[0;36mfind_element\u001b[0;34m(self, by, value)\u001b[0m\n\u001b[1;32m    976\u001b[0m         return self.execute(Command.FIND_ELEMENT, {\n\u001b[1;32m    977\u001b[0m             \u001b[0;34m'using'\u001b[0m\u001b[0;34m:\u001b[0m \u001b[0mby\u001b[0m\u001b[0;34m,\u001b[0m\u001b[0;34m\u001b[0m\u001b[0;34m\u001b[0m\u001b[0m\n\u001b[0;32m--> 978\u001b[0;31m             'value': value})['value']\n\u001b[0m\u001b[1;32m    979\u001b[0m \u001b[0;34m\u001b[0m\u001b[0m\n\u001b[1;32m    980\u001b[0m     \u001b[0;32mdef\u001b[0m \u001b[0mfind_elements\u001b[0m\u001b[0;34m(\u001b[0m\u001b[0mself\u001b[0m\u001b[0;34m,\u001b[0m \u001b[0mby\u001b[0m\u001b[0;34m=\u001b[0m\u001b[0mBy\u001b[0m\u001b[0;34m.\u001b[0m\u001b[0mID\u001b[0m\u001b[0;34m,\u001b[0m \u001b[0mvalue\u001b[0m\u001b[0;34m=\u001b[0m\u001b[0;32mNone\u001b[0m\u001b[0;34m)\u001b[0m\u001b[0;34m:\u001b[0m\u001b[0;34m\u001b[0m\u001b[0;34m\u001b[0m\u001b[0m\n",
            "\u001b[0;32m/usr/local/lib/python3.7/dist-packages/selenium/webdriver/remote/webdriver.py\u001b[0m in \u001b[0;36mexecute\u001b[0;34m(self, driver_command, params)\u001b[0m\n\u001b[1;32m    319\u001b[0m         \u001b[0mresponse\u001b[0m \u001b[0;34m=\u001b[0m \u001b[0mself\u001b[0m\u001b[0;34m.\u001b[0m\u001b[0mcommand_executor\u001b[0m\u001b[0;34m.\u001b[0m\u001b[0mexecute\u001b[0m\u001b[0;34m(\u001b[0m\u001b[0mdriver_command\u001b[0m\u001b[0;34m,\u001b[0m \u001b[0mparams\u001b[0m\u001b[0;34m)\u001b[0m\u001b[0;34m\u001b[0m\u001b[0;34m\u001b[0m\u001b[0m\n\u001b[1;32m    320\u001b[0m         \u001b[0;32mif\u001b[0m \u001b[0mresponse\u001b[0m\u001b[0;34m:\u001b[0m\u001b[0;34m\u001b[0m\u001b[0;34m\u001b[0m\u001b[0m\n\u001b[0;32m--> 321\u001b[0;31m             \u001b[0mself\u001b[0m\u001b[0;34m.\u001b[0m\u001b[0merror_handler\u001b[0m\u001b[0;34m.\u001b[0m\u001b[0mcheck_response\u001b[0m\u001b[0;34m(\u001b[0m\u001b[0mresponse\u001b[0m\u001b[0;34m)\u001b[0m\u001b[0;34m\u001b[0m\u001b[0;34m\u001b[0m\u001b[0m\n\u001b[0m\u001b[1;32m    322\u001b[0m             response['value'] = self._unwrap_value(\n\u001b[1;32m    323\u001b[0m                 response.get('value', None))\n",
            "\u001b[0;32m/usr/local/lib/python3.7/dist-packages/selenium/webdriver/remote/errorhandler.py\u001b[0m in \u001b[0;36mcheck_response\u001b[0;34m(self, response)\u001b[0m\n\u001b[1;32m    240\u001b[0m                 \u001b[0malert_text\u001b[0m \u001b[0;34m=\u001b[0m \u001b[0mvalue\u001b[0m\u001b[0;34m[\u001b[0m\u001b[0;34m'alert'\u001b[0m\u001b[0;34m]\u001b[0m\u001b[0;34m.\u001b[0m\u001b[0mget\u001b[0m\u001b[0;34m(\u001b[0m\u001b[0;34m'text'\u001b[0m\u001b[0;34m)\u001b[0m\u001b[0;34m\u001b[0m\u001b[0;34m\u001b[0m\u001b[0m\n\u001b[1;32m    241\u001b[0m             \u001b[0;32mraise\u001b[0m \u001b[0mexception_class\u001b[0m\u001b[0;34m(\u001b[0m\u001b[0mmessage\u001b[0m\u001b[0;34m,\u001b[0m \u001b[0mscreen\u001b[0m\u001b[0;34m,\u001b[0m \u001b[0mstacktrace\u001b[0m\u001b[0;34m,\u001b[0m \u001b[0malert_text\u001b[0m\u001b[0;34m)\u001b[0m\u001b[0;34m\u001b[0m\u001b[0;34m\u001b[0m\u001b[0m\n\u001b[0;32m--> 242\u001b[0;31m         \u001b[0;32mraise\u001b[0m \u001b[0mexception_class\u001b[0m\u001b[0;34m(\u001b[0m\u001b[0mmessage\u001b[0m\u001b[0;34m,\u001b[0m \u001b[0mscreen\u001b[0m\u001b[0;34m,\u001b[0m \u001b[0mstacktrace\u001b[0m\u001b[0;34m)\u001b[0m\u001b[0;34m\u001b[0m\u001b[0;34m\u001b[0m\u001b[0m\n\u001b[0m\u001b[1;32m    243\u001b[0m \u001b[0;34m\u001b[0m\u001b[0m\n\u001b[1;32m    244\u001b[0m     \u001b[0;32mdef\u001b[0m \u001b[0m_value_or_default\u001b[0m\u001b[0;34m(\u001b[0m\u001b[0mself\u001b[0m\u001b[0;34m,\u001b[0m \u001b[0mobj\u001b[0m\u001b[0;34m,\u001b[0m \u001b[0mkey\u001b[0m\u001b[0;34m,\u001b[0m \u001b[0mdefault\u001b[0m\u001b[0;34m)\u001b[0m\u001b[0;34m:\u001b[0m\u001b[0;34m\u001b[0m\u001b[0;34m\u001b[0m\u001b[0m\n",
            "\u001b[0;31mNoSuchElementException\u001b[0m: Message: no such element: Unable to locate element: {\"method\":\"css selector\",\"selector\":\"span.al_r > a\"}\n  (Session info: headless chrome=91.0.4472.101)\n"
          ]
        }
      ]
    },
    {
      "cell_type": "code",
      "metadata": {
        "id": "SLeX8Bia5sOo"
      },
      "source": [
        "def dftoCsv(movie_df, num):\n",
        "  try:\n",
        "    movie_df.to_csv(('mmovie_data'+str(num)+'.csv'), sep=',',na_rep='NaN', encoding='euc-kr')\n",
        "  except:\n",
        "    print(\"Error\")"
      ],
      "execution_count": 14,
      "outputs": []
    },
    {
      "cell_type": "code",
      "metadata": {
        "id": "LS36V5wC6IDE"
      },
      "source": [
        ""
      ],
      "execution_count": null,
      "outputs": []
    }
  ]
}